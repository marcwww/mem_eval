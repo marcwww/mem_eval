{
 "cells": [
  {
   "cell_type": "code",
   "execution_count": 1,
   "metadata": {},
   "outputs": [],
   "source": [
    "import numpy as np\n",
    "import random\n",
    "import matplotlib.pyplot as plt\n",
    "\n",
    "MAX_DEPTH = 20\n",
    "PROB_BRANCH = 0.4\n",
    "VALUES = range(1, 10)\n",
    "OPS_E = [0, 1]\n",
    "OPS_T = [2, 3]\n",
    "NTYPES = ['e', 't']\n",
    "OP_MAP = ['+', '-', '*', '/']"
   ]
  },
  {
   "cell_type": "code",
   "execution_count": 2,
   "metadata": {},
   "outputs": [],
   "source": [
    "def gen_expr(depth, ntype):\n",
    "\n",
    "    if depth < MAX_DEPTH:\n",
    "        r = random.random()\n",
    "    else:\n",
    "        r = 1\n",
    "\n",
    "    if r > PROB_BRANCH:\n",
    "        if ntype == 'f':\n",
    "            value = random.choice(VALUES)\n",
    "            return value\n",
    "        elif ntype == 't':\n",
    "            return gen_expr(depth + 1, 'f')\n",
    "        elif ntype == 'e':\n",
    "            return gen_expr(depth + 1, 't')\n",
    "\n",
    "    else:\n",
    "        if ntype == 'e':\n",
    "            op = random.choice(OPS_E)\n",
    "            v1, v2 = gen_expr(depth + 2, 'e'), gen_expr(depth + 1, 't')\n",
    "            t = ((v1, OP_MAP[op]), v2)\n",
    "        elif ntype == 't':\n",
    "            op = random.choice(OPS_T)\n",
    "            v1, v2 = gen_expr(depth + 2, 't'), gen_expr(depth + 1, 'f')\n",
    "            t = ((v1, OP_MAP[op]), v2)\n",
    "        else:\n",
    "            t = gen_expr(depth + 1, 'f')\n",
    "\n",
    "    return t"
   ]
  },
  {
   "cell_type": "code",
   "execution_count": 3,
   "metadata": {},
   "outputs": [],
   "source": [
    "def gen_tree():\n",
    "    return gen_expr(0, 'e')"
   ]
  },
  {
   "cell_type": "code",
   "execution_count": 4,
   "metadata": {},
   "outputs": [],
   "source": [
    "def to_value(t):\n",
    "    if not isinstance(t, tuple):\n",
    "        return t\n",
    "\n",
    "    l = t[0]\n",
    "    r = t[1]\n",
    "    v1, op = (to_value(l[0]), l[1])\n",
    "    v2 = to_value(r)\n",
    "\n",
    "    return eval(''.join([str(v1), op, str(v2)]))"
   ]
  },
  {
   "cell_type": "code",
   "execution_count": 5,
   "metadata": {},
   "outputs": [],
   "source": [
    "def to_value_sd(sd_lst, node_lst):\n",
    "    if len(sd_lst) == 0:\n",
    "        node = node_lst[0]\n",
    "        v = node\n",
    "    else:\n",
    "        i = np.argmax(sd_lst)\n",
    "        child_l, v_l = to_value_sd(sd_lst[:i], node_lst[:i+1])\n",
    "        child_r, v_r = to_value_sd(sd_lst[i+1:], node_lst[i+1:])\n",
    "        node = (child_l, child_r)\n",
    "        if isinstance(v_l, tuple) and not isinstance(v_r, tuple):\n",
    "            v1, op = v_l[0], v_l[1]\n",
    "            v2 = v_r\n",
    "            v = str(eval(''.join([v1, op, v2])))\n",
    "        else:\n",
    "            assert not isinstance(v_l, tuple) and not isinstance(v_r, tuple)\n",
    "            v = (v_l, v_r)\n",
    "\n",
    "    return node, v"
   ]
  },
  {
   "cell_type": "code",
   "execution_count": 6,
   "metadata": {},
   "outputs": [],
   "source": [
    "def to_sd(t):\n",
    "    if not isinstance(t, tuple):\n",
    "        d = []\n",
    "        h = 0\n",
    "    else:\n",
    "        l, r = t\n",
    "        d_l, h_l = to_sd(l)\n",
    "        d_r, h_r = to_sd(r)\n",
    "        h = max(h_l, h_r) + 1\n",
    "        d = d_l + [h] + d_r\n",
    "\n",
    "    return d, h"
   ]
  },
  {
   "cell_type": "code",
   "execution_count": 7,
   "metadata": {},
   "outputs": [],
   "source": [
    "def to_nlst(t):\n",
    "    return list(filter(lambda x: x not in ['(', ')', ',', '\\'', ' '], str(t)))"
   ]
  },
  {
   "cell_type": "code",
   "execution_count": 8,
   "metadata": {},
   "outputs": [],
   "source": [
    "def num_extrem_vals(ds):\n",
    "    res = 0\n",
    "    for i, d in enumerate(ds):\n",
    "        if i == 0:\n",
    "            if d > ds[1]:\n",
    "                res += 1\n",
    "        elif i == len(ds)-1:\n",
    "            if d > ds[-2]:\n",
    "                res += 1\n",
    "        elif d > ds[i-1] and d > ds[i+1]:\n",
    "            res += 1\n",
    "    \n",
    "    return res            "
   ]
  },
  {
   "cell_type": "markdown",
   "metadata": {},
   "source": [
    "# generate dataset"
   ]
  },
  {
   "cell_type": "code",
   "execution_count": 25,
   "metadata": {},
   "outputs": [
    {
     "data": {
      "image/png": "[encoded data removed]",
      "text/plain": [
       "<Figure size 432x288 with 1 Axes>"
      ]
     },
     "metadata": {},
     "output_type": "display_data"
    },
    {
     "data": {
      "image/png": "[encoded data removed]",
      "text/plain": [
       "<Figure size 432x288 with 1 Axes>"
      ]
     },
     "metadata": {},
     "output_type": "display_data"
    },
    {
     "data": {
      "image/png": "[encoded data removed]",
      "text/plain": [
       "<Figure size 432x288 with 1 Axes>"
      ]
     },
     "metadata": {},
     "output_type": "display_data"
    }
   ],
   "source": [
    "PROB_BRANCH = 0.4\n",
    "NUM = 100000\n",
    "MAX_DEPTH = 30\n",
    "nes = []\n",
    "hs = []\n",
    "lens = []\n",
    "examples = []\n",
    "i = 0\n",
    "while True:\n",
    "    t = gen_tree()\n",
    "    if isinstance(t, int):\n",
    "        continue\n",
    "    i+=1\n",
    "    if i>NUM:\n",
    "        break\n",
    "    \n",
    "    sd, h = to_sd(t)\n",
    "    ne = num_extrem_vals(sd)\n",
    "    nes.append(ne)\n",
    "    hs.append(h)\n",
    "    lens.append(len(sd)+1)\n",
    "    nodes = ' '.join(to_nlst(t))\n",
    "    sd_lst = ' '.join(list(map(str, sd)))\n",
    "    ne_str = str(ne)\n",
    "    examples.append((nodes, sd_lst, ne_str))\n",
    "    \n",
    "plt.hist(nes, bins=max(nes), range=(0, max(nes)+1))\n",
    "plt.title('ne distribution')\n",
    "plt.show()\n",
    "plt.hist(hs, bins=max(hs), range=(0, max(hs)+1))\n",
    "plt.title('hs distribution')\n",
    "plt.show()\n",
    "plt.hist(lens, bins=max(lens), range=(0, max(lens)+1))\n",
    "plt.title('lens distribution')\n",
    "plt.show()"
   ]
  },
  {
   "cell_type": "code",
   "execution_count": null,
   "metadata": {},
   "outputs": [],
   "source": []
  }
 ],
 "metadata": {
  "kernelspec": {
   "display_name": "Python 3",
   "language": "python",
   "name": "python3"
  },
  "language_info": {
   "codemirror_mode": {
    "name": "ipython",
    "version": 3
   },
   "file_extension": ".py",
   "mimetype": "text/x-python",
   "name": "python",
   "nbconvert_exporter": "python",
   "pygments_lexer": "ipython3",
   "version": "3.6.4"
  }
 },
 "nbformat": 4,
 "nbformat_minor": 2
}
