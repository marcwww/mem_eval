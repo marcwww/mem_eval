{
 "cells": [
  {
   "cell_type": "code",
   "execution_count": 1,
   "metadata": {},
   "outputs": [],
   "source": [
    "import numpy as np\n",
    "import random\n",
    "import matplotlib.pyplot as plt\n",
    "from nltk import Tree\n",
    "import os\n",
    "\n",
    "MAX_DEPTH = 20\n",
    "PROB_BRANCH = 0.25\n",
    "VALUES = range(1, 10)\n",
    "OPS_E = [0, 1]\n",
    "OPS_T = [2, 3]\n",
    "# OPS_T = [2]\n",
    "NTYPES = ['e', 't']\n",
    "OP_MAP = ['+', '-', '*', '/']\n",
    "# OP_MAP = ['+', '-', '*']\n",
    "PNESTED = 1"
   ]
  },
  {
   "cell_type": "code",
   "execution_count": 10,
   "metadata": {},
   "outputs": [],
   "source": [
    "def MSU(nlst, modd=True):\n",
    "    VALUES = range(1, 10)\n",
    "    NUMERALS = list(map(str, VALUES)) + ['0']\n",
    "    OP_MAP = ['+', '-', '*', '/']\n",
    "    OPS = OP_MAP\n",
    "\n",
    "    def m10eval(op, a0, a1):\n",
    "        if op == '/':\n",
    "            res = int(a0) // int(a1) if not modd else int(a0) % int(a1)\n",
    "        else:\n",
    "            res = eval(a0 + op + a1)\n",
    "        res = res % 10\n",
    "        return str(res)\n",
    "\n",
    "    def reducible(mem, ninp):\n",
    "        if len(mem) < 2:\n",
    "            return False\n",
    "\n",
    "        top, sec = mem[0], mem[1]\n",
    "        if top in OPS and sec in NUMERALS:\n",
    "            return True\n",
    "        elif top in NUMERALS and sec[0] in NUMERALS and sec[1] in OPS:\n",
    "            if sec[1] in ['+', '-'] and ninp not in ['*', '/']:\n",
    "                return True\n",
    "            if sec[1] in ['*', '/']:\n",
    "                return True\n",
    "            return False\n",
    "        elif top == ')' and sec[0] == '(' and sec[1] in NUMERALS:\n",
    "            return True\n",
    "        elif top in NUMERALS and sec == '(' and ninp == ')':\n",
    "            return True\n",
    "\n",
    "        return False\n",
    "\n",
    "    def reduce(mem):\n",
    "        top = mem.pop(0)\n",
    "        sec = mem.pop(0)\n",
    "\n",
    "        if top in OPS and sec in NUMERALS:\n",
    "            reduced = (sec, top)\n",
    "        elif top in NUMERALS and sec[0] in NUMERALS and sec[1] in OPS:\n",
    "            reduced = m10eval(sec[1], sec[0], top)\n",
    "        elif top == ')' and sec[0] == '(' and sec[1] in NUMERALS:\n",
    "            reduced = sec[1]\n",
    "        elif top in NUMERALS and sec == '(':\n",
    "            reduced = (sec, top)\n",
    "        else:\n",
    "            raise NotImplementedError\n",
    "\n",
    "        return reduced\n",
    "\n",
    "    stack = []\n",
    "    reduce_lst = []\n",
    "    msu = 0\n",
    "    for t, n in enumerate(nlst):\n",
    "        stack.insert(0, n)\n",
    "        if len(stack) > msu:\n",
    "            msu = len(stack)\n",
    "        print(stack, len(stack))\n",
    "        # reduce_lst.append(0)\n",
    "        if t != len(nlst) - 1:\n",
    "            ninp = nlst[t + 1]\n",
    "        else:\n",
    "            ninp = None\n",
    "\n",
    "        r = 0\n",
    "        while reducible(stack, ninp):\n",
    "            stack.insert(0, reduce(stack))\n",
    "            r += 1\n",
    "            # reduce_lst.append(1)\n",
    "        reduce_lst.append(r)\n",
    "\n",
    "    return msu"
   ]
  },
  {
   "cell_type": "code",
   "execution_count": 11,
   "metadata": {},
   "outputs": [
    {
     "name": "stdout",
     "output_type": "stream",
     "text": [
      "['8'] 1\n",
      "['+', '8'] 2\n",
      "['6', ('8', '+')] 2\n",
      "['*', '6', ('8', '+')] 3\n",
      "['3', ('6', '*'), ('8', '+')] 3\n",
      "['/', '8', ('8', '+')] 3\n",
      "['(', ('8', '/'), ('8', '+')] 3\n",
      "['2', '(', ('8', '/'), ('8', '+')] 4\n",
      "['-', '2', '(', ('8', '/'), ('8', '+')] 5\n",
      "['4', ('2', '-'), '(', ('8', '/'), ('8', '+')] 5\n",
      "[')', ('(', '8'), ('8', '/'), ('8', '+')] 4\n",
      "5\n"
     ]
    }
   ],
   "source": [
    "expr = '8+6*3/(2-4)'\n",
    "print(MSU(expr))"
   ]
  },
  {
   "cell_type": "code",
   "execution_count": 2,
   "metadata": {},
   "outputs": [],
   "source": [
    "def gen_expr(depth, ntype, pnested):\n",
    "    \n",
    "    if depth < MAX_DEPTH:\n",
    "        r = random.random()\n",
    "    else:\n",
    "        r = 1 + 0.1\n",
    "    \n",
    "    if r > PROB_BRANCH:\n",
    "        if ntype == 'f':\n",
    "            value = random.choice(VALUES)\n",
    "            return value\n",
    "        elif ntype == 't':\n",
    "            return gen_expr(depth + 1, 'f', pnested)\n",
    "        elif ntype == 'e':\n",
    "            return gen_expr(depth + 1, 't', pnested)\n",
    "    else:\n",
    "        if ntype == 'f':\n",
    "            if pnested < PNESTED:\n",
    "                e = gen_expr(depth + 2, 'e', pnested+1)\n",
    "                t = [['(', e], ')']\n",
    "            else:\n",
    "                value = random.choice(VALUES)\n",
    "                return value\n",
    "        elif ntype == 't':\n",
    "            op = random.choice(OPS_T)\n",
    "            v1, v2 = gen_expr(depth + 2, 't', pnested), gen_expr(depth + 1, 'f', pnested)\n",
    "            t = [[v1, OP_MAP[op]], v2]\n",
    "        else:\n",
    "            assert ntype == 'e'\n",
    "            op = random.choice(OPS_E)\n",
    "            v1, v2 = gen_expr(depth + 2, 'e', pnested), gen_expr(depth + 1, 't', pnested)\n",
    "            t = [[v1, OP_MAP[op]], v2]\n",
    "    \n",
    "    return t"
   ]
  },
  {
   "cell_type": "code",
   "execution_count": 4,
   "metadata": {},
   "outputs": [],
   "source": [
    "def gen_tree():\n",
    "    return gen_expr(0, 'e', 0)"
   ]
  },
  {
   "cell_type": "code",
   "execution_count": 6,
   "metadata": {},
   "outputs": [],
   "source": [
    "def to_nlst(t):\n",
    "    return list(filter(lambda x: x not in ['[', ']', ',', '\\'', ' '], str(t)))"
   ]
  },
  {
   "cell_type": "code",
   "execution_count": 10,
   "metadata": {},
   "outputs": [
    {
     "name": "stdout",
     "output_type": "stream",
     "text": [
      "['(', '9', '+', '3', ')'] 3\n",
      "['6', '+', '1'] 2\n",
      "['3', '+', '(', '8', ')'] 3\n",
      "['3', '/', '9', '/', '(', '8', ')'] 3\n",
      "['(', '3', ')'] 2\n",
      "['(', '1', '-', '4', ')', '*', '3', '/', '2'] 3\n",
      "['9', '+', '5'] 2\n",
      "['(', '4', ')'] 2\n",
      "['7', '+', '3'] 2\n",
      "['7', '/', '4', '/', '2'] 2\n",
      "['(', '1', '*', '9', ')'] 3\n",
      "['(', '1', '-', '1', ')', '*', '5', '/', '4'] 3\n",
      "['(', '2', ')', '/', '4'] 2\n",
      "['3', '+', '5'] 2\n",
      "['(', '9', ')', '*', '2'] 2\n",
      "['1', '*', '3'] 2\n",
      "['5', '-', '6', '*', '8', '/', '1', '/', '3'] 3\n",
      "['(', '8', '/', '5', '/', '4', ')'] 3\n",
      "['5', '/', '1'] 2\n",
      "['(', '4', ')'] 2\n",
      "['6', '/', '3'] 2\n",
      "['5', '*', '7', '/', '7', '*', '(', '7', ')'] 3\n",
      "['(', '1', '*', '2', ')'] 3\n",
      "['(', '1', ')', '/', '6'] 2\n",
      "['7', '/', '8', '+', '6'] 2\n",
      "['(', '8', '/', '1', ')'] 3\n",
      "['(', '9', '*', '5', '/', '3', ')'] 3\n",
      "['8', '/', '9', '+', '4', '*', '8', '*', '9'] 3\n",
      "['(', '6', '/', '4', '*', '3', '*', '6', ')'] 3\n",
      "['7', '*', '1'] 2\n",
      "['(', '2', ')'] 2\n",
      "['9', '-', '1', '*', '8'] 3\n",
      "['2', '*', '7'] 2\n",
      "['(', '1', ')'] 2\n",
      "['2', '/', '8', '*', '7'] 2\n",
      "['6', '+', '3', '/', '2', '*', '4', '+', '4'] 3\n",
      "['(', '4', ')'] 2\n",
      "['4', '*', '7', '+', '7'] 2\n",
      "['1', '/', '6', '*', '3', '*', '(', '9', ')'] 3\n",
      "['9', '*', '1'] 2\n",
      "['(', '5', ')'] 2\n",
      "['(', '8', '*', '6', '*', '4', ')'] 3\n",
      "['(', '3', ')'] 2\n",
      "['9', '/', '9'] 2\n",
      "['3', '*', '2'] 2\n",
      "['(', '7', ')', '-', '(', '1', ')'] 3\n",
      "['1', '/', '8'] 2\n",
      "['(', '2', '-', '5', ')'] 3\n",
      "['(', '1', ')', '/', '1'] 2\n",
      "['9', '*', '2'] 2\n",
      "['(', '6', '/', '2', '*', '4', ')', '/', '6', '/', '7'] 3\n",
      "['(', '2', ')'] 2\n",
      "['(', '9', ')'] 2\n",
      "['(', '5', ')'] 2\n",
      "['(', '8', '/', '2', '*', '1', '/', '4', '+', '6', ')'] 3\n",
      "['(', '3', '-', '3', ')'] 3\n",
      "['(', '8', ')'] 2\n",
      "['(', '2', '+', '9', '+', '1', ')', '-', '2'] 3\n",
      "['(', '3', ')'] 2\n",
      "['9', '*', '6'] 2\n",
      "['9', '/', '3'] 2\n",
      "['8', '/', '7', '+', '6', '/', '8', '+', '5'] 3\n",
      "['(', '3', ')'] 2\n",
      "['(', '6', ')', '+', '5'] 2\n",
      "['(', '9', ')'] 2\n",
      "['(', '9', ')'] 2\n",
      "['(', '7', '/', '7', ')'] 3\n",
      "['(', '3', '-', '5', ')'] 3\n",
      "['(', '7', '-', '3', '-', '3', ')'] 3\n",
      "['4', '+', '3'] 2\n",
      "['4', '/', '6'] 2\n",
      "['9', '*', '2', '*', '5', '*', '7', '/', '5'] 2\n",
      "['(', '4', ')'] 2\n",
      "['4', '-', '1'] 2\n",
      "['(', '2', ')'] 2\n",
      "['6', '/', '(', '7', ')', '-', '2'] 3\n",
      "['(', '5', ')'] 2\n",
      "['6', '/', '7'] 2\n",
      "['5', '/', '3'] 2\n",
      "['(', '4', ')', '*', '2', '*', '(', '9', ')', '/', '(', '6', ')', '/', '6'] 3\n",
      "['1', '-', '5'] 2\n",
      "['(', '3', ')'] 2\n",
      "['(', '2', '+', '8', ')', '*', '9', '/', '1', '+', '7', '-', '8'] 3\n",
      "['2', '+', '6'] 2\n",
      "['8', '-', '8'] 2\n",
      "['(', '8', ')'] 2\n",
      "['3', '*', '1'] 2\n",
      "['5', '-', '9'] 2\n",
      "['8', '*', '8'] 2\n",
      "['2', '/', '8'] 2\n",
      "['(', '3', '/', '2', '*', '1', ')'] 3\n",
      "['5', '*', '(', '5', ')'] 3\n",
      "['(', '4', '/', '8', '+', '2', ')', '*', '5'] 3\n",
      "['4', '*', '(', '8', ')'] 3\n",
      "['(', '6', ')'] 2\n",
      "['1', '+', '8', '-', '4'] 2\n",
      "['8', '/', '5'] 2\n",
      "['7', '*', '6', '+', '1', '/', '5', '/', '4', '/', '2', '-', '5', '-', '(', '5', ')'] 3\n",
      "['(', '4', ')'] 2\n",
      "['(', '9', '*', '3', ')'] 3\n",
      "['(', '8', ')'] 2\n",
      "['(', '3', ')', '*', '(', '8', ')'] 3\n",
      "['1', '*', '5'] 2\n",
      "['(', '5', ')', '/', '7', '+', '(', '3', ')'] 3\n",
      "['3', '/', '5'] 2\n",
      "['6', '/', '3'] 2\n",
      "['7', '*', '2'] 2\n",
      "['7', '*', '7', '/', '2'] 2\n",
      "['(', '5', '*', '3', ')'] 3\n",
      "['3', '*', '6'] 2\n",
      "['9', '*', '5'] 2\n",
      "['(', '3', ')', '/', '1'] 2\n",
      "['(', '9', ')', '-', '5'] 2\n",
      "['1', '/', '1', '*', '(', '7', ')', '+', '5'] 3\n",
      "['7', '*', '8', '*', '8'] 2\n",
      "['1', '-', '3'] 2\n",
      "['(', '6', ')'] 2\n",
      "['6', '*', '2'] 2\n",
      "['1', '-', '8'] 2\n",
      "['(', '1', '*', '9', '*', '5', ')', '+', '5'] 3\n",
      "['5', '/', '(', '1', ')'] 3\n",
      "['(', '5', ')'] 2\n",
      "['(', '3', ')', '/', '3'] 2\n",
      "['(', '4', ')', '+', '9'] 2\n",
      "['(', '5', ')', '/', '4'] 2\n",
      "['(', '9', '+', '1', '+', '1', ')'] 3\n",
      "['3', '*', '(', '9', ')'] 3\n",
      "['5', '/', '2', '/', '3'] 2\n",
      "['9', '*', '4'] 2\n",
      "['1', '-', '4'] 2\n",
      "['8', '*', '7'] 2\n",
      "['9', '/', '1', '-', '7'] 2\n",
      "['(', '6', ')'] 2\n",
      "['(', '9', ')'] 2\n",
      "['2', '-', '7'] 2\n",
      "['7', '/', '8', '*', '6'] 2\n",
      "['2', '-', '4', '*', '8', '/', '2'] 3\n",
      "['(', '6', ')'] 2\n",
      "['(', '5', ')'] 2\n",
      "['5', '/', '(', '1', ')'] 3\n",
      "['3', '-', '4'] 2\n",
      "['(', '7', ')', '+', '6', '+', '6'] 2\n",
      "['8', '/', '8', '+', '4', '/', '3'] 3\n",
      "['9', '-', '3'] 2\n",
      "['4', '*', '6'] 2\n",
      "['3', '*', '(', '4', ')'] 3\n",
      "['3', '/', '4'] 2\n",
      "['4', '+', '1'] 2\n",
      "['(', '3', '/', '1', '/', '6', ')', '*', '7', '*', '9'] 3\n",
      "['(', '3', '*', '2', ')'] 3\n",
      "['(', '7', '*', '9', '-', '8', ')', '-', '5'] 3\n",
      "['9', '*', '5'] 2\n",
      "['(', '8', ')'] 2\n",
      "['(', '3', '+', '6', ')', '/', '8'] 3\n",
      "['(', '6', ')', '/', '5'] 2\n",
      "['7', '/', '8'] 2\n",
      "['4', '+', '2'] 2\n",
      "['(', '4', ')'] 2\n",
      "['1', '-', '4'] 2\n",
      "['4', '*', '8'] 2\n",
      "['2', '+', '7', '/', '2'] 3\n",
      "['4', '-', '4'] 2\n",
      "['1', '+', '7'] 2\n",
      "['(', '1', ')', '/', '1'] 2\n",
      "['(', '8', '-', '9', ')'] 3\n",
      "['7', '*', '(', '5', ')'] 3\n",
      "['(', '5', ')'] 2\n",
      "['5', '/', '1'] 2\n",
      "['(', '2', ')'] 2\n",
      "['9', '+', '3', '*', '5'] 3\n",
      "['(', '9', ')'] 2\n",
      "['1', '+', '7'] 2\n",
      "['9', '+', '3'] 2\n",
      "['5', '+', '7'] 2\n",
      "['5', '+', '2', '/', '4'] 3\n",
      "['7', '/', '2'] 2\n",
      "['(', '3', ')'] 2\n",
      "['8', '*', '8'] 2\n",
      "['(', '7', '/', '1', '+', '3', '+', '4', ')'] 3\n",
      "['(', '8', ')', '-', '(', '3', ')', '*', '3', '/', '9'] 3\n",
      "['(', '4', ')', '/', '(', '3', ')'] 3\n",
      "['(', '3', '/', '8', ')', '-', '3'] 3\n",
      "['8', '/', '3', '+', '2'] 2\n",
      "['8', '+', '5'] 2\n",
      "['5', '/', '4', '+', '(', '3', ')', '*', '1'] 3\n",
      "['(', '4', '/', '6', ')'] 3\n",
      "['2', '/', '4'] 2\n",
      "['(', '9', ')'] 2\n",
      "['(', '4', ')', '-', '9'] 2\n",
      "['(', '1', ')', '*', '3', '+', '9', '+', '8', '+', '9'] 2\n",
      "['(', '4', ')'] 2\n",
      "['7', '+', '(', '5', ')'] 3\n",
      "['3', '/', '2'] 2\n",
      "['2', '+', '7', '/', '1', '-', '(', '3', ')'] 3\n",
      "['9', '*', '2'] 2\n",
      "['1', '/', '3'] 2\n",
      "['(', '8', '/', '6', '-', '7', ')'] 3\n",
      "['3', '-', '4', '/', '2'] 3\n",
      "['(', '4', ')'] 2\n",
      "['3', '/', '6'] 2\n",
      "['7', '/', '2', '*', '6', '-', '(', '2', ')'] 3\n",
      "['4', '-', '5', '*', '1', '*', '9'] 3\n",
      "['5', '*', '6', '/', '4'] 2\n",
      "['(', '3', ')'] 2\n",
      "['6', '/', '6', '/', '7', '/', '1'] 2\n",
      "['(', '7', ')'] 2\n",
      "['(', '6', '*', '3', ')'] 3\n",
      "['9', '/', '5'] 2\n",
      "['1', '-', '(', '2', ')'] 3\n",
      "['(', '2', ')', '+', '9'] 2\n",
      "['(', '6', ')', '+', '(', '2', ')', '-', '5'] 3\n",
      "['9', '*', '5'] 2\n",
      "['(', '5', ')', '-', '(', '2', ')', '-', '(', '6', ')'] 3\n",
      "['9', '/', '1', '*', '1'] 2\n",
      "['4', '/', '2', '+', '6'] 2\n",
      "['(', '9', ')', '+', '2', '*', '7'] 3\n",
      "['(', '2', '/', '5', '+', '7', ')', '-', '3'] 3\n",
      "['(', '1', '+', '5', ')'] 3\n",
      "['(', '9', '-', '1', ')', '*', '6'] 3\n",
      "['7', '*', '2'] 2\n",
      "['(', '8', ')'] 2\n",
      "['(', '2', ')'] 2\n",
      "['9', '+', '6'] 2\n",
      "['9', '/', '7', '-', '4'] 2\n",
      "['5', '*', '6'] 2\n",
      "['(', '7', ')', '+', '8'] 2\n",
      "['(', '7', '*', '4', ')', '+', '(', '8', ')'] 3\n",
      "['4', '-', '1'] 2\n",
      "['1', '*', '7'] 2\n",
      "['(', '2', ')'] 2\n",
      "['1', '*', '4'] 2\n",
      "['(', '2', ')'] 2\n",
      "['1', '-', '5', '/', '2'] 3\n",
      "['9', '+', '3'] 2\n",
      "['(', '4', ')', '*', '9'] 2\n",
      "['7', '+', '7', '-', '1'] 2\n",
      "['(', '4', ')', '-', '4', '*', '3', '+', '(', '7', ')', '+', '(', '8', ')', '+', '3'] 3\n",
      "['(', '1', ')', '+', '(', '2', ')', '+', '5'] 3\n",
      "['(', '6', ')', '-', '5'] 2\n",
      "['(', '8', ')', '/', '6'] 2\n",
      "['(', '5', ')'] 2\n",
      "['7', '-', '8'] 2\n",
      "['1', '-', '1'] 2\n",
      "['1', '/', '3', '-', '1'] 2\n",
      "['7', '-', '3'] 2\n",
      "['3', '/', '5'] 2\n",
      "['7', '*', '7'] 2\n",
      "['(', '8', ')', '*', '(', '3', ')', '*', '3', '+', '3', '+', '(', '8', ')'] 3\n",
      "['6', '-', '1'] 2\n",
      "['(', '1', ')'] 2\n",
      "['4', '-', '4', '/', '4'] 3\n",
      "['(', '2', ')'] 2\n",
      "['9', '*', '9'] 2\n",
      "['2', '-', '5'] 2\n",
      "['6', '*', '3', '/', '5'] 2\n",
      "['4', '/', '(', '7', ')'] 3\n",
      "['(', '8', '*', '2', '+', '1', ')'] 3\n",
      "['(', '7', ')'] 2\n",
      "['8', '+', '6'] 2\n",
      "['6', '*', '1', '*', '6'] 2\n",
      "['4', '-', '7'] 2\n",
      "['(', '5', ')', '/', '5', '*', '8', '*', '2', '*', '2', '/', '7'] 2\n",
      "['4', '/', '7'] 2\n",
      "['7', '-', '9', '/', '8', '-', '(', '8', ')'] 3\n",
      "['1', '/', '(', '3', ')', '+', '2'] 3\n",
      "['(', '7', ')'] 2\n",
      "['4', '/', '6', '+', '4', '-', '(', '1', ')'] 3\n",
      "['5', '/', '4'] 2\n",
      "['(', '1', '+', '1', ')'] 3\n",
      "['5', '+', '(', '5', ')', '/', '2', '/', '4', '/', '2', '-', '2', '*', '4', '/', '3'] 3\n",
      "['7', '+', '2'] 2\n",
      "['8', '-', '5'] 2\n",
      "['(', '8', '+', '1', ')', '*', '3', '*', '9', '*', '6'] 3\n",
      "['4', '/', '4', '/', '6'] 2\n",
      "['(', '6', ')'] 2\n",
      "['(', '4', ')'] 2\n",
      "['4', '+', '6', '+', '8'] 2\n",
      "['(', '6', '*', '1', '/', '8', '+', '5', ')'] 3\n",
      "['6', '+', '2'] 2\n",
      "['4', '*', '6'] 2\n",
      "['8', '+', '4'] 2\n",
      "['(', '5', ')'] 2\n",
      "['(', '7', ')'] 2\n",
      "['2', '*', '1'] 2\n",
      "['3', '-', '6', '*', '4'] 3\n",
      "['(', '2', ')'] 2\n",
      "['(', '7', '/', '5', ')'] 3\n",
      "['4', '/', '1'] 2\n",
      "['1', '/', '(', '7', ')', '+', '4'] 3\n",
      "['7', '-', '6', '*', '4'] 3\n",
      "['(', '9', '*', '9', ')'] 3\n",
      "['(', '3', ')'] 2\n",
      "['7', '-', '1'] 2\n",
      "['5', '+', '1', '*', '9', '-', '8'] 3\n",
      "['(', '6', '*', '7', ')'] 3\n",
      "['(', '2', '*', '9', ')'] 3\n",
      "['(', '8', ')', '*', '7'] 2\n",
      "['(', '4', ')'] 2\n",
      "['1', '-', '9'] 2\n",
      "['7', '/', '2', '-', '6', '/', '7'] 3\n",
      "['9', '-', '(', '4', ')'] 3\n",
      "['5', '-', '(', '8', ')'] 3\n",
      "['9', '-', '5'] 2\n",
      "['(', '8', '*', '3', ')'] 3\n",
      "['4', '*', '8', '/', '6'] 2\n",
      "['1', '+', '5'] 2\n",
      "['2', '/', '2'] 2\n",
      "['1', '*', '1'] 2\n",
      "['(', '8', ')'] 2\n",
      "['(', '2', ')', '+', '7'] 2\n",
      "['7', '*', '1'] 2\n",
      "['(', '8', ')'] 2\n",
      "['(', '5', '/', '2', '-', '8', ')'] 3\n",
      "['1', '+', '1'] 2\n",
      "['2', '/', '4'] 2\n",
      "['5', '*', '1'] 2\n",
      "['(', '7', '-', '3', ')', '/', '7', '*', '(', '5', ')'] 3\n",
      "['(', '6', ')', '+', '6', '+', '6'] 2\n",
      "['5', '/', '9'] 2\n",
      "['2', '/', '1'] 2\n",
      "['1', '-', '6'] 2\n",
      "['2', '/', '9', '/', '3'] 2\n",
      "['7', '*', '9'] 2\n",
      "['(', '7', ')'] 2\n",
      "['(', '2', '+', '6', ')'] 3\n",
      "['9', '/', '(', '9', ')', '/', '9'] 3\n",
      "['3', '/', '4', '/', '9'] 2\n",
      "['(', '9', ')'] 2\n",
      "['9', '-', '1'] 2\n",
      "['(', '7', ')', '/', '(', '2', ')'] 3\n",
      "['7', '-', '(', '2', ')', '/', '9', '/', '9'] 3\n",
      "['6', '-', '(', '2', ')'] 3\n",
      "['(', '1', ')'] 2\n",
      "['(', '1', ')'] 2\n",
      "['(', '5', ')'] 2\n",
      "['(', '9', '+', '7', '+', '6', ')'] 3\n",
      "['3', '/', '3'] 2\n",
      "['(', '8', '+', '2', ')'] 3\n",
      "['5', '/', '5'] 2\n",
      "['9', '-', '3', '*', '1'] 3\n",
      "['5', '-', '2'] 2\n",
      "['3', '*', '5'] 2\n",
      "['1', '+', '4', '/', '1'] 3\n",
      "['1', '/', '1'] 2\n",
      "['8', '/', '(', '3', ')'] 3\n",
      "['2', '-', '6', '*', '6', '-', '4'] 3\n",
      "['5', '*', '3'] 2\n",
      "['2', '+', '2', '*', '2'] 3\n",
      "['(', '5', '/', '7', '/', '1', ')', '+', '2'] 3\n",
      "['(', '5', ')'] 2\n",
      "['4', '/', '8'] 2\n",
      "['(', '7', ')'] 2\n",
      "['5', '*', '5'] 2\n",
      "['(', '7', '+', '9', '+', '9', ')'] 3\n",
      "['(', '3', ')'] 2\n",
      "['6', '/', '5'] 2\n",
      "['(', '4', ')', '/', '2'] 2\n",
      "['(', '8', ')'] 2\n",
      "['(', '8', '/', '6', ')', '+', '1'] 3\n",
      "['2', '*', '6'] 2\n",
      "['(', '6', '+', '6', ')', '/', '2'] 3\n",
      "['(', '6', ')', '+', '2'] 2\n",
      "['(', '4', '/', '6', ')', '/', '3', '-', '2'] 3\n",
      "['2', '/', '4', '-', '5', '*', '4', '/', '8'] 3\n",
      "['3', '+', '4'] 2\n",
      "['(', '7', ')', '-', '(', '1', ')'] 3\n",
      "['(', '8', '*', '5', ')'] 3\n",
      "['4', '-', '4'] 2\n",
      "['(', '5', ')', '-', '1', '-', '3', '+', '4', '-', '8', '*', '7'] 3\n",
      "['(', '2', ')', '/', '7'] 2\n",
      "['4', '*', '9', '+', '(', '3', ')'] 3\n",
      "['3', '/', '6', '*', '6'] 2\n",
      "['(', '1', ')'] 2\n",
      "['(', '6', ')', '-', '8'] 2\n",
      "['8', '*', '(', '1', ')'] 3\n",
      "['(', '2', ')'] 2\n",
      "['7', '+', '6'] 2\n",
      "['2', '/', '5', '+', '2', '/', '4'] 3\n",
      "['(', '2', ')', '-', '2', '/', '6', '/', '7'] 3\n",
      "['4', '-', '7'] 2\n",
      "['(', '4', ')'] 2\n",
      "['7', '*', '1'] 2\n",
      "['5', '/', '7'] 2\n",
      "['6', '+', '4', '/', '2'] 3\n",
      "['4', '-', '2'] 2\n",
      "['(', '5', '*', '5', ')'] 3\n",
      "['2', '-', '9', '*', '1', '*', '6', '-', '3'] 3\n",
      "['9', '+', '2'] 2\n",
      "['1', '*', '3'] 2\n",
      "['(', '8', ')'] 2\n",
      "['2', '-', '6', '-', '7', '/', '1'] 3\n",
      "['(', '5', '/', '6', '*', '5', ')'] 3\n",
      "['9', '+', '6'] 2\n",
      "['(', '3', ')'] 2\n",
      "['1', '*', '(', '9', ')'] 3\n",
      "['(', '7', '*', '8', ')', '/', '2', '*', '(', '6', ')'] 3\n",
      "['(', '9', '*', '5', ')'] 3\n",
      "['6', '*', '9', '/', '(', '1', ')', '-', '5'] 3\n",
      "['(', '4', '/', '3', ')', '/', '4'] 3\n",
      "['(', '9', ')'] 2\n",
      "['2', '*', '5', '-', '4'] 2\n",
      "['2', '*', '2', '+', '2'] 2\n",
      "['(', '3', ')', '+', '(', '3', ')', '*', '8'] 3\n",
      "['(', '5', ')', '*', '4'] 2\n",
      "['1', '+', '3', '*', '1'] 3\n",
      "['8', '*', '3', '/', '9', '-', '2'] 2\n",
      "['(', '7', ')'] 2\n",
      "['6', '*', '9', '*', '6', '*', '4'] 2\n",
      "['4', '/', '2', '/', '3'] 2\n",
      "['4', '/', '9'] 2\n",
      "['6', '/', '6', '*', '1'] 2\n",
      "['(', '8', ')'] 2\n",
      "['2', '+', '7', '-', '4'] 2\n",
      "['(', '6', ')'] 2\n",
      "['(', '4', ')', '*', '(', '6', ')'] 3\n",
      "['5', '-', '9'] 2\n",
      "['(', '5', '/', '7', ')'] 3\n",
      "['(', '9', '*', '2', ')'] 3\n",
      "['4', '*', '7'] 2\n",
      "['4', '/', '5', '+', '1'] 2\n",
      "['8', '-', '(', '5', ')', '*', '5'] 3\n",
      "['6', '*', '6', '+', '2'] 2\n",
      "['7', '*', '6'] 2\n",
      "['5', '*', '2'] 2\n",
      "['(', '9', '+', '2', ')', '/', '6'] 3\n",
      "['(', '7', ')', '-', '5'] 2\n",
      "['2', '*', '4', '*', '6', '+', '7', '/', '4'] 3\n",
      "['4', '/', '4'] 2\n",
      "['9', '-', '2', '+', '3', '+', '1', '+', '2'] 2\n",
      "['(', '3', ')', '-', '7'] 2\n",
      "['5', '+', '(', '6', ')'] 3\n",
      "['(', '3', ')'] 2\n",
      "['(', '5', ')'] 2\n",
      "['8', '*', '(', '4', ')', '/', '1', '-', '3'] 3\n",
      "['(', '4', ')', '/', '(', '4', ')'] 3\n",
      "['(', '1', ')'] 2\n",
      "['1', '/', '2'] 2\n",
      "['(', '3', ')'] 2\n",
      "['(', '1', '/', '3', ')'] 3\n",
      "['8', '*', '(', '2', ')'] 3\n",
      "['8', '/', '5'] 2\n",
      "['7', '/', '7', '-', '6', '-', '6'] 2\n",
      "['2', '/', '8'] 2\n",
      "['2', '*', '6'] 2\n",
      "['4', '*', '(', '6', ')', '*', '6', '+', '(', '6', ')'] 3\n",
      "['9', '/', '7', '*', '6', '*', '4', '/', '5'] 2\n",
      "['(', '8', ')'] 2\n",
      "['(', '2', '-', '1', ')'] 3\n",
      "['2', '+', '(', '5', ')'] 3\n",
      "['9', '/', '6', '*', '(', '1', ')'] 3\n",
      "['7', '*', '7'] 2\n",
      "['9', '+', '7'] 2\n",
      "['7', '-', '5'] 2\n",
      "['9', '-', '3'] 2\n",
      "['2', '+', '6'] 2\n",
      "['9', '*', '6', '*', '4', '*', '5'] 2\n",
      "['1', '+', '8'] 2\n",
      "['9', '-', '9'] 2\n",
      "['8', '*', '2', '-', '3'] 2\n",
      "['7', '/', '5'] 2\n",
      "['5', '*', '(', '7', ')', '*', '5', '-', '4'] 3\n",
      "['4', '/', '(', '2', ')'] 3\n",
      "['(', '2', ')'] 2\n",
      "['(', '9', ')'] 2\n",
      "['9', '+', '7'] 2\n",
      "['5', '/', '8', '*', '7', '/', '3', '-', '9', '/', '1'] 3\n",
      "['(', '8', ')'] 2\n",
      "['(', '6', '/', '8', '-', '2', ')'] 3\n",
      "['(', '8', ')'] 2\n",
      "['(', '4', ')'] 2\n",
      "['2', '/', '5', '+', '(', '5', ')', '/', '4'] 3\n",
      "['(', '9', ')', '/', '3'] 2\n",
      "['(', '2', ')', '-', '1', '+', '6'] 2\n",
      "['(', '4', '*', '5', '-', '7', ')'] 3\n",
      "['(', '2', '+', '7', ')'] 3\n",
      "['5', '+', '7'] 2\n"
     ]
    }
   ],
   "source": [
    "es = []\n",
    "for _ in range(1000):\n",
    "    e = gen_tree()\n",
    "    nlst = to_nlst(e)\n",
    "    if len(nlst) == 1:\n",
    "        continue\n",
    "    try:\n",
    "        msu = MSU(nlst)\n",
    "        if msu <= 3:\n",
    "            print(nlst, msu)\n",
    "    except:\n",
    "        pass"
   ]
  },
  {
   "cell_type": "code",
   "execution_count": 4,
   "metadata": {},
   "outputs": [],
   "source": [
    "def to_value(t):\n",
    "    if not isinstance(t, list):\n",
    "        return t\n",
    "\n",
    "    l = t[0]\n",
    "    r = t[1]\n",
    "    if l[1] in OP_MAP:\n",
    "        v1, op = (to_value(l[0]), l[1])\n",
    "        v2 = to_value(r)\n",
    "        return eval(''.join([str(v1), op, str(v2)]))\n",
    "    else:\n",
    "        assert l[0] == '('\n",
    "        v = to_value(l[1])\n",
    "        return v"
   ]
  },
  {
   "cell_type": "code",
   "execution_count": 6,
   "metadata": {},
   "outputs": [],
   "source": [
    "def to_sd(t):\n",
    "    if not isinstance(t, list):\n",
    "        d = []\n",
    "        h = 0\n",
    "    else:\n",
    "        l, r = t\n",
    "        d_l, h_l = to_sd(l)\n",
    "        d_r, h_r = to_sd(r)\n",
    "        h = max(h_l, h_r) + 1\n",
    "        d = d_l + [h] + d_r\n",
    "\n",
    "    return d, h"
   ]
  },
  {
   "cell_type": "code",
   "execution_count": 35,
   "metadata": {},
   "outputs": [],
   "source": [
    "def to_value_sd(sd_lst, node_lst):\n",
    "    if len(sd_lst) == 0:\n",
    "        node = node_lst[0]\n",
    "        v = node\n",
    "    else:\n",
    "        i = np.argmax(sd_lst)\n",
    "        child_l, v_l = to_value_sd(sd_lst[:i], node_lst[:i+1])\n",
    "        child_r, v_r = to_value_sd(sd_lst[i+1:], node_lst[i+1:])\n",
    "        node = [child_l, child_r]\n",
    "        if isinstance(v_l, list) and not isinstance(v_r, list):\n",
    "            if v_l[1] in OP_MAP:\n",
    "                v1, op = v_l[0], v_l[1]\n",
    "                v2 = v_r\n",
    "                v = str(eval(''.join([v1, op, v2])))\n",
    "            else:\n",
    "                assert v_l[0] == '(', str(v_l)\n",
    "                v = str(v_l[1])\n",
    "        else:\n",
    "            assert not isinstance(v_l, list) and not isinstance(v_r, list)\n",
    "            v = [v_l, v_r]\n",
    "\n",
    "    return node, v"
   ]
  },
  {
   "cell_type": "code",
   "execution_count": 8,
   "metadata": {},
   "outputs": [],
   "source": [
    "def ave_len(es):\n",
    "    lens = []\n",
    "    for e in es:\n",
    "        lens.append(e[0].split())\n",
    "    return np.average(lens), np.var(lens)"
   ]
  },
  {
   "cell_type": "code",
   "execution_count": 9,
   "metadata": {},
   "outputs": [],
   "source": [
    "def plot_sd(t):\n",
    "    sd_lst, _ = to_sd(t)\n",
    "    nlst = to_nlst(t)\n",
    "    fig, ax = plt.subplots()\n",
    "    fig.dpi = 200\n",
    "    plt.bar(np.arange(len(sd_lst)), sd_lst)\n",
    "    plt.xticks(np.arange(len(nlst))-0.5, nlst)\n",
    "    plt.grid(axis='y', linestyle='--')"
   ]
  },
  {
   "cell_type": "code",
   "execution_count": 10,
   "metadata": {},
   "outputs": [],
   "source": [
    "def combine(a0, a1):\n",
    "    def unfinised(n):\n",
    "        return isinstance(n, list) or isinstance(n, tuple)\n",
    "    \n",
    "    def eval_mod(op, a0, a1):\n",
    "        if op == '/':\n",
    "            return int(a0) % int(a1)\n",
    "        else:\n",
    "            return eval(''.join([str(a0), op, str(a1)])) % 10\n",
    "    \n",
    "    if unfinised(a0):\n",
    "        if a1 == ')':\n",
    "            lp, num = a0\n",
    "            assert lp == '('\n",
    "            return num\n",
    "        else:\n",
    "            num, op = a0\n",
    "            return eval_mod(op, num, a1)\n",
    "#             try:\n",
    "#                 return eval(''.join([str(num),op,str(a1)]))\n",
    "#             except:\n",
    "#                 return -1\n",
    "    else:\n",
    "        return (a0, a1)      "
   ]
  },
  {
   "cell_type": "code",
   "execution_count": 11,
   "metadata": {},
   "outputs": [],
   "source": [
    "# simplified\n",
    "def shift_reduce(nlst, sdlst):\n",
    "    N = 0\n",
    "    max_nmem = 0\n",
    "    mem = []\n",
    "    mem.append((nlst[0],  sdlst[0]))\n",
    "\n",
    "    for n, sd in zip(nlst[1:], sdlst[1:]+[10000]):\n",
    "        while sd > mem[-1][1]:\n",
    "            a0, sd0 = mem.pop()\n",
    "            n = combine(a0, n)\n",
    "            if len(mem) == 0:\n",
    "                break\n",
    "        mem.append((n, sd))\n",
    "        if len(mem) > max_nmem:\n",
    "            max_nmem = len(mem)\n",
    "                \n",
    "    assert len(mem) == 1\n",
    "    return mem[0][0], max_nmem"
   ]
  },
  {
   "cell_type": "code",
   "execution_count": 23,
   "metadata": {},
   "outputs": [
    {
     "data": {
      "text/plain": [
       "(1, 5)"
      ]
     },
     "execution_count": 23,
     "metadata": {},
     "output_type": "execute_result"
    }
   ],
   "source": [
    "seq = '8 + 9 * 3 + 8 / ( 9 ) * 2 / ( 6 - 2 * 6 - 6 )'.split()\n",
    "ds = '1 3 1 2 4 9 1 3 1 2 4 5 6 8 6 1 3 1 2 4 5 7'.split()\n",
    "shift_reduce(seq, list(map(int, ds)))"
   ]
  },
  {
   "cell_type": "code",
   "execution_count": 13,
   "metadata": {},
   "outputs": [],
   "source": [
    "def remove_brackets(expr):\n",
    "    return ''.join(list(filter(lambda x: x not in ['(',')'], expr)))"
   ]
  },
  {
   "cell_type": "code",
   "execution_count": 14,
   "metadata": {},
   "outputs": [
    {
     "name": "stdout",
     "output_type": "stream",
     "text": [
      "2\n"
     ]
    }
   ],
   "source": [
    "def ed(s1, s2):\n",
    "    m=len(s1)+1\n",
    "    n=len(s2)+1\n",
    "\n",
    "    tbl = {}\n",
    "    for i in range(m): tbl[i,0]=i\n",
    "    for j in range(n): tbl[0,j]=j\n",
    "    for i in range(1, m):\n",
    "        for j in range(1, n):\n",
    "            cost = 0 if s1[i-1] == s2[j-1] else 1\n",
    "            tbl[i,j] = min(tbl[i, j-1]+1, tbl[i-1, j]+1, tbl[i-1, j-1]+cost)\n",
    "\n",
    "    return tbl[i,j]\n",
    "\n",
    "print(ed(\"Helloworld\", \"HalloWorld\"))"
   ]
  },
  {
   "cell_type": "code",
   "execution_count": 15,
   "metadata": {},
   "outputs": [],
   "source": [
    "def expected_ed(samples, nsampling=1000):\n",
    "    res = []\n",
    "    lens = []\n",
    "    for _ in range(nsampling):\n",
    "        e1 = random.choice(samples)\n",
    "        e2 = random.choice(samples)\n",
    "        edis = ed(e1[1].split(), e2[1].split())\n",
    "        res.append(edis)\n",
    "        l1 = len(e1[1].split())\n",
    "        l2 = len(e2[1].split())\n",
    "        l_mean = np.mean([l1, l2])\n",
    "        lens.append(l_mean)\n",
    "        \n",
    "    return np.mean(res)/np.mean(lens)"
   ]
  },
  {
   "cell_type": "code",
   "execution_count": 16,
   "metadata": {},
   "outputs": [],
   "source": [
    "def draw(x, y):\n",
    "    plt.plot(x, y, 'ro-', label='ed/len')\n",
    "    plt.legend()\n",
    "    plt.grid()\n",
    "    plt.grid(color='b' , linewidth=0.1 ,linestyle='--')"
   ]
  },
  {
   "cell_type": "code",
   "execution_count": 37,
   "metadata": {},
   "outputs": [
    {
     "data": {
      "text/plain": [
       "[[[['(', [[8, '*'], 6]], ')'], '/'], 9]"
      ]
     },
     "execution_count": 37,
     "metadata": {},
     "output_type": "execute_result"
    }
   ],
   "source": [
    "gen_tree()"
   ]
  },
  {
   "cell_type": "code",
   "execution_count": 38,
   "metadata": {},
   "outputs": [
    {
     "data": {
      "text/plain": [
       "[[[['(', [[8, '*'], 6]], ')'], '/'], 9]"
      ]
     },
     "execution_count": 38,
     "metadata": {},
     "output_type": "execute_result"
    }
   ],
   "source": [
    "[[[['(', [[8, '*'], 6]], ')'], '/'], 9]"
   ]
  },
  {
   "cell_type": "code",
   "execution_count": 39,
   "metadata": {},
   "outputs": [],
   "source": [
    "etree = [[8,'+'],[[[[6, '*'], 3], '/'], [['(', [[2,  '-'], 4]],')']]]\n",
    "sd_lst = to_sd(etree)[0]"
   ]
  },
  {
   "cell_type": "code",
   "execution_count": 40,
   "metadata": {},
   "outputs": [
    {
     "data": {
      "text/plain": [
       "['8', '+', '6', '*', '3', '/', '(', '2', '-', '4', ')']"
      ]
     },
     "execution_count": 40,
     "metadata": {},
     "output_type": "execute_result"
    }
   ],
   "source": [
    "to_nlst(etree)"
   ]
  },
  {
   "cell_type": "code",
   "execution_count": 41,
   "metadata": {},
   "outputs": [
    {
     "data": {
      "text/plain": [
       "[1, 6, 1, 2, 3, 5, 3, 1, 2, 4]"
      ]
     },
     "execution_count": 41,
     "metadata": {},
     "output_type": "execute_result"
    }
   ],
   "source": [
    "to_sd(etree)[0]"
   ]
  },
  {
   "cell_type": "code",
   "execution_count": 42,
   "metadata": {},
   "outputs": [
    {
     "data": {
      "text/plain": [
       "([['8', '+'], [[[['6', '*'], '3'], '/'], [['(', [['2', '-'], '4']], ')']]],\n",
       " '-1.0')"
      ]
     },
     "execution_count": 42,
     "metadata": {},
     "output_type": "execute_result"
    }
   ],
   "source": [
    "to_value_sd(sd_lst, to_nlst(etree))"
   ]
  },
  {
   "cell_type": "code",
   "execution_count": 43,
   "metadata": {},
   "outputs": [
    {
     "data": {
      "text/plain": [
       "(8, 4)"
      ]
     },
     "execution_count": 43,
     "metadata": {},
     "output_type": "execute_result"
    }
   ],
   "source": [
    "shift_reduce(to_nlst(etree), to_sd(etree)[0])"
   ]
  },
  {
   "cell_type": "markdown",
   "metadata": {},
   "source": [
    "# gen"
   ]
  },
  {
   "cell_type": "code",
   "execution_count": 141,
   "metadata": {},
   "outputs": [],
   "source": [
    "from collections import defaultdict"
   ]
  },
  {
   "cell_type": "code",
   "execution_count": 142,
   "metadata": {},
   "outputs": [],
   "source": [
    "MAX_DEPTH = 30\n",
    "PROB_BRANCH = 0.4\n",
    "NSAMPLES = 300000\n",
    "# NSAMPLES = 150000\n",
    "prob_h = (1/np.array(range(2, MAX_DEPTH+1)) )**(1.5)\n",
    "prob_h = prob_h / prob_h.sum()\n",
    "nsamples_bound = {h:int(prob_h[h-2]*NSAMPLES) for h in range(2, MAX_DEPTH+1)}\n",
    "nsamples = defaultdict(int)\n",
    "PNESTED = 1"
   ]
  },
  {
   "cell_type": "code",
   "execution_count": 143,
   "metadata": {},
   "outputs": [
    {
     "name": "stdout",
     "output_type": "stream",
     "text": [
      "finished: 10\n",
      "finished: 12\n",
      "finished: 11\n",
      "finished: 8\n",
      "finished: 13\n",
      "finished: 14\n",
      "finished: 9\n",
      "finished: 6\n",
      "finished: 15\n",
      "finished: 16\n",
      "finished: 7\n",
      "finished: 17\n",
      "finished: 4\n",
      "finished: 18\n",
      "finished: 19\n",
      "finished: 20\n",
      "finished: 5\n",
      "finished: 21\n",
      "finished: 2\n",
      "finished: 22\n",
      "finished: 23\n",
      "finished: 24\n",
      "finished: 25\n",
      "finished: 3\n",
      "finished: 26\n",
      "finished: 29\n",
      "finished: 27\n",
      "finished: 28\n",
      "Done\n"
     ]
    }
   ],
   "source": [
    "examples = []\n",
    "printed = {h:False for h in range(2, MAX_DEPTH+1)}\n",
    "i = 0\n",
    "while True:\n",
    "    finished = True\n",
    "    for h in range(2, MAX_DEPTH+1):\n",
    "        if nsamples[h] < nsamples_bound[h]:\n",
    "            finished = False\n",
    "    if finished:\n",
    "        break\n",
    "    \n",
    "    t = gen_tree()\n",
    "    if t in VALUES:\n",
    "        continue\n",
    "    nodes = to_nlst(t)\n",
    "    nodes = ' '.join(nodes)\n",
    "    sd_lst, h = to_sd(t)\n",
    "    if h > MAX_DEPTH:\n",
    "        continue\n",
    "    if nsamples[h] >= nsamples_bound[h]:\n",
    "        if not printed[h]:\n",
    "            print('finished:', h)\n",
    "            printed[h] = True\n",
    "        continue\n",
    "    else:\n",
    "        nsamples[h] += 1\n",
    "    \n",
    "    sd_lst = ' '.join([str(sd) for sd in sd_lst])\n",
    "    examples.append((nodes, sd_lst, str(h)))\n",
    "    i += 1\n",
    "\n",
    "    if i >= NSAMPLES:\n",
    "        break\n",
    "print('Done')"
   ]
  },
  {
   "cell_type": "code",
   "execution_count": 144,
   "metadata": {},
   "outputs": [
    {
     "data": {
      "text/plain": [
       "('( 4 * 2 - 1 - 3 * 1 ) - 2 * 8 / 9', '7 1 2 3 4 5 6 1 2 8 9 10 1 2 3 4', '10')"
      ]
     },
     "execution_count": 144,
     "metadata": {},
     "output_type": "execute_result"
    }
   ],
   "source": [
    "examples[0]"
   ]
  },
  {
   "cell_type": "code",
   "execution_count": 145,
   "metadata": {},
   "outputs": [],
   "source": [
    "es = []\n",
    "es_eval = []\n",
    "hs = []\n",
    "mmc_lst = []\n",
    "for e in examples:\n",
    "    expr, ds, h = e\n",
    "    expr = expr.split()\n",
    "    ds = list(map(int, ds.split()))\n",
    "    try:\n",
    "        val, mmc = shift_reduce(expr, ds)\n",
    "        if mmc > 2:\n",
    "            hs.append(int(h))\n",
    "            es.append(e)\n",
    "            es_eval.append((e[0], e[1], e[2], str(val)))\n",
    "            mmc_lst.append(mmc)\n",
    "    except:\n",
    "        pass"
   ]
  },
  {
   "cell_type": "code",
   "execution_count": 146,
   "metadata": {},
   "outputs": [
    {
     "data": {
      "text/plain": [
       "(array([  881., 13095.,  3958., 10634.,  4946.,  7974.,  4760.,  6012.,\n",
       "         4227.,  4751.,  3628.,  3784.,  3111.,  3115.,  2683.,  2619.,\n",
       "         2297.,  2238.,  2025.,  1932.,  1740.,  1673.,  1554.,  1469.,\n",
       "         1375.,  2552.]),\n",
       " array([ 4,  5,  6,  7,  8,  9, 10, 11, 12, 13, 14, 15, 16, 17, 18, 19, 20,\n",
       "        21, 22, 23, 24, 25, 26, 27, 28, 29, 30]),\n",
       " <a list of 26 Patch objects>)"
      ]
     },
     "execution_count": 146,
     "metadata": {},
     "output_type": "execute_result"
    },
    {
     "data": {
      "image/png": "[encoded data removed]",
      "text/plain": [
       "<Figure size 432x288 with 1 Axes>"
      ]
     },
     "metadata": {},
     "output_type": "display_data"
    }
   ],
   "source": [
    "plt.hist(hs, bins=np.arange(min(hs), max(hs)+1))"
   ]
  },
  {
   "cell_type": "code",
   "execution_count": 147,
   "metadata": {},
   "outputs": [],
   "source": [
    "examples_h = {}\n",
    "for line in es:\n",
    "    expr, ds, h = line\n",
    "    h = int(h)\n",
    "    if h not in examples_h:\n",
    "        examples_h[h] = []\n",
    "    examples_h[h].append((expr, ds))"
   ]
  },
  {
   "cell_type": "code",
   "execution_count": 148,
   "metadata": {},
   "outputs": [],
   "source": [
    "hs = []\n",
    "expected_eds = []\n",
    "for h in sorted(examples_h.keys()):\n",
    "    hs.append(h)\n",
    "    expected_eds.append(expected_ed(examples_h[h]))"
   ]
  },
  {
   "cell_type": "code",
   "execution_count": 149,
   "metadata": {},
   "outputs": [
    {
     "data": {
      "image/png": "[encoded data removed]",
      "text/plain": [
       "<Figure size 432x288 with 1 Axes>"
      ]
     },
     "metadata": {},
     "output_type": "display_data"
    }
   ],
   "source": [
    "draw(hs, expected_eds)"
   ]
  },
  {
   "cell_type": "code",
   "execution_count": 150,
   "metadata": {},
   "outputs": [
    {
     "data": {
      "text/plain": [
       "99033"
      ]
     },
     "execution_count": 150,
     "metadata": {},
     "output_type": "execute_result"
    }
   ],
   "source": [
    "len(es)"
   ]
  },
  {
   "cell_type": "code",
   "execution_count": 151,
   "metadata": {},
   "outputs": [
    {
     "data": {
      "text/plain": [
       "3"
      ]
     },
     "execution_count": 151,
     "metadata": {},
     "output_type": "execute_result"
    }
   ],
   "source": [
    "min(mmc_lst)"
   ]
  },
  {
   "cell_type": "code",
   "execution_count": 152,
   "metadata": {},
   "outputs": [
    {
     "data": {
      "text/plain": [
       "5"
      ]
     },
     "execution_count": 152,
     "metadata": {},
     "output_type": "execute_result"
    }
   ],
   "source": [
    "max(mmc_lst)"
   ]
  },
  {
   "cell_type": "code",
   "execution_count": 153,
   "metadata": {},
   "outputs": [
    {
     "data": {
      "text/plain": [
       "(array([    0., 53940., 34098., 10995.]),\n",
       " array([2, 3, 4, 5, 6]),\n",
       " <a list of 4 Patch objects>)"
      ]
     },
     "execution_count": 153,
     "metadata": {},
     "output_type": "execute_result"
    },
    {
     "data": {
      "image/png": "[encoded data removed]",
      "text/plain": [
       "<Figure size 432x288 with 1 Axes>"
      ]
     },
     "metadata": {},
     "output_type": "display_data"
    }
   ],
   "source": [
    "plt.hist(mmc_lst, bins=np.arange(2, 6+1))"
   ]
  },
  {
   "cell_type": "code",
   "execution_count": 154,
   "metadata": {},
   "outputs": [
    {
     "data": {
      "text/plain": [
       "99033"
      ]
     },
     "execution_count": 154,
     "metadata": {},
     "output_type": "execute_result"
    }
   ],
   "source": [
    "len(es_eval)"
   ]
  },
  {
   "cell_type": "code",
   "execution_count": 156,
   "metadata": {},
   "outputs": [
    {
     "data": {
      "text/plain": [
       "('( 4 * 2 - 1 - 3 * 1 ) - 2 * 8 / 9',\n",
       " '7 1 2 3 4 5 6 1 2 8 9 10 1 2 3 4',\n",
       " '10',\n",
       " '8')"
      ]
     },
     "execution_count": 156,
     "metadata": {},
     "output_type": "execute_result"
    }
   ],
   "source": [
    "es_eval[0]"
   ]
  },
  {
   "cell_type": "markdown",
   "metadata": {},
   "source": [
    "# save"
   ]
  },
  {
   "cell_type": "code",
   "execution_count": 157,
   "metadata": {},
   "outputs": [],
   "source": [
    "suffix = 'pa1.mmc3.txt'"
   ]
  },
  {
   "cell_type": "code",
   "execution_count": 158,
   "metadata": {},
   "outputs": [],
   "source": [
    "random.shuffle(es_eval)\n",
    "ntrain = int(0.8 * len(es_eval))\n",
    "nvalid = int(0.1 * len(es_eval))\n",
    "ntest = int(0.1 * len(es_eval))\n",
    "train = es_eval[:ntrain]\n",
    "valid = es_eval[ntrain: ntrain+nvalid]\n",
    "test = es_eval[ntrain+nvalid:]"
   ]
  },
  {
   "cell_type": "code",
   "execution_count": 159,
   "metadata": {},
   "outputs": [],
   "source": [
    "for dataset, dataset_type in zip([train, valid, test], ['train', 'valid', 'test']):\n",
    "    fname = '%s.%s' % (dataset_type, suffix)\n",
    "    with open(fname, 'w') as f:\n",
    "        for line in dataset:\n",
    "            f.write('\\t'.join(line[:3]))\n",
    "            f.write('\\n')"
   ]
  },
  {
   "cell_type": "code",
   "execution_count": 160,
   "metadata": {},
   "outputs": [
    {
     "data": {
      "text/plain": [
       "('8 / 6 + 1 / ( 3 * 9 * 7 - 4 * 9 )',\n",
       " '1 2 3 10 1 9 7 1 2 3 4 5 6 1 2 8',\n",
       " '10',\n",
       " '3')"
      ]
     },
     "execution_count": 160,
     "metadata": {},
     "output_type": "execute_result"
    }
   ],
   "source": [
    "train[0]"
   ]
  },
  {
   "cell_type": "code",
   "execution_count": 161,
   "metadata": {},
   "outputs": [
    {
     "data": {
      "text/plain": [
       "'/Users/marc/Documents/research/mann_eval/data'"
      ]
     },
     "execution_count": 161,
     "metadata": {},
     "output_type": "execute_result"
    }
   ],
   "source": [
    "os.path.dirname(os.getcwd())"
   ]
  },
  {
   "cell_type": "code",
   "execution_count": 162,
   "metadata": {},
   "outputs": [],
   "source": [
    "for dataset, dataset_type in zip([train, valid, test], ['train', 'valid', 'test']):\n",
    "    fname = '%s.%s' % (dataset_type, suffix)\n",
    "    data_dir = os.path.dirname(os.getcwd())\n",
    "    feval_dir = os.path.join(data_dir, 'feval')\n",
    "    fname = os.path.join(feval_dir, fname)\n",
    "    with open(fname, 'w') as f:\n",
    "        for line in dataset:\n",
    "            f.write('\\t'.join(line))\n",
    "            f.write('\\n')"
   ]
  },
  {
   "cell_type": "code",
   "execution_count": null,
   "metadata": {},
   "outputs": [],
   "source": []
  }
 ],
 "metadata": {
  "kernelspec": {
   "display_name": "Python 3",
   "language": "python",
   "name": "python3"
  },
  "language_info": {
   "codemirror_mode": {
    "name": "ipython",
    "version": 3
   },
   "file_extension": ".py",
   "mimetype": "text/x-python",
   "name": "python",
   "nbconvert_exporter": "python",
   "pygments_lexer": "ipython3",
   "version": "3.6.4"
  }
 },
 "nbformat": 4,
 "nbformat_minor": 2
}
