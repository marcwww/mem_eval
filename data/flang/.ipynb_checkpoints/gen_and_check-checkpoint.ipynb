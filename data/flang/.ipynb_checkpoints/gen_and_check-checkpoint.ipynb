{
 "cells": [
  {
   "cell_type": "code",
   "execution_count": 7,
   "metadata": {},
   "outputs": [],
   "source": [
    "import numpy as np\n",
    "import random\n",
    "import matplotlib.pyplot as plt\n",
    "\n",
    "MAX_DEPTH = 20\n",
    "PROB_BRANCH = 0.25\n",
    "VALUES = range(1, 10)\n",
    "OPS_E = [0, 1]\n",
    "OPS_T = [2, 3]\n",
    "NTYPES = ['e', 't']\n",
    "OP_MAP = ['+', '-', '*', '/']"
   ]
  },
  {
   "cell_type": "markdown",
   "metadata": {},
   "source": [
    "# functions"
   ]
  },
  {
   "cell_type": "code",
   "execution_count": 75,
   "metadata": {},
   "outputs": [],
   "source": [
    "def gen_expr(depth, ntype):\n",
    "\n",
    "    if depth < MAX_DEPTH:\n",
    "        r = random.random()\n",
    "    else:\n",
    "        r = 1\n",
    "\n",
    "    if r > PROB_BRANCH:\n",
    "        if ntype == 'f':\n",
    "            value = random.choice(VALUES)\n",
    "            return value\n",
    "        elif ntype == 't':\n",
    "            return gen_expr(depth + 1, 'f')\n",
    "        elif ntype == 'e':\n",
    "            return gen_expr(depth + 1, 't')\n",
    "\n",
    "    else:\n",
    "        if ntype == 'e':\n",
    "            op = random.choice(OPS_E)\n",
    "            v1, v2 = gen_expr(depth + 2, 'e'), gen_expr(depth + 1, 't')\n",
    "            t = ((v1, OP_MAP[op]), v2)\n",
    "        elif ntype == 't':\n",
    "            op = random.choice(OPS_T)\n",
    "            v1, v2 = gen_expr(depth + 2, 't'), gen_expr(depth + 1, 'f')\n",
    "            t = ((v1, OP_MAP[op]), v2)\n",
    "        else:\n",
    "            t = gen_expr(depth + 1, 'f')\n",
    "\n",
    "    return t"
   ]
  },
  {
   "cell_type": "code",
   "execution_count": 76,
   "metadata": {},
   "outputs": [],
   "source": [
    "def gen_tree():\n",
    "    return gen_expr(0, 'e')"
   ]
  },
  {
   "cell_type": "code",
   "execution_count": 77,
   "metadata": {},
   "outputs": [],
   "source": [
    "def to_value(t):\n",
    "    if not isinstance(t, tuple):\n",
    "        return t\n",
    "\n",
    "    l = t[0]\n",
    "    r = t[1]\n",
    "    v1, op = (to_value(l[0]), l[1])\n",
    "    v2 = to_value(r)\n",
    "\n",
    "    return eval(''.join([str(v1), op, str(v2)]))"
   ]
  },
  {
   "cell_type": "code",
   "execution_count": 78,
   "metadata": {},
   "outputs": [],
   "source": [
    "def to_value_sd(sd_lst, node_lst):\n",
    "    if len(sd_lst) == 0:\n",
    "        node = node_lst[0]\n",
    "        v = node\n",
    "    else:\n",
    "        i = np.argmax(sd_lst)\n",
    "        child_l, v_l = to_value_sd(sd_lst[:i], node_lst[:i+1])\n",
    "        child_r, v_r = to_value_sd(sd_lst[i+1:], node_lst[i+1:])\n",
    "        node = (child_l, child_r)\n",
    "        if isinstance(v_l, tuple) and not isinstance(v_r, tuple):\n",
    "            v1, op = v_l[0], v_l[1]\n",
    "            v2 = v_r\n",
    "            v = str(eval(''.join([v1, op, v2])))\n",
    "        else:\n",
    "            assert not isinstance(v_l, tuple) and not isinstance(v_r, tuple)\n",
    "            v = (v_l, v_r)\n",
    "\n",
    "    return node, v"
   ]
  },
  {
   "cell_type": "code",
   "execution_count": 79,
   "metadata": {},
   "outputs": [],
   "source": [
    "def to_sd(t):\n",
    "    if not isinstance(t, tuple):\n",
    "        d = []\n",
    "        h = 0\n",
    "    else:\n",
    "        l, r = t\n",
    "        d_l, h_l = to_sd(l)\n",
    "        d_r, h_r = to_sd(r)\n",
    "        h = max(h_l, h_r) + 1\n",
    "        d = d_l + [h] + d_r\n",
    "\n",
    "    return d, h\n"
   ]
  },
  {
   "cell_type": "code",
   "execution_count": 80,
   "metadata": {},
   "outputs": [],
   "source": [
    "def to_nlst(t):\n",
    "    return list(filter(lambda x: x not in ['(', ')', ',', '\\'', ' '], str(t)))"
   ]
  },
  {
   "cell_type": "markdown",
   "metadata": {},
   "source": [
    "# check for syntax of trees"
   ]
  },
  {
   "cell_type": "code",
   "execution_count": 45,
   "metadata": {},
   "outputs": [],
   "source": [
    "MAX_DEPTH = 30\n",
    "for _ in range(100000):\n",
    "    expr = gen_expr(0, 'e')\n",
    "    if expr in VALUES:\n",
    "        continue\n",
    "\n",
    "    if expr not in VALUES:\n",
    "        res = list(filter(lambda x: x not in ['(',')', ',', '\\'', ' '], str(expr)))\n",
    "        gold = eval(''.join(res))\n",
    "        calc = to_value(expr)\n",
    "        if gold != calc:\n",
    "            print(expr, calc, gold)"
   ]
  },
  {
   "cell_type": "markdown",
   "metadata": {},
   "source": [
    "# check for syntatic distance"
   ]
  },
  {
   "cell_type": "code",
   "execution_count": 49,
   "metadata": {},
   "outputs": [],
   "source": [
    "MAX_DEPTH = 30\n",
    "for _ in range(100000):\n",
    "    expr = gen_expr(0, 'e')\n",
    "    if expr in VALUES:\n",
    "        continue\n",
    "\n",
    "    if expr not in VALUES:\n",
    "        node_lst = to_nlst(expr)\n",
    "        sd_lst, h = to_sd(expr)\n",
    "        gold = eval(''.join(node_lst))\n",
    "        t, calc = to_value_sd(sd_lst, node_lst)\n",
    "        if str(gold) != calc:\n",
    "            print(expr, calc, gold)"
   ]
  },
  {
   "cell_type": "markdown",
   "metadata": {},
   "source": [
    "# examples"
   ]
  },
  {
   "cell_type": "code",
   "execution_count": 58,
   "metadata": {},
   "outputs": [
    {
     "name": "stdout",
     "output_type": "stream",
     "text": [
      "((((6, '/'), 1), '-'), 2)\n",
      "[1, 2, 3, 4]\n",
      "((((7, '/'), 2), '+'), ((3, '*'), 2))\n",
      "[1, 2, 3, 4, 1, 2]\n"
     ]
    }
   ],
   "source": [
    "MAX_DEPTH = 30\n",
    "for _ in range(5):\n",
    "    expr = gen_tree()\n",
    "    if expr in VALUES:\n",
    "        continue\n",
    "        \n",
    "    sd_lst, h = to_sd(expr)\n",
    "    print(expr)\n",
    "    print(sd_lst)"
   ]
  },
  {
   "cell_type": "code",
   "execution_count": 56,
   "metadata": {},
   "outputs": [
    {
     "name": "stdout",
     "output_type": "stream",
     "text": [
      "((((((6, '*'), 5), '+'), 7), '+'), ((1, '/'), 9))\n",
      "[1, 2, 3, 4, 5, 6, 1, 2]\n",
      "['6', '*', '5', '+', '7', '+', '1', '/', '9']\n",
      "(((((('6', '*'), '5'), '+'), '7'), '+'), (('1', '/'), '9'))\n",
      "37.111111111111114\n"
     ]
    }
   ],
   "source": [
    "expr = ((((((6, '*'), 5), '+'), 7), '+'), ((1, '/'), 9))\n",
    "print(expr)\n",
    "sd_lst, _ = to_sd(expr)\n",
    "print(sd_lst)\n",
    "node_lst = to_nlst(expr)\n",
    "print(node_lst)\n",
    "node, val = to_value_sd(sd_lst, node_lst)\n",
    "print(node)\n",
    "print(val)"
   ]
  },
  {
   "cell_type": "markdown",
   "metadata": {},
   "source": [
    "# generate dataset"
   ]
  },
  {
   "cell_type": "code",
   "execution_count": 289,
   "metadata": {},
   "outputs": [],
   "source": [
    "from collections import defaultdict\n",
    "\n",
    "MAX_DEPTH = 30\n",
    "PROB_BRANCH = 0.6\n",
    "NSAMPLES = 100000\n",
    "# NSAMPLES = 1000\n",
    "prob_h = (1/np.array(range(2, MAX_DEPTH+1)) )**(1.5)\n",
    "prob_h = prob_h / prob_h.sum()\n",
    "nsamples_bound = {h:int(prob_h[h-2]*NSAMPLES) for h in range(2, MAX_DEPTH+1)}\n",
    "nsamples = defaultdict(int)"
   ]
  },
  {
   "cell_type": "code",
   "execution_count": 290,
   "metadata": {},
   "outputs": [
    {
     "name": "stdout",
     "output_type": "stream",
     "text": [
      "finished: 10\n",
      "finished: 12\n",
      "finished: 8\n",
      "finished: 14\n",
      "finished: 15\n",
      "finished: 13\n",
      "finished: 6\n",
      "finished: 11\n",
      "finished: 17\n",
      "finished: 16\n",
      "finished: 9\n",
      "finished: 19\n",
      "finished: 18\n",
      "finished: 4\n",
      "finished: 21\n",
      "finished: 7\n",
      "finished: 20\n",
      "finished: 23\n",
      "finished: 22\n",
      "finished: 25\n",
      "finished: 24\n",
      "finished: 30\n",
      "finished: 5\n",
      "finished: 27\n",
      "finished: 2\n",
      "finished: 26\n",
      "finished: 29\n",
      "finished: 28\n"
     ]
    }
   ],
   "source": [
    "examples = []\n",
    "printed = {h:False for h in range(2, MAX_DEPTH+1)}\n",
    "i = 0\n",
    "while True:\n",
    "    finished = True\n",
    "    for h in range(2, MAX_DEPTH+1):\n",
    "        if nsamples[h] < nsamples_bound[h]:\n",
    "            finished = False\n",
    "    if finished:\n",
    "        break\n",
    "    \n",
    "    t = gen_tree()\n",
    "    if t in VALUES:\n",
    "        continue\n",
    "    nodes = to_nlst(t)\n",
    "    nodes = ' '.join(nodes)\n",
    "    sd_lst, h = to_sd(t)\n",
    "    if h > MAX_DEPTH:\n",
    "        continue\n",
    "    if nsamples[h] >= nsamples_bound[h]:\n",
    "        if not printed[h]:\n",
    "            print('finished:', h)\n",
    "            printed[h] = True\n",
    "        continue\n",
    "    else:\n",
    "        nsamples[h] += 1\n",
    "    \n",
    "    sd_lst = ' '.join([str(sd) for sd in sd_lst])\n",
    "    examples.append((nodes, sd_lst, str(h)))\n",
    "    i += 1\n",
    "\n",
    "    if i >= NSAMPLES:\n",
    "        break"
   ]
  },
  {
   "cell_type": "code",
   "execution_count": 291,
   "metadata": {},
   "outputs": [
    {
     "data": {
      "image/png": "[encoded data removed]",
      "text/plain": [
       "<Figure size 432x288 with 1 Axes>"
      ]
     },
     "metadata": {},
     "output_type": "display_data"
    }
   ],
   "source": [
    "depths = [int(example[-1]) for example in examples]\n",
    "plt.hist(depths, bins=30, range=(0, MAX_DEPTH+1))\n",
    "plt.show()"
   ]
  },
  {
   "cell_type": "code",
   "execution_count": 292,
   "metadata": {},
   "outputs": [
    {
     "data": {
      "text/plain": [
       "defaultdict(int,\n",
       "            {2: 28278,\n",
       "             3: 15392,\n",
       "             4: 9998,\n",
       "             5: 7154,\n",
       "             6: 5442,\n",
       "             7: 4318,\n",
       "             8: 3534,\n",
       "             9: 2962,\n",
       "             10: 2529,\n",
       "             11: 2192,\n",
       "             12: 1924,\n",
       "             13: 1706,\n",
       "             14: 1526,\n",
       "             15: 1376,\n",
       "             16: 1249,\n",
       "             17: 1141,\n",
       "             18: 1047,\n",
       "             19: 965,\n",
       "             20: 894,\n",
       "             21: 831,\n",
       "             22: 775,\n",
       "             23: 725,\n",
       "             24: 680,\n",
       "             25: 639,\n",
       "             26: 603,\n",
       "             27: 570,\n",
       "             28: 539,\n",
       "             29: 512,\n",
       "             30: 486})"
      ]
     },
     "execution_count": 292,
     "metadata": {},
     "output_type": "execute_result"
    }
   ],
   "source": [
    "nsamples"
   ]
  },
  {
   "cell_type": "code",
   "execution_count": 293,
   "metadata": {},
   "outputs": [],
   "source": [
    "import random\n",
    "random.shuffle(examples)\n",
    "ntrain = int(0.8 * NSAMPLES)\n",
    "nvalid = int(0.1 * NSAMPLES)\n",
    "ntest = int(0.1 * NSAMPLES)\n",
    "train = examples[:ntrain]\n",
    "valid = examples[ntrain: ntrain+nvalid]\n",
    "test = examples[ntrain+nvalid:]"
   ]
  },
  {
   "cell_type": "code",
   "execution_count": 294,
   "metadata": {},
   "outputs": [],
   "source": [
    "for dataset, dataset_type in zip([train, valid, test], ['train', 'valid', 'test']):\n",
    "    with open('%s_d%d.tsv' % (dataset_type, MAX_DEPTH), 'w') as f:\n",
    "        for line in dataset:\n",
    "            f.write('\\t'.join(line))\n",
    "            f.write('\\n')"
   ]
  },
  {
   "cell_type": "markdown",
   "metadata": {},
   "source": [
    "# distribution of sequence length"
   ]
  },
  {
   "cell_type": "code",
   "execution_count": 297,
   "metadata": {},
   "outputs": [],
   "source": [
    "seq_len = []\n",
    "for (seq, _, _) in examples:\n",
    "    seq_len.append(len(seq.split()))"
   ]
  },
  {
   "cell_type": "code",
   "execution_count": 298,
   "metadata": {},
   "outputs": [],
   "source": [
    "seq, _, _ = examples[0]"
   ]
  },
  {
   "cell_type": "code",
   "execution_count": 299,
   "metadata": {},
   "outputs": [
    {
     "data": {
      "text/plain": [
       "5"
      ]
     },
     "execution_count": 299,
     "metadata": {},
     "output_type": "execute_result"
    }
   ],
   "source": [
    "len(seq.split())"
   ]
  },
  {
   "cell_type": "code",
   "execution_count": 300,
   "metadata": {},
   "outputs": [
    {
     "data": {
      "text/plain": [
       "'6 * 6 * 7'"
      ]
     },
     "execution_count": 300,
     "metadata": {},
     "output_type": "execute_result"
    }
   ],
   "source": [
    "seq"
   ]
  },
  {
   "cell_type": "code",
   "execution_count": 302,
   "metadata": {},
   "outputs": [
    {
     "data": {
      "image/png": "[encoded data removed]",
      "text/plain": [
       "<Figure size 432x288 with 1 Axes>"
      ]
     },
     "metadata": {},
     "output_type": "display_data"
    }
   ],
   "source": [
    "plt.hist(seq_len, bins=max(seq_len), range=(0, max(seq_len)))\n",
    "plt.show()"
   ]
  },
  {
   "cell_type": "markdown",
   "metadata": {},
   "source": [
    "# similarity between samples under each depth"
   ]
  },
  {
   "cell_type": "code",
   "execution_count": 1,
   "metadata": {},
   "outputs": [],
   "source": [
    "examples = {}\n",
    "with open('test_d30.tsv','r') as f:\n",
    "    for line in f:\n",
    "        expr, ds, h = line.strip().split('\\t')\n",
    "        h = int(h)\n",
    "        if h not in examples:\n",
    "            examples[h] = []\n",
    "        examples[h].append((expr, ds))"
   ]
  },
  {
   "cell_type": "code",
   "execution_count": 90,
   "metadata": {},
   "outputs": [
    {
     "name": "stdout",
     "output_type": "stream",
     "text": [
      "2\n"
     ]
    }
   ],
   "source": [
    "def ed(s1, s2):\n",
    "    m=len(s1)+1\n",
    "    n=len(s2)+1\n",
    "\n",
    "    tbl = {}\n",
    "    for i in range(m): tbl[i,0]=i\n",
    "    for j in range(n): tbl[0,j]=j\n",
    "    for i in range(1, m):\n",
    "        for j in range(1, n):\n",
    "            cost = 0 if s1[i-1] == s2[j-1] else 1\n",
    "            tbl[i,j] = min(tbl[i, j-1]+1, tbl[i-1, j]+1, tbl[i-1, j-1]+cost)\n",
    "\n",
    "    return tbl[i,j]\n",
    "\n",
    "print(ed(\"Helloworld\", \"HalloWorld\"))"
   ]
  },
  {
   "cell_type": "code",
   "execution_count": 3,
   "metadata": {},
   "outputs": [
    {
     "name": "stdout",
     "output_type": "stream",
     "text": [
      "1 2 3 4 5 6 7 8 9 10 11 12 1 2 3 4 5 6 7 8 13 14 15 16 17 18 1 2 19 20 1 2 3 4 5 6 21 22 23 24 25 26 1 2 3 4 5 6 27 28 29 30\n",
      "1 2 3 4 5 6 7 8 9 10 11 12 13 14 15 16 17 18 19 20 1 2 3 4 21 22 1 2 3 4 5 6 7 8 9 10 11 12 13 14 15 16 17 18 19 20 23 24 1 2 3 4 5 6 7 8 9 10 25 26 27 28 1 2 3 4 29 30 1 2\n",
      "34\n"
     ]
    }
   ],
   "source": [
    "h_30 = examples[30]\n",
    "ds1 = h_30[0][1]\n",
    "ds2 = h_30[1][1]\n",
    "print(ds1)\n",
    "print(ds2)\n",
    "print(ed(ds1.split(), ds2.split()))"
   ]
  },
  {
   "cell_type": "code",
   "execution_count": 39,
   "metadata": {},
   "outputs": [],
   "source": [
    "import random\n",
    "import numpy as np\n",
    "import matplotlib.pyplot as plt"
   ]
  },
  {
   "cell_type": "code",
   "execution_count": 41,
   "metadata": {},
   "outputs": [],
   "source": [
    "def expected_ed(samples, nsampling=1000):\n",
    "    res = []\n",
    "    lens = []\n",
    "    for _ in range(nsampling):\n",
    "        e1 = random.choice(samples)\n",
    "        e2 = random.choice(samples)\n",
    "        edis = ed(e1[1].split(), e2[1].split())\n",
    "        res.append(edis)\n",
    "        l1 = len(e1[1].split())\n",
    "        l2 = len(e2[1].split())\n",
    "        l_mean = np.mean([l1, l2])\n",
    "        lens.append(l_mean)\n",
    "        \n",
    "    return np.mean(res)/np.mean(lens)"
   ]
  },
  {
   "cell_type": "code",
   "execution_count": 52,
   "metadata": {},
   "outputs": [],
   "source": [
    "hs = []\n",
    "expected_eds = []\n",
    "for h in sorted(examples.keys()):\n",
    "    hs.append(h)\n",
    "    expected_eds.append(expected_ed(examples[h]))"
   ]
  },
  {
   "cell_type": "code",
   "execution_count": 93,
   "metadata": {},
   "outputs": [],
   "source": [
    "def draw(x, y):\n",
    "    plt.plot(x, y, 'ro-', label='ed/len')\n",
    "    plt.legend()\n",
    "    plt.grid()\n",
    "    plt.grid(color='b' , linewidth=0.1 ,linestyle='--')"
   ]
  },
  {
   "cell_type": "code",
   "execution_count": 53,
   "metadata": {},
   "outputs": [
    {
     "data": {
      "image/png": "[encoded data removed]",
      "text/plain": [
       "<Figure size 432x288 with 1 Axes>"
      ]
     },
     "metadata": {},
     "output_type": "display_data"
    }
   ],
   "source": [
    "draw(hs, expected_eds)"
   ]
  },
  {
   "cell_type": "markdown",
   "metadata": {},
   "source": [
    "# re-generate dataset"
   ]
  },
  {
   "cell_type": "code",
   "execution_count": 77,
   "metadata": {},
   "outputs": [],
   "source": [
    "from collections import defaultdict\n",
    "\n",
    "MAX_DEPTH = 30\n",
    "PROB_BRANCH = 0.6\n",
    "NSAMPLES = 100000\n",
    "# NSAMPLES = 1000\n",
    "hs = list(range(2, 11)) + list(range(11, 30, 2))\n",
    "h2i = {h:i for i, h in enumerate(hs)}\n",
    "# i2h = dict(list({i:h for i, h in zip(range(11), range(2, 11))}.items()) +\\\n",
    "#     list({i+10:h for i, h in zip(range(10), range(11, 30, 2))}.items()))"
   ]
  },
  {
   "cell_type": "code",
   "execution_count": 78,
   "metadata": {},
   "outputs": [
    {
     "data": {
      "text/plain": [
       "{2: 0,\n",
       " 3: 1,\n",
       " 4: 2,\n",
       " 5: 3,\n",
       " 6: 4,\n",
       " 7: 5,\n",
       " 8: 6,\n",
       " 9: 7,\n",
       " 10: 8,\n",
       " 11: 9,\n",
       " 13: 10,\n",
       " 15: 11,\n",
       " 17: 12,\n",
       " 19: 13,\n",
       " 21: 14,\n",
       " 23: 15,\n",
       " 25: 16,\n",
       " 27: 17,\n",
       " 29: 18}"
      ]
     },
     "execution_count": 78,
     "metadata": {},
     "output_type": "execute_result"
    }
   ],
   "source": [
    "h2i"
   ]
  },
  {
   "cell_type": "code",
   "execution_count": 103,
   "metadata": {},
   "outputs": [],
   "source": [
    "prob_h = ((1/np.array(hs))**(1))\n",
    "prob_h = prob_h / prob_h.sum()\n",
    "nsamples_bound = {h:int(prob_h[h2i[h]]*NSAMPLES) for h in hs}\n",
    "nsamples = defaultdict(int)"
   ]
  },
  {
   "cell_type": "code",
   "execution_count": 104,
   "metadata": {},
   "outputs": [
    {
     "data": {
      "text/plain": [
       "{2: 20181,\n",
       " 3: 13454,\n",
       " 4: 10090,\n",
       " 5: 8072,\n",
       " 6: 6727,\n",
       " 7: 5766,\n",
       " 8: 5045,\n",
       " 9: 4484,\n",
       " 10: 4036,\n",
       " 11: 3669,\n",
       " 13: 3104,\n",
       " 15: 2690,\n",
       " 17: 2374,\n",
       " 19: 2124,\n",
       " 21: 1922,\n",
       " 23: 1754,\n",
       " 25: 1614,\n",
       " 27: 1494,\n",
       " 29: 1391}"
      ]
     },
     "execution_count": 104,
     "metadata": {},
     "output_type": "execute_result"
    }
   ],
   "source": [
    "nsamples_bound"
   ]
  },
  {
   "cell_type": "code",
   "execution_count": 105,
   "metadata": {},
   "outputs": [
    {
     "name": "stdout",
     "output_type": "stream",
     "text": [
      "finished: 8\n",
      "finished: 6\n",
      "finished: 10\n",
      "finished: 4\n",
      "finished: 11\n",
      "finished: 13\n",
      "finished: 9\n",
      "finished: 15\n",
      "finished: 17\n",
      "finished: 7\n",
      "finished: 2\n",
      "finished: 19\n",
      "finished: 21\n",
      "finished: 5\n",
      "finished: 23\n",
      "finished: 25\n",
      "finished: 27\n",
      "finished: 3\n"
     ]
    }
   ],
   "source": [
    "examples = []\n",
    "printed = {h:False for h in hs}\n",
    "i = 0\n",
    "while True:\n",
    "    finished = True\n",
    "    for h in hs:\n",
    "        if nsamples[h] < nsamples_bound[h]:\n",
    "            finished = False\n",
    "    if finished:\n",
    "        break\n",
    "    \n",
    "    t = gen_tree()\n",
    "    if t in VALUES:\n",
    "        continue\n",
    "    nodes = to_nlst(t)\n",
    "    nodes = ' '.join(nodes)\n",
    "    sd_lst, h = to_sd(t)\n",
    "    if h not in hs:\n",
    "        continue\n",
    "    if nsamples[h] >= nsamples_bound[h]:\n",
    "        if not printed[h]:\n",
    "            print('finished:', h)\n",
    "            printed[h] = True\n",
    "        continue\n",
    "    else:\n",
    "        nsamples[h] += 1\n",
    "    \n",
    "    sd_lst = ' '.join([str(sd) for sd in sd_lst])\n",
    "    examples.append((nodes, sd_lst, str(h)))\n",
    "    i += 1\n",
    "\n",
    "    if i >= NSAMPLES:\n",
    "        break"
   ]
  },
  {
   "cell_type": "code",
   "execution_count": 106,
   "metadata": {},
   "outputs": [
    {
     "data": {
      "image/png": "[encoded data removed]",
      "text/plain": [
       "<Figure size 432x288 with 1 Axes>"
      ]
     },
     "metadata": {},
     "output_type": "display_data"
    }
   ],
   "source": [
    "depths = [int(example[-1]) for example in examples]\n",
    "plt.hist(depths, bins=30, range=(0, MAX_DEPTH+1))\n",
    "plt.show()"
   ]
  },
  {
   "cell_type": "code",
   "execution_count": 88,
   "metadata": {},
   "outputs": [],
   "source": [
    "def expected_ed(samples, nsampling=1000):\n",
    "    res = []\n",
    "    lens = []\n",
    "    for _ in range(nsampling):\n",
    "        e1 = random.choice(samples)\n",
    "        e2 = random.choice(samples)\n",
    "        edis = ed(e1[1].split(), e2[1].split())\n",
    "        res.append(edis)\n",
    "        l1 = len(e1[1].split())\n",
    "        l2 = len(e2[1].split())\n",
    "        l_mean = np.mean([l1, l2])\n",
    "        lens.append(l_mean)\n",
    "        \n",
    "    return np.mean(res)/np.mean(lens)"
   ]
  },
  {
   "cell_type": "code",
   "execution_count": 111,
   "metadata": {},
   "outputs": [],
   "source": [
    "examples = {}\n",
    "with open('test_d30.tsv','r') as f:\n",
    "    for line in f:\n",
    "        expr, ds, h = line.strip().split('\\t')\n",
    "        h = int(h)\n",
    "        if h not in examples:\n",
    "            examples[h] = []\n",
    "        examples[h].append((expr, ds))\n",
    "hs = []\n",
    "expected_eds = []\n",
    "for h in sorted(examples.keys()):\n",
    "    hs.append(h)\n",
    "    expected_eds.append(expected_ed(examples[h]))"
   ]
  },
  {
   "cell_type": "code",
   "execution_count": 112,
   "metadata": {},
   "outputs": [
    {
     "data": {
      "image/png": "[encoded data removed]",
      "text/plain": [
       "<Figure size 432x288 with 1 Axes>"
      ]
     },
     "metadata": {},
     "output_type": "display_data"
    }
   ],
   "source": [
    "draw(hs, expected_eds)"
   ]
  },
  {
   "cell_type": "code",
   "execution_count": 114,
   "metadata": {},
   "outputs": [
    {
     "data": {
      "text/plain": [
       "[2, 3, 4, 5, 6, 7, 8, 9, 10, 11, 13, 15, 17, 19, 21, 23, 25, 27, 29]"
      ]
     },
     "execution_count": 114,
     "metadata": {},
     "output_type": "execute_result"
    }
   ],
   "source": [
    "hs"
   ]
  },
  {
   "cell_type": "code",
   "execution_count": 115,
   "metadata": {},
   "outputs": [
    {
     "data": {
      "text/plain": [
       "0.4925398344687799"
      ]
     },
     "execution_count": 115,
     "metadata": {},
     "output_type": "execute_result"
    }
   ],
   "source": [
    "expected_ed(examples[11])"
   ]
  },
  {
   "cell_type": "code",
   "execution_count": 116,
   "metadata": {},
   "outputs": [
    {
     "data": {
      "text/plain": [
       "0.35334139703658907"
      ]
     },
     "execution_count": 116,
     "metadata": {},
     "output_type": "execute_result"
    }
   ],
   "source": [
    "expected_ed(examples[10])"
   ]
  },
  {
   "cell_type": "code",
   "execution_count": 121,
   "metadata": {},
   "outputs": [
    {
     "name": "stdout",
     "output_type": "stream",
     "text": [
      "1 7 1 2 3 4 5 6 8 9 10 11\n",
      "1 2 3 4 5 6 7 9 1 2 3 4 5 6 7 8 10 11\n",
      "1 2 3 4 5 6 7 9 1 2 3 4 5 6 7 8 10 11 1 2\n",
      "1 9 1 2 3 4 5 6 7 8 10 11 1 2 3 4\n",
      "1 2 3 7 1 2 3 4 5 6 8 9 10 11 1 2\n",
      "1 9 1 2 3 4 5 6 7 8 10 11\n",
      "1 2 3 11 1 2 3 4 5 6 7 8 9 10\n",
      "1 2 3 4 5 6 7 8 1 2 3 4 5 6 9 11 1 2 3 4 5 6 7 8 9 10\n",
      "1 2 3 4 5 11 1 2 3 4 5 6 7 8 9 10\n",
      "1 2 3 4 5 9 1 2 3 4 5 6 7 8 10 11\n",
      "1 2 3 7 1 2 3 4 5 6 8 9 10 11\n",
      "1 5 1 2 3 4 6 7 8 9 10 11 1 2 3 4\n",
      "1 2 3 9 1 2 3 4 5 6 7 8 10 11 1 2 3 4 5 6 7 8 9 10\n",
      "1 7 1 2 3 4 5 6 8 9 10 11\n",
      "1 5 1 2 3 4 6 7 8 9 10 11 1 2\n",
      "1 2 3 9 1 2 3 4 5 6 7 8 10 11 1 2\n",
      "1 7 1 2 3 4 5 6 8 9 1 2 10 11\n",
      "1 2 3 9 1 2 3 4 5 6 7 8 10 11 1 2 3 4\n",
      "1 2 3 4 5 6 7 8 1 2 3 4 9 11 1 2 3 4 5 6 7 8 9 10\n",
      "1 3 1 2 4 5 1 2 6 7 1 2 8 9 10 11 1 2\n",
      "1 2 3 4 1 2 5 6 1 2 3 4 7 8 1 2 9 11 1 2 3 4 5 6 7 8 9 10\n",
      "1 2 3 4 5 7 1 2 3 4 5 6 8 9 10 11\n",
      "1 2 3 4 5 9 1 2 3 4 5 6 7 8 10 11 1 2 3 4 5 6 7 8\n",
      "1 2 3 11 1 2 3 4 5 6 7 8 9 10\n",
      "1 11 1 2 3 4 5 6 7 8 9 10\n",
      "1 2 3 9 1 2 3 4 5 6 7 8 10 11\n",
      "1 2 3 9 1 2 3 4 5 6 7 8 10 11\n",
      "1 11 1 2 3 4 5 6 7 8 9 10\n",
      "1 2 3 4 5 11 1 2 3 4 5 6 7 8 9 10\n",
      "1 2 3 7 1 2 3 4 5 6 8 9 1 2 3 4 5 6 7 8 10 11 1 2\n",
      "1 2 3 11 1 2 3 4 5 6 7 8 9 10\n",
      "1 2 3 4 5 11 1 2 3 4 5 6 7 8 9 10\n",
      "1 11 1 2 3 4 5 6 7 8 9 10\n",
      "1 2 3 11 1 2 3 4 5 6 7 8 9 10\n",
      "1 11 1 2 3 4 5 6 7 8 9 10\n",
      "1 2 3 7 1 2 3 4 5 6 8 9 10 11\n",
      "1 2 3 11 1 2 3 4 5 6 7 8 9 10\n",
      "1 11 1 2 3 4 5 6 7 8 9 10\n",
      "1 2 3 4 5 6 7 11 1 2 3 4 5 6 7 8 9 10\n",
      "1 5 1 2 3 4 6 7 8 9 10 11 1 2 3 4 5 6\n",
      "1 2 3 4 5 9 1 2 3 4 5 6 7 8 10 11\n",
      "1 2 3 4 5 7 1 2 3 4 5 6 8 9 1 2 3 4 10 11\n",
      "1 2 3 4 5 6 7 11 1 2 3 4 5 6 7 8 9 10\n",
      "1 11 1 2 3 4 5 6 7 8 9 10\n",
      "1 5 1 2 3 4 6 7 1 2 3 4 5 6 8 9 1 2 3 4 10 11\n",
      "1 2 3 7 1 2 3 4 5 6 8 11 1 2 3 4 5 6 7 8 9 10\n",
      "1 2 3 4 5 11 1 2 3 4 5 6 7 8 9 10\n",
      "1 2 3 4 5 9 1 2 3 4 5 6 7 8 10 11\n",
      "1 5 1 2 3 4 6 7 8 9 10 11 1 2 3 4 5 6 7 8\n",
      "1 7 1 2 3 4 5 6 8 9 1 2 10 11 1 2\n",
      "1 7 1 2 3 4 5 6 8 9 1 2 3 4 5 6 10 11 1 2\n",
      "1 3 1 2 4 11 1 2 3 4 5 6 7 8 9 10\n",
      "1 2 3 5 1 2 3 4 6 9 1 2 3 4 5 6 7 8 10 11 1 2 3 4\n",
      "1 3 1 2 4 9 1 2 3 4 5 6 7 8 10 11 1 2 3 4 5 6 7 8 9 10\n",
      "1 9 1 2 3 4 5 6 7 8 10 11 1 2 3 4 5 6 7 8\n",
      "1 9 1 2 3 4 5 6 7 8 10 11\n",
      "1 2 3 11 1 2 3 4 5 6 7 8 9 10\n",
      "1 9 1 2 3 4 5 6 7 8 10 11 1 2 3 4 5 6 7 8\n",
      "1 2 3 4 5 6 7 11 1 2 3 4 5 6 7 8 9 10\n",
      "1 3 1 2 4 5 6 7 8 9 1 2 10 11 1 2 3 4 5 6 7 8\n",
      "1 2 3 4 5 6 1 2 7 8 1 2 3 4 9 11 1 2 3 4 5 6 7 8 9 10\n",
      "1 2 3 9 1 2 3 4 5 6 7 8 10 11\n",
      "1 3 1 2 4 5 1 2 6 7 1 2 8 9 10 11\n",
      "1 3 1 2 4 5 1 2 6 7 8 9 10 11\n",
      "1 2 3 5 1 2 3 4 6 7 8 9 10 11 1 2\n",
      "1 2 3 11 1 2 3 4 5 6 7 8 9 10\n",
      "1 2 3 5 1 2 3 4 6 7 1 2 3 4 5 6 8 9 10 11 1 2 3 4\n",
      "1 2 3 7 1 2 3 4 5 6 8 9 10 11\n",
      "1 2 3 9 1 2 3 4 5 6 7 8 10 11\n",
      "1 5 1 2 3 4 6 7 1 2 8 9 1 2 10 11 1 2 3 4\n",
      "1 9 1 2 3 4 5 6 7 8 10 11 1 2\n",
      "1 2 3 5 1 2 3 4 6 7 1 2 3 4 8 9 1 2 10 11 1 2 3 4\n",
      "1 5 1 2 3 4 6 7 1 2 3 4 8 9 1 2 3 4 10 11 1 2 3 4 5 6 7 8\n",
      "1 2 3 7 1 2 3 4 5 6 8 9 1 2 3 4 10 11\n",
      "1 3 1 2 4 5 1 2 3 4 6 7 8 11 1 2 3 4 5 6 7 8 9 10\n",
      "1 3 1 2 4 5 6 7 1 2 8 9 10 11\n",
      "1 7 1 2 3 4 5 6 8 9 1 2 3 4 5 6 10 11 1 2\n",
      "1 2 3 4 5 6 7 11 1 2 3 4 5 6 7 8 9 10\n",
      "1 2 3 7 1 2 3 4 5 6 8 9 1 2 10 11 1 2 3 4 5 6\n",
      "1 2 3 9 1 2 3 4 5 6 7 8 10 11 1 2\n",
      "1 2 3 4 5 11 1 2 3 4 5 6 7 8 9 10\n",
      "1 2 3 11 1 2 3 4 5 6 7 8 9 10\n",
      "1 2 3 9 1 2 3 4 5 6 7 8 10 11 1 2\n",
      "1 2 3 9 1 2 3 4 5 6 7 8 10 11 1 2 3 4 5 6\n",
      "1 2 3 4 5 7 1 2 3 4 5 6 8 9 10 11\n",
      "1 2 3 4 5 6 1 2 3 4 7 9 1 2 3 4 5 6 7 8 10 11 1 2\n",
      "1 2 3 7 1 2 3 4 5 6 8 9 1 2 10 11 1 2\n",
      "1 7 1 2 3 4 5 6 8 9 1 2 3 4 5 6 7 8 10 11\n",
      "1 2 3 4 5 6 1 2 7 11 1 2 3 4 5 6 7 8 9 10\n",
      "1 2 3 4 5 6 7 11 1 2 3 4 5 6 7 8 9 10\n",
      "1 2 3 4 5 7 1 2 3 4 5 6 8 9 10 11 1 2 3 4 5 6\n",
      "1 2 3 4 5 7 1 2 3 4 5 6 8 9 1 2 10 11 1 2\n",
      "1 5 1 2 3 4 6 7 1 2 8 9 10 11 1 2\n",
      "1 7 1 2 3 4 5 6 8 9 1 2 10 11 1 2 3 4\n",
      "1 2 3 4 5 6 1 2 3 4 7 8 1 2 9 11 1 2 3 4 5 6 7 8 9 10\n",
      "1 2 3 4 5 7 1 2 3 4 5 6 8 9 1 2 10 11 1 2\n",
      "1 11 1 2 3 4 5 6 7 8 9 10\n",
      "1 2 3 4 5 6 7 11 1 2 3 4 5 6 7 8 9 10\n",
      "1 2 3 5 1 2 3 4 6 7 1 2 3 4 5 6 8 9 1 2 3 4 10 11 1 2 3 4 5 6 7 8\n",
      "1 3 1 2 4 5 6 7 8 9 1 2 10 11 1 2 3 4 5 6 7 8 9 10\n",
      "1 9 1 2 3 4 5 6 7 8 10 11 1 2\n",
      "1 2 3 4 1 2 5 6 7 11 1 2 3 4 5 6 7 8 9 10\n",
      "1 2 3 4 5 6 7 9 1 2 3 4 5 6 7 8 10 11\n",
      "1 2 3 7 1 2 3 4 5 6 8 9 1 2 10 11 1 2 3 4 5 6 7 8 9 10\n",
      "1 9 1 2 3 4 5 6 7 8 10 11 1 2\n",
      "1 2 3 11 1 2 3 4 5 6 7 8 9 10\n",
      "1 2 3 9 1 2 3 4 5 6 7 8 10 11 1 2 3 4\n",
      "1 2 3 4 5 6 7 9 1 2 3 4 5 6 7 8 10 11\n",
      "1 2 3 4 5 6 7 8 9 11 1 2 3 4 5 6 7 8 9 10\n",
      "1 7 1 2 3 4 5 6 8 9 10 11 1 2\n",
      "1 2 3 4 5 9 1 2 3 4 5 6 7 8 10 11 1 2 3 4 5 6 7 8\n",
      "1 5 1 2 3 4 6 7 1 2 3 4 8 9 1 2 3 4 5 6 7 8 10 11 1 2\n",
      "1 2 3 5 1 2 3 4 6 7 8 9 1 2 3 4 5 6 10 11\n",
      "1 7 1 2 3 4 5 6 8 9 10 11 1 2\n",
      "1 2 3 4 5 6 1 2 3 4 7 11 1 2 3 4 5 6 7 8 9 10\n",
      "1 2 3 7 1 2 3 4 5 6 8 9 10 11 1 2\n",
      "1 9 1 2 3 4 5 6 7 8 10 11\n",
      "1 2 3 5 1 2 3 4 6 7 1 2 8 9 10 11 1 2 3 4 5 6 7 8\n",
      "1 2 3 9 1 2 3 4 5 6 7 8 10 11\n",
      "1 2 3 4 1 2 5 7 1 2 3 4 5 6 8 9 1 2 3 4 5 6 10 11 1 2 3 4 5 6\n",
      "1 2 3 11 1 2 3 4 5 6 7 8 9 10\n",
      "1 2 3 4 5 7 1 2 3 4 5 6 8 9 10 11 1 2 3 4\n",
      "1 2 3 4 1 2 5 11 1 2 3 4 5 6 7 8 9 10\n",
      "1 2 3 4 5 9 1 2 3 4 5 6 7 8 10 11\n",
      "1 3 1 2 4 7 1 2 3 4 5 6 8 9 1 2 10 11\n",
      "1 2 3 4 1 2 5 9 1 2 3 4 5 6 7 8 10 11 1 2 3 4\n",
      "1 2 3 5 1 2 3 4 6 7 1 2 8 9 1 2 10 11 1 2 3 4\n",
      "1 2 3 9 1 2 3 4 5 6 7 8 10 11 1 2\n",
      "1 2 3 5 1 2 3 4 6 7 8 9 1 2 10 11\n",
      "1 11 1 2 3 4 5 6 7 8 9 10\n",
      "1 9 1 2 3 4 5 6 7 8 10 11\n",
      "1 3 1 2 4 5 6 11 1 2 3 4 5 6 7 8 9 10\n",
      "1 2 3 11 1 2 3 4 5 6 7 8 9 10\n",
      "1 2 3 4 5 7 1 2 3 4 5 6 8 9 10 11\n",
      "1 11 1 2 3 4 5 6 7 8 9 10\n",
      "1 7 1 2 3 4 5 6 8 9 1 2 3 4 10 11 1 2 3 4 5 6\n",
      "1 2 3 4 5 7 1 2 3 4 5 6 8 9 10 11 1 2 3 4 5 6\n",
      "1 11 1 2 3 4 5 6 7 8 9 10\n",
      "1 5 1 2 3 4 6 7 1 2 8 9 1 2 3 4 10 11\n",
      "1 2 3 9 1 2 3 4 5 6 7 8 10 11 1 2 3 4\n",
      "1 11 1 2 3 4 5 6 7 8 9 10\n",
      "1 2 3 11 1 2 3 4 5 6 7 8 9 10\n",
      "1 2 3 4 1 2 5 6 7 9 1 2 3 4 5 6 7 8 10 11 1 2 3 4 5 6\n",
      "1 2 3 11 1 2 3 4 5 6 7 8 9 10\n",
      "1 5 1 2 3 4 6 7 1 2 8 9 1 2 10 11 1 2 3 4 5 6\n",
      "1 9 1 2 3 4 5 6 7 8 10 11\n",
      "1 11 1 2 3 4 5 6 7 8 9 10\n",
      "1 5 1 2 3 4 6 7 1 2 8 9 1 2 10 11 1 2\n",
      "1 3 1 2 4 7 1 2 3 4 5 6 8 9 1 2 3 4 5 6 7 8 10 11\n",
      "1 3 1 2 4 7 1 2 3 4 5 6 8 9 1 2 10 11 1 2\n",
      "1 2 3 7 1 2 3 4 5 6 8 9 1 2 3 4 10 11\n",
      "1 2 3 4 5 9 1 2 3 4 5 6 7 8 10 11 1 2\n",
      "1 2 3 4 5 6 1 2 3 4 7 9 1 2 3 4 5 6 7 8 10 11 1 2 3 4\n",
      "1 2 3 5 1 2 3 4 6 7 1 2 8 9 1 2 3 4 10 11\n",
      "1 5 1 2 3 4 6 11 1 2 3 4 5 6 7 8 9 10\n",
      "1 5 1 2 3 4 6 7 8 9 1 2 3 4 10 11\n",
      "1 2 3 5 1 2 3 4 6 7 1 2 8 9 10 11 1 2 3 4 5 6\n",
      "1 2 3 5 1 2 3 4 6 11 1 2 3 4 5 6 7 8 9 10\n",
      "1 2 3 11 1 2 3 4 5 6 7 8 9 10\n",
      "1 2 3 4 5 11 1 2 3 4 5 6 7 8 9 10\n",
      "1 5 1 2 3 4 6 7 1 2 8 9 10 11\n",
      "1 9 1 2 3 4 5 6 7 8 10 11\n",
      "1 2 3 5 1 2 3 4 6 7 1 2 8 9 10 11\n",
      "1 2 3 11 1 2 3 4 5 6 7 8 9 10\n",
      "1 3 1 2 4 7 1 2 3 4 5 6 8 9 1 2 3 4 10 11\n",
      "1 3 1 2 4 5 1 2 6 7 1 2 3 4 5 6 8 9 1 2 3 4 5 6 10 11 1 2\n",
      "1 2 3 4 5 6 7 11 1 2 3 4 5 6 7 8 9 10\n",
      "1 2 3 4 5 7 1 2 3 4 5 6 8 9 10 11 1 2\n",
      "1 2 3 4 5 6 7 11 1 2 3 4 5 6 7 8 9 10\n",
      "1 2 3 4 5 6 1 2 7 11 1 2 3 4 5 6 7 8 9 10\n",
      "1 11 1 2 3 4 5 6 7 8 9 10\n",
      "1 2 3 4 5 9 1 2 3 4 5 6 7 8 10 11 1 2\n",
      "1 2 3 11 1 2 3 4 5 6 7 8 9 10\n",
      "1 2 3 7 1 2 3 4 5 6 8 11 1 2 3 4 5 6 7 8 9 10\n",
      "1 3 1 2 4 5 1 2 6 9 1 2 3 4 5 6 7 8 10 11 1 2 3 4\n",
      "1 2 3 4 5 6 1 2 7 8 9 11 1 2 3 4 5 6 7 8 9 10\n",
      "1 9 1 2 3 4 5 6 7 8 10 11\n",
      "1 2 3 4 5 6 7 9 1 2 3 4 5 6 7 8 10 11 1 2 3 4\n",
      "1 7 1 2 3 4 5 6 8 9 1 2 3 4 10 11\n",
      "1 2 3 5 1 2 3 4 6 7 8 9 1 2 3 4 5 6 10 11\n",
      "1 2 3 4 1 2 5 11 1 2 3 4 5 6 7 8 9 10\n",
      "1 9 1 2 3 4 5 6 7 8 10 11 1 2 3 4 5 6\n",
      "1 2 3 4 1 2 5 6 7 8 1 2 9 11 1 2 3 4 5 6 7 8 9 10\n",
      "1 11 1 2 3 4 5 6 7 8 9 10\n",
      "1 5 1 2 3 4 6 9 1 2 3 4 5 6 7 8 10 11 1 2\n",
      "1 5 1 2 3 4 6 7 1 2 3 4 5 6 8 9 1 2 3 4 5 6 10 11 1 2 3 4\n",
      "1 2 3 4 5 11 1 2 3 4 5 6 7 8 9 10\n",
      "1 2 3 7 1 2 3 4 5 6 8 9 10 11\n",
      "1 2 3 4 1 2 5 9 1 2 3 4 5 6 7 8 10 11\n",
      "1 9 1 2 3 4 5 6 7 8 10 11 1 2 3 4\n",
      "1 2 3 4 5 9 1 2 3 4 5 6 7 8 10 11 1 2 3 4 5 6 7 8 9 10\n",
      "1 2 3 5 1 2 3 4 6 7 8 9 10 11 1 2\n",
      "1 2 3 4 5 7 1 2 3 4 5 6 8 9 10 11\n",
      "1 2 3 7 1 2 3 4 5 6 8 9 1 2 10 11\n",
      "1 2 3 7 1 2 3 4 5 6 8 9 1 2 3 4 10 11 1 2 3 4 5 6 7 8\n",
      "1 9 1 2 3 4 5 6 7 8 10 11 1 2 3 4 5 6\n",
      "1 2 3 5 1 2 3 4 6 7 8 9 10 11\n",
      "1 2 3 9 1 2 3 4 5 6 7 8 10 11\n",
      "1 3 1 2 4 5 6 7 8 9 1 2 10 11 1 2 3 4 5 6 7 8 9 10\n",
      "1 2 3 9 1 2 3 4 5 6 7 8 10 11\n",
      "1 2 3 4 1 2 5 11 1 2 3 4 5 6 7 8 9 10\n",
      "1 7 1 2 3 4 5 6 8 9 1 2 10 11\n",
      "1 5 1 2 3 4 6 7 1 2 3 4 8 9 1 2 3 4 5 6 10 11 1 2\n",
      "1 7 1 2 3 4 5 6 8 9 1 2 3 4 10 11\n",
      "1 2 3 5 1 2 3 4 6 7 8 9 10 11 1 2 3 4\n",
      "1 9 1 2 3 4 5 6 7 8 10 11\n",
      "1 7 1 2 3 4 5 6 8 9 1 2 3 4 5 6 10 11\n",
      "1 3 1 2 4 5 6 7 1 2 3 4 5 6 8 9 1 2 3 4 10 11\n",
      "1 11 1 2 3 4 5 6 7 8 9 10\n",
      "1 9 1 2 3 4 5 6 7 8 10 11\n",
      "1 11 1 2 3 4 5 6 7 8 9 10\n",
      "1 2 3 7 1 2 3 4 5 6 8 9 1 2 10 11 1 2 3 4 5 6 7 8\n",
      "1 2 3 4 5 7 1 2 3 4 5 6 8 9 10 11\n",
      "1 2 3 11 1 2 3 4 5 6 7 8 9 10\n",
      "1 5 1 2 3 4 6 7 8 11 1 2 3 4 5 6 7 8 9 10\n",
      "1 5 1 2 3 4 6 7 1 2 3 4 5 6 8 9 10 11\n",
      "1 2 3 4 1 2 5 6 7 9 1 2 3 4 5 6 7 8 10 11\n",
      "1 2 3 4 5 7 1 2 3 4 5 6 8 9 10 11 1 2 3 4\n",
      "1 2 3 4 5 7 1 2 3 4 5 6 8 9 1 2 10 11\n",
      "1 3 1 2 4 11 1 2 3 4 5 6 7 8 9 10\n",
      "1 11 1 2 3 4 5 6 7 8 9 10\n",
      "1 2 3 7 1 2 3 4 5 6 8 11 1 2 3 4 5 6 7 8 9 10\n",
      "1 2 3 5 1 2 3 4 6 7 8 9 1 2 3 4 5 6 10 11 1 2\n",
      "1 2 3 11 1 2 3 4 5 6 7 8 9 10\n",
      "1 9 1 2 3 4 5 6 7 8 10 11\n",
      "1 2 3 4 5 6 7 9 1 2 3 4 5 6 7 8 10 11\n",
      "1 2 3 4 5 6 7 11 1 2 3 4 5 6 7 8 9 10\n",
      "1 9 1 2 3 4 5 6 7 8 10 11 1 2\n",
      "1 2 3 4 5 11 1 2 3 4 5 6 7 8 9 10\n",
      "1 3 1 2 4 5 1 2 6 7 1 2 3 4 8 9 1 2 10 11\n",
      "1 2 3 7 1 2 3 4 5 6 8 9 10 11\n",
      "1 2 3 7 1 2 3 4 5 6 8 9 1 2 10 11\n",
      "1 2 3 4 5 6 7 9 1 2 3 4 5 6 7 8 10 11\n",
      "1 2 3 4 1 2 5 6 1 2 7 11 1 2 3 4 5 6 7 8 9 10\n",
      "1 2 3 4 5 11 1 2 3 4 5 6 7 8 9 10\n",
      "1 2 3 7 1 2 3 4 5 6 8 9 10 11\n",
      "1 2 3 5 1 2 3 4 6 7 1 2 8 9 1 2 3 4 5 6 10 11\n",
      "1 9 1 2 3 4 5 6 7 8 10 11\n",
      "1 3 1 2 4 5 6 7 1 2 3 4 8 9 10 11 1 2 3 4 5 6\n",
      "1 2 3 11 1 2 3 4 5 6 7 8 9 10\n",
      "1 2 3 4 5 11 1 2 3 4 5 6 7 8 9 10\n",
      "1 3 1 2 4 5 1 2 6 7 1 2 8 9 1 2 3 4 5 6 7 8 10 11 1 2 3 4 5 6\n",
      "1 5 1 2 3 4 6 7 1 2 8 9 10 11\n",
      "1 2 3 9 1 2 3 4 5 6 7 8 10 11 1 2\n",
      "1 2 3 4 5 6 7 11 1 2 3 4 5 6 7 8 9 10\n",
      "1 9 1 2 3 4 5 6 7 8 10 11 1 2 3 4 5 6 7 8 9 10\n",
      "1 11 1 2 3 4 5 6 7 8 9 10\n",
      "1 2 3 4 5 9 1 2 3 4 5 6 7 8 10 11\n",
      "1 2 3 4 5 6 7 9 1 2 3 4 5 6 7 8 10 11\n",
      "1 11 1 2 3 4 5 6 7 8 9 10\n",
      "1 2 3 5 1 2 3 4 6 7 1 2 3 4 8 9 1 2 3 4 5 6 7 8 10 11\n",
      "1 2 3 4 5 6 1 2 7 8 9 11 1 2 3 4 5 6 7 8 9 10\n",
      "1 2 3 4 5 6 7 9 1 2 3 4 5 6 7 8 10 11 1 2 3 4 5 6 7 8 9 10\n",
      "1 3 1 2 4 5 1 2 3 4 6 7 1 2 3 4 5 6 8 9 10 11\n",
      "1 2 3 11 1 2 3 4 5 6 7 8 9 10\n",
      "1 3 1 2 4 5 1 2 3 4 6 7 1 2 8 9 10 11 1 2 3 4 5 6 7 8 9 10\n",
      "1 2 3 9 1 2 3 4 5 6 7 8 10 11 1 2 3 4 5 6\n",
      "1 3 1 2 4 5 1 2 6 7 8 9 1 2 3 4 5 6 10 11 1 2 3 4 5 6\n",
      "1 2 3 7 1 2 3 4 5 6 8 9 1 2 10 11\n",
      "1 11 1 2 3 4 5 6 7 8 9 10\n",
      "1 5 1 2 3 4 6 7 8 9 1 2 3 4 10 11 1 2 3 4 5 6 7 8 9 10\n",
      "1 2 3 9 1 2 3 4 5 6 7 8 10 11 1 2 3 4 5 6\n",
      "1 2 3 9 1 2 3 4 5 6 7 8 10 11 1 2\n",
      "1 2 3 7 1 2 3 4 5 6 8 9 1 2 10 11 1 2 3 4 5 6\n",
      "1 11 1 2 3 4 5 6 7 8 9 10\n",
      "1 9 1 2 3 4 5 6 7 8 10 11 1 2\n",
      "1 2 3 4 5 9 1 2 3 4 5 6 7 8 10 11\n",
      "1 7 1 2 3 4 5 6 8 9 1 2 3 4 5 6 7 8 10 11 1 2\n",
      "1 2 3 7 1 2 3 4 5 6 8 9 10 11\n",
      "1 2 3 7 1 2 3 4 5 6 8 9 1 2 10 11 1 2 3 4\n",
      "1 2 3 11 1 2 3 4 5 6 7 8 9 10\n",
      "1 2 3 11 1 2 3 4 5 6 7 8 9 10\n",
      "1 9 1 2 3 4 5 6 7 8 10 11\n",
      "1 5 1 2 3 4 6 7 8 9 10 11 1 2\n",
      "1 9 1 2 3 4 5 6 7 8 10 11 1 2\n",
      "1 11 1 2 3 4 5 6 7 8 9 10\n",
      "1 11 1 2 3 4 5 6 7 8 9 10\n",
      "1 3 1 2 4 5 6 11 1 2 3 4 5 6 7 8 9 10\n",
      "1 9 1 2 3 4 5 6 7 8 10 11 1 2\n",
      "1 9 1 2 3 4 5 6 7 8 10 11 1 2 3 4\n",
      "1 9 1 2 3 4 5 6 7 8 10 11 1 2\n",
      "1 2 3 4 5 6 1 2 3 4 7 8 1 2 9 11 1 2 3 4 5 6 7 8 9 10\n",
      "1 2 3 4 5 7 1 2 3 4 5 6 8 9 1 2 10 11\n",
      "1 2 3 4 5 9 1 2 3 4 5 6 7 8 10 11 1 2\n",
      "1 2 3 4 5 11 1 2 3 4 5 6 7 8 9 10\n",
      "1 2 3 7 1 2 3 4 5 6 8 9 1 2 10 11 1 2 3 4\n",
      "1 2 3 4 5 11 1 2 3 4 5 6 7 8 9 10\n",
      "1 2 3 11 1 2 3 4 5 6 7 8 9 10\n",
      "1 3 1 2 4 5 6 7 1 2 8 9 10 11 1 2 3 4 5 6\n",
      "1 2 3 5 1 2 3 4 6 11 1 2 3 4 5 6 7 8 9 10\n",
      "1 2 3 4 5 6 1 2 3 4 7 11 1 2 3 4 5 6 7 8 9 10\n",
      "1 2 3 9 1 2 3 4 5 6 7 8 10 11 1 2\n",
      "1 2 3 11 1 2 3 4 5 6 7 8 9 10\n",
      "1 5 1 2 3 4 6 9 1 2 3 4 5 6 7 8 10 11 1 2\n",
      "1 7 1 2 3 4 5 6 8 9 10 11 1 2 3 4 5 6 7 8\n",
      "1 5 1 2 3 4 6 7 1 2 8 9 1 2 10 11\n",
      "1 3 1 2 4 7 1 2 3 4 5 6 8 9 1 2 10 11 1 2\n",
      "1 2 3 4 5 9 1 2 3 4 5 6 7 8 10 11\n",
      "1 5 1 2 3 4 6 7 8 9 1 2 3 4 10 11\n",
      "1 2 3 11 1 2 3 4 5 6 7 8 9 10\n",
      "1 2 3 7 1 2 3 4 5 6 8 9 1 2 10 11 1 2\n",
      "1 2 3 5 1 2 3 4 6 7 8 9 1 2 3 4 5 6 10 11 1 2\n",
      "1 2 3 4 5 9 1 2 3 4 5 6 7 8 10 11\n",
      "1 2 3 5 1 2 3 4 6 7 1 2 3 4 8 9 10 11 1 2 3 4 5 6\n",
      "1 2 3 4 5 6 7 11 1 2 3 4 5 6 7 8 9 10\n",
      "1 2 3 11 1 2 3 4 5 6 7 8 9 10\n",
      "1 2 3 9 1 2 3 4 5 6 7 8 10 11\n",
      "1 2 3 4 5 9 1 2 3 4 5 6 7 8 10 11 1 2 3 4\n",
      "1 9 1 2 3 4 5 6 7 8 10 11 1 2\n",
      "1 3 1 2 4 5 6 7 1 2 8 9 10 11\n",
      "1 7 1 2 3 4 5 6 8 9 10 11 1 2 3 4\n",
      "1 2 3 7 1 2 3 4 5 6 8 9 10 11\n",
      "1 3 1 2 4 5 1 2 3 4 6 7 1 2 8 9 1 2 3 4 5 6 10 11 1 2 3 4 5 6 7 8\n",
      "1 2 3 7 1 2 3 4 5 6 8 9 1 2 3 4 10 11\n",
      "1 2 3 4 5 7 1 2 3 4 5 6 8 9 10 11 1 2\n",
      "1 9 1 2 3 4 5 6 7 8 10 11 1 2\n",
      "1 3 1 2 4 9 1 2 3 4 5 6 7 8 10 11 1 2 3 4 5 6\n",
      "1 2 3 9 1 2 3 4 5 6 7 8 10 11 1 2 3 4 5 6\n",
      "1 2 3 4 5 7 1 2 3 4 5 6 8 9 10 11 1 2 3 4 5 6\n",
      "1 2 3 4 5 9 1 2 3 4 5 6 7 8 10 11 1 2 3 4 5 6\n",
      "1 2 3 4 5 6 7 9 1 2 3 4 5 6 7 8 10 11 1 2 3 4 5 6 7 8\n",
      "1 5 1 2 3 4 6 7 1 2 8 9 10 11\n",
      "1 2 3 4 5 7 1 2 3 4 5 6 8 9 1 2 3 4 10 11\n",
      "1 2 3 5 1 2 3 4 6 7 8 11 1 2 3 4 5 6 7 8 9 10\n",
      "1 2 3 4 5 6 7 8 1 2 3 4 9 11 1 2 3 4 5 6 7 8 9 10\n",
      "1 2 3 7 1 2 3 4 5 6 8 11 1 2 3 4 5 6 7 8 9 10\n",
      "1 2 3 4 5 7 1 2 3 4 5 6 8 9 1 2 3 4 10 11 1 2\n",
      "1 3 1 2 4 5 6 7 1 2 8 9 1 2 10 11 1 2\n",
      "1 2 3 4 5 6 7 11 1 2 3 4 5 6 7 8 9 10\n",
      "1 11 1 2 3 4 5 6 7 8 9 10\n",
      "1 2 3 7 1 2 3 4 5 6 8 9 10 11\n",
      "1 2 3 4 5 6 7 11 1 2 3 4 5 6 7 8 9 10\n",
      "1 2 3 4 5 7 1 2 3 4 5 6 8 9 10 11\n",
      "1 2 3 4 1 2 5 9 1 2 3 4 5 6 7 8 10 11\n",
      "1 2 3 7 1 2 3 4 5 6 8 9 1 2 10 11 1 2 3 4\n",
      "1 2 3 4 5 9 1 2 3 4 5 6 7 8 10 11 1 2 3 4 5 6\n",
      "1 2 3 7 1 2 3 4 5 6 8 9 10 11\n",
      "1 11 1 2 3 4 5 6 7 8 9 10\n",
      "1 11 1 2 3 4 5 6 7 8 9 10\n",
      "1 7 1 2 3 4 5 6 8 9 1 2 3 4 5 6 10 11 1 2\n",
      "1 7 1 2 3 4 5 6 8 9 1 2 3 4 10 11\n",
      "1 3 1 2 4 9 1 2 3 4 5 6 7 8 10 11\n",
      "1 2 3 5 1 2 3 4 6 7 1 2 3 4 8 9 1 2 3 4 5 6 10 11 1 2\n",
      "1 2 3 4 5 9 1 2 3 4 5 6 7 8 10 11 1 2 3 4 5 6 7 8 9 10\n",
      "1 2 3 11 1 2 3 4 5 6 7 8 9 10\n",
      "1 2 3 11 1 2 3 4 5 6 7 8 9 10\n",
      "1 2 3 4 1 2 5 11 1 2 3 4 5 6 7 8 9 10\n",
      "1 2 3 7 1 2 3 4 5 6 8 9 1 2 10 11\n",
      "1 2 3 4 5 9 1 2 3 4 5 6 7 8 10 11 1 2\n",
      "1 2 3 4 5 11 1 2 3 4 5 6 7 8 9 10\n",
      "1 7 1 2 3 4 5 6 8 9 1 2 3 4 10 11 1 2 3 4 5 6 7 8\n",
      "1 7 1 2 3 4 5 6 8 9 1 2 3 4 5 6 10 11\n",
      "1 3 1 2 4 5 6 11 1 2 3 4 5 6 7 8 9 10\n",
      "1 2 3 4 5 6 7 8 9 11 1 2 3 4 5 6 7 8 9 10\n",
      "1 2 3 9 1 2 3 4 5 6 7 8 10 11\n",
      "1 11 1 2 3 4 5 6 7 8 9 10\n",
      "1 7 1 2 3 4 5 6 8 9 10 11 1 2 3 4 5 6\n",
      "1 2 3 4 1 2 5 9 1 2 3 4 5 6 7 8 10 11 1 2\n",
      "1 2 3 5 1 2 3 4 6 7 8 9 10 11 1 2 3 4\n",
      "1 9 1 2 3 4 5 6 7 8 10 11 1 2 3 4\n",
      "1 7 1 2 3 4 5 6 8 9 1 2 3 4 10 11 1 2\n"
     ]
    }
   ],
   "source": [
    "for e in examples[11]:\n",
    "    print(e[1])"
   ]
  },
  {
   "cell_type": "code",
   "execution_count": 120,
   "metadata": {},
   "outputs": [
    {
     "name": "stdout",
     "output_type": "stream",
     "text": [
      "1 2 3 4 1 2 5 6 1 2 7 8 9 10 1 2\n",
      "1 2 3 4 5 6 7 8 9 10\n",
      "1 2 3 4 5 6 7 8 9 10\n",
      "1 2 3 4 5 6 7 8 9 10 1 2 3 4\n",
      "1 2 3 4 5 6 7 8 9 10\n",
      "1 2 3 4 5 6 7 8 1 2 3 4 9 10 1 2\n",
      "1 2 3 4 5 6 1 2 7 8 9 10\n",
      "1 2 3 4 5 6 1 2 3 4 7 8 1 2 3 4 5 6 9 10 1 2 3 4\n",
      "1 2 3 4 5 6 1 2 3 4 7 8 1 2 3 4 9 10 1 2 3 4\n",
      "1 2 3 4 5 6 7 8 9 10\n",
      "1 2 3 4 5 6 7 8 9 10 1 2\n",
      "1 2 3 4 5 6 7 8 9 10\n",
      "1 2 3 4 5 6 1 2 7 8 1 2 9 10\n",
      "1 2 3 4 5 6 7 8 9 10\n",
      "1 2 3 4 5 6 7 8 9 10 1 2 3 4\n",
      "1 2 3 4 5 6 7 8 9 10\n",
      "1 2 3 4 5 6 7 8 9 10 1 2\n",
      "1 2 3 4 5 6 7 8 1 2 3 4 5 6 9 10\n",
      "1 2 3 4 5 6 7 8 9 10\n",
      "1 2 3 4 5 6 7 8 9 10 1 2 3 4\n",
      "1 2 3 4 5 6 7 8 9 10\n",
      "1 2 3 4 5 6 1 2 3 4 7 8 9 10 1 2 3 4\n",
      "1 2 3 4 5 6 7 8 9 10\n",
      "1 2 3 4 1 2 5 6 1 2 7 8 9 10\n",
      "1 2 3 4 5 6 7 8 9 10 1 2\n",
      "1 2 3 4 5 6 7 8 9 10\n",
      "1 2 3 4 5 6 7 8 9 10\n",
      "1 2 3 4 5 6 7 8 1 2 9 10\n",
      "1 2 3 4 5 6 7 8 9 10\n",
      "1 2 3 4 5 6 7 8 9 10 1 2\n",
      "1 2 3 4 5 6 7 8 9 10 1 2\n",
      "1 2 3 4 1 2 5 6 1 2 7 8 9 10\n",
      "1 2 3 4 5 6 7 8 9 10\n",
      "1 2 3 4 5 6 7 8 9 10\n",
      "1 2 3 4 5 6 7 8 1 2 9 10 1 2\n",
      "1 2 3 4 5 6 7 8 9 10 1 2 3 4\n",
      "1 2 3 4 5 6 7 8 9 10\n",
      "1 2 3 4 1 2 5 6 1 2 7 8 1 2 3 4 5 6 9 10 1 2\n",
      "1 2 3 4 5 6 7 8 9 10\n",
      "1 2 3 4 5 6 7 8 9 10 1 2 3 4 5 6\n",
      "1 2 3 4 5 6 7 8 9 10\n",
      "1 2 3 4 5 6 7 8 9 10\n",
      "1 2 3 4 5 6 7 8 9 10\n",
      "1 2 3 4 5 6 1 2 7 8 9 10\n",
      "1 2 3 4 5 6 7 8 9 10 1 2 3 4 5 6\n",
      "1 2 3 4 5 6 7 8 9 10\n",
      "1 2 3 4 1 2 5 6 7 8 9 10 1 2 3 4 5 6 7 8\n",
      "1 2 3 4 5 6 7 8 9 10 1 2 3 4 5 6 7 8\n",
      "1 2 3 4 5 6 7 8 9 10 1 2 3 4\n",
      "1 2 3 4 5 6 7 8 9 10\n",
      "1 2 3 4 1 2 5 6 1 2 3 4 7 8 9 10\n",
      "1 2 3 4 5 6 7 8 9 10\n",
      "1 2 3 4 5 6 7 8 1 2 3 4 5 6 9 10 1 2 3 4\n",
      "1 2 3 4 5 6 1 2 7 8 1 2 9 10 1 2\n",
      "1 2 3 4 5 6 7 8 1 2 3 4 9 10\n",
      "1 2 3 4 5 6 7 8 9 10\n",
      "1 2 3 4 1 2 5 6 7 8 1 2 9 10\n",
      "1 2 3 4 5 6 7 8 9 10 1 2\n",
      "1 2 3 4 5 6 7 8 9 10\n",
      "1 2 3 4 5 6 1 2 3 4 7 8 9 10\n",
      "1 2 3 4 5 6 7 8 1 2 3 4 9 10\n",
      "1 2 3 4 5 6 7 8 9 10\n",
      "1 2 3 4 5 6 7 8 9 10 1 2 3 4\n",
      "1 2 3 4 1 2 5 6 7 8 1 2 9 10 1 2 3 4 5 6\n",
      "1 2 3 4 5 6 7 8 1 2 9 10 1 2\n",
      "1 2 3 4 5 6 7 8 9 10\n",
      "1 2 3 4 5 6 7 8 1 2 3 4 9 10 1 2 3 4 5 6\n",
      "1 2 3 4 5 6 7 8 9 10\n",
      "1 2 3 4 5 6 7 8 9 10 1 2\n",
      "1 2 3 4 5 6 7 8 1 2 3 4 9 10\n",
      "1 2 3 4 5 6 7 8 9 10\n",
      "1 2 3 4 5 6 1 2 3 4 7 8 9 10\n",
      "1 2 3 4 5 6 1 2 7 8 1 2 3 4 9 10 1 2 3 4 5 6\n",
      "1 2 3 4 5 6 7 8 1 2 3 4 9 10 1 2\n",
      "1 2 3 4 5 6 1 2 7 8 9 10 1 2\n",
      "1 2 3 4 5 6 7 8 9 10 1 2 3 4 5 6\n",
      "1 2 3 4 5 6 7 8 9 10\n",
      "1 2 3 4 5 6 7 8 9 10\n",
      "1 2 3 4 5 6 7 8 9 10\n",
      "1 2 3 4 5 6 7 8 1 2 9 10\n",
      "1 2 3 4 5 6 7 8 9 10\n",
      "1 2 3 4 5 6 7 8 9 10\n",
      "1 2 3 4 5 6 7 8 9 10\n",
      "1 2 3 4 5 6 7 8 9 10\n",
      "1 2 3 4 5 6 7 8 9 10 1 2 3 4 5 6\n",
      "1 2 3 4 5 6 1 2 7 8 1 2 3 4 9 10\n",
      "1 2 3 4 5 6 7 8 1 2 9 10\n",
      "1 2 3 4 5 6 7 8 9 10 1 2 3 4\n",
      "1 2 3 4 5 6 7 8 1 2 3 4 5 6 9 10 1 2\n",
      "1 2 3 4 5 6 7 8 9 10 1 2 3 4 5 6 7 8\n",
      "1 2 3 4 5 6 7 8 9 10 1 2 3 4 5 6\n",
      "1 2 3 4 5 6 7 8 9 10 1 2\n",
      "1 2 3 4 5 6 7 8 9 10\n",
      "1 2 3 4 5 6 7 8 9 10\n",
      "1 2 3 4 5 6 1 2 7 8 9 10 1 2 3 4 5 6 7 8\n",
      "1 2 3 4 5 6 7 8 9 10\n",
      "1 2 3 4 5 6 7 8 9 10 1 2 3 4\n",
      "1 2 3 4 5 6 7 8 9 10\n",
      "1 2 3 4 5 6 7 8 9 10\n",
      "1 2 3 4 5 6 7 8 9 10\n",
      "1 2 3 4 5 6 7 8 1 2 9 10\n",
      "1 2 3 4 5 6 7 8 9 10 1 2 3 4\n",
      "1 2 3 4 5 6 7 8 9 10 1 2\n",
      "1 2 3 4 5 6 7 8 1 2 3 4 9 10 1 2\n",
      "1 2 3 4 5 6 7 8 1 2 3 4 5 6 9 10\n",
      "1 2 3 4 5 6 1 2 7 8 9 10\n",
      "1 2 3 4 5 6 1 2 7 8 9 10 1 2\n",
      "1 2 3 4 5 6 7 8 9 10 1 2\n",
      "1 2 3 4 5 6 7 8 9 10\n",
      "1 2 3 4 5 6 1 2 7 8 9 10 1 2 3 4\n",
      "1 2 3 4 5 6 7 8 1 2 3 4 5 6 9 10 1 2 3 4 5 6\n",
      "1 2 3 4 5 6 7 8 9 10 1 2 3 4\n",
      "1 2 3 4 5 6 1 2 7 8 1 2 9 10 1 2 3 4 5 6\n",
      "1 2 3 4 5 6 7 8 9 10 1 2 3 4 5 6\n",
      "1 2 3 4 1 2 5 6 1 2 3 4 7 8 1 2 3 4 9 10 1 2 3 4\n",
      "1 2 3 4 5 6 7 8 9 10\n",
      "1 2 3 4 5 6 7 8 9 10\n",
      "1 2 3 4 5 6 7 8 9 10 1 2\n",
      "1 2 3 4 5 6 7 8 9 10\n",
      "1 2 3 4 5 6 1 2 7 8 1 2 9 10\n",
      "1 2 3 4 5 6 7 8 9 10\n",
      "1 2 3 4 5 6 7 8 9 10 1 2\n",
      "1 2 3 4 5 6 1 2 7 8 1 2 3 4 5 6 9 10\n",
      "1 2 3 4 5 6 7 8 9 10\n",
      "1 2 3 4 5 6 7 8 9 10 1 2\n",
      "1 2 3 4 1 2 5 6 7 8 9 10\n",
      "1 2 3 4 5 6 1 2 7 8 9 10\n",
      "1 2 3 4 5 6 7 8 9 10\n",
      "1 2 3 4 5 6 7 8 9 10\n",
      "1 2 3 4 5 6 7 8 9 10\n",
      "1 2 3 4 5 6 7 8 9 10\n",
      "1 2 3 4 5 6 7 8 9 10\n",
      "1 2 3 4 5 6 7 8 1 2 3 4 5 6 9 10 1 2\n",
      "1 2 3 4 5 6 7 8 9 10 1 2 3 4 5 6\n",
      "1 2 3 4 5 6 7 8 9 10\n",
      "1 2 3 4 5 6 7 8 9 10\n",
      "1 2 3 4 5 6 7 8 9 10\n",
      "1 2 3 4 5 6 7 8 9 10\n",
      "1 2 3 4 5 6 7 8 1 2 3 4 9 10 1 2 3 4 5 6\n",
      "1 2 3 4 5 6 7 8 9 10\n",
      "1 2 3 4 5 6 1 2 3 4 7 8 9 10 1 2\n",
      "1 2 3 4 5 6 7 8 9 10\n",
      "1 2 3 4 5 6 7 8 9 10 1 2 3 4 5 6 7 8\n",
      "1 2 3 4 5 6 7 8 9 10\n",
      "1 2 3 4 5 6 7 8 9 10\n",
      "1 2 3 4 1 2 5 6 7 8 9 10 1 2 3 4 5 6 7 8\n",
      "1 2 3 4 5 6 7 8 9 10\n",
      "1 2 3 4 5 6 7 8 1 2 3 4 9 10 1 2 3 4\n",
      "1 2 3 4 5 6 1 2 7 8 9 10 1 2\n",
      "1 2 3 4 5 6 7 8 9 10\n",
      "1 2 3 4 5 6 7 8 9 10 1 2 3 4 5 6 7 8\n",
      "1 2 3 4 5 6 7 8 9 10\n",
      "1 2 3 4 5 6 1 2 3 4 7 8 9 10 1 2 3 4\n",
      "1 2 3 4 5 6 7 8 1 2 3 4 5 6 9 10\n",
      "1 2 3 4 5 6 7 8 9 10\n",
      "1 2 3 4 5 6 7 8 9 10\n",
      "1 2 3 4 5 6 1 2 7 8 1 2 3 4 5 6 9 10 1 2\n",
      "1 2 3 4 5 6 7 8 9 10\n",
      "1 2 3 4 5 6 7 8 9 10\n",
      "1 2 3 4 5 6 7 8 1 2 3 4 5 6 9 10 1 2\n",
      "1 2 3 4 5 6 7 8 9 10\n",
      "1 2 3 4 1 2 5 6 7 8 1 2 9 10\n",
      "1 2 3 4 5 6 1 2 7 8 9 10\n",
      "1 2 3 4 5 6 7 8 9 10\n",
      "1 2 3 4 5 6 7 8 9 10 1 2\n",
      "1 2 3 4 5 6 7 8 9 10 1 2 3 4\n",
      "1 2 3 4 5 6 1 2 7 8 9 10\n",
      "1 2 3 4 5 6 7 8 9 10 1 2 3 4 5 6 7 8\n",
      "1 2 3 4 5 6 7 8 9 10\n",
      "1 2 3 4 5 6 7 8 9 10 1 2 3 4\n",
      "1 2 3 4 5 6 7 8 9 10 1 2\n",
      "1 2 3 4 5 6 7 8 9 10\n",
      "1 2 3 4 5 6 7 8 9 10\n",
      "1 2 3 4 5 6 7 8 9 10 1 2\n",
      "1 2 3 4 5 6 7 8 9 10\n",
      "1 2 3 4 5 6 7 8 9 10\n",
      "1 2 3 4 5 6 7 8 9 10\n",
      "1 2 3 4 5 6 1 2 7 8 1 2 3 4 5 6 9 10 1 2\n",
      "1 2 3 4 5 6 7 8 9 10 1 2\n",
      "1 2 3 4 5 6 7 8 9 10\n",
      "1 2 3 4 5 6 7 8 9 10\n",
      "1 2 3 4 5 6 7 8 9 10\n",
      "1 2 3 4 5 6 7 8 9 10\n",
      "1 2 3 4 5 6 7 8 9 10\n",
      "1 2 3 4 5 6 7 8 1 2 3 4 9 10 1 2 3 4 5 6\n",
      "1 2 3 4 5 6 7 8 9 10\n",
      "1 2 3 4 5 6 7 8 9 10\n",
      "1 2 3 4 5 6 1 2 7 8 9 10\n",
      "1 2 3 4 5 6 7 8 9 10\n",
      "1 2 3 4 5 6 7 8 9 10\n",
      "1 2 3 4 5 6 7 8 9 10 1 2 3 4 5 6\n",
      "1 2 3 4 5 6 7 8 1 2 3 4 5 6 9 10 1 2 3 4 5 6\n",
      "1 2 3 4 5 6 1 2 3 4 7 8 9 10 1 2\n",
      "1 2 3 4 1 2 5 6 7 8 1 2 9 10 1 2\n",
      "1 2 3 4 5 6 7 8 9 10\n",
      "1 2 3 4 5 6 1 2 7 8 9 10 1 2 3 4 5 6\n",
      "1 2 3 4 5 6 1 2 7 8 9 10 1 2 3 4\n",
      "1 2 3 4 5 6 7 8 1 2 9 10 1 2\n",
      "1 2 3 4 5 6 7 8 1 2 9 10\n",
      "1 2 3 4 5 6 7 8 9 10 1 2\n",
      "1 2 3 4 5 6 7 8 1 2 3 4 5 6 9 10 1 2\n",
      "1 2 3 4 5 6 7 8 9 10\n",
      "1 2 3 4 5 6 7 8 9 10 1 2\n",
      "1 2 3 4 5 6 7 8 9 10\n",
      "1 2 3 4 5 6 7 8 9 10\n",
      "1 2 3 4 5 6 7 8 9 10\n",
      "1 2 3 4 5 6 7 8 9 10\n",
      "1 2 3 4 5 6 7 8 1 2 3 4 5 6 9 10\n",
      "1 2 3 4 5 6 7 8 9 10\n",
      "1 2 3 4 5 6 7 8 9 10 1 2 3 4\n",
      "1 2 3 4 5 6 7 8 9 10\n",
      "1 2 3 4 5 6 1 2 7 8 1 2 9 10 1 2 3 4 5 6 7 8\n",
      "1 2 3 4 5 6 7 8 9 10\n",
      "1 2 3 4 5 6 7 8 9 10 1 2\n",
      "1 2 3 4 5 6 7 8 9 10\n",
      "1 2 3 4 5 6 1 2 7 8 9 10\n",
      "1 2 3 4 5 6 7 8 9 10 1 2 3 4 5 6 7 8\n",
      "1 2 3 4 5 6 7 8 9 10\n",
      "1 2 3 4 5 6 1 2 3 4 7 8 1 2 9 10 1 2 3 4\n",
      "1 2 3 4 5 6 1 2 3 4 7 8 1 2 9 10 1 2\n",
      "1 2 3 4 5 6 7 8 9 10\n",
      "1 2 3 4 5 6 7 8 9 10\n",
      "1 2 3 4 5 6 7 8 1 2 9 10 1 2 3 4\n",
      "1 2 3 4 5 6 7 8 9 10\n",
      "1 2 3 4 5 6 7 8 9 10 1 2 3 4 5 6 7 8\n",
      "1 2 3 4 5 6 7 8 9 10 1 2 3 4 5 6 7 8\n",
      "1 2 3 4 5 6 7 8 9 10 1 2\n",
      "1 2 3 4 5 6 7 8 9 10\n",
      "1 2 3 4 5 6 7 8 9 10 1 2\n",
      "1 2 3 4 5 6 7 8 9 10 1 2 3 4 5 6\n",
      "1 2 3 4 5 6 7 8 9 10 1 2\n",
      "1 2 3 4 5 6 7 8 9 10\n",
      "1 2 3 4 5 6 7 8 9 10\n",
      "1 2 3 4 5 6 1 2 3 4 7 8 1 2 9 10\n",
      "1 2 3 4 5 6 1 2 3 4 7 8 9 10 1 2\n",
      "1 2 3 4 5 6 7 8 1 2 3 4 9 10 1 2\n",
      "1 2 3 4 5 6 7 8 9 10\n",
      "1 2 3 4 5 6 7 8 1 2 3 4 5 6 9 10 1 2 3 4\n",
      "1 2 3 4 5 6 7 8 1 2 3 4 9 10 1 2\n",
      "1 2 3 4 5 6 7 8 9 10\n",
      "1 2 3 4 5 6 7 8 9 10\n",
      "1 2 3 4 5 6 7 8 9 10\n",
      "1 2 3 4 5 6 7 8 9 10\n",
      "1 2 3 4 5 6 7 8 1 2 3 4 9 10 1 2 3 4 5 6 7 8\n",
      "1 2 3 4 5 6 1 2 3 4 7 8 1 2 3 4 5 6 9 10\n",
      "1 2 3 4 5 6 7 8 9 10\n",
      "1 2 3 4 5 6 7 8 1 2 3 4 5 6 9 10\n",
      "1 2 3 4 5 6 1 2 3 4 7 8 1 2 3 4 9 10\n",
      "1 2 3 4 5 6 7 8 9 10\n",
      "1 2 3 4 5 6 1 2 7 8 1 2 3 4 9 10 1 2 3 4 5 6\n",
      "1 2 3 4 5 6 7 8 9 10\n",
      "1 2 3 4 5 6 7 8 9 10 1 2 3 4\n",
      "1 2 3 4 5 6 7 8 1 2 9 10\n",
      "1 2 3 4 5 6 7 8 9 10\n",
      "1 2 3 4 5 6 7 8 9 10\n",
      "1 2 3 4 1 2 5 6 7 8 9 10 1 2\n",
      "1 2 3 4 5 6 1 2 7 8 1 2 3 4 9 10 1 2\n",
      "1 2 3 4 5 6 7 8 9 10 1 2 3 4\n",
      "1 2 3 4 5 6 1 2 3 4 7 8 1 2 3 4 5 6 9 10 1 2\n",
      "1 2 3 4 5 6 7 8 9 10 1 2\n",
      "1 2 3 4 5 6 7 8 9 10\n",
      "1 2 3 4 5 6 1 2 3 4 7 8 9 10 1 2\n",
      "1 2 3 4 5 6 1 2 3 4 7 8 1 2 3 4 5 6 9 10 1 2\n",
      "1 2 3 4 5 6 7 8 9 10 1 2 3 4 5 6\n",
      "1 2 3 4 5 6 7 8 9 10\n",
      "1 2 3 4 5 6 7 8 1 2 9 10\n",
      "1 2 3 4 1 2 5 6 7 8 1 2 9 10 1 2 3 4\n",
      "1 2 3 4 5 6 7 8 9 10\n",
      "1 2 3 4 5 6 7 8 9 10 1 2 3 4\n",
      "1 2 3 4 5 6 7 8 9 10\n",
      "1 2 3 4 5 6 1 2 3 4 7 8 9 10 1 2 3 4\n",
      "1 2 3 4 5 6 7 8 9 10 1 2\n",
      "1 2 3 4 5 6 7 8 9 10\n",
      "1 2 3 4 5 6 7 8 9 10\n",
      "1 2 3 4 5 6 7 8 1 2 3 4 9 10\n",
      "1 2 3 4 5 6 7 8 9 10\n",
      "1 2 3 4 5 6 7 8 9 10 1 2\n",
      "1 2 3 4 5 6 7 8 9 10\n",
      "1 2 3 4 5 6 7 8 9 10\n",
      "1 2 3 4 5 6 7 8 9 10\n",
      "1 2 3 4 5 6 7 8 9 10 1 2 3 4 5 6\n",
      "1 2 3 4 5 6 7 8 1 2 3 4 9 10 1 2 3 4\n",
      "1 2 3 4 5 6 7 8 9 10 1 2 3 4\n",
      "1 2 3 4 5 6 7 8 9 10\n",
      "1 2 3 4 5 6 7 8 9 10\n",
      "1 2 3 4 5 6 7 8 9 10 1 2\n",
      "1 2 3 4 5 6 7 8 9 10\n",
      "1 2 3 4 5 6 7 8 1 2 9 10\n",
      "1 2 3 4 5 6 7 8 9 10\n",
      "1 2 3 4 5 6 7 8 9 10\n",
      "1 2 3 4 5 6 7 8 1 2 9 10 1 2\n",
      "1 2 3 4 5 6 7 8 9 10 1 2 3 4 5 6\n",
      "1 2 3 4 5 6 7 8 9 10\n",
      "1 2 3 4 5 6 7 8 9 10\n",
      "1 2 3 4 5 6 7 8 9 10\n",
      "1 2 3 4 5 6 7 8 1 2 9 10 1 2 3 4 5 6\n",
      "1 2 3 4 5 6 7 8 1 2 9 10 1 2\n",
      "1 2 3 4 5 6 7 8 9 10 1 2\n",
      "1 2 3 4 5 6 7 8 1 2 3 4 5 6 9 10\n",
      "1 2 3 4 5 6 7 8 9 10 1 2 3 4 5 6 7 8\n",
      "1 2 3 4 5 6 7 8 9 10\n",
      "1 2 3 4 5 6 7 8 9 10 1 2\n",
      "1 2 3 4 5 6 7 8 9 10\n",
      "1 2 3 4 5 6 7 8 9 10\n",
      "1 2 3 4 5 6 1 2 3 4 7 8 1 2 9 10 1 2\n",
      "1 2 3 4 5 6 7 8 9 10 1 2\n",
      "1 2 3 4 5 6 7 8 9 10 1 2 3 4 5 6 7 8\n",
      "1 2 3 4 5 6 7 8 9 10\n",
      "1 2 3 4 5 6 7 8 9 10\n",
      "1 2 3 4 5 6 7 8 9 10 1 2 3 4 5 6 7 8\n",
      "1 2 3 4 5 6 1 2 3 4 7 8 1 2 9 10\n",
      "1 2 3 4 5 6 7 8 9 10\n",
      "1 2 3 4 5 6 7 8 9 10\n",
      "1 2 3 4 5 6 7 8 1 2 3 4 9 10 1 2 3 4 5 6\n",
      "1 2 3 4 5 6 7 8 9 10 1 2 3 4\n",
      "1 2 3 4 5 6 7 8 9 10\n",
      "1 2 3 4 5 6 7 8 9 10\n",
      "1 2 3 4 5 6 7 8 9 10\n",
      "1 2 3 4 5 6 7 8 1 2 9 10 1 2\n",
      "1 2 3 4 5 6 7 8 9 10 1 2\n",
      "1 2 3 4 1 2 5 6 1 2 7 8 9 10\n",
      "1 2 3 4 5 6 1 2 7 8 9 10\n",
      "1 2 3 4 5 6 7 8 9 10\n",
      "1 2 3 4 5 6 7 8 1 2 9 10\n",
      "1 2 3 4 5 6 7 8 9 10\n",
      "1 2 3 4 1 2 5 6 7 8 9 10 1 2 3 4\n",
      "1 2 3 4 5 6 7 8 9 10 1 2\n",
      "1 2 3 4 5 6 7 8 9 10\n",
      "1 2 3 4 5 6 1 2 7 8 1 2 3 4 9 10 1 2 3 4 5 6\n",
      "1 2 3 4 1 2 5 6 1 2 3 4 7 8 9 10\n",
      "1 2 3 4 5 6 7 8 1 2 9 10\n",
      "1 2 3 4 5 6 7 8 9 10 1 2 3 4\n",
      "1 2 3 4 5 6 7 8 1 2 9 10\n",
      "1 2 3 4 5 6 7 8 9 10\n",
      "1 2 3 4 5 6 7 8 1 2 9 10\n",
      "1 2 3 4 5 6 7 8 1 2 9 10 1 2 3 4 5 6\n",
      "1 2 3 4 5 6 7 8 9 10\n",
      "1 2 3 4 5 6 7 8 1 2 3 4 5 6 9 10 1 2 3 4 5 6\n",
      "1 2 3 4 5 6 7 8 9 10\n",
      "1 2 3 4 5 6 1 2 3 4 7 8 1 2 3 4 9 10 1 2 3 4\n",
      "1 2 3 4 5 6 7 8 9 10 1 2\n",
      "1 2 3 4 5 6 7 8 1 2 3 4 9 10 1 2 3 4 5 6 7 8\n",
      "1 2 3 4 5 6 7 8 1 2 9 10 1 2 3 4 5 6\n",
      "1 2 3 4 5 6 7 8 9 10 1 2\n",
      "1 2 3 4 5 6 7 8 9 10 1 2 3 4\n",
      "1 2 3 4 5 6 7 8 9 10\n",
      "1 2 3 4 5 6 7 8 1 2 9 10 1 2\n",
      "1 2 3 4 5 6 7 8 9 10 1 2 3 4\n",
      "1 2 3 4 5 6 7 8 9 10\n",
      "1 2 3 4 5 6 7 8 9 10 1 2\n",
      "1 2 3 4 5 6 7 8 1 2 3 4 9 10\n",
      "1 2 3 4 5 6 7 8 9 10 1 2\n",
      "1 2 3 4 5 6 7 8 1 2 3 4 5 6 9 10 1 2 3 4 5 6\n",
      "1 2 3 4 5 6 1 2 7 8 9 10\n",
      "1 2 3 4 5 6 7 8 9 10\n",
      "1 2 3 4 5 6 7 8 9 10 1 2 3 4\n",
      "1 2 3 4 5 6 7 8 9 10\n",
      "1 2 3 4 1 2 5 6 7 8 1 2 3 4 5 6 9 10\n",
      "1 2 3 4 5 6 7 8 9 10\n",
      "1 2 3 4 5 6 7 8 1 2 9 10\n",
      "1 2 3 4 5 6 7 8 9 10 1 2\n",
      "1 2 3 4 5 6 7 8 9 10\n",
      "1 2 3 4 5 6 7 8 9 10\n",
      "1 2 3 4 5 6 7 8 9 10 1 2 3 4\n",
      "1 2 3 4 5 6 7 8 9 10\n",
      "1 2 3 4 5 6 7 8 1 2 3 4 9 10\n",
      "1 2 3 4 5 6 7 8 1 2 3 4 9 10\n",
      "1 2 3 4 5 6 1 2 7 8 1 2 3 4 5 6 9 10 1 2\n",
      "1 2 3 4 5 6 7 8 9 10\n",
      "1 2 3 4 5 6 7 8 9 10 1 2 3 4 5 6 7 8\n",
      "1 2 3 4 5 6 7 8 9 10 1 2 3 4\n",
      "1 2 3 4 5 6 1 2 3 4 7 8 9 10 1 2 3 4\n",
      "1 2 3 4 1 2 5 6 7 8 1 2 9 10 1 2\n",
      "1 2 3 4 5 6 7 8 9 10 1 2 3 4\n",
      "1 2 3 4 5 6 1 2 7 8 9 10\n",
      "1 2 3 4 5 6 7 8 9 10 1 2\n",
      "1 2 3 4 1 2 5 6 7 8 1 2 3 4 9 10 1 2 3 4 5 6\n",
      "1 2 3 4 5 6 1 2 7 8 1 2 3 4 5 6 9 10\n",
      "1 2 3 4 5 6 7 8 9 10\n",
      "1 2 3 4 5 6 7 8 1 2 3 4 5 6 9 10 1 2\n",
      "1 2 3 4 5 6 7 8 9 10\n",
      "1 2 3 4 1 2 5 6 1 2 7 8 9 10\n",
      "1 2 3 4 5 6 7 8 9 10\n",
      "1 2 3 4 5 6 7 8 9 10\n",
      "1 2 3 4 5 6 7 8 9 10\n",
      "1 2 3 4 5 6 7 8 9 10\n",
      "1 2 3 4 5 6 7 8 9 10 1 2 3 4 5 6\n",
      "1 2 3 4 5 6 7 8 1 2 9 10\n",
      "1 2 3 4 5 6 7 8 9 10\n",
      "1 2 3 4 5 6 7 8 9 10\n",
      "1 2 3 4 5 6 7 8 1 2 9 10 1 2 3 4\n",
      "1 2 3 4 5 6 1 2 3 4 7 8 1 2 3 4 9 10 1 2 3 4 5 6\n",
      "1 2 3 4 5 6 7 8 9 10 1 2\n",
      "1 2 3 4 5 6 7 8 9 10 1 2 3 4 5 6\n",
      "1 2 3 4 5 6 7 8 9 10\n",
      "1 2 3 4 5 6 7 8 9 10\n",
      "1 2 3 4 5 6 7 8 9 10\n",
      "1 2 3 4 1 2 5 6 1 2 7 8 1 2 9 10 1 2\n",
      "1 2 3 4 5 6 7 8 9 10\n",
      "1 2 3 4 5 6 7 8 9 10\n",
      "1 2 3 4 5 6 1 2 7 8 9 10 1 2\n",
      "1 2 3 4 5 6 7 8 9 10\n",
      "1 2 3 4 5 6 7 8 9 10 1 2\n",
      "1 2 3 4 5 6 7 8 1 2 9 10\n",
      "1 2 3 4 5 6 7 8 1 2 3 4 5 6 9 10 1 2 3 4 5 6 7 8\n",
      "1 2 3 4 5 6 7 8 9 10\n",
      "1 2 3 4 5 6 7 8 9 10\n",
      "1 2 3 4 5 6 7 8 9 10\n",
      "1 2 3 4 5 6 7 8 9 10\n",
      "1 2 3 4 5 6 7 8 9 10\n",
      "1 2 3 4 5 6 7 8 9 10\n",
      "1 2 3 4 5 6 7 8 1 2 9 10\n",
      "1 2 3 4 5 6 7 8 9 10 1 2\n",
      "1 2 3 4 5 6 1 2 7 8 1 2 9 10\n",
      "1 2 3 4 1 2 5 6 1 2 3 4 7 8 1 2 3 4 9 10 1 2\n",
      "1 2 3 4 5 6 7 8 9 10\n",
      "1 2 3 4 5 6 7 8 1 2 9 10 1 2 3 4\n",
      "1 2 3 4 5 6 7 8 9 10\n",
      "1 2 3 4 5 6 7 8 9 10\n",
      "1 2 3 4 5 6 7 8 1 2 3 4 9 10 1 2 3 4 5 6\n",
      "1 2 3 4 5 6 7 8 1 2 3 4 5 6 9 10\n",
      "1 2 3 4 5 6 7 8 9 10\n",
      "1 2 3 4 5 6 7 8 9 10\n",
      "1 2 3 4 5 6 7 8 9 10\n",
      "1 2 3 4 5 6 7 8 9 10\n",
      "1 2 3 4 5 6 7 8 9 10 1 2 3 4\n",
      "1 2 3 4 5 6 7 8 1 2 3 4 9 10\n",
      "1 2 3 4 5 6 7 8 9 10\n",
      "1 2 3 4 5 6 7 8 9 10\n",
      "1 2 3 4 5 6 7 8 9 10\n",
      "1 2 3 4 5 6 7 8 1 2 9 10 1 2\n",
      "1 2 3 4 5 6 7 8 1 2 9 10\n"
     ]
    }
   ],
   "source": [
    "for e in examples[10]:\n",
    "    print(e[1])"
   ]
  },
  {
   "cell_type": "markdown",
   "metadata": {},
   "source": [
    "## save dataset"
   ]
  },
  {
   "cell_type": "code",
   "execution_count": 107,
   "metadata": {},
   "outputs": [],
   "source": [
    "import random\n",
    "random.shuffle(examples)\n",
    "ntrain = int(0.8 * NSAMPLES)\n",
    "nvalid = int(0.1 * NSAMPLES)\n",
    "ntest = int(0.1 * NSAMPLES)\n",
    "train = examples[:ntrain]\n",
    "valid = examples[ntrain: ntrain+nvalid]\n",
    "test = examples[ntrain+nvalid:]"
   ]
  },
  {
   "cell_type": "code",
   "execution_count": 108,
   "metadata": {},
   "outputs": [],
   "source": [
    "for dataset, dataset_type in zip([train, valid, test], ['train', 'valid', 'test']):\n",
    "    with open('%s_d%d.tsv' % (dataset_type, MAX_DEPTH), 'w') as f:\n",
    "        for line in dataset:\n",
    "            f.write('\\t'.join(line))\n",
    "            f.write('\\n')"
   ]
  },
  {
   "cell_type": "markdown",
   "metadata": {},
   "source": [
    "# monotony data"
   ]
  },
  {
   "cell_type": "code",
   "execution_count": 69,
   "metadata": {},
   "outputs": [],
   "source": [
    "def gen_mono_expr(depth):\n",
    "    assert depth % 2 == 0\n",
    "    \n",
    "    high_priori_done = int(depth * random.random())\n",
    "    \n",
    "    res = random.choice(VALUES)\n",
    "    for i in range(depth):        \n",
    "        if i % 2 == 0:\n",
    "            op = random.choice(OPS_E) if i > high_priori_done else random.choice(OPS_T)\n",
    "            res = (res, OP_MAP[op])\n",
    "        else:\n",
    "            num = random.choice(VALUES)\n",
    "            res = (res, num)\n",
    "    return res"
   ]
  },
  {
   "cell_type": "code",
   "execution_count": 70,
   "metadata": {},
   "outputs": [
    {
     "name": "stdout",
     "output_type": "stream",
     "text": [
      "((((((((((6, '/'), 3), '/'), 1), '*'), 4), '*'), 5), '/'), 2)\n"
     ]
    },
    {
     "data": {
      "text/plain": [
       "([1, 2, 3, 4, 5, 6, 7, 8, 9, 10], 10)"
      ]
     },
     "execution_count": 70,
     "metadata": {},
     "output_type": "execute_result"
    }
   ],
   "source": [
    "t = gen_mono_expr(10)\n",
    "print(t)\n",
    "to_sd(t)"
   ]
  },
  {
   "cell_type": "code",
   "execution_count": 71,
   "metadata": {},
   "outputs": [
    {
     "data": {
      "text/plain": [
       "{2: 8483,\n",
       " 3: 4617,\n",
       " 4: 2999,\n",
       " 5: 2146,\n",
       " 6: 1632,\n",
       " 7: 1295,\n",
       " 8: 1060,\n",
       " 9: 888,\n",
       " 10: 758,\n",
       " 11: 657,\n",
       " 12: 577,\n",
       " 13: 511,\n",
       " 14: 458,\n",
       " 15: 413,\n",
       " 16: 374,\n",
       " 17: 342,\n",
       " 18: 314,\n",
       " 19: 289,\n",
       " 20: 268,\n",
       " 21: 249,\n",
       " 22: 232,\n",
       " 23: 217,\n",
       " 24: 204,\n",
       " 25: 191,\n",
       " 26: 180,\n",
       " 27: 171,\n",
       " 28: 161,\n",
       " 29: 153,\n",
       " 30: 146}"
      ]
     },
     "execution_count": 71,
     "metadata": {},
     "output_type": "execute_result"
    }
   ],
   "source": [
    "MAX_DEPTH = 30\n",
    "PROB_BRANCH = 0.6\n",
    "NSAMPLES = 30000\n",
    "# NSAMPLES = 1000\n",
    "prob_h = (1/np.array(range(2, MAX_DEPTH+1)) )**(1.5)\n",
    "prob_h = prob_h / prob_h.sum()\n",
    "nsamples_bound = {h:int(prob_h[h-2]*NSAMPLES) for h in range(2, MAX_DEPTH+1)}\n",
    "nsamples_bound"
   ]
  },
  {
   "cell_type": "code",
   "execution_count": 72,
   "metadata": {},
   "outputs": [],
   "source": [
    "with open('test_d30_mono.tsv', 'w') as f:\n",
    "    for h in nsamples_bound:\n",
    "        if h % 2 != 0:\n",
    "            continue\n",
    "        nh = nsamples_bound[h]\n",
    "        for i in range(nh):\n",
    "            t = gen_mono_expr(h)\n",
    "            nodes = to_nlst(t)\n",
    "            nodes = ' '.join(nodes)\n",
    "            sd_lst, h = to_sd(t)\n",
    "            sd_lst = ' '.join([str(sd) for sd in sd_lst])\n",
    "            line = (nodes, sd_lst, str(h))\n",
    "            f.write('\\t'.join(line))\n",
    "            f.write('\\n')\n",
    "                    "
   ]
  },
  {
   "cell_type": "markdown",
   "metadata": {},
   "source": [
    "# test set that has equal fraction of different depth "
   ]
  },
  {
   "cell_type": "code",
   "execution_count": 119,
   "metadata": {},
   "outputs": [],
   "source": [
    "from collections import defaultdict\n",
    "\n",
    "MAX_DEPTH = 30\n",
    "PROB_BRANCH = 0.6\n",
    "NSAMPLES = 20000\n",
    "# NSAMPLES = 1000\n",
    "h_keys = list(range(2, 11)) + list(range(11, 30, 2))\n",
    "h2i = {h:i for i, h in enumerate(h_keys)}"
   ]
  },
  {
   "cell_type": "code",
   "execution_count": 106,
   "metadata": {},
   "outputs": [
    {
     "data": {
      "text/plain": [
       "[2, 3, 4, 5, 6, 7, 8, 9, 10, 11, 13, 15, 17, 19, 21, 23, 25, 27, 29]"
      ]
     },
     "execution_count": 106,
     "metadata": {},
     "output_type": "execute_result"
    }
   ],
   "source": [
    "hs"
   ]
  },
  {
   "cell_type": "code",
   "execution_count": 107,
   "metadata": {},
   "outputs": [],
   "source": [
    "prob_h = np.array([1/len(hs)] * len(hs))\n",
    "nsamples_bound = {h:int(prob_h[h2i[h]]*NSAMPLES) for h in hs}\n",
    "nsamples = defaultdict(int)"
   ]
  },
  {
   "cell_type": "code",
   "execution_count": 108,
   "metadata": {},
   "outputs": [
    {
     "data": {
      "text/plain": [
       "{2: 1052,\n",
       " 3: 1052,\n",
       " 4: 1052,\n",
       " 5: 1052,\n",
       " 6: 1052,\n",
       " 7: 1052,\n",
       " 8: 1052,\n",
       " 9: 1052,\n",
       " 10: 1052,\n",
       " 11: 1052,\n",
       " 13: 1052,\n",
       " 15: 1052,\n",
       " 17: 1052,\n",
       " 19: 1052,\n",
       " 21: 1052,\n",
       " 23: 1052,\n",
       " 25: 1052,\n",
       " 27: 1052,\n",
       " 29: 1052}"
      ]
     },
     "execution_count": 108,
     "metadata": {},
     "output_type": "execute_result"
    }
   ],
   "source": [
    "nsamples_bound"
   ]
  },
  {
   "cell_type": "code",
   "execution_count": 109,
   "metadata": {},
   "outputs": [
    {
     "name": "stdout",
     "output_type": "stream",
     "text": [
      "finished: 2\n",
      "finished: 4\n",
      "finished: 6\n",
      "finished: 8\n",
      "finished: 10\n",
      "finished: 7\n",
      "finished: 9\n",
      "finished: 5\n",
      "finished: 11\n",
      "finished: 13\n",
      "finished: 3\n",
      "finished: 15\n",
      "finished: 17\n",
      "finished: 19\n",
      "finished: 21\n",
      "finished: 23\n",
      "finished: 25\n",
      "finished: 27\n"
     ]
    }
   ],
   "source": [
    "examples = []\n",
    "printed = {h:False for h in hs}\n",
    "i = 0\n",
    "while True:\n",
    "    finished = True\n",
    "    for h in hs:\n",
    "        if nsamples[h] < nsamples_bound[h]:\n",
    "            finished = False\n",
    "    if finished:\n",
    "        break\n",
    "    \n",
    "    t = gen_tree()\n",
    "    if t in VALUES:\n",
    "        continue\n",
    "        \n",
    "    nodes = to_nlst(t)\n",
    "    nodes = ' '.join(nodes)\n",
    "    sd_lst, h = to_sd(t)\n",
    "    if h not in hs:\n",
    "        continue\n",
    "\n",
    "    if nsamples[h] >= nsamples_bound[h]:\n",
    "        if not printed[h]:\n",
    "            print('finished:', h)\n",
    "            printed[h] = True\n",
    "        continue\n",
    "    else:\n",
    "        nsamples[h] += 1\n",
    "    \n",
    "    sd_lst = ' '.join([str(sd) for sd in sd_lst])\n",
    "    examples.append((nodes, sd_lst, str(h)))\n",
    "    i += 1\n",
    "\n",
    "    if i >= NSAMPLES:\n",
    "        break"
   ]
  },
  {
   "cell_type": "code",
   "execution_count": 114,
   "metadata": {},
   "outputs": [],
   "source": [
    "def progress_bar(percent, loss, epoch):\n",
    "    \"\"\"Prints the progress until the next report.\"\"\"\n",
    "\n",
    "    fill = int(percent * 40)\n",
    "    str_disp = \"\\r[%s%s]: %.2f/epoch %d\" % ('=' * fill,\n",
    "                                         ' ' * (40 - fill),\n",
    "                                         percent,\n",
    "                                         epoch)\n",
    "    for k, v in loss.items():\n",
    "        str_disp += ' (%s:%.4f)' % (k, v)\n",
    "\n",
    "    print(str_disp, end='')"
   ]
  },
  {
   "cell_type": "code",
   "execution_count": 113,
   "metadata": {},
   "outputs": [
    {
     "data": {
      "text/plain": [
       "{2: 1052,\n",
       " 3: 1052,\n",
       " 4: 1052,\n",
       " 5: 1052,\n",
       " 6: 1052,\n",
       " 7: 1052,\n",
       " 8: 1052,\n",
       " 9: 1052,\n",
       " 10: 1052,\n",
       " 11: 1052,\n",
       " 13: 1052,\n",
       " 15: 1052,\n",
       " 17: 1052,\n",
       " 19: 1052,\n",
       " 21: 1052,\n",
       " 23: 1052,\n",
       " 25: 1052,\n",
       " 27: 1052,\n",
       " 29: 1052}"
      ]
     },
     "execution_count": 113,
     "metadata": {},
     "output_type": "execute_result"
    }
   ],
   "source": [
    "nsamples_bound"
   ]
  },
  {
   "cell_type": "code",
   "execution_count": 123,
   "metadata": {},
   "outputs": [
    {
     "data": {
      "text/plain": [
       "(array([1052., 1052., 1052., 1052., 1052., 1052., 1052., 1052., 1052.,\n",
       "        1052., 1052., 1052., 1052., 1052., 1052., 1052., 1052., 1052.,\n",
       "        1052.]),\n",
       " array([ 2,  3,  4,  5,  6,  7,  8,  9, 10, 11, 13, 15, 17, 19, 21, 23, 25,\n",
       "        27, 29, 30]),\n",
       " <a list of 19 Patch objects>)"
      ]
     },
     "execution_count": 123,
     "metadata": {},
     "output_type": "execute_result"
    },
    {
     "data": {
      "image/png": "[encoded data removed]",
      "text/plain": [
       "<Figure size 432x288 with 1 Axes>"
      ]
     },
     "metadata": {},
     "output_type": "display_data"
    }
   ],
   "source": [
    "hs = []\n",
    "for line in examples:\n",
    "    expr, ds, h = line\n",
    "    hs.append(int(h))\n",
    "plt.hist(hs, bins = h_keys + [30])"
   ]
  },
  {
   "cell_type": "code",
   "execution_count": 91,
   "metadata": {},
   "outputs": [],
   "source": [
    "examples_dict = {}\n",
    "for line in examples:\n",
    "    expr, ds, h = line\n",
    "    h = int(h)\n",
    "    if h not in examples_dict:\n",
    "        examples_dict[h] = []\n",
    "    examples_dict[h].append((expr, ds))\n",
    "hs = []\n",
    "expected_eds = []\n",
    "for h in sorted(examples_dict.keys()):\n",
    "    hs.append(h)\n",
    "    expected_eds.append(expected_ed(examples_dict[h]))"
   ]
  },
  {
   "cell_type": "code",
   "execution_count": 94,
   "metadata": {},
   "outputs": [
    {
     "data": {
      "image/png": "[encoded data removed]",
      "text/plain": [
       "<Figure size 432x288 with 1 Axes>"
      ]
     },
     "metadata": {},
     "output_type": "display_data"
    }
   ],
   "source": [
    "draw(hs, expected_eds)"
   ]
  },
  {
   "cell_type": "code",
   "execution_count": 95,
   "metadata": {},
   "outputs": [],
   "source": [
    "with open('test_d30_ef.tsv', 'w') as f:\n",
    "    for line in examples:\n",
    "        f.write('\\t'.join(line))\n",
    "        f.write('\\n')"
   ]
  },
  {
   "cell_type": "code",
   "execution_count": 98,
   "metadata": {},
   "outputs": [],
   "source": [
    "def num_extrem_vals(ds):\n",
    "    res = 0\n",
    "    for i, d in enumerate(ds):\n",
    "        if i == 0:\n",
    "            if d > ds[1]:\n",
    "                res += 1\n",
    "        elif i == len(ds)-1:\n",
    "            if d > ds[-2]:\n",
    "                res += 1\n",
    "        elif d > ds[i-1] and d > ds[i+1]:\n",
    "            res += 1\n",
    "    \n",
    "    return res            "
   ]
  },
  {
   "cell_type": "code",
   "execution_count": 102,
   "metadata": {},
   "outputs": [],
   "source": [
    "lines = []\n",
    "extrems = []\n",
    "hs = []\n",
    "with open('test_d30_ef.tsv', 'r') as f:\n",
    "    for line in f:\n",
    "        expr, ds, h = line.strip().split('\\t')\n",
    "        hs.append(int(h))\n",
    "        ds = [int(d) for d in ds.split()]\n",
    "        extrems.append(num_extrem_vals(ds))\n",
    "#         lines.append(line)"
   ]
  },
  {
   "cell_type": "code",
   "execution_count": 101,
   "metadata": {},
   "outputs": [
    {
     "data": {
      "text/plain": [
       "(array([9780., 3846., 2408., 1549., 1088., 1037.,  181.,   67.,   21.,\n",
       "          11.]),\n",
       " array([ 1. ,  2.2,  3.4,  4.6,  5.8,  7. ,  8.2,  9.4, 10.6, 11.8, 13. ]),\n",
       " <a list of 10 Patch objects>)"
      ]
     },
     "execution_count": 101,
     "metadata": {},
     "output_type": "execute_result"
    },
    {
     "data": {
      "image/png": "[encoded data removed]",
      "text/plain": [
       "<Figure size 432x288 with 1 Axes>"
      ]
     },
     "metadata": {},
     "output_type": "display_data"
    }
   ],
   "source": [
    "plt.hist(extrems)"
   ]
  },
  {
   "cell_type": "code",
   "execution_count": 103,
   "metadata": {},
   "outputs": [
    {
     "data": {
      "text/plain": [
       "(array([3156., 3156., 3156., 1052., 2104., 1052., 1052., 2104., 1052.,\n",
       "        2104.]),\n",
       " array([ 2. ,  4.7,  7.4, 10.1, 12.8, 15.5, 18.2, 20.9, 23.6, 26.3, 29. ]),\n",
       " <a list of 10 Patch objects>)"
      ]
     },
     "execution_count": 103,
     "metadata": {},
     "output_type": "execute_result"
    },
    {
     "data": {
      "image/png": "[encoded data removed]",
      "text/plain": [
       "<Figure size 432x288 with 1 Axes>"
      ]
     },
     "metadata": {},
     "output_type": "display_data"
    }
   ],
   "source": [
    "plt.hist(hs)"
   ]
  },
  {
   "cell_type": "code",
   "execution_count": 104,
   "metadata": {},
   "outputs": [
    {
     "data": {
      "text/plain": [
       "(array([3156, 3156, 3156, 1052, 2104, 1052, 1052, 2104, 1052, 2104]),\n",
       " array([ 2. ,  4.7,  7.4, 10.1, 12.8, 15.5, 18.2, 20.9, 23.6, 26.3, 29. ]))"
      ]
     },
     "execution_count": 104,
     "metadata": {},
     "output_type": "execute_result"
    }
   ],
   "source": [
    "np.histogram(hs)"
   ]
  },
  {
   "cell_type": "markdown",
   "metadata": {},
   "source": [
    "# \\#extremum"
   ]
  },
  {
   "cell_type": "code",
   "execution_count": 4,
   "metadata": {},
   "outputs": [],
   "source": [
    "import numpy as np\n",
    "import random\n",
    "import matplotlib.pyplot as plt\n",
    "\n",
    "MAX_DEPTH = 20\n",
    "PROB_BRANCH = 0.25\n",
    "VALUES = range(1, 10)\n",
    "OPS_E = [0, 1]\n",
    "OPS_T = [2, 3]\n",
    "NTYPES = ['e', 't']\n",
    "OP_MAP = ['+', '-', '*', '/']\n",
    "def num_extrem_vals(ds):\n",
    "    res = 0\n",
    "    for i, d in enumerate(ds):\n",
    "        if i == 0:\n",
    "            if d > ds[1]:\n",
    "                res += 1\n",
    "        elif i == len(ds)-1:\n",
    "            if d > ds[-2]:\n",
    "                res += 1\n",
    "        elif d > ds[i-1] and d > ds[i+1]:\n",
    "            res += 1\n",
    "    \n",
    "    return res            "
   ]
  },
  {
   "cell_type": "code",
   "execution_count": 5,
   "metadata": {},
   "outputs": [],
   "source": [
    "extremum = []\n",
    "with open('train_d30.tsv', 'r') as f:\n",
    "    for line in f:\n",
    "            expr, ds, h = line.strip().split('\\t')\n",
    "            ds = list(map(int, ds.split()))\n",
    "            e = num_extrem_vals(ds)\n",
    "            extremum.append(e)"
   ]
  },
  {
   "cell_type": "code",
   "execution_count": 15,
   "metadata": {},
   "outputs": [
    {
     "name": "stderr",
     "output_type": "stream",
     "text": [
      "/Users/marc/.pyenv/versions/3.6.4/envs/atec36/lib/python3.6/site-packages/matplotlib/axes/_axes.py:6462: UserWarning: The 'normed' kwarg is deprecated, and has been replaced by the 'density' kwarg.\n",
      "  warnings.warn(\"The 'normed' kwarg is deprecated, and has been \"\n"
     ]
    },
    {
     "data": {
      "text/plain": [
       "Text(0.5,0,'#extremum')"
      ]
     },
     "execution_count": 15,
     "metadata": {},
     "output_type": "execute_result"
    },
    {
     "data": {
      "image/png": "[encoded data removed]",
      "text/plain": [
       "<Figure size 600x400 with 1 Axes>"
      ]
     },
     "metadata": {},
     "output_type": "display_data"
    }
   ],
   "source": [
    "fig, ax = plt.subplots()\n",
    "fig.dpi = 100\n",
    "plt.hist(extremum, color='blue', normed=1, alpha=0.5)\n",
    "plt.xticks(np.arange(1, 12))\n",
    "plt.ylabel('fraction')\n",
    "plt.xlabel('#extremum')"
   ]
  },
  {
   "cell_type": "code",
   "execution_count": null,
   "metadata": {},
   "outputs": [],
   "source": []
  }
 ],
 "metadata": {
  "kernelspec": {
   "display_name": "Python 3",
   "language": "python",
   "name": "python3"
  },
  "language_info": {
   "codemirror_mode": {
    "name": "ipython",
    "version": 3
   },
   "file_extension": ".py",
   "mimetype": "text/x-python",
   "name": "python",
   "nbconvert_exporter": "python",
   "pygments_lexer": "ipython3",
   "version": "3.6.4"
  }
 },
 "nbformat": 4,
 "nbformat_minor": 2
}
