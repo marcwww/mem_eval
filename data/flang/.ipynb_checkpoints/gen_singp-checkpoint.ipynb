{
 "cells": [
  {
   "cell_type": "code",
   "execution_count": 1,
   "metadata": {},
   "outputs": [],
   "source": [
    "import numpy as np\n",
    "import random\n",
    "import matplotlib.pyplot as plt\n",
    "from nltk import Tree\n",
    "\n",
    "MAX_DEPTH = 20\n",
    "PROB_BRANCH = 0.25\n",
    "VALUES = range(1, 10)\n",
    "OPS_E = [0, 1]\n",
    "OPS_T = [2, 3]\n",
    "# OPS_T = [2]\n",
    "NTYPES = ['e', 't']\n",
    "OP_MAP = ['+', '-', '*', '/']\n",
    "# OP_MAP = ['+', '-', '*']\n",
    "PNESTED = 1"
   ]
  },
  {
   "cell_type": "markdown",
   "metadata": {},
   "source": [
    "$$\n",
    "F\\to I\\ |\\ (E) \\\\ \n",
    "T\\to T*F\\ |\\ T/F\\ |\\ F \\\\\n",
    "E\\to E+T\\ |\\ E-T\\ |\\ T \\\\\n",
    "I\\to number\n",
    "$$\n",
    "等价于分成两种情况：要么分裂出两个子树，要么这个节点变为其他类型节点"
   ]
  },
  {
   "cell_type": "code",
   "execution_count": 2,
   "metadata": {},
   "outputs": [],
   "source": [
    "def gen_expr(depth, ntype, pnested):\n",
    "    \n",
    "    if depth < MAX_DEPTH:\n",
    "        r = random.random()\n",
    "    else:\n",
    "        r = 1 + 0.1\n",
    "    \n",
    "    if r > PROB_BRANCH:\n",
    "        if ntype == 'f':\n",
    "            value = random.choice(VALUES)\n",
    "            return value\n",
    "        elif ntype == 't':\n",
    "            return gen_expr(depth + 1, 'f', pnested)\n",
    "        elif ntype == 'e':\n",
    "            return gen_expr(depth + 1, 't', pnested)\n",
    "    else:\n",
    "        if ntype == 'f':\n",
    "            if pnested < PNESTED:\n",
    "                e = gen_expr(depth + 2, 'e', pnested+1)\n",
    "                t = [['(', e], ')']\n",
    "            else:\n",
    "                value = random.choice(VALUES)\n",
    "                return value\n",
    "        elif ntype == 't':\n",
    "            op = random.choice(OPS_T)\n",
    "            v1, v2 = gen_expr(depth + 2, 't', pnested), gen_expr(depth + 1, 'f', pnested)\n",
    "            t = [[v1, OP_MAP[op]], v2]\n",
    "        else:\n",
    "            assert ntype == 'e'\n",
    "            op = random.choice(OPS_E)\n",
    "            v1, v2 = gen_expr(depth + 2, 'e', pnested), gen_expr(depth + 1, 't', pnested)\n",
    "            t = [[v1, OP_MAP[op]], v2]\n",
    "    \n",
    "    return t"
   ]
  },
  {
   "cell_type": "code",
   "execution_count": 3,
   "metadata": {},
   "outputs": [],
   "source": [
    "def gen_tree():\n",
    "    return gen_expr(0, 'e', 0)"
   ]
  },
  {
   "cell_type": "code",
   "execution_count": 5,
   "metadata": {},
   "outputs": [
    {
     "ename": "NameError",
     "evalue": "name 'to_nlst' is not defined",
     "output_type": "error",
     "traceback": [
      "\u001b[0;31m---------------------------------------------------------------------------\u001b[0m",
      "\u001b[0;31mNameError\u001b[0m                                 Traceback (most recent call last)",
      "\u001b[0;32m<ipython-input-5-66636469199d>\u001b[0m in \u001b[0;36m<module>\u001b[0;34m()\u001b[0m\n\u001b[1;32m      1\u001b[0m \u001b[0mPROB_BRANCH\u001b[0m \u001b[0;34m=\u001b[0m \u001b[0;36m0.6\u001b[0m\u001b[0;34m\u001b[0m\u001b[0m\n\u001b[1;32m      2\u001b[0m \u001b[0mt\u001b[0m \u001b[0;34m=\u001b[0m \u001b[0mgen_tree\u001b[0m\u001b[0;34m(\u001b[0m\u001b[0;34m)\u001b[0m\u001b[0;34m\u001b[0m\u001b[0m\n\u001b[0;32m----> 3\u001b[0;31m \u001b[0;34m''\u001b[0m\u001b[0;34m.\u001b[0m\u001b[0mjoin\u001b[0m\u001b[0;34m(\u001b[0m\u001b[0mto_nlst\u001b[0m\u001b[0;34m(\u001b[0m\u001b[0mt\u001b[0m\u001b[0;34m)\u001b[0m\u001b[0;34m)\u001b[0m\u001b[0;34m\u001b[0m\u001b[0m\n\u001b[0m\u001b[1;32m      4\u001b[0m \u001b[0mt\u001b[0m\u001b[0;34m\u001b[0m\u001b[0m\n",
      "\u001b[0;31mNameError\u001b[0m: name 'to_nlst' is not defined"
     ]
    }
   ],
   "source": [
    "PROB_BRANCH = 0.6\n",
    "t = gen_tree()\n",
    "''.join(to_nlst(t))\n",
    "t"
   ]
  },
  {
   "cell_type": "code",
   "execution_count": 6,
   "metadata": {},
   "outputs": [
    {
     "data": {
      "text/plain": [
       "[['(', [[8, '*'], 2]], ')']"
      ]
     },
     "execution_count": 6,
     "metadata": {},
     "output_type": "execute_result"
    }
   ],
   "source": [
    "t"
   ]
  },
  {
   "cell_type": "code",
   "execution_count": 7,
   "metadata": {},
   "outputs": [
    {
     "ename": "NameError",
     "evalue": "name 'to_nlst' is not defined",
     "output_type": "error",
     "traceback": [
      "\u001b[0;31m---------------------------------------------------------------------------\u001b[0m",
      "\u001b[0;31mNameError\u001b[0m                                 Traceback (most recent call last)",
      "\u001b[0;32m<ipython-input-7-51d042665558>\u001b[0m in \u001b[0;36m<module>\u001b[0;34m()\u001b[0m\n\u001b[1;32m      2\u001b[0m \u001b[0mPNESTED\u001b[0m \u001b[0;34m=\u001b[0m \u001b[0;36m3\u001b[0m\u001b[0;34m\u001b[0m\u001b[0m\n\u001b[1;32m      3\u001b[0m \u001b[0mt\u001b[0m \u001b[0;34m=\u001b[0m \u001b[0mgen_tree\u001b[0m\u001b[0;34m(\u001b[0m\u001b[0;34m)\u001b[0m\u001b[0;34m\u001b[0m\u001b[0m\n\u001b[0;32m----> 4\u001b[0;31m \u001b[0;34m''\u001b[0m\u001b[0;34m.\u001b[0m\u001b[0mjoin\u001b[0m\u001b[0;34m(\u001b[0m\u001b[0mto_nlst\u001b[0m\u001b[0;34m(\u001b[0m\u001b[0mt\u001b[0m\u001b[0;34m)\u001b[0m\u001b[0;34m)\u001b[0m\u001b[0;34m\u001b[0m\u001b[0m\n\u001b[0m",
      "\u001b[0;31mNameError\u001b[0m: name 'to_nlst' is not defined"
     ]
    }
   ],
   "source": [
    "PROB_BRANCH = 0.4\n",
    "PNESTED = 3\n",
    "t = gen_tree()\n",
    "''.join(to_nlst(t))"
   ]
  },
  {
   "cell_type": "code",
   "execution_count": 8,
   "metadata": {},
   "outputs": [],
   "source": [
    "def to_value(t):\n",
    "    if not isinstance(t, list):\n",
    "        return t\n",
    "\n",
    "    l = t[0]\n",
    "    r = t[1]\n",
    "    if l[1] in OP_MAP:\n",
    "        v1, op = (to_value(l[0]), l[1])\n",
    "        v2 = to_value(r)\n",
    "        return eval(''.join([str(v1), op, str(v2)]))\n",
    "    else:\n",
    "        assert l[0] == '('\n",
    "        v = to_value(l[1])\n",
    "        return v"
   ]
  },
  {
   "cell_type": "code",
   "execution_count": 9,
   "metadata": {},
   "outputs": [],
   "source": [
    "def to_nlst(t):\n",
    "    return list(filter(lambda x: x not in ['[', ']', ',', '\\'', ' '], str(t)))"
   ]
  },
  {
   "cell_type": "code",
   "execution_count": 10,
   "metadata": {},
   "outputs": [],
   "source": [
    "def to_sd(t):\n",
    "    if not isinstance(t, list):\n",
    "        d = []\n",
    "        h = 0\n",
    "    else:\n",
    "        l, r = t\n",
    "        d_l, h_l = to_sd(l)\n",
    "        d_r, h_r = to_sd(r)\n",
    "        h = max(h_l, h_r) + 1\n",
    "        d = d_l + [h] + d_r\n",
    "\n",
    "    return d, h"
   ]
  },
  {
   "cell_type": "code",
   "execution_count": 11,
   "metadata": {},
   "outputs": [],
   "source": [
    "def to_value_sd(sd_lst, node_lst):\n",
    "    if len(sd_lst) == 0:\n",
    "        node = node_lst[0]\n",
    "        v = node\n",
    "    else:\n",
    "        i = np.argmax(sd_lst)\n",
    "        child_l, v_l = to_value_sd(sd_lst[:i], node_lst[:i+1])\n",
    "        child_r, v_r = to_value_sd(sd_lst[i+1:], node_lst[i+1:])\n",
    "        node = [child_l, child_r]\n",
    "        if isinstance(v_l, list) and not isinstance(v_r, list):\n",
    "            if v_l[1] in OP_MAP:\n",
    "                v1, op = v_l[0], v_l[1]\n",
    "                v2 = v_r\n",
    "                v = str(eval(''.join([v1, op, v2])))\n",
    "            else:\n",
    "                assert v_l[0] == '('\n",
    "                v = str(v_l[1])\n",
    "        else:\n",
    "            assert not isinstance(v_l, list) and not isinstance(v_r, list)\n",
    "            v = [v_l, v_r]\n",
    "\n",
    "    return node, v"
   ]
  },
  {
   "cell_type": "code",
   "execution_count": 12,
   "metadata": {},
   "outputs": [],
   "source": [
    "def ave_len(es):\n",
    "    lens = []\n",
    "    for e in es:\n",
    "        lens.append(e[0].split())\n",
    "    return np.average(lens), np.var(lens)"
   ]
  },
  {
   "cell_type": "code",
   "execution_count": 13,
   "metadata": {},
   "outputs": [],
   "source": [
    "def plot_sd(t):\n",
    "    sd_lst, _ = to_sd(t)\n",
    "    nlst = to_nlst(t)\n",
    "    fig, ax = plt.subplots()\n",
    "    fig.dpi = 200\n",
    "    plt.bar(np.arange(len(sd_lst)), sd_lst)\n",
    "    plt.xticks(np.arange(len(nlst))-0.5, nlst)\n",
    "    plt.grid(axis='y', linestyle='--')"
   ]
  },
  {
   "cell_type": "code",
   "execution_count": 14,
   "metadata": {},
   "outputs": [],
   "source": [
    "t=[[[[[[4, '/'], [['(', [[[[[[7, '*'], 2], '*'], 7], '/'], 6]], ')']], '*'], 1],\n",
    "  '*'],\n",
    " [['(',\n",
    "   [[[[[[[[[[[[[[9, '/'], 4], '*'], 6], '*'], 8], '*'], 3], '*'], 3], '-'],\n",
    "      [[2, '/'], 9]],\n",
    "     '-'],\n",
    "    2]],\n",
    "  ')']]\n",
    "sd_lst, _ = to_sd(t)\n",
    "nlst = to_nlst(t)"
   ]
  },
  {
   "cell_type": "code",
   "execution_count": 15,
   "metadata": {},
   "outputs": [
    {
     "data": {
      "image/png": "[encoded data removed]",
      "text/plain": [
       "<Figure size 1200x800 with 1 Axes>"
      ]
     },
     "metadata": {},
     "output_type": "display_data"
    }
   ],
   "source": [
    "plot_sd(t)"
   ]
  },
  {
   "cell_type": "code",
   "execution_count": 16,
   "metadata": {},
   "outputs": [],
   "source": [
    "t = [[[[[[9, '/'], 4], '*'], 6], '/'], '7']\n",
    "# [['(','1'],')']"
   ]
  },
  {
   "cell_type": "code",
   "execution_count": 17,
   "metadata": {},
   "outputs": [
    {
     "data": {
      "image/png": "[encoded data removed]",
      "text/plain": [
       "<Figure size 1200x800 with 1 Axes>"
      ]
     },
     "metadata": {},
     "output_type": "display_data"
    }
   ],
   "source": [
    "plot_sd(t)"
   ]
  },
  {
   "cell_type": "code",
   "execution_count": 18,
   "metadata": {},
   "outputs": [
    {
     "data": {
      "image/png": "[encoded data removed]",
      "text/plain": [
       "<Figure size 1200x800 with 1 Axes>"
      ]
     },
     "metadata": {},
     "output_type": "display_data"
    }
   ],
   "source": [
    "t = [[9, '/'], 4]\n",
    "t = [['(',t],')']\n",
    "t = [[t, '*'], 6]\n",
    "t = [['(',t],')']\n",
    "t = [[t,'/'],'7']\n",
    "t = [['(',t],')']\n",
    "plot_sd(t)"
   ]
  },
  {
   "cell_type": "code",
   "execution_count": 19,
   "metadata": {},
   "outputs": [
    {
     "data": {
      "image/png": "[encoded data removed]",
      "text/plain": [
       "<Figure size 1200x800 with 1 Axes>"
      ]
     },
     "metadata": {},
     "output_type": "display_data"
    }
   ],
   "source": [
    "t = [[9, '/'], 4]\n",
    "t = [['(',t],')']\n",
    "t = [[t, '*'], t]\n",
    "t = [['(',t],')']\n",
    "t = [[t,'/'],'7']\n",
    "t = [['(',t],')']\n",
    "plot_sd(t)"
   ]
  },
  {
   "cell_type": "markdown",
   "metadata": {},
   "source": [
    "一个“坑”是一个可以结合的单元"
   ]
  },
  {
   "cell_type": "code",
   "execution_count": 20,
   "metadata": {},
   "outputs": [],
   "source": [
    "def derive_etree(etree):\n",
    "    if not isinstance(etree, tuple) and not isinstance(etree, list):\n",
    "        return etree\n",
    "    \n",
    "    l, r = etree\n",
    "    n_l = derive_etree(l)\n",
    "    n_r = derive_etree(r)\n",
    "    \n",
    "    return Tree('', [n_l, n_r])"
   ]
  },
  {
   "cell_type": "code",
   "execution_count": 21,
   "metadata": {},
   "outputs": [
    {
     "data": {
      "image/png": "[encoded data removed]",
      "text/plain": [
       "Tree('', [Tree('', ['(', Tree('', [Tree('', [Tree('', [Tree('', ['(', Tree('', [Tree('', [Tree('', [Tree('', ['(', Tree('', [Tree('', [9, '/']), 4])]), ')']), '*']), Tree('', [Tree('', ['(', Tree('', [Tree('', [9, '/']), 4])]), ')'])])]), ')']), '/']), '7'])]), ')'])"
      ]
     },
     "execution_count": 21,
     "metadata": {},
     "output_type": "execute_result"
    }
   ],
   "source": [
    "derive_etree(t)"
   ]
  },
  {
   "cell_type": "code",
   "execution_count": 22,
   "metadata": {},
   "outputs": [
    {
     "data": {
      "text/plain": [
       "'a'"
      ]
     },
     "execution_count": 22,
     "metadata": {},
     "output_type": "execute_result"
    },
    {
     "data": {
      "image/png": "[encoded data removed]",
      "text/plain": [
       "<Figure size 1200x800 with 1 Axes>"
      ]
     },
     "metadata": {},
     "output_type": "display_data"
    }
   ],
   "source": [
    "t=[[[[[[4, '/'], [['(', [[[[[[7, '*'], 2], '*'], 7], '/'], 6]], ')']], '*'], 1],\n",
    "  '*'],\n",
    " [[[[[[[[[[[[[[9, '/'], 4], '*'], 6], '*'], 8], '*'], 3], '*'], 3], '-'],\n",
    "      [[2, '/'], 9]],\n",
    "     '-'],\n",
    "    2]]\n",
    "sd_lst, _ = to_sd(t)\n",
    "nlst = to_nlst(t)\n",
    "fig, ax = plt.subplots()\n",
    "fig.dpi = 200\n",
    "plt.bar(np.arange(len(sd_lst)), sd_lst)\n",
    "plt.xticks(np.arange(len(nlst))-0.5, nlst)\n",
    "'a'"
   ]
  },
  {
   "cell_type": "markdown",
   "metadata": {},
   "source": [
    "# sanity check"
   ]
  },
  {
   "cell_type": "code",
   "execution_count": 23,
   "metadata": {},
   "outputs": [
    {
     "ename": "ZeroDivisionError",
     "evalue": "float division by zero",
     "output_type": "error",
     "traceback": [
      "\u001b[0;31m---------------------------------------------------------------------------\u001b[0m",
      "\u001b[0;31mZeroDivisionError\u001b[0m                         Traceback (most recent call last)",
      "\u001b[0;32m<ipython-input-23-9a85fc3f4f0b>\u001b[0m in \u001b[0;36m<module>\u001b[0;34m()\u001b[0m\n\u001b[1;32m      9\u001b[0m     \u001b[0;32mif\u001b[0m \u001b[0mexpr\u001b[0m \u001b[0;32mnot\u001b[0m \u001b[0;32min\u001b[0m \u001b[0mVALUES\u001b[0m\u001b[0;34m:\u001b[0m\u001b[0;34m\u001b[0m\u001b[0m\n\u001b[1;32m     10\u001b[0m         \u001b[0mres\u001b[0m \u001b[0;34m=\u001b[0m \u001b[0mto_nlst\u001b[0m\u001b[0;34m(\u001b[0m\u001b[0mexpr\u001b[0m\u001b[0;34m)\u001b[0m\u001b[0;34m\u001b[0m\u001b[0m\n\u001b[0;32m---> 11\u001b[0;31m         \u001b[0mgold\u001b[0m \u001b[0;34m=\u001b[0m \u001b[0meval\u001b[0m\u001b[0;34m(\u001b[0m\u001b[0;34m''\u001b[0m\u001b[0;34m.\u001b[0m\u001b[0mjoin\u001b[0m\u001b[0;34m(\u001b[0m\u001b[0mres\u001b[0m\u001b[0;34m)\u001b[0m\u001b[0;34m)\u001b[0m\u001b[0;34m\u001b[0m\u001b[0m\n\u001b[0m\u001b[1;32m     12\u001b[0m         \u001b[0mcalc\u001b[0m \u001b[0;34m=\u001b[0m \u001b[0mto_value\u001b[0m\u001b[0;34m(\u001b[0m\u001b[0mexpr\u001b[0m\u001b[0;34m)\u001b[0m\u001b[0;34m\u001b[0m\u001b[0m\n\u001b[1;32m     13\u001b[0m         \u001b[0;32mif\u001b[0m \u001b[0mgold\u001b[0m \u001b[0;34m!=\u001b[0m \u001b[0mcalc\u001b[0m\u001b[0;34m:\u001b[0m\u001b[0;34m\u001b[0m\u001b[0m\n",
      "\u001b[0;32m<string>\u001b[0m in \u001b[0;36m<module>\u001b[0;34m()\u001b[0m\n",
      "\u001b[0;31mZeroDivisionError\u001b[0m: float division by zero"
     ]
    }
   ],
   "source": [
    "MAX_DEPTH = 30\n",
    "PNESTED = 10\n",
    "PROB_BRANCH = 0.2\n",
    "for _ in range(1000):\n",
    "    expr = gen_expr(0, 'e', 1)\n",
    "    if expr in VALUES:\n",
    "        continue\n",
    "\n",
    "    if expr not in VALUES:\n",
    "        res = to_nlst(expr)\n",
    "        gold = eval(''.join(res))\n",
    "        calc = to_value(expr)\n",
    "        if gold != calc:\n",
    "            print(expr)\n",
    "#             print(res, calc, gold)"
   ]
  },
  {
   "cell_type": "code",
   "execution_count": 24,
   "metadata": {},
   "outputs": [
    {
     "ename": "ZeroDivisionError",
     "evalue": "float division by zero",
     "output_type": "error",
     "traceback": [
      "\u001b[0;31m---------------------------------------------------------------------------\u001b[0m",
      "\u001b[0;31mZeroDivisionError\u001b[0m                         Traceback (most recent call last)",
      "\u001b[0;32m<ipython-input-24-e9f9948ac6eb>\u001b[0m in \u001b[0;36m<module>\u001b[0;34m()\u001b[0m\n\u001b[1;32m      8\u001b[0m         \u001b[0mnode_lst\u001b[0m \u001b[0;34m=\u001b[0m \u001b[0mto_nlst\u001b[0m\u001b[0;34m(\u001b[0m\u001b[0mexpr\u001b[0m\u001b[0;34m)\u001b[0m\u001b[0;34m\u001b[0m\u001b[0m\n\u001b[1;32m      9\u001b[0m         \u001b[0msd_lst\u001b[0m\u001b[0;34m,\u001b[0m \u001b[0mh\u001b[0m \u001b[0;34m=\u001b[0m \u001b[0mto_sd\u001b[0m\u001b[0;34m(\u001b[0m\u001b[0mexpr\u001b[0m\u001b[0;34m)\u001b[0m\u001b[0;34m\u001b[0m\u001b[0m\n\u001b[0;32m---> 10\u001b[0;31m         \u001b[0mgold\u001b[0m \u001b[0;34m=\u001b[0m \u001b[0meval\u001b[0m\u001b[0;34m(\u001b[0m\u001b[0;34m''\u001b[0m\u001b[0;34m.\u001b[0m\u001b[0mjoin\u001b[0m\u001b[0;34m(\u001b[0m\u001b[0mnode_lst\u001b[0m\u001b[0;34m)\u001b[0m\u001b[0;34m)\u001b[0m\u001b[0;34m\u001b[0m\u001b[0m\n\u001b[0m\u001b[1;32m     11\u001b[0m         \u001b[0mt\u001b[0m\u001b[0;34m,\u001b[0m \u001b[0mcalc\u001b[0m \u001b[0;34m=\u001b[0m \u001b[0mto_value_sd\u001b[0m\u001b[0;34m(\u001b[0m\u001b[0msd_lst\u001b[0m\u001b[0;34m,\u001b[0m \u001b[0mnode_lst\u001b[0m\u001b[0;34m)\u001b[0m\u001b[0;34m\u001b[0m\u001b[0m\n\u001b[1;32m     12\u001b[0m         \u001b[0;32mif\u001b[0m \u001b[0mstr\u001b[0m\u001b[0;34m(\u001b[0m\u001b[0mgold\u001b[0m\u001b[0;34m)\u001b[0m \u001b[0;34m!=\u001b[0m \u001b[0mcalc\u001b[0m\u001b[0;34m:\u001b[0m\u001b[0;34m\u001b[0m\u001b[0m\n",
      "\u001b[0;32m<string>\u001b[0m in \u001b[0;36m<module>\u001b[0;34m()\u001b[0m\n",
      "\u001b[0;31mZeroDivisionError\u001b[0m: float division by zero"
     ]
    }
   ],
   "source": [
    "MAX_DEPTH = 30\n",
    "for _ in range(1000):\n",
    "    expr = gen_expr(0, 'e', 0)\n",
    "    if expr in VALUES:\n",
    "        continue\n",
    "\n",
    "    if expr not in VALUES:\n",
    "        node_lst = to_nlst(expr)\n",
    "        sd_lst, h = to_sd(expr)\n",
    "        gold = eval(''.join(node_lst))\n",
    "        t, calc = to_value_sd(sd_lst, node_lst)\n",
    "        if str(gold) != calc:\n",
    "            print(expr)\n",
    "            print(res, calc, gold)"
   ]
  },
  {
   "cell_type": "markdown",
   "metadata": {},
   "source": [
    "# prob_branch v.s. hist of depth"
   ]
  },
  {
   "cell_type": "code",
   "execution_count": 232,
   "metadata": {},
   "outputs": [],
   "source": [
    "MAX_DEPTH = 30\n",
    "PROB_BRANCH = 0.4\n",
    "PNESTED = 1\n",
    "NSAMPLES = 100000"
   ]
  },
  {
   "cell_type": "code",
   "execution_count": 233,
   "metadata": {},
   "outputs": [
    {
     "data": {
      "text/plain": [
       "1"
      ]
     },
     "execution_count": 233,
     "metadata": {},
     "output_type": "execute_result"
    }
   ],
   "source": [
    "PNESTED"
   ]
  },
  {
   "cell_type": "code",
   "execution_count": 234,
   "metadata": {},
   "outputs": [],
   "source": [
    "examples = []\n",
    "for _ in range(NSAMPLES):\n",
    "    t = gen_tree()\n",
    "    nodes = to_nlst(t)\n",
    "    nodes = ' '.join(nodes)\n",
    "    sd_lst, h = to_sd(t)\n",
    "#     if h > MAX_DEPTH:\n",
    "#         continue\n",
    "    if h == 0:\n",
    "        continue\n",
    "#     sd_lst = ' '.join([str(sd) for sd in sd_lst])\n",
    "    sd_lst = ' '.join(list(map(str, sd_lst))) \n",
    "    examples.append((nodes, sd_lst, str(h)))"
   ]
  },
  {
   "cell_type": "code",
   "execution_count": 235,
   "metadata": {},
   "outputs": [],
   "source": [
    "depths = [int(example[-1]) for example in examples]"
   ]
  },
  {
   "cell_type": "code",
   "execution_count": 236,
   "metadata": {},
   "outputs": [
    {
     "data": {
      "text/plain": [
       "(array([1.3462e+04, 2.7970e+03, 9.4990e+03, 4.3790e+03, 7.5160e+03,\n",
       "        4.8570e+03, 6.0270e+03, 4.4050e+03, 4.7160e+03, 3.7630e+03,\n",
       "        3.4390e+03, 2.7000e+03, 2.4200e+03, 1.8820e+03, 1.5370e+03,\n",
       "        1.2010e+03, 9.2900e+02, 7.1600e+02, 5.5900e+02, 4.0900e+02,\n",
       "        3.6500e+02, 2.5500e+02, 1.6900e+02, 1.0800e+02, 8.4000e+01,\n",
       "        7.3000e+01, 6.8000e+01, 6.0000e+01, 3.0000e+01, 8.0000e+00]),\n",
       " array([ 2.        ,  2.96666667,  3.93333333,  4.9       ,  5.86666667,\n",
       "         6.83333333,  7.8       ,  8.76666667,  9.73333333, 10.7       ,\n",
       "        11.66666667, 12.63333333, 13.6       , 14.56666667, 15.53333333,\n",
       "        16.5       , 17.46666667, 18.43333333, 19.4       , 20.36666667,\n",
       "        21.33333333, 22.3       , 23.26666667, 24.23333333, 25.2       ,\n",
       "        26.16666667, 27.13333333, 28.1       , 29.06666667, 30.03333333,\n",
       "        31.        ]),\n",
       " <a list of 30 Patch objects>)"
      ]
     },
     "execution_count": 236,
     "metadata": {},
     "output_type": "execute_result"
    },
    {
     "data": {
      "image/png": "[encoded data removed]",
      "text/plain": [
       "<Figure size 432x288 with 1 Axes>"
      ]
     },
     "metadata": {},
     "output_type": "display_data"
    }
   ],
   "source": [
    "plt.hist(depths, bins=MAX_DEPTH)"
   ]
  },
  {
   "cell_type": "code",
   "execution_count": 237,
   "metadata": {},
   "outputs": [
    {
     "data": {
      "text/plain": [
       "(array([2.3063e+04, 3.5450e+03, 0.0000e+00, 1.0231e+04, 2.9140e+03,\n",
       "        0.0000e+00, 4.1240e+03, 1.5860e+03, 0.0000e+00, 1.6330e+03,\n",
       "        0.0000e+00, 6.6600e+02, 6.0000e+02, 0.0000e+00, 2.6200e+02,\n",
       "        1.8400e+02, 0.0000e+00, 1.0300e+02, 5.6000e+01, 0.0000e+00,\n",
       "        2.4000e+01, 0.0000e+00, 2.0000e+01, 9.0000e+00, 0.0000e+00,\n",
       "        6.0000e+00, 3.0000e+00, 0.0000e+00, 0.0000e+00, 1.0000e+00]),\n",
       " array([ 2.        ,  2.63333333,  3.26666667,  3.9       ,  4.53333333,\n",
       "         5.16666667,  5.8       ,  6.43333333,  7.06666667,  7.7       ,\n",
       "         8.33333333,  8.96666667,  9.6       , 10.23333333, 10.86666667,\n",
       "        11.5       , 12.13333333, 12.76666667, 13.4       , 14.03333333,\n",
       "        14.66666667, 15.3       , 15.93333333, 16.56666667, 17.2       ,\n",
       "        17.83333333, 18.46666667, 19.1       , 19.73333333, 20.36666667,\n",
       "        21.        ]),\n",
       " <a list of 30 Patch objects>)"
      ]
     },
     "execution_count": 237,
     "metadata": {},
     "output_type": "execute_result"
    },
    {
     "data": {
      "image/png": "[encoded data removed]",
      "text/plain": [
       "<Figure size 432x288 with 1 Axes>"
      ]
     },
     "metadata": {},
     "output_type": "display_data"
    }
   ],
   "source": [
    "MAX_DEPTH = 30\n",
    "PROB_BRANCH = 0.2\n",
    "NSAMPLES = 100000\n",
    "examples = []\n",
    "for _ in range(NSAMPLES):\n",
    "    t = gen_tree()\n",
    "    nodes = to_nlst(t)\n",
    "    nodes = ' '.join(nodes)\n",
    "    sd_lst, h = to_sd(t)\n",
    "#     if h > MAX_DEPTH:\n",
    "#         continue\n",
    "    if h == 0:\n",
    "        continue\n",
    "#     sd_lst = ' '.join([str(sd) for sd in sd_lst])\n",
    "    sd_lst = ' '.join(list(map(str, sd_lst))) \n",
    "    examples.append((nodes, sd_lst, str(h)))\n",
    "depths = [int(example[-1]) for example in examples]\n",
    "plt.hist(depths, bins=MAX_DEPTH)"
   ]
  },
  {
   "cell_type": "markdown",
   "metadata": {},
   "source": [
    "# generate dataset"
   ]
  },
  {
   "cell_type": "code",
   "execution_count": 25,
   "metadata": {},
   "outputs": [],
   "source": [
    "from collections import defaultdict"
   ]
  },
  {
   "cell_type": "code",
   "execution_count": 32,
   "metadata": {},
   "outputs": [],
   "source": [
    "MAX_DEPTH = 30\n",
    "PROB_BRANCH = 0.4\n",
    "NSAMPLES = 100000\n",
    "prob_h = (1/np.array(range(2, MAX_DEPTH+1)) )**(1.5)\n",
    "prob_h = prob_h / prob_h.sum()\n",
    "nsamples_bound = {h:int(prob_h[h-2]*NSAMPLES) for h in range(2, MAX_DEPTH+1)}\n",
    "nsamples = defaultdict(int)\n",
    "PNESTED = 1"
   ]
  },
  {
   "cell_type": "code",
   "execution_count": 33,
   "metadata": {},
   "outputs": [
    {
     "data": {
      "text/plain": [
       "{2: 28278,\n",
       " 3: 15392,\n",
       " 4: 9998,\n",
       " 5: 7154,\n",
       " 6: 5442,\n",
       " 7: 4318,\n",
       " 8: 3534,\n",
       " 9: 2962,\n",
       " 10: 2529,\n",
       " 11: 2192,\n",
       " 12: 1924,\n",
       " 13: 1706,\n",
       " 14: 1526,\n",
       " 15: 1376,\n",
       " 16: 1249,\n",
       " 17: 1141,\n",
       " 18: 1047,\n",
       " 19: 965,\n",
       " 20: 894,\n",
       " 21: 831,\n",
       " 22: 775,\n",
       " 23: 725,\n",
       " 24: 680,\n",
       " 25: 639,\n",
       " 26: 603,\n",
       " 27: 570,\n",
       " 28: 539,\n",
       " 29: 512,\n",
       " 30: 486}"
      ]
     },
     "execution_count": 33,
     "metadata": {},
     "output_type": "execute_result"
    }
   ],
   "source": [
    "nsamples_bound"
   ]
  },
  {
   "cell_type": "code",
   "execution_count": 34,
   "metadata": {},
   "outputs": [
    {
     "name": "stdout",
     "output_type": "stream",
     "text": [
      "finished: 10\n",
      "finished: 12\n",
      "finished: 8\n",
      "finished: 13\n",
      "finished: 11\n",
      "finished: 14\n",
      "finished: 9\n",
      "finished: 15\n",
      "finished: 6\n",
      "finished: 16\n",
      "finished: 7\n",
      "finished: 17\n",
      "finished: 4\n",
      "finished: 18\n",
      "finished: 19\n",
      "finished: 20\n",
      "finished: 5\n",
      "finished: 21\n",
      "finished: 2\n",
      "finished: 22\n",
      "finished: 23\n",
      "finished: 24\n",
      "finished: 25\n",
      "finished: 3\n",
      "finished: 26\n",
      "finished: 29\n",
      "finished: 27\n",
      "finished: 28\n"
     ]
    }
   ],
   "source": [
    "examples = []\n",
    "printed = {h:False for h in range(2, MAX_DEPTH+1)}\n",
    "i = 0\n",
    "while True:\n",
    "    finished = True\n",
    "    for h in range(2, MAX_DEPTH+1):\n",
    "        if nsamples[h] < nsamples_bound[h]:\n",
    "            finished = False\n",
    "    if finished:\n",
    "        break\n",
    "    \n",
    "    t = gen_tree()\n",
    "    if t in VALUES:\n",
    "        continue\n",
    "    nodes = to_nlst(t)\n",
    "    nodes = ' '.join(nodes)\n",
    "    sd_lst, h = to_sd(t)\n",
    "    if h > MAX_DEPTH:\n",
    "        continue\n",
    "    if nsamples[h] >= nsamples_bound[h]:\n",
    "        if not printed[h]:\n",
    "            print('finished:', h)\n",
    "            printed[h] = True\n",
    "        continue\n",
    "    else:\n",
    "        nsamples[h] += 1\n",
    "    \n",
    "    sd_lst = ' '.join([str(sd) for sd in sd_lst])\n",
    "    examples.append((nodes, sd_lst, str(h)))\n",
    "    i += 1\n",
    "\n",
    "    if i >= NSAMPLES:\n",
    "        break"
   ]
  },
  {
   "cell_type": "code",
   "execution_count": 35,
   "metadata": {},
   "outputs": [
    {
     "data": {
      "image/png": "[encoded data removed]",
      "text/plain": [
       "<Figure size 432x288 with 1 Axes>"
      ]
     },
     "metadata": {},
     "output_type": "display_data"
    }
   ],
   "source": [
    "depths = [int(example[-1]) for example in examples]\n",
    "plt.hist(depths, bins=30, range=(0, MAX_DEPTH+1))\n",
    "plt.show()"
   ]
  },
  {
   "cell_type": "code",
   "execution_count": 36,
   "metadata": {},
   "outputs": [
    {
     "data": {
      "text/plain": [
       "1"
      ]
     },
     "execution_count": 36,
     "metadata": {},
     "output_type": "execute_result"
    }
   ],
   "source": [
    "PNESTED"
   ]
  },
  {
   "cell_type": "code",
   "execution_count": 37,
   "metadata": {},
   "outputs": [
    {
     "data": {
      "image/png": "[encoded data removed]",
      "text/plain": [
       "<Figure size 432x288 with 1 Axes>"
      ]
     },
     "metadata": {},
     "output_type": "display_data"
    }
   ],
   "source": [
    "seq_len = []\n",
    "for (seq, _, _) in examples:\n",
    "    seq_len.append(len(seq.split()))\n",
    "plt.hist(seq_len, bins=100, range=(0, 100))\n",
    "plt.show()"
   ]
  },
  {
   "cell_type": "markdown",
   "metadata": {},
   "source": [
    "# similarity between samples under each depth"
   ]
  },
  {
   "cell_type": "code",
   "execution_count": 38,
   "metadata": {},
   "outputs": [
    {
     "name": "stdout",
     "output_type": "stream",
     "text": [
      "2\n"
     ]
    }
   ],
   "source": [
    "def ed(s1, s2):\n",
    "    m=len(s1)+1\n",
    "    n=len(s2)+1\n",
    "\n",
    "    tbl = {}\n",
    "    for i in range(m): tbl[i,0]=i\n",
    "    for j in range(n): tbl[0,j]=j\n",
    "    for i in range(1, m):\n",
    "        for j in range(1, n):\n",
    "            cost = 0 if s1[i-1] == s2[j-1] else 1\n",
    "            tbl[i,j] = min(tbl[i, j-1]+1, tbl[i-1, j]+1, tbl[i-1, j-1]+cost)\n",
    "\n",
    "    return tbl[i,j]\n",
    "\n",
    "print(ed(\"Helloworld\", \"HalloWorld\"))"
   ]
  },
  {
   "cell_type": "code",
   "execution_count": 39,
   "metadata": {},
   "outputs": [],
   "source": [
    "def expected_ed(samples, nsampling=1000):\n",
    "    res = []\n",
    "    lens = []\n",
    "    for _ in range(nsampling):\n",
    "        e1 = random.choice(samples)\n",
    "        e2 = random.choice(samples)\n",
    "        edis = ed(e1[1].split(), e2[1].split())\n",
    "        res.append(edis)\n",
    "        l1 = len(e1[1].split())\n",
    "        l2 = len(e2[1].split())\n",
    "        l_mean = np.mean([l1, l2])\n",
    "        lens.append(l_mean)\n",
    "        \n",
    "    return np.mean(res)/np.mean(lens)"
   ]
  },
  {
   "cell_type": "code",
   "execution_count": 40,
   "metadata": {},
   "outputs": [],
   "source": [
    "examples_h = {}\n",
    "for line in examples:\n",
    "    expr, ds, h = line\n",
    "    h = int(h)\n",
    "    if h not in examples_h:\n",
    "        examples_h[h] = []\n",
    "    examples_h[h].append((expr, ds))"
   ]
  },
  {
   "cell_type": "code",
   "execution_count": 41,
   "metadata": {},
   "outputs": [],
   "source": [
    "hs = []\n",
    "expected_eds = []\n",
    "for h in sorted(examples_h.keys()):\n",
    "    hs.append(h)\n",
    "    expected_eds.append(expected_ed(examples_h[h]))"
   ]
  },
  {
   "cell_type": "code",
   "execution_count": 42,
   "metadata": {},
   "outputs": [
    {
     "data": {
      "image/png": "[encoded data removed]",
      "text/plain": [
       "<Figure size 432x288 with 1 Axes>"
      ]
     },
     "metadata": {},
     "output_type": "display_data"
    }
   ],
   "source": [
    "def draw(x, y):\n",
    "    plt.plot(x, y, 'ro-', label='ed/len')\n",
    "    plt.legend()\n",
    "    plt.grid()\n",
    "    plt.grid(color='b' , linewidth=0.1 ,linestyle='--')\n",
    "draw(hs, expected_eds)"
   ]
  },
  {
   "cell_type": "code",
   "execution_count": 44,
   "metadata": {},
   "outputs": [],
   "source": [
    "examples_pa = []\n",
    "for e in examples:\n",
    "    if '(' not in e[0]:\n",
    "        continue\n",
    "    \n",
    "    examples_pa.append(e)"
   ]
  },
  {
   "cell_type": "code",
   "execution_count": 45,
   "metadata": {},
   "outputs": [
    {
     "data": {
      "text/plain": [
       "74208"
      ]
     },
     "execution_count": 45,
     "metadata": {},
     "output_type": "execute_result"
    }
   ],
   "source": [
    "len(examples_pa)"
   ]
  },
  {
   "cell_type": "code",
   "execution_count": 46,
   "metadata": {},
   "outputs": [
    {
     "data": {
      "text/plain": [
       "99987"
      ]
     },
     "execution_count": 46,
     "metadata": {},
     "output_type": "execute_result"
    }
   ],
   "source": [
    "len(examples)"
   ]
  },
  {
   "cell_type": "markdown",
   "metadata": {},
   "source": [
    "# save"
   ]
  },
  {
   "cell_type": "code",
   "execution_count": 252,
   "metadata": {},
   "outputs": [],
   "source": [
    "random.shuffle(examples)\n",
    "ntrain = int(0.8 * NSAMPLES)\n",
    "nvalid = int(0.1 * NSAMPLES)\n",
    "ntest = int(0.1 * NSAMPLES)\n",
    "train = examples[:ntrain]\n",
    "valid = examples[ntrain: ntrain+nvalid]\n",
    "test = examples[ntrain+nvalid:]\n",
    "for dataset, dataset_type in zip([train, valid, test], ['train', 'valid', 'test']):\n",
    "    with open('%s_d%d.pn%d.tsv' % (dataset_type, MAX_DEPTH, PNESTED), 'w') as f:\n",
    "        for line in dataset:\n",
    "            f.write('\\t'.join(line))\n",
    "            f.write('\\n')"
   ]
  },
  {
   "cell_type": "code",
   "execution_count": 253,
   "metadata": {},
   "outputs": [],
   "source": [
    "def num_extrem_vals(ds):\n",
    "    res = 0\n",
    "    for i, d in enumerate(ds):\n",
    "        if i == 0:\n",
    "            if d > ds[1]:\n",
    "                res += 1\n",
    "        elif i == len(ds)-1:\n",
    "            if d > ds[-2]:\n",
    "                res += 1\n",
    "        elif d > ds[i-1] and d > ds[i+1]:\n",
    "            res += 1\n",
    "    \n",
    "    return res            "
   ]
  },
  {
   "cell_type": "code",
   "execution_count": 261,
   "metadata": {},
   "outputs": [],
   "source": [
    "nes = []\n",
    "elst = []\n",
    "dslst = []\n",
    "with open('%s_d%d.pn%d.tsv' % (dataset_type, MAX_DEPTH, PNESTED), 'r') as f:\n",
    "    for line in f:\n",
    "        expr, ds, h = line.strip().split('\\t')\n",
    "        ds = list(map(int, ds.split()))\n",
    "        ne = num_extrem_vals(ds)\n",
    "        nes.append(ne)\n",
    "        if ne > 60:\n",
    "            elst.append(expr)\n",
    "            dslst.append(ds)"
   ]
  },
  {
   "cell_type": "code",
   "execution_count": 264,
   "metadata": {},
   "outputs": [
    {
     "data": {
      "text/plain": [
       "(array([6.852e+03, 1.812e+03, 6.970e+02, 3.340e+02, 1.610e+02, 6.300e+01,\n",
       "        4.000e+01, 1.900e+01, 7.000e+00, 2.000e+00]),\n",
       " array([ 1. ,  2.9,  4.8,  6.7,  8.6, 10.5, 12.4, 14.3, 16.2, 18.1, 20. ]),\n",
       " <a list of 10 Patch objects>)"
      ]
     },
     "execution_count": 264,
     "metadata": {},
     "output_type": "execute_result"
    },
    {
     "data": {
      "image/png": "[encoded data removed]",
      "text/plain": [
       "<Figure size 432x288 with 1 Axes>"
      ]
     },
     "metadata": {},
     "output_type": "display_data"
    }
   ],
   "source": [
    "plt.hist(nes)"
   ]
  },
  {
   "cell_type": "markdown",
   "metadata": {},
   "source": [
    "# save pa"
   ]
  },
  {
   "cell_type": "code",
   "execution_count": 54,
   "metadata": {},
   "outputs": [
    {
     "data": {
      "text/plain": [
       "74208"
      ]
     },
     "execution_count": 54,
     "metadata": {},
     "output_type": "execute_result"
    }
   ],
   "source": [
    "len(examples_pa)"
   ]
  },
  {
   "cell_type": "code",
   "execution_count": 53,
   "metadata": {},
   "outputs": [],
   "source": [
    "random.shuffle(examples_pa)\n",
    "ntrain = int(0.8 * len(examples_pa))\n",
    "nvalid = int(0.1 * len(examples_pa))\n",
    "ntest = int(0.1 * len(examples_pa))\n",
    "train = examples_pa[:ntrain]\n",
    "valid = examples_pa[ntrain: ntrain+nvalid]\n",
    "test = examples_pa[ntrain+nvalid:]\n",
    "for dataset, dataset_type in zip([train, valid, test], ['train', 'valid', 'test']):\n",
    "    with open('%s_d%d.pn%d.tsv' % (dataset_type, MAX_DEPTH, PNESTED), 'w') as f:\n",
    "        for line in dataset:\n",
    "            f.write('\\t'.join(line))\n",
    "            f.write('\\n')"
   ]
  },
  {
   "cell_type": "code",
   "execution_count": 55,
   "metadata": {},
   "outputs": [],
   "source": [
    "def num_extrem_vals(ds):\n",
    "    res = 0\n",
    "    for i, d in enumerate(ds):\n",
    "        if i == 0:\n",
    "            if d > ds[1]:\n",
    "                res += 1\n",
    "        elif i == len(ds)-1:\n",
    "            if d > ds[-2]:\n",
    "                res += 1\n",
    "        elif d > ds[i-1] and d > ds[i+1]:\n",
    "            res += 1\n",
    "    \n",
    "    return res            "
   ]
  },
  {
   "cell_type": "code",
   "execution_count": 56,
   "metadata": {},
   "outputs": [],
   "source": [
    "nes = []\n",
    "elst = []\n",
    "dslst = []\n",
    "with open('%s_d%d.pn%d.tsv' % (dataset_type, MAX_DEPTH, PNESTED), 'r') as f:\n",
    "    for line in f:\n",
    "        expr, ds, h = line.strip().split('\\t')\n",
    "        ds = list(map(int, ds.split()))\n",
    "        ne = num_extrem_vals(ds)\n",
    "        nes.append(ne)\n",
    "        if ne > 60:\n",
    "            elst.append(expr)\n",
    "            dslst.append(ds)"
   ]
  },
  {
   "cell_type": "code",
   "execution_count": null,
   "metadata": {},
   "outputs": [],
   "source": []
  },
  {
   "cell_type": "code",
   "execution_count": 57,
   "metadata": {},
   "outputs": [
    {
     "data": {
      "text/plain": [
       "(array([0., 0., 0., 0., 0., 0., 0., 0., 0., 0.]),\n",
       " array([0. , 0.1, 0.2, 0.3, 0.4, 0.5, 0.6, 0.7, 0.8, 0.9, 1. ]),\n",
       " <a list of 10 Patch objects>)"
      ]
     },
     "execution_count": 57,
     "metadata": {},
     "output_type": "execute_result"
    },
    {
     "data": {
      "image/png": "[encoded data removed]",
      "text/plain": [
       "<Figure size 432x288 with 1 Axes>"
      ]
     },
     "metadata": {},
     "output_type": "display_data"
    }
   ],
   "source": [
    "plt.hist(nes)"
   ]
  },
  {
   "cell_type": "code",
   "execution_count": null,
   "metadata": {},
   "outputs": [],
   "source": []
  }
 ],
 "metadata": {
  "kernelspec": {
   "display_name": "Python 3",
   "language": "python",
   "name": "python3"
  },
  "language_info": {
   "codemirror_mode": {
    "name": "ipython",
    "version": 3
   },
   "file_extension": ".py",
   "mimetype": "text/x-python",
   "name": "python",
   "nbconvert_exporter": "python",
   "pygments_lexer": "ipython3",
   "version": "3.6.4"
  }
 },
 "nbformat": 4,
 "nbformat_minor": 2
}
