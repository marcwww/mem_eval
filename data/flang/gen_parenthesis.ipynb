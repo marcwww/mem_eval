{
 "cells": [
  {
   "cell_type": "code",
   "execution_count": 6,
   "metadata": {},
   "outputs": [],
   "source": [
    "import numpy as np\n",
    "import random\n",
    "import matplotlib.pyplot as plt\n",
    "\n",
    "MAX_DEPTH = 20\n",
    "PROB_BRANCH = 0.25\n",
    "VALUES = range(1, 10)\n",
    "OPS_E = [0, 1]\n",
    "OPS_T = [2, 3]\n",
    "NTYPES = ['e', 't']\n",
    "OP_MAP = ['+', '-', '*', '/']"
   ]
  },
  {
   "cell_type": "code",
   "execution_count": 7,
   "metadata": {},
   "outputs": [],
   "source": [
    "def gen_expr(depth, ntype):\n",
    "    \n",
    "    if depth < MAX_DEPTH:\n",
    "        r = random.random()\n",
    "    else:\n",
    "        r = 1 + 0.1\n",
    "    \n",
    "    if r > PROB_BRANCH:\n",
    "        if ntype == 'f':\n",
    "            value = random.choice(VALUES)\n",
    "            return value\n",
    "        elif ntype == 't':\n",
    "            return gen_expr(depth + 1, 'f')\n",
    "        elif ntype == 'e':\n",
    "            return gen_expr(depth + 1, 't')\n",
    "    \n",
    "    else:\n",
    "        if ntype == 'f':\n",
    "            e = gen_expr(depth + 2, 'e')\n",
    "            t = [['(', e], ')']\n",
    "        elif ntype == 't':\n",
    "            op = random.choice(OPS_T)\n",
    "            v1, v2 = gen_expr(depth + 2, 't'), gen_expr(depth + 1, 'f')\n",
    "            t = [[v1, OP_MAP[op]], v2]\n",
    "        else:\n",
    "            assert ntype == 'e'\n",
    "            op = random.choice(OPS_E)\n",
    "            v1, v2 = gen_expr(depth + 2, 'e'), gen_expr(depth + 1, 't')\n",
    "            t = [[v1, OP_MAP[op]], v2]\n",
    "    \n",
    "    return t"
   ]
  },
  {
   "cell_type": "code",
   "execution_count": 8,
   "metadata": {},
   "outputs": [],
   "source": [
    "def gen_tree():\n",
    "    return gen_expr(0, 'e')"
   ]
  },
  {
   "cell_type": "code",
   "execution_count": 9,
   "metadata": {},
   "outputs": [],
   "source": [
    "def to_value(t):\n",
    "    if not isinstance(t, list):\n",
    "        return t\n",
    "\n",
    "    l = t[0]\n",
    "    r = t[1]\n",
    "    if l[1] in OP_MAP:\n",
    "        v1, op = (to_value(l[0]), l[1])\n",
    "        v2 = to_value(r)\n",
    "        return eval(''.join([str(v1), op, str(v2)]))\n",
    "    else:\n",
    "        assert l[0] == '('\n",
    "        v = to_value(l[1])\n",
    "        return v"
   ]
  },
  {
   "cell_type": "code",
   "execution_count": 10,
   "metadata": {},
   "outputs": [],
   "source": [
    "def to_nlst(t):\n",
    "    return list(filter(lambda x: x not in ['[', ']', ',', '\\'', ' '], str(t)))"
   ]
  },
  {
   "cell_type": "code",
   "execution_count": 11,
   "metadata": {},
   "outputs": [],
   "source": [
    "def to_sd(t):\n",
    "    if not isinstance(t, list):\n",
    "        d = []\n",
    "        h = 0\n",
    "    else:\n",
    "        l, r = t\n",
    "        d_l, h_l = to_sd(l)\n",
    "        d_r, h_r = to_sd(r)\n",
    "        h = max(h_l, h_r) + 1\n",
    "        d = d_l + [h] + d_r\n",
    "\n",
    "    return d, h"
   ]
  },
  {
   "cell_type": "code",
   "execution_count": 12,
   "metadata": {},
   "outputs": [],
   "source": [
    "def to_value_sd(sd_lst, node_lst):\n",
    "    if len(sd_lst) == 0:\n",
    "        node = node_lst[0]\n",
    "        v = node\n",
    "    else:\n",
    "        i = np.argmax(sd_lst)\n",
    "        child_l, v_l = to_value_sd(sd_lst[:i], node_lst[:i+1])\n",
    "        child_r, v_r = to_value_sd(sd_lst[i+1:], node_lst[i+1:])\n",
    "        node = [child_l, child_r]\n",
    "        if isinstance(v_l, list) and not isinstance(v_r, list):\n",
    "            if v_l[1] in OP_MAP:\n",
    "                v1, op = v_l[0], v_l[1]\n",
    "                v2 = v_r\n",
    "                v = str(eval(''.join([v1, op, v2])))\n",
    "            else:\n",
    "                assert v_l[0] == '('\n",
    "                v = str(v_l[1])\n",
    "        else:\n",
    "            assert not isinstance(v_l, list) and not isinstance(v_r, list)\n",
    "            v = [v_l, v_r]\n",
    "\n",
    "    return node, v"
   ]
  },
  {
   "cell_type": "code",
   "execution_count": 13,
   "metadata": {},
   "outputs": [],
   "source": [
    "def ave_len(es):\n",
    "    lens = []\n",
    "    for e in es:\n",
    "        lens.append(e[0].split())\n",
    "    return np.average(lens), np.var(lens)"
   ]
  },
  {
   "cell_type": "markdown",
   "metadata": {},
   "source": [
    "# sanity check"
   ]
  },
  {
   "cell_type": "code",
   "execution_count": 18,
   "metadata": {},
   "outputs": [],
   "source": [
    "MAX_DEPTH = 30\n",
    "for _ in range(100):\n",
    "    expr = gen_expr(0, 'e')\n",
    "    if expr in VALUES:\n",
    "        continue\n",
    "\n",
    "    if expr not in VALUES:\n",
    "        res = to_nlst(expr)\n",
    "        gold = eval(''.join(res))\n",
    "        calc = to_value(expr)\n",
    "        if gold != calc:\n",
    "            print(expr, calc, gold)"
   ]
  },
  {
   "cell_type": "code",
   "execution_count": 15,
   "metadata": {},
   "outputs": [],
   "source": [
    "MAX_DEPTH = 30\n",
    "for _ in range(100):\n",
    "    expr = gen_expr(0, 'e')\n",
    "    if expr in VALUES:\n",
    "        continue\n",
    "\n",
    "    if expr not in VALUES:\n",
    "        node_lst = to_nlst(expr)\n",
    "        sd_lst, h = to_sd(expr)\n",
    "        gold = eval(''.join(node_lst))\n",
    "        t, calc = to_value_sd(sd_lst, node_lst)\n",
    "        if str(gold) != calc:\n",
    "            print(expr, calc, gold)"
   ]
  },
  {
   "cell_type": "markdown",
   "metadata": {},
   "source": [
    "# prob_branch v.s. dist"
   ]
  },
  {
   "cell_type": "code",
   "execution_count": 257,
   "metadata": {},
   "outputs": [],
   "source": [
    "MAX_DEPTH = 30\n",
    "PROB_BRANCH = 0.4\n",
    "NSAMPLES = 100000"
   ]
  },
  {
   "cell_type": "code",
   "execution_count": 258,
   "metadata": {},
   "outputs": [],
   "source": [
    "examples = []\n",
    "for _ in range(NSAMPLES):\n",
    "    t = gen_tree()\n",
    "    nodes = to_nlst(t)\n",
    "    nodes = ' '.join(nodes)\n",
    "    sd_lst, h = to_sd(t)\n",
    "#     if h > MAX_DEPTH:\n",
    "#         continue\n",
    "    if h == 0:\n",
    "        continue\n",
    "#     sd_lst = ' '.join([str(sd) for sd in sd_lst])\n",
    "    sd_lst = ' '.join(list(map(str, sd_lst))) \n",
    "    examples.append((nodes, sd_lst, str(h)))"
   ]
  },
  {
   "cell_type": "code",
   "execution_count": 259,
   "metadata": {},
   "outputs": [
    {
     "data": {
      "text/plain": [
       "('( ( 6 / ( 2 / ( 1 ) + ( 4 ) * 4 ) * 6 + ( 3 / 2 * ( 8 ) / 8 * 6 ) * 6 + ( ( 2 / 2 / 5 ) ) / 4 / 5 - 2 - ( ( 2 - 3 / 9 ) + 7 ) * 5 - 1 * ( 8 ) / 6 / 8 ) )',\n",
       " '24 22 1 8 6 1 3 1 2 4 5 1 2 3 4 7 9 10 11 13 9 1 2 3 4 1 2 5 6 7 8 10 11 12 14 15 7 5 1 2 3 4 6 8 9 10 11 12 16 17 18 19 8 4 1 3 1 2 5 6 7 9 10 11 20 21 1 3 1 2 4 5 6 7 23 25',\n",
       " '25')"
      ]
     },
     "execution_count": 259,
     "metadata": {},
     "output_type": "execute_result"
    }
   ],
   "source": [
    "examples[3]"
   ]
  },
  {
   "cell_type": "code",
   "execution_count": 260,
   "metadata": {},
   "outputs": [],
   "source": [
    "depths = [int(example[-1]) for example in examples]"
   ]
  },
  {
   "cell_type": "code",
   "execution_count": 261,
   "metadata": {},
   "outputs": [
    {
     "data": {
      "text/plain": [
       "(array([11291.,  2055.,  6441.,  2313.,  3859.,  2199.,  2693.,  1879.,\n",
       "         1908.,  1616.,  1612.,  1366.,  1272.,  1119.,  1098.,   996.,\n",
       "          974.,   989.,  1034.,  1423.,  2065.,  3114.,  4296.,  5348.,\n",
       "         5704.,  4888.,  3121.,  1368.,   354.,    34.]),\n",
       " array([ 2.        ,  2.96666667,  3.93333333,  4.9       ,  5.86666667,\n",
       "         6.83333333,  7.8       ,  8.76666667,  9.73333333, 10.7       ,\n",
       "        11.66666667, 12.63333333, 13.6       , 14.56666667, 15.53333333,\n",
       "        16.5       , 17.46666667, 18.43333333, 19.4       , 20.36666667,\n",
       "        21.33333333, 22.3       , 23.26666667, 24.23333333, 25.2       ,\n",
       "        26.16666667, 27.13333333, 28.1       , 29.06666667, 30.03333333,\n",
       "        31.        ]),\n",
       " <a list of 30 Patch objects>)"
      ]
     },
     "execution_count": 261,
     "metadata": {},
     "output_type": "execute_result"
    },
    {
     "data": {
      "image/png": "[encoded data removed]",
      "text/plain": [
       "<Figure size 432x288 with 1 Axes>"
      ]
     },
     "metadata": {},
     "output_type": "display_data"
    }
   ],
   "source": [
    "plt.hist(depths, bins=MAX_DEPTH)"
   ]
  },
  {
   "cell_type": "code",
   "execution_count": 11,
   "metadata": {},
   "outputs": [
    {
     "data": {
      "text/plain": [
       "(array([2.1293e+04, 2.9350e+03, 9.1120e+03, 2.6880e+03, 4.2000e+03,\n",
       "        0.0000e+00, 1.8600e+03, 2.0610e+03, 1.1170e+03, 1.0280e+03,\n",
       "        6.3400e+02, 0.0000e+00, 5.4500e+02, 3.4500e+02, 2.9900e+02,\n",
       "        1.8800e+02, 1.4600e+02, 0.0000e+00, 1.2900e+02, 8.9000e+01,\n",
       "        6.3000e+01, 5.2000e+01, 3.4000e+01, 0.0000e+00, 4.7000e+01,\n",
       "        2.0000e+01, 1.5000e+01, 7.0000e+00, 4.0000e+00, 1.0000e+00]),\n",
       " array([ 2.        ,  2.83333333,  3.66666667,  4.5       ,  5.33333333,\n",
       "         6.16666667,  7.        ,  7.83333333,  8.66666667,  9.5       ,\n",
       "        10.33333333, 11.16666667, 12.        , 12.83333333, 13.66666667,\n",
       "        14.5       , 15.33333333, 16.16666667, 17.        , 17.83333333,\n",
       "        18.66666667, 19.5       , 20.33333333, 21.16666667, 22.        ,\n",
       "        22.83333333, 23.66666667, 24.5       , 25.33333333, 26.16666667,\n",
       "        27.        ]),\n",
       " <a list of 30 Patch objects>)"
      ]
     },
     "execution_count": 11,
     "metadata": {},
     "output_type": "execute_result"
    },
    {
     "data": {
      "image/png": "[encoded data removed]",
      "text/plain": [
       "<Figure size 432x288 with 1 Axes>"
      ]
     },
     "metadata": {},
     "output_type": "display_data"
    }
   ],
   "source": [
    "MAX_DEPTH = 30\n",
    "PROB_BRANCH = 0.2\n",
    "NSAMPLES = 100000\n",
    "examples = []\n",
    "for _ in range(NSAMPLES):\n",
    "    t = gen_tree()\n",
    "    nodes = to_nlst(t)\n",
    "    nodes = ' '.join(nodes)\n",
    "    sd_lst, h = to_sd(t)\n",
    "#     if h > MAX_DEPTH:\n",
    "#         continue\n",
    "    if h == 0:\n",
    "        continue\n",
    "#     sd_lst = ' '.join([str(sd) for sd in sd_lst])\n",
    "    sd_lst = ' '.join(list(map(str, sd_lst))) \n",
    "    examples.append((nodes, sd_lst, str(h)))\n",
    "depths = [int(example[-1]) for example in examples]\n",
    "plt.hist(depths, bins=MAX_DEPTH)"
   ]
  },
  {
   "cell_type": "code",
   "execution_count": 14,
   "metadata": {},
   "outputs": [
    {
     "ename": "TypeError",
     "evalue": "unsupported operand type(s) for /: 'list' and 'int'",
     "output_type": "error",
     "traceback": [
      "\u001b[0;31m---------------------------------------------------------------------------\u001b[0m",
      "\u001b[0;31mTypeError\u001b[0m                                 Traceback (most recent call last)",
      "\u001b[0;32m<ipython-input-14-06bc56f1205d>\u001b[0m in \u001b[0;36m<module>\u001b[0;34m()\u001b[0m\n\u001b[1;32m     17\u001b[0m \u001b[0mdepths\u001b[0m \u001b[0;34m=\u001b[0m \u001b[0;34m[\u001b[0m\u001b[0mint\u001b[0m\u001b[0;34m(\u001b[0m\u001b[0mexample\u001b[0m\u001b[0;34m[\u001b[0m\u001b[0;34m-\u001b[0m\u001b[0;36m1\u001b[0m\u001b[0;34m]\u001b[0m\u001b[0;34m)\u001b[0m \u001b[0;32mfor\u001b[0m \u001b[0mexample\u001b[0m \u001b[0;32min\u001b[0m \u001b[0mexamples\u001b[0m\u001b[0;34m]\u001b[0m\u001b[0;34m\u001b[0m\u001b[0m\n\u001b[1;32m     18\u001b[0m \u001b[0mplt\u001b[0m\u001b[0;34m.\u001b[0m\u001b[0mhist\u001b[0m\u001b[0;34m(\u001b[0m\u001b[0mdepths\u001b[0m\u001b[0;34m,\u001b[0m \u001b[0mbins\u001b[0m\u001b[0;34m=\u001b[0m\u001b[0mMAX_DEPTH\u001b[0m\u001b[0;34m)\u001b[0m\u001b[0;34m\u001b[0m\u001b[0m\n\u001b[0;32m---> 19\u001b[0;31m \u001b[0mprint\u001b[0m\u001b[0;34m(\u001b[0m\u001b[0mave_len\u001b[0m\u001b[0;34m(\u001b[0m\u001b[0mexamples\u001b[0m\u001b[0;34m)\u001b[0m\u001b[0;34m)\u001b[0m\u001b[0;34m\u001b[0m\u001b[0m\n\u001b[0m",
      "\u001b[0;32m<ipython-input-13-01946d442589>\u001b[0m in \u001b[0;36mave_len\u001b[0;34m(es)\u001b[0m\n\u001b[1;32m      3\u001b[0m     \u001b[0;32mfor\u001b[0m \u001b[0me\u001b[0m \u001b[0;32min\u001b[0m \u001b[0mes\u001b[0m\u001b[0;34m:\u001b[0m\u001b[0;34m\u001b[0m\u001b[0m\n\u001b[1;32m      4\u001b[0m         \u001b[0mlens\u001b[0m\u001b[0;34m.\u001b[0m\u001b[0mappend\u001b[0m\u001b[0;34m(\u001b[0m\u001b[0me\u001b[0m\u001b[0;34m[\u001b[0m\u001b[0;36m0\u001b[0m\u001b[0;34m]\u001b[0m\u001b[0;34m.\u001b[0m\u001b[0msplit\u001b[0m\u001b[0;34m(\u001b[0m\u001b[0;34m)\u001b[0m\u001b[0;34m)\u001b[0m\u001b[0;34m\u001b[0m\u001b[0m\n\u001b[0;32m----> 5\u001b[0;31m     \u001b[0;32mreturn\u001b[0m \u001b[0mnp\u001b[0m\u001b[0;34m.\u001b[0m\u001b[0maverage\u001b[0m\u001b[0;34m(\u001b[0m\u001b[0mlens\u001b[0m\u001b[0;34m)\u001b[0m\u001b[0;34m,\u001b[0m \u001b[0mnp\u001b[0m\u001b[0;34m.\u001b[0m\u001b[0mvar\u001b[0m\u001b[0;34m(\u001b[0m\u001b[0mlens\u001b[0m\u001b[0;34m)\u001b[0m\u001b[0;34m\u001b[0m\u001b[0m\n\u001b[0m",
      "\u001b[0;32m~/.pyenv/versions/3.6.4/envs/atec36/lib/python3.6/site-packages/numpy/lib/function_base.py\u001b[0m in \u001b[0;36maverage\u001b[0;34m(a, axis, weights, returned)\u001b[0m\n\u001b[1;32m   1126\u001b[0m \u001b[0;34m\u001b[0m\u001b[0m\n\u001b[1;32m   1127\u001b[0m     \u001b[0;32mif\u001b[0m \u001b[0mweights\u001b[0m \u001b[0;32mis\u001b[0m \u001b[0;32mNone\u001b[0m\u001b[0;34m:\u001b[0m\u001b[0;34m\u001b[0m\u001b[0m\n\u001b[0;32m-> 1128\u001b[0;31m         \u001b[0mavg\u001b[0m \u001b[0;34m=\u001b[0m \u001b[0ma\u001b[0m\u001b[0;34m.\u001b[0m\u001b[0mmean\u001b[0m\u001b[0;34m(\u001b[0m\u001b[0maxis\u001b[0m\u001b[0;34m)\u001b[0m\u001b[0;34m\u001b[0m\u001b[0m\n\u001b[0m\u001b[1;32m   1129\u001b[0m         \u001b[0mscl\u001b[0m \u001b[0;34m=\u001b[0m \u001b[0mavg\u001b[0m\u001b[0;34m.\u001b[0m\u001b[0mdtype\u001b[0m\u001b[0;34m.\u001b[0m\u001b[0mtype\u001b[0m\u001b[0;34m(\u001b[0m\u001b[0ma\u001b[0m\u001b[0;34m.\u001b[0m\u001b[0msize\u001b[0m\u001b[0;34m/\u001b[0m\u001b[0mavg\u001b[0m\u001b[0;34m.\u001b[0m\u001b[0msize\u001b[0m\u001b[0;34m)\u001b[0m\u001b[0;34m\u001b[0m\u001b[0m\n\u001b[1;32m   1130\u001b[0m     \u001b[0;32melse\u001b[0m\u001b[0;34m:\u001b[0m\u001b[0;34m\u001b[0m\u001b[0m\n",
      "\u001b[0;32m~/.pyenv/versions/3.6.4/envs/atec36/lib/python3.6/site-packages/numpy/core/_methods.py\u001b[0m in \u001b[0;36m_mean\u001b[0;34m(a, axis, dtype, out, keepdims)\u001b[0m\n\u001b[1;32m     80\u001b[0m             \u001b[0mret\u001b[0m \u001b[0;34m=\u001b[0m \u001b[0mret\u001b[0m\u001b[0;34m.\u001b[0m\u001b[0mdtype\u001b[0m\u001b[0;34m.\u001b[0m\u001b[0mtype\u001b[0m\u001b[0;34m(\u001b[0m\u001b[0mret\u001b[0m \u001b[0;34m/\u001b[0m \u001b[0mrcount\u001b[0m\u001b[0;34m)\u001b[0m\u001b[0;34m\u001b[0m\u001b[0m\n\u001b[1;32m     81\u001b[0m     \u001b[0;32melse\u001b[0m\u001b[0;34m:\u001b[0m\u001b[0;34m\u001b[0m\u001b[0m\n\u001b[0;32m---> 82\u001b[0;31m         \u001b[0mret\u001b[0m \u001b[0;34m=\u001b[0m \u001b[0mret\u001b[0m \u001b[0;34m/\u001b[0m \u001b[0mrcount\u001b[0m\u001b[0;34m\u001b[0m\u001b[0m\n\u001b[0m\u001b[1;32m     83\u001b[0m \u001b[0;34m\u001b[0m\u001b[0m\n\u001b[1;32m     84\u001b[0m     \u001b[0;32mreturn\u001b[0m \u001b[0mret\u001b[0m\u001b[0;34m\u001b[0m\u001b[0m\n",
      "\u001b[0;31mTypeError\u001b[0m: unsupported operand type(s) for /: 'list' and 'int'"
     ]
    },
    {
     "data": {
      "image/png": "[encoded data removed]",
      "text/plain": [
       "<Figure size 432x288 with 1 Axes>"
      ]
     },
     "metadata": {},
     "output_type": "display_data"
    }
   ],
   "source": [
    "MAX_DEPTH = 30\n",
    "PROB_BRANCH = 0.3\n",
    "NSAMPLES = 100000\n",
    "examples = []\n",
    "for _ in range(NSAMPLES):\n",
    "    t = gen_tree()\n",
    "    nodes = to_nlst(t)\n",
    "    nodes = ' '.join(nodes)\n",
    "    sd_lst, h = to_sd(t)\n",
    "#     if h > MAX_DEPTH:\n",
    "#         continue\n",
    "    if h == 0:\n",
    "        continue\n",
    "#     sd_lst = ' '.join([str(sd) for sd in sd_lst])\n",
    "    sd_lst = ' '.join(list(map(str, sd_lst))) \n",
    "    examples.append((nodes, sd_lst, str(h)))\n",
    "depths = [int(example[-1]) for example in examples]\n",
    "plt.hist(depths, bins=MAX_DEPTH)\n",
    "print(ave_len(examples))"
   ]
  },
  {
   "cell_type": "markdown",
   "metadata": {},
   "source": [
    "# generate dataset"
   ]
  },
  {
   "cell_type": "code",
   "execution_count": 10,
   "metadata": {},
   "outputs": [],
   "source": [
    "from collections import defaultdict"
   ]
  },
  {
   "cell_type": "code",
   "execution_count": 11,
   "metadata": {},
   "outputs": [],
   "source": [
    "MAX_DEPTH = 30\n",
    "PROB_BRANCH = 0.4\n",
    "NSAMPLES = 100000\n",
    "prob_h = (1/np.array(range(2, MAX_DEPTH+1)) )**(1.5)\n",
    "prob_h = prob_h / prob_h.sum()\n",
    "nsamples_bound = {h:int(prob_h[h-2]*NSAMPLES) for h in range(2, MAX_DEPTH+1)}\n",
    "nsamples = defaultdict(int)"
   ]
  },
  {
   "cell_type": "code",
   "execution_count": 12,
   "metadata": {},
   "outputs": [
    {
     "data": {
      "text/plain": [
       "array([0.28278739, 0.15392996, 0.09998044, 0.07154018, 0.05442246,\n",
       "       0.04318749, 0.03534842, 0.02962383, 0.02529327, 0.02192381,\n",
       "       0.01924124, 0.01706436, 0.01526908, 0.01376791, 0.01249756,\n",
       "       0.01141121, 0.01047361, 0.00965772, 0.00894252, 0.00831144,\n",
       "       0.00775124, 0.00725126, 0.00680281, 0.00639875, 0.00603316,\n",
       "       0.00570111, 0.00539844, 0.00512163, 0.00486769])"
      ]
     },
     "execution_count": 12,
     "metadata": {},
     "output_type": "execute_result"
    }
   ],
   "source": [
    "prob_h"
   ]
  },
  {
   "cell_type": "code",
   "execution_count": 13,
   "metadata": {},
   "outputs": [
    {
     "data": {
      "text/plain": [
       "{2: 28278,\n",
       " 3: 15392,\n",
       " 4: 9998,\n",
       " 5: 7154,\n",
       " 6: 5442,\n",
       " 7: 4318,\n",
       " 8: 3534,\n",
       " 9: 2962,\n",
       " 10: 2529,\n",
       " 11: 2192,\n",
       " 12: 1924,\n",
       " 13: 1706,\n",
       " 14: 1526,\n",
       " 15: 1376,\n",
       " 16: 1249,\n",
       " 17: 1141,\n",
       " 18: 1047,\n",
       " 19: 965,\n",
       " 20: 894,\n",
       " 21: 831,\n",
       " 22: 775,\n",
       " 23: 725,\n",
       " 24: 680,\n",
       " 25: 639,\n",
       " 26: 603,\n",
       " 27: 570,\n",
       " 28: 539,\n",
       " 29: 512,\n",
       " 30: 486}"
      ]
     },
     "execution_count": 13,
     "metadata": {},
     "output_type": "execute_result"
    }
   ],
   "source": [
    "nsamples_bound"
   ]
  },
  {
   "cell_type": "code",
   "execution_count": 14,
   "metadata": {},
   "outputs": [
    {
     "name": "stdout",
     "output_type": "stream",
     "text": [
      "finished: 26\n",
      "finished: 27\n",
      "finished: 25\n",
      "finished: 28\n",
      "finished: 24\n",
      "finished: 23\n",
      "finished: 29\n",
      "finished: 22\n",
      "finished: 21\n",
      "finished: 20\n",
      "finished: 19\n",
      "finished: 18\n",
      "finished: 17\n",
      "finished: 16\n",
      "finished: 14\n",
      "finished: 12\n",
      "finished: 13\n",
      "finished: 15\n",
      "finished: 10\n",
      "finished: 8\n",
      "finished: 30\n",
      "finished: 11\n",
      "finished: 6\n",
      "finished: 4\n",
      "finished: 9\n",
      "finished: 7\n",
      "finished: 2\n",
      "finished: 5\n"
     ]
    }
   ],
   "source": [
    "examples = []\n",
    "printed = {h:False for h in range(2, MAX_DEPTH+1)}\n",
    "i = 0\n",
    "while True:\n",
    "    finished = True\n",
    "    for h in range(2, MAX_DEPTH+1):\n",
    "        if nsamples[h] < nsamples_bound[h]:\n",
    "            finished = False\n",
    "    if finished:\n",
    "        break\n",
    "    \n",
    "    t = gen_tree()\n",
    "    if t in VALUES:\n",
    "        continue\n",
    "    nodes = to_nlst(t)\n",
    "    nodes = ' '.join(nodes)\n",
    "    sd_lst, h = to_sd(t)\n",
    "    if h > MAX_DEPTH:\n",
    "        continue\n",
    "    if nsamples[h] >= nsamples_bound[h]:\n",
    "        if not printed[h]:\n",
    "            print('finished:', h)\n",
    "            printed[h] = True\n",
    "        continue\n",
    "    else:\n",
    "        nsamples[h] += 1\n",
    "    \n",
    "    sd_lst = ' '.join([str(sd) for sd in sd_lst])\n",
    "    examples.append((nodes, sd_lst, str(h)))\n",
    "    i += 1\n",
    "\n",
    "    if i >= NSAMPLES:\n",
    "        break"
   ]
  },
  {
   "cell_type": "code",
   "execution_count": 15,
   "metadata": {
    "scrolled": true
   },
   "outputs": [
    {
     "data": {
      "image/png": "[encoded data removed]",
      "text/plain": [
       "<Figure size 432x288 with 1 Axes>"
      ]
     },
     "metadata": {},
     "output_type": "display_data"
    }
   ],
   "source": [
    "depths = [int(example[-1]) for example in examples]\n",
    "plt.hist(depths, bins=30, range=(0, MAX_DEPTH+1))\n",
    "plt.show()"
   ]
  },
  {
   "cell_type": "markdown",
   "metadata": {},
   "source": [
    "# distribution of sequence length"
   ]
  },
  {
   "cell_type": "code",
   "execution_count": 16,
   "metadata": {},
   "outputs": [],
   "source": [
    "seq_len = []\n",
    "for (seq, _, _) in examples:\n",
    "    seq_len.append(len(seq.split()))"
   ]
  },
  {
   "cell_type": "code",
   "execution_count": 18,
   "metadata": {},
   "outputs": [
    {
     "data": {
      "image/png": "[encoded data removed]",
      "text/plain": [
       "<Figure size 432x288 with 1 Axes>"
      ]
     },
     "metadata": {},
     "output_type": "display_data"
    }
   ],
   "source": [
    "plt.hist(seq_len, bins=100, range=(0, 100))\n",
    "plt.show()"
   ]
  },
  {
   "cell_type": "markdown",
   "metadata": {},
   "source": [
    "# similarity between samples under each depth"
   ]
  },
  {
   "cell_type": "code",
   "execution_count": 20,
   "metadata": {},
   "outputs": [
    {
     "name": "stdout",
     "output_type": "stream",
     "text": [
      "2\n"
     ]
    }
   ],
   "source": [
    "def ed(s1, s2):\n",
    "    m=len(s1)+1\n",
    "    n=len(s2)+1\n",
    "\n",
    "    tbl = {}\n",
    "    for i in range(m): tbl[i,0]=i\n",
    "    for j in range(n): tbl[0,j]=j\n",
    "    for i in range(1, m):\n",
    "        for j in range(1, n):\n",
    "            cost = 0 if s1[i-1] == s2[j-1] else 1\n",
    "            tbl[i,j] = min(tbl[i, j-1]+1, tbl[i-1, j]+1, tbl[i-1, j-1]+cost)\n",
    "\n",
    "    return tbl[i,j]\n",
    "\n",
    "print(ed(\"Helloworld\", \"HalloWorld\"))"
   ]
  },
  {
   "cell_type": "code",
   "execution_count": 30,
   "metadata": {},
   "outputs": [
    {
     "data": {
      "text/plain": [
       "('( 2 * ( ( ( 7 + 5 / 8 + ( 7 ) + 1 * 1 + 3 / ( 8 ) * 4 ) / ( 2 ) - ( 6 ) ) ) + 8 )',\n",
       " '23 1 20 18 16 10 1 3 1 2 4 5 1 2 6 7 1 2 8 9 1 3 1 2 4 5 11 12 13 1 2 14 15 1 2 17 19 21 22 24',\n",
       " '24')"
      ]
     },
     "execution_count": 30,
     "metadata": {},
     "output_type": "execute_result"
    }
   ],
   "source": [
    "examples[0]"
   ]
  },
  {
   "cell_type": "code",
   "execution_count": 31,
   "metadata": {},
   "outputs": [
    {
     "data": {
      "text/plain": [
       "('( 5 )', '1 2', '2')"
      ]
     },
     "execution_count": 31,
     "metadata": {},
     "output_type": "execute_result"
    }
   ],
   "source": [
    "examples[1]"
   ]
  },
  {
   "cell_type": "code",
   "execution_count": 32,
   "metadata": {},
   "outputs": [
    {
     "data": {
      "text/plain": [
       "('( 4 ) + ( 9 / 6 ) * 2', '1 2 3 7 3 1 2 4 5 6', '7')"
      ]
     },
     "execution_count": 32,
     "metadata": {},
     "output_type": "execute_result"
    }
   ],
   "source": [
    "examples[2]"
   ]
  },
  {
   "cell_type": "code",
   "execution_count": 33,
   "metadata": {},
   "outputs": [
    {
     "data": {
      "text/plain": [
       "32"
      ]
     },
     "execution_count": 33,
     "metadata": {},
     "output_type": "execute_result"
    }
   ],
   "source": [
    "ed(examples[0][1].split(), examples[2][1].split())"
   ]
  },
  {
   "cell_type": "code",
   "execution_count": 21,
   "metadata": {},
   "outputs": [],
   "source": [
    "def expected_ed(samples, nsampling=1000):\n",
    "    res = []\n",
    "    lens = []\n",
    "    for _ in range(nsampling):\n",
    "        e1 = random.choice(samples)\n",
    "        e2 = random.choice(samples)\n",
    "        edis = ed(e1[1].split(), e2[1].split())\n",
    "        res.append(edis)\n",
    "        l1 = len(e1[1].split())\n",
    "        l2 = len(e2[1].split())\n",
    "        l_mean = np.mean([l1, l2])\n",
    "        lens.append(l_mean)\n",
    "        \n",
    "    return np.mean(res)/np.mean(lens)"
   ]
  },
  {
   "cell_type": "code",
   "execution_count": 42,
   "metadata": {},
   "outputs": [],
   "source": [
    "examples_h = {}\n",
    "for line in examples:\n",
    "    expr, ds, h = line\n",
    "    h = int(h)\n",
    "    if h not in examples_h:\n",
    "        examples_h[h] = []\n",
    "    examples_h[h].append((expr, ds))"
   ]
  },
  {
   "cell_type": "code",
   "execution_count": 43,
   "metadata": {},
   "outputs": [],
   "source": [
    "expr, ds, h = examples[0]"
   ]
  },
  {
   "cell_type": "code",
   "execution_count": 46,
   "metadata": {},
   "outputs": [],
   "source": [
    "hs = []\n",
    "expected_eds = []\n",
    "for h in sorted(examples_h.keys()):\n",
    "    hs.append(h)\n",
    "    expected_eds.append(expected_ed(examples_h[h]))"
   ]
  },
  {
   "cell_type": "code",
   "execution_count": 37,
   "metadata": {},
   "outputs": [
    {
     "data": {
      "text/plain": [
       "[('9 - 1', '1 2')]"
      ]
     },
     "execution_count": 37,
     "metadata": {},
     "output_type": "execute_result"
    }
   ],
   "source": [
    "examples_h[2]"
   ]
  },
  {
   "cell_type": "code",
   "execution_count": 47,
   "metadata": {},
   "outputs": [
    {
     "data": {
      "image/png": "[encoded data removed]",
      "text/plain": [
       "<Figure size 432x288 with 1 Axes>"
      ]
     },
     "metadata": {},
     "output_type": "display_data"
    }
   ],
   "source": [
    "def draw(x, y):\n",
    "    plt.plot(x, y, 'ro-', label='ed/len')\n",
    "    plt.legend()\n",
    "    plt.grid()\n",
    "    plt.grid(color='b' , linewidth=0.1 ,linestyle='--')\n",
    "draw(hs, expected_eds)"
   ]
  },
  {
   "cell_type": "code",
   "execution_count": 28,
   "metadata": {},
   "outputs": [
    {
     "data": {
      "text/plain": [
       "[0.0,\n",
       " 0.0,\n",
       " 0.0,\n",
       " 0.0,\n",
       " 0.0,\n",
       " 0.0,\n",
       " 0.0,\n",
       " 0.0,\n",
       " 0.0,\n",
       " 0.0,\n",
       " 0.0,\n",
       " 0.0,\n",
       " 0.0,\n",
       " 0.0,\n",
       " 0.0,\n",
       " 0.0,\n",
       " 0.0,\n",
       " 0.0,\n",
       " 0.0,\n",
       " 0.0,\n",
       " 0.0,\n",
       " 0.0,\n",
       " 0.0,\n",
       " 0.0,\n",
       " 0.0,\n",
       " 0.0,\n",
       " 0.0,\n",
       " 0.0,\n",
       " 0.0]"
      ]
     },
     "execution_count": 28,
     "metadata": {},
     "output_type": "execute_result"
    }
   ],
   "source": [
    "expected_eds"
   ]
  },
  {
   "cell_type": "markdown",
   "metadata": {},
   "source": [
    "# save"
   ]
  },
  {
   "cell_type": "code",
   "execution_count": 49,
   "metadata": {},
   "outputs": [],
   "source": [
    "random.shuffle(examples)\n",
    "ntrain = int(0.8 * NSAMPLES)\n",
    "nvalid = int(0.1 * NSAMPLES)\n",
    "ntest = int(0.1 * NSAMPLES)\n",
    "train = examples[:ntrain]\n",
    "valid = examples[ntrain: ntrain+nvalid]\n",
    "test = examples[ntrain+nvalid:]\n",
    "for dataset, dataset_type in zip([train, valid, test], ['train', 'valid', 'test']):\n",
    "    with open('%s_d%d.parenthesis.tsv' % (dataset_type, MAX_DEPTH), 'w') as f:\n",
    "        for line in dataset:\n",
    "            f.write('\\t'.join(line))\n",
    "            f.write('\\n')"
   ]
  },
  {
   "cell_type": "markdown",
   "metadata": {},
   "source": [
    "# \\#extremum"
   ]
  },
  {
   "cell_type": "code",
   "execution_count": 19,
   "metadata": {},
   "outputs": [],
   "source": [
    "def num_extrem_vals(ds):\n",
    "    res = 0\n",
    "    for i, d in enumerate(ds):\n",
    "        if i == 0:\n",
    "            if d > ds[1]:\n",
    "                res += 1\n",
    "        elif i == len(ds)-1:\n",
    "            if d > ds[-2]:\n",
    "                res += 1\n",
    "        elif d > ds[i-1] and d > ds[i+1]:\n",
    "            res += 1\n",
    "    \n",
    "    return res            "
   ]
  },
  {
   "cell_type": "code",
   "execution_count": 31,
   "metadata": {},
   "outputs": [],
   "source": [
    "nes = []\n",
    "elst = []\n",
    "dslst = []\n",
    "with open('train_d30.parenthesis.tsv', 'r') as f:\n",
    "    for line in f:\n",
    "        expr, ds, h = line.strip().split('\\t')\n",
    "        ds = list(map(int, ds.split()))\n",
    "        ne = num_extrem_vals(ds)\n",
    "        nes.append(ne)\n",
    "        if ne > 60:\n",
    "            elst.append(expr)\n",
    "            dslst.append(ds)"
   ]
  },
  {
   "cell_type": "code",
   "execution_count": 27,
   "metadata": {
    "scrolled": true
   },
   "outputs": [
    {
     "data": {
      "text/plain": [
       "(array([2.8691e+04, 2.7248e+04, 8.7830e+03, 4.4940e+03, 2.8410e+03,\n",
       "        1.8430e+03, 1.2620e+03, 8.5100e+02, 6.0500e+02, 4.3300e+02,\n",
       "        3.2400e+02, 2.5000e+02, 2.4400e+02, 2.0700e+02, 1.8800e+02,\n",
       "        1.6400e+02, 1.3700e+02, 1.3500e+02, 1.4300e+02, 1.0400e+02,\n",
       "        8.6000e+01, 9.4000e+01, 7.0000e+01, 6.9000e+01, 6.8000e+01,\n",
       "        6.9000e+01, 5.8000e+01, 4.9000e+01, 5.2000e+01, 4.4000e+01,\n",
       "        3.9000e+01, 2.6000e+01, 3.8000e+01, 2.7000e+01, 2.3000e+01,\n",
       "        2.4000e+01, 2.2000e+01, 2.5000e+01, 1.2000e+01, 2.6000e+01,\n",
       "        1.2000e+01, 1.3000e+01, 1.1000e+01, 8.0000e+00, 1.0000e+01,\n",
       "        1.1000e+01, 6.0000e+00, 7.0000e+00, 5.0000e+00, 2.0000e+00,\n",
       "        3.0000e+00, 3.0000e+00, 3.0000e+00, 0.0000e+00, 3.0000e+00,\n",
       "        5.0000e+00, 5.0000e+00, 1.0000e+00, 3.0000e+00, 4.0000e+00,\n",
       "        2.0000e+00, 1.0000e+00, 0.0000e+00, 4.0000e+00, 0.0000e+00,\n",
       "        3.0000e+00, 1.0000e+00, 3.0000e+00]),\n",
       " array([ 1,  2,  3,  4,  5,  6,  7,  8,  9, 10, 11, 12, 13, 14, 15, 16, 17,\n",
       "        18, 19, 20, 21, 22, 23, 24, 25, 26, 27, 28, 29, 30, 31, 32, 33, 34,\n",
       "        35, 36, 37, 38, 39, 40, 41, 42, 43, 44, 45, 46, 47, 48, 49, 50, 51,\n",
       "        52, 53, 54, 55, 56, 57, 58, 59, 60, 61, 62, 63, 64, 65, 66, 67, 68,\n",
       "        69]),\n",
       " <a list of 68 Patch objects>)"
      ]
     },
     "execution_count": 27,
     "metadata": {},
     "output_type": "execute_result"
    },
    {
     "data": {
      "image/png": "[encoded data removed]",
      "text/plain": [
       "<Figure size 432x288 with 1 Axes>"
      ]
     },
     "metadata": {},
     "output_type": "display_data"
    }
   ],
   "source": [
    "plt.hist(nes, bins=np.arange(1, 70))"
   ]
  },
  {
   "cell_type": "code",
   "execution_count": 33,
   "metadata": {},
   "outputs": [
    {
     "data": {
      "text/plain": [
       "'8 * 1 + ( ( 9 + 8 ) / 4 + ( 2 / ( 3 * ( 3 ) ) * 3 ) + 4 / 7 - 1 ) / ( ( ( 1 * 9 ) ) ) / 4 - ( 8 / ( 8 * ( ( 2 ) ) / ( 4 + ( 9 + 5 ) + ( 9 ) / 2 * ( 6 - 8 * 8 ) ) / 5 - ( 9 * 1 / ( 8 * 5 * ( 3 ) ) / ( ( 1 * 8 ) ) + ( 9 + 7 + 7 ) * 9 * 7 ) - 3 * ( 7 + 7 / ( 1 ) / ( 1 ) + ( 3 / ( 4 ) ) ) / 5 * ( ( 3 * 6 * 9 * ( 2 * 8 ) ) ) ) / 3 ) - 4 * 2 / ( 5 / ( 9 - ( ( 2 ) + 5 ) - 9 * ( 1 - 3 / 9 / ( 8 - 6 / 5 ) / 5 ) + 9 + ( 2 - ( 4 ) + 8 / 4 ) / 8 / 7 * ( 2 / 2 + 5 * 2 + 5 * ( 5 + 2 - 8 * ( 1 ) ) / ( 4 - 1 + ( 9 ) + 9 ) - ( ( 8 ) ) / ( 7 - 9 * 9 / ( 4 ) / ( 7 ) * 3 ) ) + ( ( 1 * 8 ) * ( 9 - ( 9 ) + 5 / ( 7 ) - ( 9 / 3 * 3 ) ) ) ) / 4 + ( ( ( ( 7 - 3 / 3 ) * 6 / 9 - 7 / ( ( 6 * 8 / 1 + 5 ) ) ) ) ) )'"
      ]
     },
     "execution_count": 33,
     "metadata": {},
     "output_type": "execute_result"
    }
   ],
   "source": [
    "elst[0]"
   ]
  },
  {
   "cell_type": "code",
   "execution_count": 37,
   "metadata": {},
   "outputs": [
    {
     "data": {
      "text/plain": [
       "346"
      ]
     },
     "execution_count": 37,
     "metadata": {},
     "output_type": "execute_result"
    }
   ],
   "source": [
    "len(dslst[0])"
   ]
  },
  {
   "cell_type": "code",
   "execution_count": 36,
   "metadata": {},
   "outputs": [
    {
     "data": {
      "text/plain": [
       "<BarContainer object of 346 artists>"
      ]
     },
     "execution_count": 36,
     "metadata": {},
     "output_type": "execute_result"
    },
    {
     "data": {
      "image/png": "[encoded data removed]",
      "text/plain": [
       "<Figure size 432x288 with 1 Axes>"
      ]
     },
     "metadata": {},
     "output_type": "display_data"
    }
   ],
   "source": [
    "plt.bar(np.arange(len(dslst[0])), dslst[0])"
   ]
  },
  {
   "cell_type": "code",
   "execution_count": null,
   "metadata": {},
   "outputs": [],
   "source": []
  }
 ],
 "metadata": {
  "kernelspec": {
   "display_name": "Python 3",
   "language": "python",
   "name": "python3"
  },
  "language_info": {
   "codemirror_mode": {
    "name": "ipython",
    "version": 3
   },
   "file_extension": ".py",
   "mimetype": "text/x-python",
   "name": "python",
   "nbconvert_exporter": "python",
   "pygments_lexer": "ipython3",
   "version": "3.6.4"
  }
 },
 "nbformat": 4,
 "nbformat_minor": 2
}
