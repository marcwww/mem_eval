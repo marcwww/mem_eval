{
 "cells": [
  {
   "cell_type": "code",
   "execution_count": 23,
   "metadata": {},
   "outputs": [],
   "source": [
    "from m10ae_utils import *\n",
    "import numpy as np\n",
    "import matplotlib.pyplot as plt"
   ]
  },
  {
   "cell_type": "code",
   "execution_count": 24,
   "metadata": {},
   "outputs": [],
   "source": [
    "from collections import defaultdict"
   ]
  },
  {
   "cell_type": "code",
   "execution_count": 37,
   "metadata": {},
   "outputs": [],
   "source": [
    "NSAMPLES = 300000\n",
    "# NSAMPLES = 150000\n",
    "prob_h = (1/np.array(range(2, MAX_DEPTH+1)) )**(1.5)\n",
    "prob_h = prob_h / prob_h.sum()\n",
    "nsamples_bound = {h:int(prob_h[h-2]*NSAMPLES) for h in range(2, MAX_DEPTH+1)}\n",
    "nsamples = defaultdict(int)"
   ]
  },
  {
   "cell_type": "code",
   "execution_count": 38,
   "metadata": {},
   "outputs": [
    {
     "name": "stdout",
     "output_type": "stream",
     "text": [
      "[[[[[[[[1, '*'], [['(', [[4, '*'], 6]], ')']], '/'], [['(', [[[[[[[[[[[[6, '/'], 7], '*'], 6], '/'], 1], '/'], 9], '-'], 3], '-'], [[7, '/'], 3]]], ')']], '+'], [[[[[[[['(', [[[[[[7, '*'], 2], '*'], 2], '*'], 6]], ')'], '/'], [['(', [[[[8, '+'], [[[[1, '*'], 9], '/'], 8]], '+'], 6]], ')']], '*'], 3], '/'], [['(', 8], ')']]], '+'], 7]\n"
     ]
    }
   ],
   "source": [
    "t = gen_tree()\n",
    "print(t)"
   ]
  },
  {
   "cell_type": "code",
   "execution_count": 39,
   "metadata": {},
   "outputs": [
    {
     "name": "stdout",
     "output_type": "stream",
     "text": [
      "['1', '*', '(', '4', '*', '6', ')', '/', '(', '6', '/', '7', '*', '6', '/', '1', '/', '9', '-', '3', '-', '7', '/', '3', ')', '+', '(', '7', '*', '2', '*', '2', '*', '6', ')', '/', '(', '8', '+', '1', '*', '9', '/', '8', '+', '6', ')', '*', '3', '/', '(', '8', ')', '+', '7']\n",
      "(6, '2')\n"
     ]
    }
   ],
   "source": [
    "nlst = to_nlst(t)\n",
    "print(nlst)\n",
    "print(MSU(nlst))"
   ]
  },
  {
   "cell_type": "code",
   "execution_count": 40,
   "metadata": {},
   "outputs": [
    {
     "name": "stdout",
     "output_type": "stream",
     "text": [
      "finished: 10\n",
      "finished: 12\n",
      "finished: 8\n",
      "finished: 11\n",
      "finished: 14\n",
      "finished: 13\n",
      "finished: 9\n",
      "finished: 6\n",
      "finished: 15\n",
      "finished: 16\n",
      "finished: 7\n",
      "finished: 17\n",
      "finished: 4\n",
      "finished: 18\n",
      "finished: 19\n",
      "finished: 20\n",
      "finished: 5\n",
      "finished: 21\n",
      "finished: 2\n",
      "finished: 22\n",
      "finished: 23\n",
      "finished: 24\n",
      "finished: 25\n",
      "finished: 3\n",
      "finished: 26\n",
      "finished: 27\n",
      "finished: 29\n",
      "finished: 28\n",
      "Done\n"
     ]
    }
   ],
   "source": [
    "examples = []\n",
    "printed = {h:False for h in range(2, MAX_DEPTH+1)}\n",
    "i = 0\n",
    "while True:\n",
    "    finished = True\n",
    "    for h in range(2, MAX_DEPTH+1):\n",
    "        if nsamples[h] < nsamples_bound[h]:\n",
    "            finished = False\n",
    "    if finished:\n",
    "        break\n",
    "    \n",
    "    t = gen_tree()\n",
    "    if t in VALUES:\n",
    "        continue\n",
    "    nodes = to_nlst(t)\n",
    "    nodes = ' '.join(nodes)\n",
    "    sd_lst, h = to_sd(t)\n",
    "    if h > MAX_DEPTH:\n",
    "        continue\n",
    "    if nsamples[h] >= nsamples_bound[h]:\n",
    "        if not printed[h]:\n",
    "            print('finished:', h)\n",
    "            printed[h] = True\n",
    "        continue\n",
    "    else:\n",
    "        nsamples[h] += 1\n",
    "    \n",
    "    sd_lst = ' '.join([str(sd) for sd in sd_lst])\n",
    "    examples.append((nodes, sd_lst, str(h)))\n",
    "    i += 1\n",
    "\n",
    "    if i >= NSAMPLES:\n",
    "        break\n",
    "print('Done')"
   ]
  },
  {
   "cell_type": "code",
   "execution_count": 41,
   "metadata": {},
   "outputs": [
    {
     "data": {
      "text/plain": [
       "('3 - 9 * ( 5 )', '1 4 1 3 1 2', '4')"
      ]
     },
     "execution_count": 41,
     "metadata": {},
     "output_type": "execute_result"
    }
   ],
   "source": [
    "examples[0]"
   ]
  },
  {
   "cell_type": "code",
   "execution_count": 42,
   "metadata": {},
   "outputs": [],
   "source": [
    "es = []\n",
    "es_eval = []\n",
    "hs = []\n",
    "msu_lst = []\n",
    "for e in examples:\n",
    "    expr, ds, h = e\n",
    "    expr = expr.split()\n",
    "    ds = list(map(int, ds.split()))\n",
    "    try:\n",
    "        msu, val = MSU(expr)\n",
    "#         val, mmc = shift_reduce(expr, ds)\n",
    "        if msu > 3:\n",
    "            hs.append(int(h))\n",
    "            es.append(e)\n",
    "            es_eval.append((e[0], e[1], e[2], str(val)))\n",
    "            msu_lst.append(msu)\n",
    "    except:\n",
    "        pass"
   ]
  },
  {
   "cell_type": "code",
   "execution_count": 43,
   "metadata": {},
   "outputs": [
    {
     "data": {
      "text/plain": [
       "(array([  940., 13118.,  3771., 10695.,  4992.,  7956.,  4858.,  6069.,\n",
       "         4188.,  4733.,  3591.,  3789.,  3107.,  3111.,  2637.,  2597.,\n",
       "         2256.,  2250.,  1996.,  1924.,  1743.,  1681.,  1561.,  1486.,\n",
       "         1339.,  2547.]),\n",
       " array([ 4,  5,  6,  7,  8,  9, 10, 11, 12, 13, 14, 15, 16, 17, 18, 19, 20,\n",
       "        21, 22, 23, 24, 25, 26, 27, 28, 29, 30]),\n",
       " <a list of 26 Patch objects>)"
      ]
     },
     "execution_count": 43,
     "metadata": {},
     "output_type": "execute_result"
    },
    {
     "data": {
      "image/png": "[encoded data removed]",
      "text/plain": [
       "<Figure size 432x288 with 1 Axes>"
      ]
     },
     "metadata": {},
     "output_type": "display_data"
    }
   ],
   "source": [
    "plt.hist(hs, bins=np.arange(min(hs), max(hs)+1))"
   ]
  },
  {
   "cell_type": "code",
   "execution_count": 44,
   "metadata": {},
   "outputs": [
    {
     "data": {
      "text/plain": [
       "98935"
      ]
     },
     "execution_count": 44,
     "metadata": {},
     "output_type": "execute_result"
    }
   ],
   "source": [
    "len(es)"
   ]
  },
  {
   "cell_type": "code",
   "execution_count": 46,
   "metadata": {},
   "outputs": [
    {
     "data": {
      "text/plain": [
       "{4, 5, 6}"
      ]
     },
     "execution_count": 46,
     "metadata": {},
     "output_type": "execute_result"
    }
   ],
   "source": [
    "set(msu_lst)"
   ]
  },
  {
   "cell_type": "code",
   "execution_count": 45,
   "metadata": {},
   "outputs": [
    {
     "data": {
      "text/plain": [
       "[('3 - 9 * ( 5 )', '1 4 1 3 1 2', '4'),\n",
       " ('7 + ( 1 + 9 * 8 + 6 ) / ( 1 + 5 + 4 - 7 ) * 1',\n",
       "  '1 12 6 1 3 1 2 4 5 7 8 9 7 1 2 3 4 5 6 8 10 11',\n",
       "  '12'),\n",
       " ('9 * ( 4 * 3 ) * ( 3 ) + 7 + 3 - 3 / 2',\n",
       "  '1 5 3 1 2 4 6 7 1 2 8 9 10 11 12 13 1 2',\n",
       "  '13'),\n",
       " ('( 6 / 6 / 6 / 7 ) * 6 / ( 3 * 7 - 3 ) + ( 3 - 7 )',\n",
       "  '7 1 2 3 4 5 6 8 9 10 11 12 5 1 2 3 4 6 13 14 3 1 2 4',\n",
       "  '14'),\n",
       " ('( 5 - 1 - 1 + 3 - 2 * 7 - 6 - 2 ) * 4 / 8',\n",
       "  '13 1 2 3 4 5 6 7 8 1 2 9 10 11 12 14 15 16 17 18',\n",
       "  '18'),\n",
       " ('( 2 + 6 * 9 / 6 + 1 - 5 * 9 - 5 * 4 * 9 ) / 1 + 2',\n",
       "  '12 1 5 1 2 3 4 6 7 8 9 1 2 10 11 1 2 3 4 13 14 15 16 17',\n",
       "  '17'),\n",
       " ('( 8 * 8 + 6 + 7 - 8 / 7 * 1 )', '9 1 2 3 4 5 6 7 8 1 2 3 4 10', '10'),\n",
       " ('( 4 / 8 + 8 - 7 * 5 - 5 / 7 ) - ( 9 ) / ( 1 ) * 5 - 6',\n",
       "  '9 1 2 3 4 5 6 1 2 7 8 1 2 10 11 12 1 2 3 4 1 2 5 6 13 14',\n",
       "  '14'),\n",
       " ('( 6 / 8 - 8 * 3 * 4 + 9 - 7 )', '10 1 2 3 5 1 2 3 4 6 7 8 9 11', '11'),\n",
       " ('9 - ( 1 * 9 + 4 * 9 ) + ( 2 - 2 )', '1 7 5 1 2 3 4 1 2 6 8 9 3 1 2 4', '9'),\n",
       " ('( 5 * 3 / 2 * 1 + 5 + 2 ) + ( 5 / 1 )',\n",
       "  '11 1 2 3 4 5 6 7 8 9 10 12 13 14 3 1 2 4',\n",
       "  '14'),\n",
       " ('8 - ( 1 ) * ( 7 / 4 / 9 + 5 + 7 / 9 ) * 8',\n",
       "  '1 14 1 2 3 11 9 1 2 3 4 5 6 7 8 1 2 10 12 13',\n",
       "  '14'),\n",
       " ('( 9 / 6 + 1 * 8 - 8 + 4 ) / 4 + ( 9 - 4 / 4 ) / 5 + 5 / 3',\n",
       "  '9 1 2 3 4 1 2 5 6 7 8 10 11 12 13 14 4 1 3 1 2 5 6 7 15 16 1 2',\n",
       "  '16'),\n",
       " ('( 4 + 2 / 2 * 1 * 1 / 6 / 6 - 3 ) / 3 - ( 7 ) + ( 8 * 1 ) + ( 8 * 8 * 2 )',\n",
       "  '14 1 11 1 2 3 4 5 6 7 8 9 10 12 13 15 16 17 18 19 1 2 20 21 3 1 2 4 22 23 5 1 2 3 4 6',\n",
       "  '23'),\n",
       " ('3 / ( 1 * 1 )', '1 5 3 1 2 4', '5'),\n",
       " ('8 / ( 5 / 6 )', '1 5 3 1 2 4', '5'),\n",
       " ('6 + ( 1 - 4 * 2 / 9 + 3 - 5 - 4 + 2 / 6 + 3 + 8 + 2 * 6 - 3 - 1 * 5 ) * 8 - 9',\n",
       "  '1 28 24 1 5 1 2 3 4 6 7 8 9 10 11 12 13 1 2 14 15 16 17 18 19 1 2 20 21 22 23 1 2 25 26 27 29 30',\n",
       "  '30'),\n",
       " ('( 2 ) * ( 8 * 4 * 9 - 2 * 1 - 7 ) - 7',\n",
       "  '1 2 3 11 9 1 2 3 4 5 6 1 2 7 8 10 12 13',\n",
       "  '13'),\n",
       " ('( 8 ) - ( 1 * 4 )', '1 2 3 5 3 1 2 4', '5'),\n",
       " ('3 * ( 7 + 5 / 6 + 2 * 8 * 2 )', '1 8 6 1 3 1 2 4 5 1 2 3 4 7', '8'),\n",
       " ('( 7 * 4 ) * ( 5 ) + ( 8 * 7 * 6 / 3 / 5 + 8 + 5 * 4 / 3 - 7 ) * ( 3 - 8 * 2 )',\n",
       "  '3 1 2 4 5 6 1 2 7 19 15 1 2 3 4 5 6 7 8 9 10 11 12 1 2 3 4 13 14 16 17 18 4 1 3 1 2 5',\n",
       "  '19'),\n",
       " ('( 8 + 9 * 6 ) * 8 + ( 6 / 7 ) + ( 3 + 1 + 1 - 9 / 6 ) / ( 4 * 6 ) / 6 + 5',\n",
       "  '4 1 3 1 2 5 6 7 8 9 3 1 2 4 10 13 7 1 2 3 4 5 6 1 2 8 9 10 3 1 2 4 11 12 14 15',\n",
       "  '15'),\n",
       " ('6 * 6 + ( 6 * 4 ) * 8 - ( 7 ) / ( 1 + 3 ) + 3',\n",
       "  '1 2 3 7 3 1 2 4 5 6 8 9 1 2 3 5 3 1 2 4 10 11',\n",
       "  '11'),\n",
       " ('( 5 - 7 - 8 / 3 * 2 - 6 * 2 / 4 ) / 6 + 1 / 1',\n",
       "  '8 1 2 3 5 1 2 3 4 6 7 1 2 3 4 9 10 11 12 13 1 2',\n",
       "  '13'),\n",
       " ('4 * 5 / ( 4 / 2 + 8 )', '1 2 3 7 5 1 2 3 4 6', '7'),\n",
       " ('( 8 + 4 / 1 + 5 / 2 - 6 ) * 5 - 7 * ( 5 ) + ( 7 + 2 ) * 4',\n",
       "  '8 1 3 1 2 4 5 1 2 6 7 9 10 11 12 13 1 3 1 2 14 15 3 1 2 4 5 6',\n",
       "  '15'),\n",
       " ('2 * 8 + ( 7 ) - ( 4 * 9 / 1 - 4 ) * 5 + ( 6 * 4 ) + 1 * ( 2 - 6 ) * 6',\n",
       "  '1 2 3 4 1 2 5 11 7 1 2 3 4 5 6 8 9 10 12 13 3 1 2 4 14 15 1 5 3 1 2 4 6 7',\n",
       "  '15'),\n",
       " ('6 - ( 5 ) + 8 / ( 7 / 5 )', '1 3 1 2 4 6 1 5 3 1 2 4', '6'),\n",
       " ('3 / ( 5 + 1 )', '1 5 3 1 2 4', '5'),\n",
       " ('( 5 / 1 - 4 / 2 * 2 ) / 6', '6 1 2 3 5 1 2 3 4 7 8 9', '9'),\n",
       " ('3 - ( 2 * 7 )', '1 5 3 1 2 4', '5'),\n",
       " ('9 * 4 * 5 - 2 / 1 / ( 5 * 8 * 1 + 1 * 7 * 7 / 8 / 7 / 9 + 7 ) * 7 * 7 - ( 4 - 5 * 8 * 1 * 7 )',\n",
       "  '1 2 3 4 5 21 1 2 3 16 14 1 2 3 4 5 11 1 2 3 4 5 6 7 8 9 10 12 13 15 17 18 19 20 22 23 8 1 7 1 2 3 4 5 6 9',\n",
       "  '23'),\n",
       " ('( 9 + 8 - 7 * 6 ) * ( 1 * 7 + 2 ) + 2 * ( 1 ) / 2 * ( 5 ) * ( 4 / 1 + 7 * 8 - 2 * 1 + 7 ) * 8',\n",
       "  '5 1 2 3 4 1 2 6 7 8 5 1 2 3 4 6 9 14 1 3 1 2 4 5 6 7 1 2 8 11 9 1 2 3 4 1 2 5 6 1 2 7 8 10 12 13',\n",
       "  '14'),\n",
       " ('( 5 - 3 - 1 ) * ( 7 / 4 * 1 + 3 ) - 7',\n",
       "  '5 1 2 3 4 6 7 9 7 1 2 3 4 5 6 8 10 11',\n",
       "  '11'),\n",
       " ('4 * 3 / ( 4 * 3 ) - ( 7 )', '1 2 3 5 3 1 2 4 6 7 1 2', '7'),\n",
       " ('8 / ( 2 ) / ( 3 * 1 )', '1 3 1 2 4 5 3 1 2 4', '5'),\n",
       " ('5 / ( 6 ) * ( 5 ) / 6 + ( 6 ) / 1 * 7 / 1 - ( 5 - 6 * 4 * 2 ) / 7',\n",
       "  '1 3 1 2 4 5 1 2 6 7 8 9 1 2 3 4 5 6 7 8 10 11 6 1 5 1 2 3 4 7 8 9',\n",
       "  '11'),\n",
       " ('( 9 - 2 * 7 + 7 / 5 / 1 )', '6 1 3 1 2 4 5 1 2 3 4 7', '7'),\n",
       " ('4 * ( 6 + 1 / 7 ) / 9 * ( 3 )', '1 6 4 1 3 1 2 5 7 8 9 10 1 2', '10'),\n",
       " ('( 9 + 7 * 7 * 6 * 9 ) * 6 / 8', '8 1 7 1 2 3 4 5 6 9 10 11 12 13', '13'),\n",
       " ('( 3 + 6 ) - ( 4 + 1 * 3 )', '3 1 2 4 5 6 4 1 3 1 2 5', '6'),\n",
       " ('7 * 9 / ( 3 / 6 ) + 3', '1 2 3 5 3 1 2 4 6 7', '7'),\n",
       " ('( 6 * 9 - 6 / 2 ) + 4 + 4 / ( 3 / 8 ) / 6 * 3 - 9 * ( 3 / 3 + 1 - 1 / 1 ) * ( 4 / 9 / 6 ) * 3 - 4 * ( 4 ) - ( 4 )',\n",
       "  '5 1 2 3 4 1 2 6 7 8 9 10 1 5 3 1 2 4 6 7 8 9 11 14 1 9 7 1 2 3 4 5 6 1 2 8 10 11 5 1 2 3 4 6 12 13 15 16 1 3 1 2 17 18 1 2',\n",
       "  '18'),\n",
       " ('( 5 ) / ( 9 * 7 - 9 )', '1 2 3 7 5 1 2 3 4 6', '7'),\n",
       " ('8 - ( 9 * 9 / 1 )', '1 7 5 1 2 3 4 6', '7'),\n",
       " ('2 / ( 7 / 2 * 5 * 7 * 9 )', '1 11 9 1 2 3 4 5 6 7 8 10', '11'),\n",
       " ('( 3 + 5 - 8 / 6 - 2 * 3 - 9 ) - 3',\n",
       "  '9 1 2 3 4 1 2 5 6 1 2 7 8 10 11 12',\n",
       "  '12'),\n",
       " ('1 / ( 2 ) - 8 + 9 / 7 / ( 3 ) - 4 / 2 * ( 1 )',\n",
       "  '1 3 1 2 4 5 6 7 1 2 3 4 1 2 8 9 1 2 3 4 1 2',\n",
       "  '9'),\n",
       " ('( 7 / 3 + 7 + 3 * 2 / 4 * 9 * 2 / 7 )',\n",
       "  '12 1 2 3 4 5 11 1 2 3 4 5 6 7 8 9 10 13',\n",
       "  '13'),\n",
       " ('6 * ( 7 ) / ( 4 - 3 ) * ( 1 / 6 / 5 + 8 )',\n",
       "  '1 3 1 2 4 5 3 1 2 4 6 9 7 1 2 3 4 5 6 8',\n",
       "  '9'),\n",
       " ('7 - ( 1 - 7 * 2 / 6 * 9 )', '1 10 8 1 7 1 2 3 4 5 6 9', '10'),\n",
       " ('1 - 1 / 4 + ( 7 - 8 * 6 ) + ( 1 * 5 + 4 - 3 + 3 + 4 / 2 ) - ( 3 - 1 / 2 - 9 * 7 ) * ( 7 * 4 * 4 ) * 3',\n",
       "  '1 3 1 2 4 6 4 1 3 1 2 5 7 13 11 1 2 3 4 5 6 7 8 9 10 1 2 12 14 15 6 1 3 1 2 4 5 1 2 7 8 9 5 1 2 3 4 6 10 11',\n",
       "  '15'),\n",
       " ('( 7 + 2 / 7 + 6 - 5 * 5 * 5 / 9 ) * 4 - ( 7 )',\n",
       "  '8 1 3 1 2 4 5 6 7 1 2 3 4 5 6 9 10 11 12 13 1 2',\n",
       "  '13'),\n",
       " ('( 8 + 2 ) / ( 8 / 8 / 1 + 9 ) / 8 - ( 9 * 1 + 7 ) - 5',\n",
       "  '3 1 2 4 5 9 7 1 2 3 4 5 6 8 10 11 12 13 5 1 2 3 4 6 14 15',\n",
       "  '15'),\n",
       " ('( 3 + 7 * 3 * 1 / 9 - 5 / 6 + 4 * 2 )',\n",
       "  '12 1 7 1 2 3 4 5 6 8 9 1 2 10 11 1 2 13',\n",
       "  '13'),\n",
       " ('3 / ( 2 + 3 ) / ( 9 ) + 4 - 6 * 9 + ( 1 )',\n",
       "  '1 5 3 1 2 4 6 7 1 2 8 9 10 11 1 2 12 13 1 2',\n",
       "  '13'),\n",
       " ('8 / 1 * ( 5 + 3 + 7 - 9 / 5 + 7 + 9 * 1 ) - ( 2 * 7 )',\n",
       "  '1 2 3 13 11 1 2 3 4 5 6 1 2 7 8 9 10 1 2 12 14 15 3 1 2 4',\n",
       "  '15'),\n",
       " ('( 4 / 4 / 1 + 5 / 8 / 1 )', '7 1 2 3 4 5 6 1 2 3 4 8', '8'),\n",
       " ('8 / 7 / ( 2 * 6 ) * 2 / 3', '1 2 3 5 3 1 2 4 6 7 8 9', '9'),\n",
       " ('6 - ( 6 ) / ( 9 )', '1 5 1 2 3 4 1 2', '5'),\n",
       " ('2 / ( 9 * 8 )', '1 5 3 1 2 4', '5'),\n",
       " ('4 - ( 3 * 4 ) / 6', '1 7 3 1 2 4 5 6', '7'),\n",
       " ('( 2 - 4 * 9 * 9 - 3 ) - 6 + 9 / 8',\n",
       "  '8 1 5 1 2 3 4 6 7 9 10 11 12 13 1 2',\n",
       "  '13'),\n",
       " ('( 5 ) * 4 * ( 5 - 6 ) + 5 * 7 - ( 2 * 8 ) * ( 5 - 7 * 8 - 1 - 7 + 9 - 6 / 3 )',\n",
       "  '1 2 3 4 5 6 3 1 2 4 7 8 1 2 9 15 3 1 2 4 5 14 12 1 3 1 2 4 5 6 7 8 9 10 11 1 2 13',\n",
       "  '15'),\n",
       " ('4 / 6 * ( 3 - 7 ) * ( 2 - 3 ) * 3 * ( 6 )',\n",
       "  '1 2 3 5 3 1 2 4 6 7 3 1 2 4 8 9 10 11 1 2',\n",
       "  '11'),\n",
       " ('( 3 - 9 / 9 - 5 * 9 * 6 / 2 + 5 ) / 6',\n",
       "  '10 1 3 1 2 4 7 1 2 3 4 5 6 8 9 11 12 13',\n",
       "  '13'),\n",
       " ('( 6 ) / ( 9 * 9 )', '1 2 3 5 3 1 2 4', '5'),\n",
       " ('( 2 ) + 6 / ( 5 ) + ( 5 / 3 + 8 / 1 ) + ( 7 / 2 - 2 - 1 )',\n",
       "  '1 2 3 4 1 3 1 2 5 7 5 1 2 3 4 1 2 6 8 9 7 1 2 3 4 5 6 8',\n",
       "  '9'),\n",
       " ('2 + ( 2 * 1 ) / 2', '1 7 3 1 2 4 5 6', '7'),\n",
       " ('( 3 / 7 ) / 4 * 7 + ( 1 + 3 ) * 8 / 7',\n",
       "  '3 1 2 4 5 6 7 8 9 10 3 1 2 4 5 6 7 8',\n",
       "  '10'),\n",
       " ('( 1 + 5 + 6 - 9 ) - 2 * 4 + 2 + ( 2 / 6 / 9 * 2 - 5 ) / ( 3 - 3 + 2 - 9 * 9 )',\n",
       "  '7 1 2 3 4 5 6 8 9 10 1 2 11 12 13 14 9 1 2 3 4 5 6 7 8 10 11 12 7 1 2 3 4 5 6 1 2 8',\n",
       "  '14'),\n",
       " ('( 9 * 2 ) * 9 + 9 + 6 * 5 * ( 4 + 9 + 7 - 2 )',\n",
       "  '3 1 2 4 5 6 7 8 9 10 1 2 3 9 7 1 2 3 4 5 6 8',\n",
       "  '10'),\n",
       " ('3 / 4 - ( 1 / 6 ) / ( 1 + 3 )', '1 2 3 7 3 1 2 4 5 6 3 1 2 4', '7'),\n",
       " ('9 - ( 2 + 8 + 4 - 5 / 3 )', '1 9 7 1 2 3 4 5 6 1 2 8', '9'),\n",
       " ('2 + ( 8 + 6 * 5 / 4 * 3 / 3 )', '1 12 10 1 9 1 2 3 4 5 6 7 8 11', '12'),\n",
       " ('6 / ( 9 / 6 / 6 - 8 * 1 )', '1 9 7 1 2 3 4 5 6 1 2 8', '9'),\n",
       " ('9 + ( 5 * 8 )', '1 5 3 1 2 4', '5'),\n",
       " ('( 5 + 6 / 2 ) - ( 7 + 3 * 9 )', '4 1 3 1 2 5 6 7 4 1 3 1 2 5', '7'),\n",
       " ('5 - 7 + ( 4 - 2 / 7 )', '1 2 3 6 4 1 3 1 2 5', '6'),\n",
       " ('3 * 6 * 8 - ( 4 + 9 )', '1 2 3 4 5 6 3 1 2 4', '6'),\n",
       " ('( 2 ) / ( 7 / 2 ) * 7 * 4 / 5 / ( 3 / 9 ) - 4',\n",
       "  '1 2 3 5 3 1 2 4 6 7 8 9 10 11 12 13 3 1 2 4 14 15',\n",
       "  '15'),\n",
       " ('( 2 / 6 * 3 ) + ( 7 ) * ( 4 + 2 * 7 / 1 - 7 * 5 / 9 / 8 ) + ( 3 / 3 ) * ( 8 / 9 )',\n",
       "  '5 1 2 3 4 6 7 11 1 2 3 10 8 1 5 1 2 3 4 6 7 1 2 3 4 5 6 9 12 13 3 1 2 4 5 6 3 1 2 4',\n",
       "  '13'),\n",
       " ('( 9 + 2 * 2 / 7 * 1 ) + 8', '8 1 7 1 2 3 4 5 6 9 10 11', '11'),\n",
       " ('5 * 1 - ( 4 * 1 )', '1 2 3 5 3 1 2 4', '5'),\n",
       " ('5 + 4 * 9 * 8 * 4 - ( 2 ) / ( 9 / 1 + 7 ) / ( 6 ) * 1 / 8 + ( 9 ) / 1 / 1 - ( 5 + 1 )',\n",
       "  '1 7 1 2 3 4 5 6 8 14 1 2 3 7 5 1 2 3 4 6 8 9 1 2 10 11 12 13 15 16 1 2 3 4 5 6 17 18 3 1 2 4',\n",
       "  '18'),\n",
       " ('8 - ( 7 ) * ( 4 ) * 7', '1 7 1 2 3 4 1 2 5 6', '7'),\n",
       " ('8 / ( 6 ) + 9 / 5 - ( 8 + 3 / 8 ) + 6 * ( 9 - 1 ) * 3 + 1 / ( 7 * 4 )',\n",
       "  '1 3 1 2 4 5 1 2 6 7 4 1 3 1 2 5 8 9 1 5 3 1 2 4 6 7 10 11 1 5 3 1 2 4',\n",
       "  '11'),\n",
       " ('( 1 ) / 2 / ( 3 - 6 / 9 / 6 ) * 1 / 1',\n",
       "  '1 2 3 4 5 8 6 1 5 1 2 3 4 7 9 10 11 12',\n",
       "  '12'),\n",
       " ('( 3 / 7 ) * 3 / 2 * 9 - 8 / ( 7 / 3 / 3 + 7 ) + 7 * 3',\n",
       "  '3 1 2 4 5 6 7 8 9 10 11 12 1 9 7 1 2 3 4 5 6 8 13 14 1 2',\n",
       "  '14'),\n",
       " ('( 1 / 6 + 4 * 2 ) + ( 6 - 7 / 5 / 4 - 9 )',\n",
       "  '5 1 2 3 4 1 2 6 7 10 8 1 5 1 2 3 4 6 7 9',\n",
       "  '10'),\n",
       " ('5 + ( 7 + 9 * 3 ) * 5', '1 8 4 1 3 1 2 5 6 7', '8'),\n",
       " ('( 2 ) * 1 * ( 8 * 3 ) * 7 - 3 / 1',\n",
       "  '1 2 3 4 5 6 3 1 2 4 7 8 9 10 1 2',\n",
       "  '10'),\n",
       " ('( 2 ) * ( 7 / 7 ) - ( 5 * 8 - 4 * 4 / 4 ) / 3 - 7',\n",
       "  '1 2 3 5 3 1 2 4 6 10 6 1 2 3 5 1 2 3 4 7 8 9 11 12',\n",
       "  '12'),\n",
       " ('( 1 * 9 ) - ( 8 ) + ( 4 - 6 ) + 7 * 7',\n",
       "  '3 1 2 4 5 6 1 2 7 8 3 1 2 4 9 10 1 2',\n",
       "  '10'),\n",
       " ('4 / 2 + ( 6 * 3 / 6 - 1 + 9 * 7 / 7 - 1 - 4 - 2 - 4 )',\n",
       "  '1 2 3 19 17 1 2 3 4 5 6 7 8 1 2 3 4 9 10 11 12 13 14 15 16 18',\n",
       "  '19'),\n",
       " ('( 5 * 3 / 9 - 1 + 9 + 3 / 8 ) / 4 / 4 * ( 2 * 5 / 7 ) * 7 * 9 * 1 + 4 / ( 8 * 4 ) * ( 3 )',\n",
       "  '11 1 2 3 4 5 6 7 8 9 10 1 2 12 13 14 15 16 17 18 5 1 2 3 4 6 19 20 21 22 23 24 25 26 1 5 3 1 2 4 6 7 1 2',\n",
       "  '26'),\n",
       " ('( 2 - 3 - 6 + 2 - 5 / 6 * 5 ) * ( 7 - 8 / 1 ) * 9',\n",
       "  '9 1 2 3 4 5 6 7 8 1 2 3 4 10 11 12 4 1 3 1 2 5 13 14',\n",
       "  '14'),\n",
       " ('8 / ( 6 / 4 )', '1 5 3 1 2 4', '5'),\n",
       " ('7 / ( 7 / 9 * 2 + 8 + 8 / 6 )', '1 11 9 1 2 3 4 5 6 7 8 1 2 10', '11'),\n",
       " ('( 7 ) / 1 / 4 - 3 / ( 8 * 3 ) / ( 1 )',\n",
       "  '1 2 3 4 5 6 7 8 1 5 3 1 2 4 6 7 1 2',\n",
       "  '8')]"
      ]
     },
     "execution_count": 45,
     "metadata": {},
     "output_type": "execute_result"
    }
   ],
   "source": [
    "es[:100]"
   ]
  },
  {
   "cell_type": "markdown",
   "metadata": {},
   "source": [
    "# save"
   ]
  },
  {
   "cell_type": "code",
   "execution_count": 47,
   "metadata": {},
   "outputs": [],
   "source": [
    "suffix = 'msu456.tsv'"
   ]
  },
  {
   "cell_type": "code",
   "execution_count": 48,
   "metadata": {},
   "outputs": [],
   "source": [
    "random.shuffle(es_eval)\n",
    "ntrain = int(0.8 * len(es_eval))\n",
    "nvalid = int(0.1 * len(es_eval))\n",
    "ntest = int(0.1 * len(es_eval))\n",
    "train = es_eval[:ntrain]\n",
    "valid = es_eval[ntrain: ntrain+nvalid]\n",
    "test = es_eval[ntrain+nvalid:]"
   ]
  },
  {
   "cell_type": "code",
   "execution_count": 50,
   "metadata": {},
   "outputs": [],
   "source": [
    "for dataset, dataset_type in zip([train, valid, test], ['train', 'valid', 'test']):\n",
    "    fname = '%s.%s' % (dataset_type, suffix)\n",
    "    with open(fname, 'w') as f:\n",
    "        for line in dataset:\n",
    "            f.write('\\t'.join(line))\n",
    "            f.write('\\n')"
   ]
  },
  {
   "cell_type": "code",
   "execution_count": null,
   "metadata": {},
   "outputs": [],
   "source": []
  }
 ],
 "metadata": {
  "kernelspec": {
   "display_name": "Python 3",
   "language": "python",
   "name": "python3"
  },
  "language_info": {
   "codemirror_mode": {
    "name": "ipython",
    "version": 3
   },
   "file_extension": ".py",
   "mimetype": "text/x-python",
   "name": "python",
   "nbconvert_exporter": "python",
   "pygments_lexer": "ipython3",
   "version": "3.6.4"
  }
 },
 "nbformat": 4,
 "nbformat_minor": 2
}
