{
 "cells": [
  {
   "cell_type": "code",
   "execution_count": 1,
   "metadata": {},
   "outputs": [],
   "source": [
    "import numpy as np\n",
    "import random\n",
    "import matplotlib.pyplot as plt\n",
    "import os\n",
    "\n",
    "VALUES = range(1, 10)\n",
    "OPS_E = [0, 1]\n",
    "OPS_T = [2, 3]\n",
    "NTYPES = ['e', 't']\n",
    "OP_MAP = ['+', '-', '*', '/']"
   ]
  },
  {
   "cell_type": "code",
   "execution_count": 2,
   "metadata": {},
   "outputs": [],
   "source": [
    "FLANG = os.path.join('..', 'flang')\n",
    "# TRAIN = os.path.join(FLANG, 'train_d30.ne.tsv')\n",
    "# VALID = os.path.join(FLANG, 'valid_d30.ne.tsv')\n",
    "# TEST = os.path.join(FLANG, 'test_d30.ne.tsv')\n",
    "TRAIN = os.path.join(FLANG, 'train_d30.ne.small.tsv')\n",
    "VALID = os.path.join(FLANG, 'valid_d30.ne.small.tsv')\n",
    "TEST = os.path.join(FLANG, 'test_d30.ne.small.tsv')"
   ]
  },
  {
   "cell_type": "code",
   "execution_count": 3,
   "metadata": {},
   "outputs": [],
   "source": [
    "def to_value_sd(sd_lst, node_lst):\n",
    "    if len(sd_lst) == 0:\n",
    "        node = node_lst[0]\n",
    "        v = node\n",
    "    else:\n",
    "        i = np.argmax(sd_lst)\n",
    "        child_l, v_l = to_value_sd(sd_lst[:i], node_lst[:i+1])\n",
    "        child_r, v_r = to_value_sd(sd_lst[i+1:], node_lst[i+1:])\n",
    "        node = (child_l, child_r)\n",
    "        if isinstance(v_l, tuple) and not isinstance(v_r, tuple):\n",
    "            v1, op = v_l[0], v_l[1]\n",
    "            v2 = v_r\n",
    "            if op == '/':\n",
    "                v = str(int(v1) % int(v2))\n",
    "            else:\n",
    "                v = str(eval(''.join([v1, op, v2])) % 10)\n",
    "        else:\n",
    "            assert not isinstance(v_l, tuple) and not isinstance(v_r, tuple)\n",
    "            v = (v_l, v_r)\n",
    "\n",
    "    return node, v"
   ]
  },
  {
   "cell_type": "code",
   "execution_count": 4,
   "metadata": {},
   "outputs": [],
   "source": [
    "train = []\n",
    "valid = []\n",
    "test = []\n",
    "with open(TRAIN, 'r') as ftrain, open(VALID, 'r') as fvalid, open(TEST, 'r') as ftest:\n",
    "    for line in ftrain:\n",
    "        train.append(line.strip().split('\\t'))\n",
    "    for line in fvalid:\n",
    "        valid.append(line.strip().split('\\t'))\n",
    "    for line in ftest:\n",
    "        test.append(line.strip().split('\\t'))"
   ]
  },
  {
   "cell_type": "code",
   "execution_count": 5,
   "metadata": {},
   "outputs": [
    {
     "name": "stdout",
     "output_type": "stream",
     "text": [
      "22.828\n",
      "389.98241599999994\n"
     ]
    }
   ],
   "source": [
    "lens = []\n",
    "for e in train:\n",
    "    node_lst, sd_lst, h = e\n",
    "    lens.append(len(node_lst.split()))\n",
    "print(np.average(lens))\n",
    "print(np.var(lens))"
   ]
  },
  {
   "cell_type": "code",
   "execution_count": 6,
   "metadata": {},
   "outputs": [
    {
     "data": {
      "text/plain": [
       "['4 * 1 - 2 - 3', '1 2 3 4 5 6', '1']"
      ]
     },
     "execution_count": 6,
     "metadata": {},
     "output_type": "execute_result"
    }
   ],
   "source": [
    "train[0]"
   ]
  },
  {
   "cell_type": "code",
   "execution_count": 7,
   "metadata": {},
   "outputs": [],
   "source": [
    "val_lst = []\n",
    "for node_str, ds_str, h in train:\n",
    "    ds = list(map(int, ds_str.split()))\n",
    "    val = to_value_sd(ds, node_str.split())[1]\n",
    "    val_lst.append(int(val))"
   ]
  },
  {
   "cell_type": "code",
   "execution_count": 8,
   "metadata": {},
   "outputs": [
    {
     "data": {
      "image/png": "[encoded data removed]",
      "text/plain": [
       "<Figure size 432x288 with 1 Axes>"
      ]
     },
     "metadata": {},
     "output_type": "display_data"
    }
   ],
   "source": [
    "plt.hist(val_lst, bins=10, range=(0, 10+1))\n",
    "plt.show()"
   ]
  },
  {
   "cell_type": "code",
   "execution_count": 9,
   "metadata": {},
   "outputs": [],
   "source": [
    "# with open('train_d30.ne.tsv', 'w') as ftrain, \\\n",
    "#     open('valid_d30.ne.tsv', 'w') as fvalid, \\\n",
    "#     open('test_d30.ne.tsv', 'w') as ftest:\n",
    "#     for es, f in zip([train, valid, test], [ftrain, fvalid, ftest]):\n",
    "#         for e in es:\n",
    "#             node_lst, sd_lst, h = e\n",
    "#             ds = list(map(int, sd_lst.split()))\n",
    "#             val = to_value_sd(ds, node_lst.split())[1]\n",
    "#             f.write('\\t'.join([node_lst, sd_lst, h, val])+'\\n')"
   ]
  },
  {
   "cell_type": "code",
   "execution_count": 9,
   "metadata": {},
   "outputs": [],
   "source": [
    "with open('train_d30.ne.small.tsv', 'w') as ftrain, \\\n",
    "    open('valid_d30.ne.small.tsv', 'w') as fvalid, \\\n",
    "    open('test_d30.ne.small.tsv', 'w') as ftest:\n",
    "    for es, f in zip([train, valid, test], [ftrain, fvalid, ftest]):\n",
    "        for e in es:\n",
    "            node_lst, sd_lst, h = e\n",
    "            ds = list(map(int, sd_lst.split()))\n",
    "            val = to_value_sd(ds, node_lst.split())[1]\n",
    "            f.write('\\t'.join([node_lst, sd_lst, h, val])+'\\n')"
   ]
  },
  {
   "cell_type": "code",
   "execution_count": null,
   "metadata": {},
   "outputs": [],
   "source": []
  }
 ],
 "metadata": {
  "kernelspec": {
   "display_name": "Python 3",
   "language": "python",
   "name": "python3"
  },
  "language_info": {
   "codemirror_mode": {
    "name": "ipython",
    "version": 3
   },
   "file_extension": ".py",
   "mimetype": "text/x-python",
   "name": "python",
   "nbconvert_exporter": "python",
   "pygments_lexer": "ipython3",
   "version": "3.6.4"
  }
 },
 "nbformat": 4,
 "nbformat_minor": 2
}
