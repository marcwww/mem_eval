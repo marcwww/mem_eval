{
 "cells": [
  {
   "cell_type": "code",
   "execution_count": 14,
   "metadata": {},
   "outputs": [],
   "source": [
    "import numpy as np\n",
    "import random\n",
    "import matplotlib.pyplot as plt\n",
    "import os\n",
    "\n",
    "MAX_DEPTH = 20\n",
    "PROB_BRANCH = 0.25\n",
    "VALUES = range(1, 10)\n",
    "OPS_E = [0, 1]\n",
    "OPS_T = [2, 3]\n",
    "NTYPES = ['e', 't']\n",
    "OP_MAP = ['+', '-', '*', '/']"
   ]
  },
  {
   "cell_type": "code",
   "execution_count": 15,
   "metadata": {},
   "outputs": [],
   "source": [
    "FLANG = os.path.join('..', 'flang')\n",
    "# TRAIN = os.path.join(FLANG, 'train_d30.pn1.tsv')\n",
    "# VALID = os.path.join(FLANG, 'valid_d30.pn1.tsv')\n",
    "# TEST = os.path.join(FLANG, 'test_d30.pn1.tsv')\n",
    "TRAIN = os.path.join(FLANG, 'train_d30.pn1.more.tsv')\n",
    "VALID = os.path.join(FLANG, 'valid_d30.pn1.more.tsv')\n",
    "TEST = os.path.join(FLANG, 'test_d30.pn1.more.tsv')"
   ]
  },
  {
   "cell_type": "code",
   "execution_count": 16,
   "metadata": {},
   "outputs": [],
   "source": [
    "def to_value_sd(sd_lst, node_lst):\n",
    "    if len(sd_lst) == 0:\n",
    "        node = node_lst[0]\n",
    "        v = node\n",
    "    else:\n",
    "        i = np.argmax(sd_lst)\n",
    "        child_l, v_l = to_value_sd(sd_lst[:i], node_lst[:i+1])\n",
    "        child_r, v_r = to_value_sd(sd_lst[i+1:], node_lst[i+1:])\n",
    "        node = [child_l, child_r]\n",
    "        if isinstance(v_l, list) and not isinstance(v_r, list):\n",
    "            if v_l[1] in OP_MAP:\n",
    "                v1, op = v_l[0], v_l[1]\n",
    "                v2 = v_r\n",
    "                if op == '/':\n",
    "                    v = str(int(v1) % int(v2))\n",
    "#                     if v == '0':\n",
    "#                         v = '1'\n",
    "                else:\n",
    "                    v = str(eval(''.join([v1, op, v2])) % 10)\n",
    "#                     if v == '0':\n",
    "#                         v = '1'\n",
    "            else:\n",
    "                assert v_l[0] == '('\n",
    "                v = str(v_l[1])\n",
    "        else:\n",
    "            assert not isinstance(v_l, list) and not isinstance(v_r, list)\n",
    "            v = [v_l, v_r]\n",
    "            \n",
    "    return node, v"
   ]
  },
  {
   "cell_type": "code",
   "execution_count": 17,
   "metadata": {},
   "outputs": [],
   "source": [
    "train = []\n",
    "valid = []\n",
    "test = []\n",
    "with open(TRAIN, 'r') as ftrain, open(VALID, 'r') as fvalid, open(TEST, 'r') as ftest:\n",
    "    for line in ftrain:\n",
    "        train.append(line.strip().split('\\t'))\n",
    "    for line in fvalid:\n",
    "        valid.append(line.strip().split('\\t'))\n",
    "    for line in ftest:\n",
    "        test.append(line.strip().split('\\t'))"
   ]
  },
  {
   "cell_type": "code",
   "execution_count": 18,
   "metadata": {},
   "outputs": [
    {
     "data": {
      "text/plain": [
       "['3 + 3 / ( 9 / 6 / 7 * 5 * 1 + 4 * 3 / 7 ) / 2 / 4',\n",
       " '1 18 1 13 11 1 2 3 4 5 6 7 8 9 10 1 2 3 4 12 14 15 16 17',\n",
       " '18']"
      ]
     },
     "execution_count": 18,
     "metadata": {},
     "output_type": "execute_result"
    }
   ],
   "source": [
    "train[7]"
   ]
  },
  {
   "cell_type": "code",
   "execution_count": 19,
   "metadata": {},
   "outputs": [],
   "source": [
    "node_lst, sd_lst = train[7][0].split(), list(map(int, train[7][1].split()))"
   ]
  },
  {
   "cell_type": "code",
   "execution_count": 20,
   "metadata": {},
   "outputs": [
    {
     "data": {
      "text/plain": [
       "([['3', '+'],\n",
       "  [[[[[['3', '/'],\n",
       "       [['(',\n",
       "         [[[[[[[[[['9', '/'], '6'], '/'], '7'], '*'], '5'], '*'], '1'], '+'],\n",
       "          [[[['4', '*'], '3'], '/'], '7']]],\n",
       "        ')']],\n",
       "      '/'],\n",
       "     '2'],\n",
       "    '/'],\n",
       "   '4']],\n",
       " '4')"
      ]
     },
     "execution_count": 20,
     "metadata": {},
     "output_type": "execute_result"
    }
   ],
   "source": [
    "to_value_sd(sd_lst, node_lst)"
   ]
  },
  {
   "cell_type": "code",
   "execution_count": 21,
   "metadata": {},
   "outputs": [
    {
     "data": {
      "text/plain": [
       "54"
      ]
     },
     "execution_count": 21,
     "metadata": {},
     "output_type": "execute_result"
    }
   ],
   "source": [
    "6*9"
   ]
  },
  {
   "cell_type": "code",
   "execution_count": 22,
   "metadata": {},
   "outputs": [
    {
     "data": {
      "text/plain": [
       "0"
      ]
     },
     "execution_count": 22,
     "metadata": {},
     "output_type": "execute_result"
    }
   ],
   "source": [
    "4 % 4"
   ]
  },
  {
   "cell_type": "code",
   "execution_count": 23,
   "metadata": {},
   "outputs": [],
   "source": [
    "val_lst = []\n",
    "for node_str, ds_str, h in train:\n",
    "    ds = list(map(int, ds_str.split()))\n",
    "    try:\n",
    "        val = to_value_sd(ds, node_str.split())[1]\n",
    "        val_lst.append(int(val))\n",
    "    except:\n",
    "        pass"
   ]
  },
  {
   "cell_type": "code",
   "execution_count": 24,
   "metadata": {},
   "outputs": [
    {
     "data": {
      "text/plain": [
       "(array([ 9495., 10067.,  7645.,  8643.,  7550.,  8192.,  6509., 14437.]),\n",
       " array([1, 2, 3, 4, 5, 6, 7, 8, 9]),\n",
       " <a list of 8 Patch objects>)"
      ]
     },
     "execution_count": 24,
     "metadata": {},
     "output_type": "execute_result"
    },
    {
     "data": {
      "image/png": "[encoded data removed]",
      "text/plain": [
       "<Figure size 432x288 with 1 Axes>"
      ]
     },
     "metadata": {},
     "output_type": "display_data"
    }
   ],
   "source": [
    "plt.hist(val_lst, bins=np.arange(1, 10))"
   ]
  },
  {
   "cell_type": "code",
   "execution_count": 25,
   "metadata": {},
   "outputs": [
    {
     "data": {
      "text/plain": [
       "85788"
      ]
     },
     "execution_count": 25,
     "metadata": {},
     "output_type": "execute_result"
    }
   ],
   "source": [
    "len(val_lst)"
   ]
  },
  {
   "cell_type": "code",
   "execution_count": 26,
   "metadata": {},
   "outputs": [],
   "source": [
    "with open('train_d30.pn1.more.tsv', 'w') as ftrain, \\\n",
    "    open('valid_d30.pn1.more.tsv', 'w') as fvalid, \\\n",
    "    open('test_d30.pn1.more.tsv', 'w') as ftest:\n",
    "    for es, f in zip([train, valid, test], [ftrain, fvalid, ftest]):\n",
    "        for e in es:\n",
    "            node_lst, sd_lst, h = e\n",
    "            ds = list(map(int, sd_lst.split()))\n",
    "            try:\n",
    "                val = to_value_sd(ds, node_lst.split())[1]\n",
    "                f.write('\\t'.join([node_lst, sd_lst, h, val])+'\\n')\n",
    "            except:\n",
    "                pass"
   ]
  },
  {
   "cell_type": "markdown",
   "metadata": {},
   "source": [
    "# shift-reduce"
   ]
  },
  {
   "cell_type": "code",
   "execution_count": 204,
   "metadata": {},
   "outputs": [],
   "source": [
    "def to_nlst(t):\n",
    "    return list(filter(lambda x: x not in ['[', ']', ',', '\\'', ' '], str(t)))"
   ]
  },
  {
   "cell_type": "code",
   "execution_count": 205,
   "metadata": {},
   "outputs": [],
   "source": [
    "nlsts = []\n",
    "sdlsts = []\n",
    "trees = []\n",
    "with open('train_d30.pn1.tsv', 'r') as f:\n",
    "    for line in f:\n",
    "        expr, ds, h, val = line.strip().split('\\t')\n",
    "        sdlst = list(map(int, ds.split()))\n",
    "        nlst = expr.split()\n",
    "        trees.append(to_value_sd(sdlst, nlst)[0])\n",
    "        nlsts.append(nlst)\n",
    "        sdlsts.append(sdlst)"
   ]
  },
  {
   "cell_type": "code",
   "execution_count": 206,
   "metadata": {},
   "outputs": [
    {
     "data": {
      "text/plain": [
       "\"[[[[[[[['6', '/'], [['(', [[[['3', '/'], '5'], '-'], '4']], ')']], '-'], '3'], '+'], [['1', '*'], '7']], '-'], [['(', [['8', '/'], '5']], ')']]\""
      ]
     },
     "execution_count": 206,
     "metadata": {},
     "output_type": "execute_result"
    }
   ],
   "source": [
    "str(trees[0])"
   ]
  },
  {
   "cell_type": "code",
   "execution_count": 207,
   "metadata": {},
   "outputs": [],
   "source": [
    "def nbrackets(t):\n",
    "    return (len(list(filter(lambda x: x not in [',', '\\'', ' '], str(t)))) - len(to_nlst(t)))/2"
   ]
  },
  {
   "cell_type": "code",
   "execution_count": 208,
   "metadata": {},
   "outputs": [
    {
     "data": {
      "text/plain": [
       "(4.0, 5)"
      ]
     },
     "execution_count": 208,
     "metadata": {},
     "output_type": "execute_result"
    }
   ],
   "source": [
    "nbrackets(trees[100]), len(to_nlst(trees[100]))"
   ]
  },
  {
   "cell_type": "code",
   "execution_count": null,
   "metadata": {},
   "outputs": [],
   "source": []
  },
  {
   "cell_type": "code",
   "execution_count": 209,
   "metadata": {},
   "outputs": [
    {
     "data": {
      "text/plain": [
       "'6/(3/5-4)-3+1*7-(8/5)'"
      ]
     },
     "execution_count": 209,
     "metadata": {},
     "output_type": "execute_result"
    }
   ],
   "source": [
    "''.join(nlsts[0])"
   ]
  },
  {
   "cell_type": "code",
   "execution_count": 210,
   "metadata": {},
   "outputs": [
    {
     "data": {
      "text/plain": [
       "[1, 7, 5, 1, 2, 3, 4, 6, 8, 9, 10, 11, 1, 2, 12, 13, 3, 1, 2, 4]"
      ]
     },
     "execution_count": 210,
     "metadata": {},
     "output_type": "execute_result"
    }
   ],
   "source": [
    "sdlsts[0]"
   ]
  },
  {
   "cell_type": "code",
   "execution_count": 211,
   "metadata": {},
   "outputs": [],
   "source": [
    "def combine(a0, a1):\n",
    "    def unfinised(n):\n",
    "        return isinstance(n, list) or isinstance(n, tuple)\n",
    "    \n",
    "    if unfinised(a0):\n",
    "        if a1 == ')':\n",
    "            lp, num = a0\n",
    "            assert lp == '('\n",
    "            return num\n",
    "        else:\n",
    "            num, op = a0\n",
    "            return eval(''.join([str(num),op,str(a1)]))\n",
    "    else:\n",
    "        return (a0, a1)      "
   ]
  },
  {
   "cell_type": "code",
   "execution_count": 212,
   "metadata": {},
   "outputs": [],
   "source": [
    "def shift_reduce(nlst, sdlst):\n",
    "    N = 0\n",
    "    mem = []\n",
    "    mem.append((nlst[0],  sdlst[0]))\n",
    "\n",
    "    for n, sd in zip(nlst[1:], sdlst[1:]+[10000]):\n",
    "        mem.append((n, sd))\n",
    "        while mem[-1][1] > mem[-2][1]:\n",
    "            a1, sd1 = mem.pop()\n",
    "            a0, sd0 = mem.pop()\n",
    "            res = combine(a0, a1)\n",
    "#             print(a0, a1, res)\n",
    "            mem.append((res, sd1))\n",
    "            if len(mem) == 1:\n",
    "                break\n",
    "                \n",
    "    assert len(mem) == 1\n",
    "    return float(mem[0][0])"
   ]
  },
  {
   "cell_type": "code",
   "execution_count": 356,
   "metadata": {},
   "outputs": [],
   "source": [
    "# simplified\n",
    "def shift_reduce(nlst, sdlst):\n",
    "    N = 0\n",
    "    mem = []\n",
    "    mem.append((nlst[0],  sdlst[0]))\n",
    "\n",
    "    for n, sd in zip(nlst[1:], sdlst[1:]+[10000]):\n",
    "        while sd > mem[-1][1]:\n",
    "            a0, sd0 = mem.pop()\n",
    "            n = combine(a0, n)\n",
    "            if len(mem) == 0:\n",
    "                break\n",
    "        mem.append((n, sd))\n",
    "                \n",
    "    assert len(mem) == 1\n",
    "    return float(mem[0][0])"
   ]
  },
  {
   "cell_type": "code",
   "execution_count": 218,
   "metadata": {},
   "outputs": [
    {
     "data": {
      "text/plain": [
       "0.6352941176470588"
      ]
     },
     "execution_count": 218,
     "metadata": {},
     "output_type": "execute_result"
    }
   ],
   "source": [
    "shift_reduce(nlsts[0], sdlsts[0])"
   ]
  },
  {
   "cell_type": "code",
   "execution_count": 219,
   "metadata": {},
   "outputs": [
    {
     "data": {
      "text/plain": [
       "0.6352941176470588"
      ]
     },
     "execution_count": 219,
     "metadata": {},
     "output_type": "execute_result"
    }
   ],
   "source": [
    "eval('6/(3/5-4)-3+1*7-(8/5)')"
   ]
  },
  {
   "cell_type": "code",
   "execution_count": 220,
   "metadata": {},
   "outputs": [
    {
     "data": {
      "text/plain": [
       "3.0"
      ]
     },
     "execution_count": 220,
     "metadata": {},
     "output_type": "execute_result"
    }
   ],
   "source": [
    "shift_reduce(['(', '3', ')'], [1, 2])"
   ]
  },
  {
   "cell_type": "code",
   "execution_count": 221,
   "metadata": {},
   "outputs": [],
   "source": [
    "for nlst, sdlst in zip(nlsts,sdlsts):\n",
    "    try:\n",
    "        eval(''.join(nlst))\n",
    "    except:\n",
    "        continue\n",
    "    \n",
    "    if shift_reduce(nlst, sdlst) != eval(''.join(nlst)):\n",
    "        print(nlst, sdlst)\n",
    "        print(eval(''.join(nlst)))"
   ]
  },
  {
   "cell_type": "code",
   "execution_count": 153,
   "metadata": {},
   "outputs": [],
   "source": [
    "a = [1,2,3,4]"
   ]
  },
  {
   "cell_type": "code",
   "execution_count": 110,
   "metadata": {},
   "outputs": [
    {
     "data": {
      "text/plain": [
       "4"
      ]
     },
     "execution_count": 110,
     "metadata": {},
     "output_type": "execute_result"
    }
   ],
   "source": [
    "a[-1]"
   ]
  },
  {
   "cell_type": "code",
   "execution_count": 111,
   "metadata": {},
   "outputs": [
    {
     "data": {
      "text/plain": [
       "3"
      ]
     },
     "execution_count": 111,
     "metadata": {},
     "output_type": "execute_result"
    }
   ],
   "source": [
    "a[-2]"
   ]
  },
  {
   "cell_type": "code",
   "execution_count": 103,
   "metadata": {},
   "outputs": [],
   "source": [
    "def plot_sd(nlst, sd_lst):\n",
    "    fig, ax = plt.subplots()\n",
    "    fig.dpi = 200\n",
    "    plt.bar(np.arange(len(sd_lst)), sd_lst)\n",
    "    plt.xticks(np.arange(len(nlst))-0.5, nlst)\n",
    "    plt.grid(axis='y', linestyle='--')"
   ]
  },
  {
   "cell_type": "code",
   "execution_count": 104,
   "metadata": {},
   "outputs": [
    {
     "data": {
      "image/png": "[encoded data removed]",
      "text/plain": [
       "<Figure size 1200x800 with 1 Axes>"
      ]
     },
     "metadata": {},
     "output_type": "display_data"
    }
   ],
   "source": [
    "plot_sd(nlsts[0], sdlsts[0])"
   ]
  },
  {
   "cell_type": "markdown",
   "metadata": {},
   "source": [
    "# shift-reduce-bracket"
   ]
  },
  {
   "cell_type": "code",
   "execution_count": 201,
   "metadata": {},
   "outputs": [],
   "source": [
    "def to_str(t):\n",
    "    return list(filter(lambda x: x not in [',', '\\'', ' '], str(t)))"
   ]
  },
  {
   "cell_type": "code",
   "execution_count": 203,
   "metadata": {},
   "outputs": [
    {
     "data": {
      "text/plain": [
       "'[[[[[[[[6/][[([[[[3/]5]-]4]])]]-]3]+][[1*]7]]-][[([[8/]5]])]]'"
      ]
     },
     "execution_count": 203,
     "metadata": {},
     "output_type": "execute_result"
    }
   ],
   "source": [
    "''.join(to_str(trees[0]))"
   ]
  },
  {
   "cell_type": "code",
   "execution_count": 233,
   "metadata": {},
   "outputs": [
    {
     "data": {
      "text/plain": [
       "[1, 7, 5, 1, 2, 3, 4, 6, 8, 9, 10, 11, 1, 2, 12, 13, 3, 1, 2, 4]"
      ]
     },
     "execution_count": 233,
     "metadata": {},
     "output_type": "execute_result"
    }
   ],
   "source": [
    "sdlsts[0]"
   ]
  },
  {
   "cell_type": "code",
   "execution_count": 235,
   "metadata": {},
   "outputs": [
    {
     "data": {
      "text/plain": [
       "'6/(3/5-4)-3+1*7-(8/5)'"
      ]
     },
     "execution_count": 235,
     "metadata": {},
     "output_type": "execute_result"
    }
   ],
   "source": [
    "''.join(nlsts[0])"
   ]
  },
  {
   "cell_type": "code",
   "execution_count": 236,
   "metadata": {
    "scrolled": false
   },
   "outputs": [
    {
     "data": {
      "image/png": "[encoded data removed]",
      "text/plain": [
       "<Figure size 1200x800 with 1 Axes>"
      ]
     },
     "metadata": {},
     "output_type": "display_data"
    }
   ],
   "source": [
    "plot_sd(nlsts[0], sdlsts[0])"
   ]
  },
  {
   "cell_type": "markdown",
   "metadata": {},
   "source": [
    "一个节点处左右两个句法距离若为从左至右增，则要在这个节点后加一个右括号;\n",
    "且子树合并看成一个节点（如这里的3/5-4），若这个节点左右两边句法距离增，也要加一个右括号"
   ]
  },
  {
   "cell_type": "markdown",
   "metadata": {},
   "source": [
    "加右括号的增量算法：从左至右，每一个句法距离找其第一个比其大的，在那个柱右端点处加括号"
   ]
  },
  {
   "cell_type": "code",
   "execution_count": 252,
   "metadata": {},
   "outputs": [],
   "source": [
    "a = [1,2,3]\n",
    "# a.insert(3,1)\n",
    "# print(a)"
   ]
  },
  {
   "cell_type": "code",
   "execution_count": 253,
   "metadata": {},
   "outputs": [
    {
     "data": {
      "text/plain": [
       "[3, 2, 1]"
      ]
     },
     "execution_count": 253,
     "metadata": {},
     "output_type": "execute_result"
    }
   ],
   "source": [
    "list(range(len(a), 0, -1))"
   ]
  },
  {
   "cell_type": "code",
   "execution_count": 241,
   "metadata": {},
   "outputs": [
    {
     "name": "stdout",
     "output_type": "stream",
     "text": [
      "0 3\n",
      "1 2\n",
      "2 1\n"
     ]
    }
   ],
   "source": [
    "for i, v in enumerate(reversed([1,2,3])):\n",
    "    print(i,v)"
   ]
  },
  {
   "cell_type": "code",
   "execution_count": 255,
   "metadata": {},
   "outputs": [],
   "source": []
  },
  {
   "cell_type": "code",
   "execution_count": 257,
   "metadata": {},
   "outputs": [],
   "source": [
    "nlst0 = list(nlsts[0])\n",
    "sdlst0 = list(sdlsts[0])"
   ]
  },
  {
   "cell_type": "code",
   "execution_count": 258,
   "metadata": {},
   "outputs": [],
   "source": [
    "add_rbracktets(nlst0, sdlst0)"
   ]
  },
  {
   "cell_type": "code",
   "execution_count": 260,
   "metadata": {},
   "outputs": [
    {
     "data": {
      "text/plain": [
       "'6/](3/]5]-]4])]-]3]+]1*]7]-](8/]5])]'"
      ]
     },
     "execution_count": 260,
     "metadata": {},
     "output_type": "execute_result"
    }
   ],
   "source": [
    "''.join(nlst0)"
   ]
  },
  {
   "cell_type": "code",
   "execution_count": 261,
   "metadata": {},
   "outputs": [
    {
     "data": {
      "text/plain": [
       "'6/(3/5-4)-3+1*7-(8/5)'"
      ]
     },
     "execution_count": 261,
     "metadata": {},
     "output_type": "execute_result"
    }
   ],
   "source": [
    "''.join(nlsts[0])"
   ]
  },
  {
   "cell_type": "code",
   "execution_count": null,
   "metadata": {},
   "outputs": [],
   "source": [
    "plt.bar(range())"
   ]
  },
  {
   "cell_type": "code",
   "execution_count": null,
   "metadata": {},
   "outputs": [],
   "source": [
    "def shift_reduce(nlst, sdlst):\n",
    "    N = 0\n",
    "    mem = []\n",
    "    mem.append((nlst[0],  sdlst[0]))\n",
    "\n",
    "    for n, sd in zip(nlst[1:], sdlst[1:]+[10000]):\n",
    "        while sd > mem[-1][1]:\n",
    "            a0, sd0 = mem.pop()\n",
    "            n = combine(a0, n)\n",
    "            if len(mem) == 0:\n",
    "                break\n",
    "        mem.append((n, sd))\n",
    "                \n",
    "    assert len(mem) == 1\n",
    "    return float(mem[0][0])"
   ]
  },
  {
   "cell_type": "code",
   "execution_count": 226,
   "metadata": {},
   "outputs": [],
   "source": [
    "def shift_reduce_btstr(btstr):\n",
    "    N = 0\n",
    "    mem = []\n",
    "    depth = 0\n",
    "\n",
    "    for n in btstr:\n",
    "        if n == '[':\n",
    "            pass\n",
    "        elif n == ']':\n",
    "            n1 = mem.pop()\n",
    "            n0 = mem.pop()\n",
    "            res = combine(n0, n1)\n",
    "            mem.append(res)\n",
    "        else:\n",
    "            mem.append(n)\n",
    "                \n",
    "    assert len(mem) == 1\n",
    "    return float(mem[0])"
   ]
  },
  {
   "cell_type": "code",
   "execution_count": 228,
   "metadata": {},
   "outputs": [
    {
     "data": {
      "text/plain": [
       "0.6352941176470588"
      ]
     },
     "execution_count": 228,
     "metadata": {},
     "output_type": "execute_result"
    }
   ],
   "source": [
    "shift_reduce_btstr(to_str(trees[0]))"
   ]
  },
  {
   "cell_type": "code",
   "execution_count": 232,
   "metadata": {},
   "outputs": [],
   "source": [
    "for t in trees:\n",
    "    btstr = to_str(t)\n",
    "    try:\n",
    "        eval(''.join(to_nlst(t)))\n",
    "    except:\n",
    "        continue\n",
    "        \n",
    "    if shift_reduce_btstr(btstr) != eval(''.join(to_nlst(t))):\n",
    "        print(t)"
   ]
  },
  {
   "cell_type": "markdown",
   "metadata": {},
   "source": [
    "# add right brackets guided by sdlist"
   ]
  },
  {
   "cell_type": "code",
   "execution_count": 348,
   "metadata": {},
   "outputs": [],
   "source": [
    "def add_rbrackets(nlst, sdlst):\n",
    "    nlst = list(nlst)\n",
    "    pnts = []\n",
    "    sdlst = list(sdlst)+[1000]\n",
    "    for i, sd_i in enumerate(sdlst):\n",
    "#         print(sd_i)\n",
    "        for j, sd_j in enumerate(sdlst[i+1:]):\n",
    "            if sd_j > sd_i:\n",
    "#                 print(i, i+j+1, sd_i, sd_j)\n",
    "                pnts.append(i+j+2)\n",
    "                break\n",
    "    pnts = sorted(pnts)\n",
    "    for pnt in reversed(pnts):\n",
    "        nlst.insert(pnt, ']')\n",
    "    \n",
    "    return nlst"
   ]
  },
  {
   "cell_type": "code",
   "execution_count": 329,
   "metadata": {},
   "outputs": [
    {
     "data": {
      "image/png": "[encoded data removed]",
      "text/plain": [
       "<Figure size 1200x800 with 1 Axes>"
      ]
     },
     "metadata": {},
     "output_type": "display_data"
    }
   ],
   "source": [
    "plot_sd(nlsts[0], sdlsts[0])"
   ]
  },
  {
   "cell_type": "code",
   "execution_count": 349,
   "metadata": {},
   "outputs": [
    {
     "data": {
      "text/plain": [
       "'6/](3/]5]-]4]])]]-]3]+]1*]7]]-](8/]5]])]]'"
      ]
     },
     "execution_count": 349,
     "metadata": {},
     "output_type": "execute_result"
    }
   ],
   "source": [
    "''.join(add_rbrackets(nlsts[0], sdlsts[0]))"
   ]
  },
  {
   "cell_type": "code",
   "execution_count": 318,
   "metadata": {},
   "outputs": [
    {
     "data": {
      "text/plain": [
       "'6/(3/5-4)-3+1*7-(8/5)'"
      ]
     },
     "execution_count": 318,
     "metadata": {},
     "output_type": "execute_result"
    }
   ],
   "source": [
    "''.join(nlsts[0])"
   ]
  },
  {
   "cell_type": "code",
   "execution_count": 316,
   "metadata": {},
   "outputs": [
    {
     "data": {
      "text/plain": [
       "21"
      ]
     },
     "execution_count": 316,
     "metadata": {},
     "output_type": "execute_result"
    }
   ],
   "source": [
    "len(''.join(nlsts[0])"
   ]
  },
  {
   "cell_type": "code",
   "execution_count": 307,
   "metadata": {},
   "outputs": [],
   "source": [
    "def to_rbstr(t):\n",
    "    return list(filter(lambda x: x not in ['[', ',', '\\'', ' '], str(t)))"
   ]
  },
  {
   "cell_type": "code",
   "execution_count": 275,
   "metadata": {},
   "outputs": [
    {
     "data": {
      "text/plain": [
       "'6/](3/]5]-]4]])]]-]3]+]1*]7]]-](8/]5]])]]'"
      ]
     },
     "execution_count": 275,
     "metadata": {},
     "output_type": "execute_result"
    }
   ],
   "source": [
    "''.join(to_rbstr(trees[0]))"
   ]
  },
  {
   "cell_type": "code",
   "execution_count": 276,
   "metadata": {},
   "outputs": [
    {
     "data": {
      "text/plain": [
       "'[[[[[[[[6/][[([[[[3/]5]-]4]])]]-]3]+][[1*]7]]-][[([[8/]5]])]]'"
      ]
     },
     "execution_count": 276,
     "metadata": {},
     "output_type": "execute_result"
    }
   ],
   "source": [
    "''.join(to_str(trees[0]))"
   ]
  },
  {
   "cell_type": "code",
   "execution_count": null,
   "metadata": {},
   "outputs": [],
   "source": []
  },
  {
   "cell_type": "code",
   "execution_count": 350,
   "metadata": {},
   "outputs": [
    {
     "data": {
      "text/plain": [
       "0.6352941176470588"
      ]
     },
     "execution_count": 350,
     "metadata": {},
     "output_type": "execute_result"
    }
   ],
   "source": [
    "shift_reduce_btstr(add_rbrackets(nlsts[0], sdlsts[0]))"
   ]
  },
  {
   "cell_type": "code",
   "execution_count": 355,
   "metadata": {},
   "outputs": [],
   "source": [
    "for nlst, sdlst in zip(nlsts, sdlsts):\n",
    "#     print(nlst, sdlst)\n",
    "    rbstr = add_rbrackets(nlst, sdlst)\n",
    "    try:\n",
    "        eval(''.join(nlst))\n",
    "    except:\n",
    "        continue\n",
    "    \n",
    "    \n",
    "    if shift_reduce_btstr(rbstr) != eval(''.join(nlst)):\n",
    "        print(rbstr)"
   ]
  },
  {
   "cell_type": "markdown",
   "metadata": {},
   "source": [
    "# which needs brackets indeed"
   ]
  },
  {
   "cell_type": "code",
   "execution_count": 185,
   "metadata": {},
   "outputs": [],
   "source": [
    "def remove_brackets(expr):\n",
    "    return ''.join(list(filter(lambda x: x not in ['(',')'], expr)))"
   ]
  },
  {
   "cell_type": "code",
   "execution_count": 188,
   "metadata": {},
   "outputs": [],
   "source": [
    "test_easy = []\n",
    "test_hard = []\n",
    "for line in test:\n",
    "    expr, ds, h  = line\n",
    "    try:\n",
    "        is_easy = eval(remove_brackets(expr)) == eval(expr)\n",
    "    except:\n",
    "        continue\n",
    "        \n",
    "    if is_easy:\n",
    "        test_easy.append((expr, ds, h))\n",
    "    else:\n",
    "        test_hard.append((expr, ds, h))"
   ]
  },
  {
   "cell_type": "code",
   "execution_count": 189,
   "metadata": {},
   "outputs": [
    {
     "data": {
      "text/plain": [
       "7523"
      ]
     },
     "execution_count": 189,
     "metadata": {},
     "output_type": "execute_result"
    }
   ],
   "source": [
    "len(test_easy)"
   ]
  },
  {
   "cell_type": "code",
   "execution_count": 190,
   "metadata": {
    "scrolled": true
   },
   "outputs": [
    {
     "data": {
      "text/plain": [
       "2444"
      ]
     },
     "execution_count": 190,
     "metadata": {},
     "output_type": "execute_result"
    }
   ],
   "source": [
    "len(test_hard)"
   ]
  },
  {
   "cell_type": "code",
   "execution_count": 194,
   "metadata": {},
   "outputs": [],
   "source": [
    "es = test_easy\n",
    "with open('test_d30.pn1.easy.tsv', 'w') as f:\n",
    "    for e in es:\n",
    "        node_lst, sd_lst, h = e\n",
    "        ds = list(map(int, sd_lst.split()))\n",
    "        try:\n",
    "            val = to_value_sd(ds, node_lst.split())[1]\n",
    "            f.write('\\t'.join([node_lst, sd_lst, h, val])+'\\n')\n",
    "        except:\n",
    "            pass"
   ]
  },
  {
   "cell_type": "code",
   "execution_count": 195,
   "metadata": {},
   "outputs": [],
   "source": [
    "es = test_hard\n",
    "with open('test_d30.pn1.hard.tsv', 'w') as f:\n",
    "    for e in es:\n",
    "        node_lst, sd_lst, h = e\n",
    "        ds = list(map(int, sd_lst.split()))\n",
    "        try:\n",
    "            val = to_value_sd(ds, node_lst.split())[1]\n",
    "            f.write('\\t'.join([node_lst, sd_lst, h, val])+'\\n')\n",
    "        except:\n",
    "            pass"
   ]
  }
 ],
 "metadata": {
  "kernelspec": {
   "display_name": "Python 3",
   "language": "python",
   "name": "python3"
  },
  "language_info": {
   "codemirror_mode": {
    "name": "ipython",
    "version": 3
   },
   "file_extension": ".py",
   "mimetype": "text/x-python",
   "name": "python",
   "nbconvert_exporter": "python",
   "pygments_lexer": "ipython3",
   "version": "3.6.4"
  }
 },
 "nbformat": 4,
 "nbformat_minor": 2
}
