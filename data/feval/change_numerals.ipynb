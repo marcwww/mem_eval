{
 "cells": [
  {
   "cell_type": "code",
   "execution_count": 6,
   "metadata": {},
   "outputs": [],
   "source": [
    "import os\n",
    "import random\n",
    "import numpy as np"
   ]
  },
  {
   "cell_type": "code",
   "execution_count": 7,
   "metadata": {},
   "outputs": [],
   "source": [
    "VALUES = list(map(str, list(range(1, 10))))\n",
    "MAX_DEPTH = 20\n",
    "PROB_BRANCH = 0.25\n",
    "# VALUES = range(1, 10)\n",
    "OPS_E = [0, 1]\n",
    "OPS_T = [2, 3]\n",
    "NTYPES = ['e', 't']\n",
    "OP_MAP = ['+', '-', '*', '/']"
   ]
  },
  {
   "cell_type": "code",
   "execution_count": 3,
   "metadata": {},
   "outputs": [],
   "source": [
    "seq = '8 + 6 * 3 / 2 - 4 * 7 * 4 / 5 - 1 / 5 / 4 * 9 / 9 + 1 + 8 * 4 - 7 * 9 * 9 + 3 / 4 + 7 / 9 - 6 / 6 * 4 + 3 / 3'.split(' ')\n",
    "ds = '1 5 1 2 3 4 6 7 1 2 3 4 5 6 8 9 1 2 3 4 5 6 7 8 10 11 12 13 1 2 14 15 1 2 3 4 16 17 1 2 18 19 1 2 20 21 1 2 3 4 22 23 1 2'"
   ]
  },
  {
   "cell_type": "code",
   "execution_count": 18,
   "metadata": {},
   "outputs": [],
   "source": [
    "def change(seq):\n",
    "    res = list(seq)\n",
    "    for i, n in enumerate(seq):\n",
    "        if n in VALUES:\n",
    "            res[i] = random.choice(VALUES)\n",
    "    return res"
   ]
  },
  {
   "cell_type": "code",
   "execution_count": 38,
   "metadata": {},
   "outputs": [],
   "source": [
    "def to_value_sd(sd_lst, node_lst):\n",
    "    if len(sd_lst) == 0:\n",
    "        node = node_lst[0]\n",
    "        v = node\n",
    "    else:\n",
    "        i = np.argmax(sd_lst)\n",
    "        child_l, v_l = to_value_sd(sd_lst[:i], node_lst[:i+1])\n",
    "        child_r, v_r = to_value_sd(sd_lst[i+1:], node_lst[i+1:])\n",
    "        node = (child_l, child_r)\n",
    "        if isinstance(v_l, tuple) and not isinstance(v_r, tuple):\n",
    "            v1, op = v_l[0], v_l[1]\n",
    "            v2 = v_r\n",
    "            if op == '/':\n",
    "                v = str(int(v1) % int(v2))\n",
    "            else:\n",
    "                v = str(eval(''.join([v1, op, v2])) % 10)\n",
    "        else:\n",
    "            assert not isinstance(v_l, tuple) and not isinstance(v_r, tuple)\n",
    "            v = (v_l, v_r)\n",
    "\n",
    "    return node, v"
   ]
  },
  {
   "cell_type": "code",
   "execution_count": 43,
   "metadata": {},
   "outputs": [
    {
     "data": {
      "text/plain": [
       "((('1', '+'), '1'), '2')"
      ]
     },
     "execution_count": 43,
     "metadata": {},
     "output_type": "execute_result"
    }
   ],
   "source": [
    "to_value_sd([1,2], ['1','+','1'])"
   ]
  },
  {
   "cell_type": "code",
   "execution_count": 39,
   "metadata": {},
   "outputs": [
    {
     "data": {
      "text/plain": [
       "55"
      ]
     },
     "execution_count": 39,
     "metadata": {},
     "output_type": "execute_result"
    }
   ],
   "source": [
    "len(seq)"
   ]
  },
  {
   "cell_type": "code",
   "execution_count": 40,
   "metadata": {},
   "outputs": [
    {
     "data": {
      "text/plain": [
       "54"
      ]
     },
     "execution_count": 40,
     "metadata": {},
     "output_type": "execute_result"
    }
   ],
   "source": [
    "len(ds.split())"
   ]
  },
  {
   "cell_type": "code",
   "execution_count": 45,
   "metadata": {},
   "outputs": [],
   "source": [
    "samples = []\n",
    "nsamples = 500\n",
    "h = 23\n",
    "for i in range(nsamples):\n",
    "    expr = change(seq)\n",
    "    lbl = to_value_sd(list(map(int, ds.split())), expr)[1]\n",
    "\n",
    "    expr = ' '.join(expr)\n",
    "    sample = '\\t'.join((expr, ds, str(h), str(lbl))) \n",
    "    samples.append(sample)"
   ]
  },
  {
   "cell_type": "code",
   "execution_count": 46,
   "metadata": {
    "scrolled": true
   },
   "outputs": [
    {
     "data": {
      "text/plain": [
       "'9 + 5 * 7 / 6 - 8 * 4 * 7 / 6 - 1 / 5 / 3 * 9 / 3 + 7 + 9 * 9 - 7 * 5 * 5 + 7 / 3 + 6 / 7 - 9 / 6 * 2 + 3 / 5\\t1 5 1 2 3 4 6 7 1 2 3 4 5 6 8 9 1 2 3 4 5 6 7 8 10 11 12 13 1 2 14 15 1 2 3 4 16 17 1 2 18 19 1 2 20 21 1 2 3 4 22 23 1 2\\t23\\t7'"
      ]
     },
     "execution_count": 46,
     "metadata": {},
     "output_type": "execute_result"
    }
   ],
   "source": [
    "samples[0]"
   ]
  },
  {
   "cell_type": "code",
   "execution_count": 47,
   "metadata": {},
   "outputs": [],
   "source": [
    "with open('change_numerals.txt', 'w') as f:\n",
    "    for sample in samples:\n",
    "        f.write(sample+'\\n')"
   ]
  },
  {
   "cell_type": "markdown",
   "metadata": {},
   "source": [
    "# pa 3 * 6 - ( 7 - ( 9 * 6 * 4 - 4 ) ) * 4_1 2 3 14 10 1 9 7 1 2 3 4 5 6 8 11 12 13_14_7"
   ]
  },
  {
   "cell_type": "code",
   "execution_count": 4,
   "metadata": {},
   "outputs": [],
   "source": [
    "def to_value_sd(sd_lst, node_lst):\n",
    "    if len(sd_lst) == 0:\n",
    "        node = node_lst[0]\n",
    "        v = node\n",
    "    else:\n",
    "        i = np.argmax(sd_lst)\n",
    "        child_l, v_l = to_value_sd(sd_lst[:i], node_lst[:i+1])\n",
    "        child_r, v_r = to_value_sd(sd_lst[i+1:], node_lst[i+1:])\n",
    "        node = [child_l, child_r]\n",
    "        if isinstance(v_l, list) and not isinstance(v_r, list):\n",
    "            if v_l[1] in OP_MAP:\n",
    "                v1, op = v_l[0], v_l[1]\n",
    "                v2 = v_r\n",
    "                if op == '/':\n",
    "                    v = str(int(v1) % int(v2))\n",
    "                    if v == '0':\n",
    "                        v = '1'\n",
    "                else:\n",
    "                    v = str(eval(''.join([v1, op, v2])) % 10)\n",
    "                    if v == '0':\n",
    "                        v = '1'\n",
    "            else:\n",
    "                assert v_l[0] == '('\n",
    "                v = str(v_l[1])\n",
    "        else:\n",
    "            assert not isinstance(v_l, list) and not isinstance(v_r, list)\n",
    "            v = [v_l, v_r]\n",
    "            \n",
    "    return node, v"
   ]
  },
  {
   "cell_type": "code",
   "execution_count": 5,
   "metadata": {},
   "outputs": [],
   "source": [
    "def change(seq):\n",
    "    res = list(seq)\n",
    "    for i, n in enumerate(seq):\n",
    "        if n in VALUES:\n",
    "            res[i] = random.choice(VALUES)\n",
    "    return res"
   ]
  },
  {
   "cell_type": "code",
   "execution_count": 6,
   "metadata": {},
   "outputs": [],
   "source": [
    "seq = '3 * 6 - ( 7 - ( 9 * 6 * 4 - 4 ) ) * 4'.split()\n",
    "ds = '1 2 3 14 10 1 9 7 1 2 3 4 5 6 8 11 12 13'"
   ]
  },
  {
   "cell_type": "code",
   "execution_count": 14,
   "metadata": {},
   "outputs": [],
   "source": [
    "samples = []\n",
    "nsamples = 500\n",
    "h = 23\n",
    "for i in range(nsamples):\n",
    "    expr = change(seq)\n",
    "    lbl = to_value_sd(list(map(int, ds.split())), expr)[1]\n",
    "\n",
    "    expr = ' '.join(expr)\n",
    "    sample = '\\t'.join((expr, ds, str(h), str(lbl))) \n",
    "    samples.append(sample)"
   ]
  },
  {
   "cell_type": "code",
   "execution_count": 15,
   "metadata": {},
   "outputs": [
    {
     "data": {
      "text/plain": [
       "'8 * 1 - ( 7 - ( 6 * 1 * 5 - 9 ) ) * 4\\t1 2 3 14 10 1 9 7 1 2 3 4 5 6 8 11 12 13\\t23\\t7'"
      ]
     },
     "execution_count": 15,
     "metadata": {},
     "output_type": "execute_result"
    }
   ],
   "source": [
    "samples[1]"
   ]
  },
  {
   "cell_type": "code",
   "execution_count": 16,
   "metadata": {},
   "outputs": [],
   "source": [
    "with open('change_numerals.pa.txt', 'w') as f:\n",
    "    for sample in samples:\n",
    "        f.write(sample+'\\n')"
   ]
  },
  {
   "cell_type": "markdown",
   "metadata": {},
   "source": [
    "# pa1 mmc3"
   ]
  },
  {
   "cell_type": "code",
   "execution_count": 2,
   "metadata": {},
   "outputs": [],
   "source": [
    "def change(seq):\n",
    "    res = list(seq)\n",
    "    for i, n in enumerate(seq):\n",
    "        if n in VALUES:\n",
    "            res[i] = random.choice(VALUES)\n",
    "        if n in ['+', '-']:\n",
    "            res[i] = random.choice(['+','-'])\n",
    "        if n in ['*', '/']:\n",
    "            res[i] = random.choice(['*','/'])\n",
    "            \n",
    "    return res"
   ]
  },
  {
   "cell_type": "code",
   "execution_count": 3,
   "metadata": {},
   "outputs": [],
   "source": [
    "def to_value_sd(sd_lst, node_lst):\n",
    "    if len(sd_lst) == 0:\n",
    "        node = node_lst[0]\n",
    "        v = node\n",
    "    else:\n",
    "        i = np.argmax(sd_lst)\n",
    "        child_l, v_l = to_value_sd(sd_lst[:i], node_lst[:i+1])\n",
    "        child_r, v_r = to_value_sd(sd_lst[i+1:], node_lst[i+1:])\n",
    "        node = [child_l, child_r]\n",
    "        if isinstance(v_l, list) and not isinstance(v_r, list):\n",
    "            if v_l[1] in OP_MAP:\n",
    "                v1, op = v_l[0], v_l[1]\n",
    "                v2 = v_r\n",
    "                if op == '/':\n",
    "                    v = str(int(v1) % int(v2))\n",
    "                else:\n",
    "                    v = str(eval(''.join([v1, op, v2])) % 10)\n",
    "            else:\n",
    "                assert v_l[0] == '('\n",
    "                v = str(v_l[1])\n",
    "        else:\n",
    "            assert not isinstance(v_l, list) and not isinstance(v_r, list)\n",
    "            v = [v_l, v_r]\n",
    "            \n",
    "    return node, v"
   ]
  },
  {
   "cell_type": "code",
   "execution_count": 26,
   "metadata": {},
   "outputs": [],
   "source": [
    "seq = ['8', '+', '6', '*', '3', '/', '(', '2', '-', '4', ')']\n",
    "ds = [1, 6, 1, 2, 3, 5, 3, 1, 2, 4]\n",
    "ds_str = ' '.join(list(map(str, ds)))"
   ]
  },
  {
   "cell_type": "code",
   "execution_count": 27,
   "metadata": {},
   "outputs": [
    {
     "data": {
      "text/plain": [
       "'1 6 1 2 3 5 3 1 2 4'"
      ]
     },
     "execution_count": 27,
     "metadata": {},
     "output_type": "execute_result"
    }
   ],
   "source": [
    "ds_str"
   ]
  },
  {
   "cell_type": "code",
   "execution_count": 9,
   "metadata": {},
   "outputs": [
    {
     "data": {
      "text/plain": [
       "'7 - 4 / 2 / ( 6 + 3 )'"
      ]
     },
     "execution_count": 9,
     "metadata": {},
     "output_type": "execute_result"
    }
   ],
   "source": [
    "' '.join(change(seq))"
   ]
  },
  {
   "cell_type": "code",
   "execution_count": 31,
   "metadata": {},
   "outputs": [],
   "source": [
    "samples = []\n",
    "nsamples = 550\n",
    "h = 23\n",
    "for i in range(nsamples):\n",
    "    expr = change(seq)\n",
    "    try:\n",
    "        lbl = to_value_sd(ds, expr)[1]\n",
    "        expr = ' '.join(expr)\n",
    "        sample = '\\t'.join((expr, ds_str, str(h), str(lbl))) \n",
    "        samples.append(sample)\n",
    "    except:\n",
    "        pass"
   ]
  },
  {
   "cell_type": "code",
   "execution_count": 32,
   "metadata": {},
   "outputs": [
    {
     "data": {
      "text/plain": [
       "525"
      ]
     },
     "execution_count": 32,
     "metadata": {},
     "output_type": "execute_result"
    }
   ],
   "source": [
    "len(samples)"
   ]
  },
  {
   "cell_type": "code",
   "execution_count": 33,
   "metadata": {},
   "outputs": [
    {
     "data": {
      "text/plain": [
       "'4 - 8 / 2 * ( 5 + 3 )\\t1 6 1 2 3 5 3 1 2 4\\t23\\t4'"
      ]
     },
     "execution_count": 33,
     "metadata": {},
     "output_type": "execute_result"
    }
   ],
   "source": [
    "samples[0]"
   ]
  },
  {
   "cell_type": "code",
   "execution_count": 34,
   "metadata": {},
   "outputs": [
    {
     "data": {
      "text/plain": [
       "'7 - 6 / 2 * ( 1 + 5 )\\t1 6 1 2 3 5 3 1 2 4\\t23\\t7'"
      ]
     },
     "execution_count": 34,
     "metadata": {},
     "output_type": "execute_result"
    }
   ],
   "source": [
    "samples[1]"
   ]
  },
  {
   "cell_type": "code",
   "execution_count": 38,
   "metadata": {},
   "outputs": [
    {
     "data": {
      "text/plain": [
       "500"
      ]
     },
     "execution_count": 38,
     "metadata": {},
     "output_type": "execute_result"
    }
   ],
   "source": [
    "len(samples[:500])"
   ]
  },
  {
   "cell_type": "code",
   "execution_count": 39,
   "metadata": {},
   "outputs": [],
   "source": [
    "with open('analysis.pa1.mmc3.txt', 'w') as f:\n",
    "    for sample in samples[:500]:\n",
    "        f.write(sample+'\\n')"
   ]
  },
  {
   "cell_type": "code",
   "execution_count": 36,
   "metadata": {},
   "outputs": [
    {
     "data": {
      "text/plain": [
       "'6 - 1 / 5 * ( 5 - 1 )\\t1 6 1 2 3 5 3 1 2 4\\t23\\t2'"
      ]
     },
     "execution_count": 36,
     "metadata": {},
     "output_type": "execute_result"
    }
   ],
   "source": [
    "samples[3]"
   ]
  },
  {
   "cell_type": "code",
   "execution_count": null,
   "metadata": {},
   "outputs": [],
   "source": []
  }
 ],
 "metadata": {
  "kernelspec": {
   "display_name": "Python 3",
   "language": "python",
   "name": "python3"
  },
  "language_info": {
   "codemirror_mode": {
    "name": "ipython",
    "version": 3
   },
   "file_extension": ".py",
   "mimetype": "text/x-python",
   "name": "python",
   "nbconvert_exporter": "python",
   "pygments_lexer": "ipython3",
   "version": "3.6.4"
  }
 },
 "nbformat": 4,
 "nbformat_minor": 2
}
