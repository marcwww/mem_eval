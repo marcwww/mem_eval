{
 "cells": [
  {
   "cell_type": "code",
   "execution_count": 46,
   "metadata": {},
   "outputs": [],
   "source": [
    "import numpy as np\n",
    "import random\n",
    "import matplotlib.pyplot as plt\n",
    "import os\n",
    "\n",
    "MAX_DEPTH = 20\n",
    "PROB_BRANCH = 0.25\n",
    "VALUES = range(1, 10)\n",
    "OPS_E = [0, 1]\n",
    "OPS_T = [2, 3]\n",
    "NTYPES = ['e', 't']\n",
    "OP_MAP = ['+', '-', '*', '/']"
   ]
  },
  {
   "cell_type": "code",
   "execution_count": 37,
   "metadata": {},
   "outputs": [],
   "source": [
    "FLANG = os.path.join('..', 'flang')\n",
    "TRAIN = os.path.join(FLANG, 'train_d30.tsv')\n",
    "VALID = os.path.join(FLANG, 'valid_d30.tsv')\n",
    "TEST = os.path.join(FLANG, 'test_d30.tsv')"
   ]
  },
  {
   "cell_type": "code",
   "execution_count": 12,
   "metadata": {},
   "outputs": [],
   "source": [
    "def to_value_sd(sd_lst, node_lst):\n",
    "    if len(sd_lst) == 0:\n",
    "        node = node_lst[0]\n",
    "        v = node\n",
    "    else:\n",
    "        i = np.argmax(sd_lst)\n",
    "        child_l, v_l = to_value_sd(sd_lst[:i], node_lst[:i+1])\n",
    "        child_r, v_r = to_value_sd(sd_lst[i+1:], node_lst[i+1:])\n",
    "        node = (child_l, child_r)\n",
    "        if isinstance(v_l, tuple) and not isinstance(v_r, tuple):\n",
    "            v1, op = v_l[0], v_l[1]\n",
    "            v2 = v_r\n",
    "            if op == '/':\n",
    "                v = str(int(v1) % int(v2))\n",
    "            else:\n",
    "                v = str(eval(''.join([v1, op, v2])) % 10)\n",
    "        else:\n",
    "            assert not isinstance(v_l, tuple) and not isinstance(v_r, tuple)\n",
    "            v = (v_l, v_r)\n",
    "\n",
    "    return node, v"
   ]
  },
  {
   "cell_type": "code",
   "execution_count": 22,
   "metadata": {},
   "outputs": [],
   "source": [
    "train = []\n",
    "valid = []\n",
    "test = []\n",
    "with open(TRAIN, 'r') as ftrain, open(VALID, 'r') as fvalid, open(TEST, 'r') as ftest:\n",
    "    for line in ftrain:\n",
    "        train.append(line.strip().split('\\t'))\n",
    "    for line in fvalid:\n",
    "        valid.append(line.strip().split('\\t'))\n",
    "    for line in ftest:\n",
    "        test.append(line.strip().split('\\t'))"
   ]
  },
  {
   "cell_type": "code",
   "execution_count": 28,
   "metadata": {},
   "outputs": [
    {
     "data": {
      "text/plain": [
       "['3 * 4 * 1 + 2', '1 2 3 4 5 6', '6']"
      ]
     },
     "execution_count": 28,
     "metadata": {},
     "output_type": "execute_result"
    }
   ],
   "source": [
    "train[0]"
   ]
  },
  {
   "cell_type": "code",
   "execution_count": 29,
   "metadata": {},
   "outputs": [],
   "source": [
    "node_lst, sd_lst = train[0][0].split(), train[0][1].split()"
   ]
  },
  {
   "cell_type": "code",
   "execution_count": 30,
   "metadata": {},
   "outputs": [
    {
     "data": {
      "text/plain": [
       "((((((('3', '*'), '4'), '*'), '1'), '+'), '2'), '4')"
      ]
     },
     "execution_count": 30,
     "metadata": {},
     "output_type": "execute_result"
    }
   ],
   "source": [
    "to_value_sd(sd_lst, node_lst)"
   ]
  },
  {
   "cell_type": "code",
   "execution_count": 32,
   "metadata": {},
   "outputs": [],
   "source": [
    "with open('train_d30.tsv', 'w') as ftrain, \\\n",
    "    open('valid_d30.tsv', 'w') as fvalid, \\\n",
    "    open('test_d30.tsv', 'w') as ftest:\n",
    "    for es, f in zip([train, valid, test], [ftrain, fvalid, ftest]):\n",
    "        for e in es:\n",
    "            node_lst, sd_lst, h = e\n",
    "            ds = list(map(int, sd_lst.split()))\n",
    "            val = to_value_sd(ds, node_lst.split())[1]\n",
    "            f.write('\\t'.join([node_lst, sd_lst, h, val])+'\\n')"
   ]
  },
  {
   "cell_type": "code",
   "execution_count": 31,
   "metadata": {},
   "outputs": [
    {
     "data": {
      "text/plain": [
       "((((((('3', '/'), '4'), '*'), '1'), '+'), '2'), '5')"
      ]
     },
     "execution_count": 31,
     "metadata": {},
     "output_type": "execute_result"
    }
   ],
   "source": [
    "nodes = '3 / 4 * 1 + 2'.split()\n",
    "ds = '1 2 3 4 5 6'.split()\n",
    "to_value_sd(ds, nodes)"
   ]
  },
  {
   "cell_type": "code",
   "execution_count": 35,
   "metadata": {},
   "outputs": [],
   "source": [
    "val_lst = []\n",
    "for node_str, ds_str, h in train:\n",
    "    ds = list(map(int, ds_str.split()))\n",
    "    val = to_value_sd(ds, node_str.split())[1]\n",
    "    val_lst.append(int(val))"
   ]
  },
  {
   "cell_type": "code",
   "execution_count": 38,
   "metadata": {},
   "outputs": [
    {
     "data": {
      "text/plain": [
       "4"
      ]
     },
     "execution_count": 38,
     "metadata": {},
     "output_type": "execute_result"
    }
   ],
   "source": [
    "val_lst[0]"
   ]
  },
  {
   "cell_type": "code",
   "execution_count": 39,
   "metadata": {
    "scrolled": true
   },
   "outputs": [
    {
     "data": {
      "image/png": "[encoded data removed]",
      "text/plain": [
       "<Figure size 432x288 with 1 Axes>"
      ]
     },
     "metadata": {},
     "output_type": "display_data"
    }
   ],
   "source": [
    "plt.hist(val_lst, bins=10, range=(0, 10+1))\n",
    "plt.show()"
   ]
  },
  {
   "cell_type": "code",
   "execution_count": 46,
   "metadata": {},
   "outputs": [],
   "source": [
    "train = []\n",
    "valid = []\n",
    "test = []\n",
    "with open('train_d30.tsv', 'r') as ftrain, \\\n",
    "    open('valid_d30.tsv', 'r') as fvalid, \\\n",
    "    open('test_d30.tsv', 'r') as ftest:\n",
    "    for es, f in zip([train, valid, test], [ftrain, fvalid, ftest]):\n",
    "        for line in f:\n",
    "            es.append(line.strip().split('\\t')) "
   ]
  },
  {
   "cell_type": "code",
   "execution_count": 47,
   "metadata": {},
   "outputs": [
    {
     "data": {
      "text/plain": [
       "[['1 + 1 / 2', '1 3 1 2', '3', '2'],\n",
       " ['1 - 6 / 7 / 1 * 8 + 6 + 3', '1 7 1 2 3 4 5 6 8 9 10 11', '11', '0'],\n",
       " ['9 + 6 / 2 * 5 * 9 + 5 / 4 + 9 / 3 + 3 - 3 - 2 / 6 * 3 * 4 * 3 / 5 / 6 / 9 + 1 / 9 - 9 / 2 / 6 - 2 + 1 / 8 * 1 / 1 * 1 * 8 * 6 + 3 / 7 * 3 / 2 * 1 / 6 - 9 * 9 * 3',\n",
       "  '1 7 1 2 3 4 5 6 8 9 1 2 10 11 1 2 12 13 14 15 16 17 1 2 3 4 5 6 7 8 9 10 11 12 13 14 18 19 1 2 20 21 1 2 3 4 22 23 24 25 1 2 3 4 5 6 7 8 9 10 11 12 26 27 1 2 3 4 5 6 7 8 9 10 28 29 1 2 3 4',\n",
       "  '29',\n",
       "  '4'],\n",
       " ['1 + 8 - 8 / 9 / 6 * 1 / 7 / 7 * 8 + 7',\n",
       "  '1 2 3 13 1 2 3 4 5 6 7 8 9 10 11 12 14 15',\n",
       "  '15',\n",
       "  '0'],\n",
       " ['3 - 4 / 7', '1 3 1 2', '3', '9'],\n",
       " ['5 - 8 / 2 / 7 * 5 / 7 * 6 / 9 * 6 + 7 * 2 / 7 * 7 * 4 + 2 + 6 - 6 + 6 * 1 + 5 * 7',\n",
       "  '1 15 1 2 3 4 5 6 7 8 9 10 11 12 13 14 16 17 1 2 3 4 5 6 7 8 18 19 20 21 22 23 24 25 1 2 26 27 1 2',\n",
       "  '27',\n",
       "  '0'],\n",
       " ['6 * 6 + 2 * 8 * 9', '1 2 3 5 1 2 3 4', '5', '0'],\n",
       " ['6 + 6 / 6 / 7 / 2 / 8 * 8 / 7 - 4 - 4 / 8',\n",
       "  '1 13 1 2 3 4 5 6 7 8 9 10 11 12 14 15 16 17 1 2',\n",
       "  '17',\n",
       "  '8'],\n",
       " ['6 + 1 * 4 / 4 - 7 / 3 / 6 * 6', '1 5 1 2 3 4 6 7 1 2 3 4 5 6', '7', '0'],\n",
       " ['8 * 8', '1 2', '2', '4']]"
      ]
     },
     "execution_count": 47,
     "metadata": {},
     "output_type": "execute_result"
    }
   ],
   "source": [
    "test[:10]"
   ]
  },
  {
   "cell_type": "markdown",
   "metadata": {},
   "source": [
    "# monotony analysis set"
   ]
  },
  {
   "cell_type": "code",
   "execution_count": 33,
   "metadata": {},
   "outputs": [],
   "source": [
    "ANALY = os.path.join(FLANG, 'test_d30_mono.tsv')\n",
    "analy = []\n",
    "with open(ANALY, 'r') as f:\n",
    "    for line in f:\n",
    "        analy.append(line.strip().split('\\t'))"
   ]
  },
  {
   "cell_type": "code",
   "execution_count": 34,
   "metadata": {},
   "outputs": [],
   "source": [
    "with open('test_d30_mono.tsv', 'w') as f:\n",
    "    for e in analy:\n",
    "        node_lst, sd_lst, h = e\n",
    "        ds = list(map(int, sd_lst.split()))\n",
    "        val = to_value_sd(ds, node_lst.split())[1]\n",
    "        f.write('\\t'.join([node_lst, sd_lst, h, val])+'\\n')"
   ]
  },
  {
   "cell_type": "markdown",
   "metadata": {},
   "source": [
    "# equal fraction test set"
   ]
  },
  {
   "cell_type": "code",
   "execution_count": 41,
   "metadata": {},
   "outputs": [],
   "source": [
    "TEST_EF = os.path.join(FLANG, 'test_d30_ef.tsv')\n",
    "test_ef = []\n",
    "with open(TEST_EF, 'r') as f:\n",
    "    for line in f:\n",
    "        test_ef.append(line.strip().split('\\t'))"
   ]
  },
  {
   "cell_type": "code",
   "execution_count": 42,
   "metadata": {},
   "outputs": [],
   "source": [
    "with open('test_d30_ef.tsv', 'w') as f:\n",
    "    for e in test_ef:\n",
    "        node_lst, sd_lst, h = e\n",
    "        ds = list(map(int, sd_lst.split()))\n",
    "        val = to_value_sd(ds, node_lst.split())[1]\n",
    "        f.write('\\t'.join([node_lst, sd_lst, h, val])+'\\n')"
   ]
  },
  {
   "cell_type": "markdown",
   "metadata": {},
   "source": [
    "# distribution of \\#extremes"
   ]
  },
  {
   "cell_type": "code",
   "execution_count": 44,
   "metadata": {},
   "outputs": [],
   "source": [
    "def num_extrem_vals(ds):\n",
    "    res = 0\n",
    "    for i, d in enumerate(ds):\n",
    "        if i == 0:\n",
    "            if d > ds[1]:\n",
    "                res += 1\n",
    "        elif i == len(ds)-1:\n",
    "            if d > ds[-2]:\n",
    "                res += 1\n",
    "        elif d > ds[i-1] and d > ds[i+1]:\n",
    "            res += 1\n",
    "    \n",
    "    return res            "
   ]
  },
  {
   "cell_type": "code",
   "execution_count": 56,
   "metadata": {},
   "outputs": [],
   "source": [
    "ne = []\n",
    "with open('test_d30_ef.tsv', 'r') as f:\n",
    "    for line in f:\n",
    "        node_lst, sd_lst, h, lbl = line.strip().split('\\t')\n",
    "        ds = list(map(int, sd_lst.split()))\n",
    "        ne.append(num_extrem_vals(ds))"
   ]
  },
  {
   "cell_type": "code",
   "execution_count": 57,
   "metadata": {},
   "outputs": [
    {
     "data": {
      "text/plain": [
       "(array([9780., 3846., 2408., 1549., 1088., 1037.,  181.,   67.,   21.,\n",
       "          11.]),\n",
       " array([ 1. ,  2.2,  3.4,  4.6,  5.8,  7. ,  8.2,  9.4, 10.6, 11.8, 13. ]),\n",
       " <a list of 10 Patch objects>)"
      ]
     },
     "execution_count": 57,
     "metadata": {},
     "output_type": "execute_result"
    },
    {
     "data": {
      "image/png": "[encoded data removed]",
      "text/plain": [
       "<Figure size 432x288 with 1 Axes>"
      ]
     },
     "metadata": {},
     "output_type": "display_data"
    }
   ],
   "source": [
    "plt.hist(ne)"
   ]
  },
  {
   "cell_type": "code",
   "execution_count": 58,
   "metadata": {},
   "outputs": [],
   "source": [
    "ne = []\n",
    "with open('train_d30.tsv', 'r') as f:\n",
    "    for line in f:\n",
    "        node_lst, sd_lst, h, lbl = line.strip().split('\\t')\n",
    "        ds = list(map(int, sd_lst.split()))\n",
    "        ne.append(num_extrem_vals(ds))"
   ]
  },
  {
   "cell_type": "code",
   "execution_count": 59,
   "metadata": {},
   "outputs": [
    {
     "data": {
      "text/plain": [
       "(array([6.0269e+04, 9.6480e+03, 4.4530e+03, 2.4840e+03, 1.4770e+03,\n",
       "        8.3300e+02, 4.7200e+02, 2.2800e+02, 1.0200e+02, 3.4000e+01]),\n",
       " array([ 1. ,  2.1,  3.2,  4.3,  5.4,  6.5,  7.6,  8.7,  9.8, 10.9, 12. ]),\n",
       " <a list of 10 Patch objects>)"
      ]
     },
     "execution_count": 59,
     "metadata": {},
     "output_type": "execute_result"
    },
    {
     "data": {
      "image/png": "[encoded data removed]",
      "text/plain": [
       "<Figure size 432x288 with 1 Axes>"
      ]
     },
     "metadata": {},
     "output_type": "display_data"
    }
   ],
   "source": [
    "plt.hist(ne)"
   ]
  },
  {
   "cell_type": "code",
   "execution_count": null,
   "metadata": {},
   "outputs": [],
   "source": []
  }
 ],
 "metadata": {
  "kernelspec": {
   "display_name": "Python 3",
   "language": "python",
   "name": "python3"
  },
  "language_info": {
   "codemirror_mode": {
    "name": "ipython",
    "version": 3
   },
   "file_extension": ".py",
   "mimetype": "text/x-python",
   "name": "python",
   "nbconvert_exporter": "python",
   "pygments_lexer": "ipython3",
   "version": "3.6.4"
  }
 },
 "nbformat": 4,
 "nbformat_minor": 2
}
