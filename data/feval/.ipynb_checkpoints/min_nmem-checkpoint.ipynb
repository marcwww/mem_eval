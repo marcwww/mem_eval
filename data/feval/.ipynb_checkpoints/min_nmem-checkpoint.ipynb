{
 "cells": [
  {
   "cell_type": "code",
   "execution_count": 30,
   "metadata": {},
   "outputs": [],
   "source": [
    "import numpy as np\n",
    "import random\n",
    "import matplotlib.pyplot as plt\n",
    "import os"
   ]
  },
  {
   "cell_type": "code",
   "execution_count": 7,
   "metadata": {},
   "outputs": [],
   "source": [
    "def to_nlst(t):\n",
    "    return list(filter(lambda x: x not in ['[', ']', ',', '\\'', ' '], str(t)))"
   ]
  },
  {
   "cell_type": "code",
   "execution_count": 22,
   "metadata": {},
   "outputs": [],
   "source": [
    "def combine(a0, a1):\n",
    "    def unfinised(n):\n",
    "        return isinstance(n, list) or isinstance(n, tuple)\n",
    "    \n",
    "    if unfinised(a0):\n",
    "        if a1 == ')':\n",
    "            lp, num = a0\n",
    "            assert lp == '('\n",
    "            return num\n",
    "        else:\n",
    "            num, op = a0\n",
    "            try:\n",
    "                return eval(''.join([str(num),op,str(a1)]))\n",
    "            except:\n",
    "                return -1\n",
    "    else:\n",
    "        return (a0, a1)      "
   ]
  },
  {
   "cell_type": "code",
   "execution_count": 23,
   "metadata": {},
   "outputs": [],
   "source": [
    "# simplified\n",
    "def shift_reduce(nlst, sdlst):\n",
    "    N = 0\n",
    "    max_nmem = 0\n",
    "    mem = []\n",
    "    mem.append((nlst[0],  sdlst[0]))\n",
    "\n",
    "    for n, sd in zip(nlst[1:], sdlst[1:]+[10000]):\n",
    "        while sd > mem[-1][1]:\n",
    "            a0, sd0 = mem.pop()\n",
    "            n = combine(a0, n)\n",
    "            if len(mem) == 0:\n",
    "                break\n",
    "        mem.append((n, sd))\n",
    "        if len(mem) > max_nmem:\n",
    "            max_nmem = len(mem)\n",
    "                \n",
    "    assert len(mem) == 1\n",
    "    return float(mem[0][0]), max_nmem"
   ]
  },
  {
   "cell_type": "code",
   "execution_count": 46,
   "metadata": {},
   "outputs": [],
   "source": [
    "ftrain = 'train_d30.parenthesis.tsv'\n",
    "samples = []\n",
    "with open(ftrain, 'r') as f:\n",
    "    for line in f:\n",
    "        expr, ds, h, lbl = line.strip().split('\\t')\n",
    "        samples.append((expr, ds.split(), h, lbl))"
   ]
  },
  {
   "cell_type": "code",
   "execution_count": 47,
   "metadata": {},
   "outputs": [
    {
     "data": {
      "text/plain": [
       "('( 9 )', ['1', '2'], '2', '9')"
      ]
     },
     "execution_count": 47,
     "metadata": {},
     "output_type": "execute_result"
    }
   ],
   "source": [
    "samples[0]"
   ]
  },
  {
   "cell_type": "code",
   "execution_count": 48,
   "metadata": {},
   "outputs": [],
   "source": [
    "nlst = to_nlst(samples[0][0])\n",
    "dslst = list(map(int, samples[0][1]))"
   ]
  },
  {
   "cell_type": "code",
   "execution_count": 49,
   "metadata": {},
   "outputs": [
    {
     "data": {
      "text/plain": [
       "(9.0, 1)"
      ]
     },
     "execution_count": 49,
     "metadata": {},
     "output_type": "execute_result"
    }
   ],
   "source": [
    "shift_reduce(nlst, dslst)"
   ]
  },
  {
   "cell_type": "code",
   "execution_count": 50,
   "metadata": {},
   "outputs": [
    {
     "data": {
      "text/plain": [
       "9"
      ]
     },
     "execution_count": 50,
     "metadata": {},
     "output_type": "execute_result"
    }
   ],
   "source": [
    "eval(samples[0][0])"
   ]
  },
  {
   "cell_type": "code",
   "execution_count": 51,
   "metadata": {},
   "outputs": [],
   "source": [
    "min_nmem_lst = []\n",
    "samples_mmc = {i:[] for i in range(20)}\n",
    "for sample in samples:\n",
    "    expr, ds, _, _ = sample\n",
    "    nlst = to_nlst(expr)\n",
    "    dslst = list(map(int, ds))\n",
    "    res, min_nmem = shift_reduce(nlst, dslst)\n",
    "    min_nmem_lst.append(min_nmem)"
   ]
  },
  {
   "cell_type": "code",
   "execution_count": 54,
   "metadata": {},
   "outputs": [
    {
     "data": {
      "text/plain": [
       "(array([28691., 22649.,  9527.,  5455.,  3451.,  2613.,  1872.,  1509.,\n",
       "         1279.,   978.,   800.,   540.,   318.,   190.,    82.,    45.]),\n",
       " array([ 1,  2,  3,  4,  5,  6,  7,  8,  9, 10, 11, 12, 13, 14, 15, 16, 17]),\n",
       " <a list of 16 Patch objects>)"
      ]
     },
     "execution_count": 54,
     "metadata": {},
     "output_type": "execute_result"
    },
    {
     "data": {
      "image/png": "[encoded data removed]",
      "text/plain": [
       "<Figure size 432x288 with 1 Axes>"
      ]
     },
     "metadata": {},
     "output_type": "display_data"
    }
   ],
   "source": [
    "plt.hist(min_nmem_lst, bins=np.arange(1, max(min_nmem_lst)))"
   ]
  },
  {
   "cell_type": "code",
   "execution_count": 40,
   "metadata": {},
   "outputs": [],
   "source": [
    "itos = ['a','b','c']\n",
    "a = [1,0,2]"
   ]
  },
  {
   "cell_type": "code",
   "execution_count": 45,
   "metadata": {},
   "outputs": [
    {
     "data": {
      "text/plain": [
       "['b', 'a', 'c']"
      ]
     },
     "execution_count": 45,
     "metadata": {},
     "output_type": "execute_result"
    }
   ],
   "source": [
    "list(map(lambda x: itos[x], a))"
   ]
  },
  {
   "cell_type": "code",
   "execution_count": null,
   "metadata": {},
   "outputs": [],
   "source": []
  }
 ],
 "metadata": {
  "kernelspec": {
   "display_name": "Python 3",
   "language": "python",
   "name": "python3"
  },
  "language_info": {
   "codemirror_mode": {
    "name": "ipython",
    "version": 3
   },
   "file_extension": ".py",
   "mimetype": "text/x-python",
   "name": "python",
   "nbconvert_exporter": "python",
   "pygments_lexer": "ipython3",
   "version": "3.6.4"
  }
 },
 "nbformat": 4,
 "nbformat_minor": 2
}
