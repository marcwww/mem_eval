{
 "cells": [
  {
   "cell_type": "code",
   "execution_count": 1,
   "metadata": {},
   "outputs": [],
   "source": [
    "import numpy as np\n",
    "import random\n",
    "import matplotlib.pyplot as plt\n",
    "import os\n",
    "\n",
    "MAX_DEPTH = 20\n",
    "PROB_BRANCH = 0.25\n",
    "VALUES = range(1, 10)\n",
    "OPS_E = [0, 1]\n",
    "OPS_T = [2, 3]\n",
    "NTYPES = ['e', 't']\n",
    "OP_MAP = ['+', '-', '*', '/']"
   ]
  },
  {
   "cell_type": "code",
   "execution_count": 2,
   "metadata": {},
   "outputs": [],
   "source": [
    "FLANG = os.path.join('..', 'flang')\n",
    "TRAIN = os.path.join(FLANG, 'train_d30.parenthesis.tsv')\n",
    "VALID = os.path.join(FLANG, 'valid_d30.parenthesis.tsv')\n",
    "TEST = os.path.join(FLANG, 'test_d30.parenthesis.tsv')"
   ]
  },
  {
   "cell_type": "markdown",
   "metadata": {},
   "source": [
    "这里为了限制类别数，每次运算后取模10，且若结果为0，变为1"
   ]
  },
  {
   "cell_type": "code",
   "execution_count": 52,
   "metadata": {},
   "outputs": [],
   "source": [
    "def to_value_sd(sd_lst, node_lst):\n",
    "    if len(sd_lst) == 0:\n",
    "        node = node_lst[0]\n",
    "        v = node\n",
    "    else:\n",
    "        i = np.argmax(sd_lst)\n",
    "        child_l, v_l = to_value_sd(sd_lst[:i], node_lst[:i+1])\n",
    "        child_r, v_r = to_value_sd(sd_lst[i+1:], node_lst[i+1:])\n",
    "        node = [child_l, child_r]\n",
    "        if isinstance(v_l, list) and not isinstance(v_r, list):\n",
    "            if v_l[1] in OP_MAP:\n",
    "                v1, op = v_l[0], v_l[1]\n",
    "                v2 = v_r\n",
    "                if op == '/':\n",
    "                    v = str(int(v1) % int(v2))\n",
    "                    if v == '0':\n",
    "                        v = '1'\n",
    "                else:\n",
    "                    v = str(eval(''.join([v1, op, v2])) % 10)\n",
    "                    if v == '0':\n",
    "                        v = '1'\n",
    "            else:\n",
    "                assert v_l[0] == '('\n",
    "                v = str(v_l[1])\n",
    "        else:\n",
    "            assert not isinstance(v_l, list) and not isinstance(v_r, list)\n",
    "            v = [v_l, v_r]\n",
    "            \n",
    "    return node, v"
   ]
  },
  {
   "cell_type": "code",
   "execution_count": 28,
   "metadata": {},
   "outputs": [],
   "source": [
    "train = []\n",
    "valid = []\n",
    "test = []\n",
    "with open(TRAIN, 'r') as ftrain, open(VALID, 'r') as fvalid, open(TEST, 'r') as ftest:\n",
    "    for line in ftrain:\n",
    "        train.append(line.strip().split('\\t'))\n",
    "    for line in fvalid:\n",
    "        valid.append(line.strip().split('\\t'))\n",
    "    for line in ftest:\n",
    "        test.append(line.strip().split('\\t'))"
   ]
  },
  {
   "cell_type": "code",
   "execution_count": 29,
   "metadata": {},
   "outputs": [
    {
     "data": {
      "text/plain": [
       "['7 + ( 1 * ( ( ( 1 / 7 / 9 / 2 + ( 5 ) / ( 9 ) * ( ( 5 ) ) - 3 - ( 5 + 2 ) / ( ( 6 + 4 ) + 1 ) ) / ( ( 9 * 3 * ( 6 * 9 * 7 - ( 3 - 2 * 7 ) ) ) ) ) ) )',\n",
       " '1 24 22 1 21 19 17 13 1 2 3 4 5 6 7 8 1 2 3 4 1 2 5 6 3 1 2 4 9 10 11 12 3 1 2 4 5 9 7 3 1 2 4 5 6 8 14 15 16 12 10 1 2 3 9 7 1 2 3 4 5 6 4 1 3 1 2 5 8 11 13 18 20 23',\n",
       " '24']"
      ]
     },
     "execution_count": 29,
     "metadata": {},
     "output_type": "execute_result"
    }
   ],
   "source": [
    "train[7]"
   ]
  },
  {
   "cell_type": "code",
   "execution_count": 30,
   "metadata": {},
   "outputs": [],
   "source": [
    "node_lst, sd_lst = train[7][0].split(), list(map(int, train[7][1].split()))"
   ]
  },
  {
   "cell_type": "code",
   "execution_count": 31,
   "metadata": {},
   "outputs": [
    {
     "name": "stdout",
     "output_type": "stream",
     "text": [
      "1 7\n",
      "1 9\n",
      "1 2\n",
      "5 9\n",
      "7 2\n",
      "2 3\n"
     ]
    },
    {
     "data": {
      "text/plain": [
       "([['7', '+'],\n",
       "  [['(',\n",
       "    [['1', '*'],\n",
       "     [['(',\n",
       "       [['(',\n",
       "         [[[['(',\n",
       "             [[[[[[[[[[[['1', '/'], '7'], '/'], '9'], '/'], '2'], '+'],\n",
       "                  [[[[[['(', '5'], ')'], '/'], [['(', '9'], ')']], '*'],\n",
       "                   [['(', [['(', '5'], ')']], ')']]],\n",
       "                 '-'],\n",
       "                '3'],\n",
       "               '-'],\n",
       "              [[[['(', [['5', '+'], '2']], ')'], '/'],\n",
       "               [['(', [[[['(', [['6', '+'], '4']], ')'], '+'], '1']], ')']]]],\n",
       "            ')'],\n",
       "           '/'],\n",
       "          [['(',\n",
       "            [['(',\n",
       "              [[[['9', '*'], '3'], '*'],\n",
       "               [['(',\n",
       "                 [[[[[['6', '*'], '9'], '*'], '7'], '-'],\n",
       "                  [['(', [['3', '-'], [['2', '*'], '7']]], ')']]],\n",
       "                ')']]],\n",
       "             ')']],\n",
       "           ')']]],\n",
       "        ')']],\n",
       "      ')']]],\n",
       "   ')']],\n",
       " '9')"
      ]
     },
     "execution_count": 31,
     "metadata": {},
     "output_type": "execute_result"
    }
   ],
   "source": [
    "to_value_sd(sd_lst, node_lst)"
   ]
  },
  {
   "cell_type": "code",
   "execution_count": 32,
   "metadata": {},
   "outputs": [
    {
     "data": {
      "text/plain": [
       "['9 - 3', '1 2', '2']"
      ]
     },
     "execution_count": 32,
     "metadata": {},
     "output_type": "execute_result"
    }
   ],
   "source": [
    "train[2]"
   ]
  },
  {
   "cell_type": "code",
   "execution_count": 33,
   "metadata": {},
   "outputs": [
    {
     "data": {
      "text/plain": [
       "([['5', '*'], '6'], '1')"
      ]
     },
     "execution_count": 33,
     "metadata": {},
     "output_type": "execute_result"
    }
   ],
   "source": [
    "to_value_sd(['1', '2'], ['5', '*', '6'])"
   ]
  },
  {
   "cell_type": "markdown",
   "metadata": {},
   "source": [
    "# label dist"
   ]
  },
  {
   "cell_type": "code",
   "execution_count": 53,
   "metadata": {
    "scrolled": true
   },
   "outputs": [],
   "source": [
    "val_lst = []\n",
    "for node_str, ds_str, h in train:\n",
    "    ds = list(map(int, ds_str.split()))\n",
    "    val = to_value_sd(ds, node_str.split())[1]\n",
    "    val_lst.append(int(val))"
   ]
  },
  {
   "cell_type": "code",
   "execution_count": 54,
   "metadata": {},
   "outputs": [
    {
     "data": {
      "text/plain": [
       "80000"
      ]
     },
     "execution_count": 54,
     "metadata": {},
     "output_type": "execute_result"
    }
   ],
   "source": [
    "len(val_lst)"
   ]
  },
  {
   "cell_type": "code",
   "execution_count": null,
   "metadata": {},
   "outputs": [],
   "source": []
  }
 ],
 "metadata": {
  "kernelspec": {
   "display_name": "Python 3",
   "language": "python",
   "name": "python3"
  },
  "language_info": {
   "codemirror_mode": {
    "name": "ipython",
    "version": 3
   },
   "file_extension": ".py",
   "mimetype": "text/x-python",
   "name": "python",
   "nbconvert_exporter": "python",
   "pygments_lexer": "ipython3",
   "version": "3.6.4"
  }
 },
 "nbformat": 4,
 "nbformat_minor": 2
}
