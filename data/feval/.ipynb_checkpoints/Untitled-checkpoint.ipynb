{
 "cells": [
  {
   "cell_type": "code",
   "execution_count": 1,
   "metadata": {},
   "outputs": [],
   "source": [
    "from m10ae_utils import *\n",
    "import numpy as np\n",
    "import matplotlib.pyplot as plt"
   ]
  },
  {
   "cell_type": "code",
   "execution_count": 2,
   "metadata": {},
   "outputs": [],
   "source": [
    "from collections import defaultdict"
   ]
  },
  {
   "cell_type": "code",
   "execution_count": 12,
   "metadata": {},
   "outputs": [],
   "source": [
    "NSAMPLES = 10000\n",
    "# NSAMPLES = 150000\n",
    "prob_h = (1/np.array(range(2, MAX_DEPTH+1)) )**(1.5)\n",
    "prob_h = prob_h / prob_h.sum()\n",
    "nsamples_bound = {h:int(prob_h[h-2]*NSAMPLES) for h in range(2, MAX_DEPTH+1)}\n",
    "nsamples = defaultdict(int)"
   ]
  },
  {
   "cell_type": "code",
   "execution_count": 13,
   "metadata": {},
   "outputs": [
    {
     "name": "stdout",
     "output_type": "stream",
     "text": [
      "3\n"
     ]
    }
   ],
   "source": [
    "t = gen_tree()\n",
    "print(t)"
   ]
  },
  {
   "cell_type": "code",
   "execution_count": 14,
   "metadata": {},
   "outputs": [
    {
     "name": "stdout",
     "output_type": "stream",
     "text": [
      "['3']\n",
      "(1, '3')\n"
     ]
    }
   ],
   "source": [
    "nlst = to_nlst(t)\n",
    "print(nlst)\n",
    "print(MSU(nlst))"
   ]
  },
  {
   "cell_type": "code",
   "execution_count": 15,
   "metadata": {},
   "outputs": [
    {
     "name": "stdout",
     "output_type": "stream",
     "text": [
      "finished: 10\n",
      "finished: 12\n",
      "finished: 11\n",
      "finished: 9\n",
      "finished: 14\n",
      "finished: 13\n",
      "finished: 8\n",
      "finished: 6\n",
      "finished: 15\n",
      "finished: 7\n",
      "finished: 17\n",
      "finished: 16\n",
      "finished: 4\n",
      "finished: 18\n",
      "finished: 19\n",
      "finished: 21\n",
      "finished: 20\n",
      "finished: 5\n",
      "finished: 2\n",
      "finished: 22\n",
      "finished: 23\n",
      "finished: 24\n",
      "finished: 25\n",
      "finished: 3\n",
      "finished: 26\n",
      "finished: 28\n",
      "finished: 27\n",
      "finished: 29\n",
      "Done\n"
     ]
    }
   ],
   "source": [
    "examples = []\n",
    "printed = {h:False for h in range(2, MAX_DEPTH+1)}\n",
    "i = 0\n",
    "while True:\n",
    "    finished = True\n",
    "    for h in range(2, MAX_DEPTH+1):\n",
    "        if nsamples[h] < nsamples_bound[h]:\n",
    "            finished = False\n",
    "    if finished:\n",
    "        break\n",
    "    \n",
    "    t = gen_tree()\n",
    "    if t in VALUES:\n",
    "        continue\n",
    "    nodes = to_nlst(t)\n",
    "    nodes = ' '.join(nodes)\n",
    "    sd_lst, h = to_sd(t)\n",
    "    if h > MAX_DEPTH:\n",
    "        continue\n",
    "    if nsamples[h] >= nsamples_bound[h]:\n",
    "        if not printed[h]:\n",
    "            print('finished:', h)\n",
    "            printed[h] = True\n",
    "        continue\n",
    "    else:\n",
    "        nsamples[h] += 1\n",
    "    \n",
    "    sd_lst = ' '.join([str(sd) for sd in sd_lst])\n",
    "    examples.append((nodes, sd_lst, str(h)))\n",
    "    i += 1\n",
    "\n",
    "    if i >= NSAMPLES:\n",
    "        break\n",
    "print('Done')"
   ]
  },
  {
   "cell_type": "code",
   "execution_count": 16,
   "metadata": {},
   "outputs": [
    {
     "data": {
      "text/plain": [
       "('5 + 9 - 8 * 7 * ( 5 ) / ( 6 )', '1 2 3 7 1 2 3 4 1 2 5 6 1 2', '7')"
      ]
     },
     "execution_count": 16,
     "metadata": {},
     "output_type": "execute_result"
    }
   ],
   "source": [
    "examples[0]"
   ]
  },
  {
   "cell_type": "code",
   "execution_count": 20,
   "metadata": {},
   "outputs": [],
   "source": [
    "es = []\n",
    "es_eval = []\n",
    "hs = []\n",
    "msu_lst = []\n",
    "for e in examples:\n",
    "    expr, ds, h = e\n",
    "    expr = expr.split()\n",
    "    ds = list(map(int, ds.split()))\n",
    "    try:\n",
    "        msu, val = MSU(expr)\n",
    "        print()\n",
    "#         val, mmc = shift_reduce(expr, ds)\n",
    "        if MSU > 1:\n",
    "            hs.append(int(h))\n",
    "            es.append(e)\n",
    "            es_eval.append((e[0], e[1], e[2], str(val)))\n",
    "            msu_lst.append(MSU)\n",
    "    except:\n",
    "        pass"
   ]
  },
  {
   "cell_type": "code",
   "execution_count": 21,
   "metadata": {},
   "outputs": [
    {
     "data": {
      "text/plain": [
       "[]"
      ]
     },
     "execution_count": 21,
     "metadata": {},
     "output_type": "execute_result"
    }
   ],
   "source": [
    "es"
   ]
  },
  {
   "cell_type": "code",
   "execution_count": 18,
   "metadata": {},
   "outputs": [
    {
     "data": {
      "text/plain": [
       "(array([], dtype=float64), array([7]), <a list of 0 Patch objects>)"
      ]
     },
     "execution_count": 18,
     "metadata": {},
     "output_type": "execute_result"
    },
    {
     "data": {
      "image/png": "[encoded data removed]",
      "text/plain": [
       "<Figure size 432x288 with 1 Axes>"
      ]
     },
     "metadata": {},
     "output_type": "display_data"
    }
   ],
   "source": [
    "plt.hist(hs, bins=np.arange(min(hs), max(hs)+1))"
   ]
  },
  {
   "cell_type": "code",
   "execution_count": 20,
   "metadata": {},
   "outputs": [
    {
     "data": {
      "text/plain": [
       "45006"
      ]
     },
     "execution_count": 20,
     "metadata": {},
     "output_type": "execute_result"
    }
   ],
   "source": [
    "len(es)"
   ]
  },
  {
   "cell_type": "code",
   "execution_count": null,
   "metadata": {},
   "outputs": [],
   "source": []
  }
 ],
 "metadata": {
  "kernelspec": {
   "display_name": "Python 3",
   "language": "python",
   "name": "python3"
  },
  "language_info": {
   "codemirror_mode": {
    "name": "ipython",
    "version": 3
   },
   "file_extension": ".py",
   "mimetype": "text/x-python",
   "name": "python",
   "nbconvert_exporter": "python",
   "pygments_lexer": "ipython3",
   "version": "3.6.4"
  }
 },
 "nbformat": 4,
 "nbformat_minor": 2
}
