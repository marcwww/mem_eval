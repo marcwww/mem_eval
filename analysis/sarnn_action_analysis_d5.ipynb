{
 "cells": [
  {
   "cell_type": "code",
   "execution_count": 15,
   "metadata": {},
   "outputs": [],
   "source": [
    "import os\n",
    "import json\n",
    "import numpy as np\n",
    "import matplotlib.pyplot as plt"
   ]
  },
  {
   "cell_type": "markdown",
   "metadata": {},
   "source": [
    "# samples like: $1 - 9 * 5 / 8$\t1 5 1 2 3 4\t5\t6"
   ]
  },
  {
   "cell_type": "code",
   "execution_count": 16,
   "metadata": {},
   "outputs": [],
   "source": [
    "seq = '1−9∗5/8'"
   ]
  },
  {
   "cell_type": "code",
   "execution_count": 41,
   "metadata": {},
   "outputs": [
    {
     "data": {
      "text/plain": [
       "6"
      ]
     },
     "execution_count": 41,
     "metadata": {},
     "output_type": "execute_result"
    }
   ],
   "source": [
    "syn_dis = [1, 5, 1, 2, 3, 4]\n",
    "len(syn_dis)"
   ]
  },
  {
   "cell_type": "code",
   "execution_count": 17,
   "metadata": {},
   "outputs": [],
   "source": [
    "seq_len = len(seq)"
   ]
  },
  {
   "cell_type": "code",
   "execution_count": 18,
   "metadata": {},
   "outputs": [
    {
     "data": {
      "text/plain": [
       "7"
      ]
     },
     "execution_count": 18,
     "metadata": {},
     "output_type": "execute_result"
    }
   ],
   "source": [
    "seq_len"
   ]
  },
  {
   "cell_type": "code",
   "execution_count": 19,
   "metadata": {},
   "outputs": [],
   "source": [
    "prob_action = {i:[] for i in range(seq_len)}"
   ]
  },
  {
   "cell_type": "code",
   "execution_count": 20,
   "metadata": {},
   "outputs": [],
   "source": [
    "i = 0\n",
    "with open('feval-analy_d5-sarnn.txt', 'r') as f:\n",
    "    for line in f:\n",
    "        line_json = json.loads(line)\n",
    "        if 'all' not in line_json:\n",
    "            continue\n",
    "        \n",
    "        prob_action[i].append(line_json['all'])\n",
    "        i += 1\n",
    "        i %= seq_len"
   ]
  },
  {
   "cell_type": "code",
   "execution_count": 21,
   "metadata": {},
   "outputs": [
    {
     "data": {
      "text/plain": [
       "1028"
      ]
     },
     "execution_count": 21,
     "metadata": {},
     "output_type": "execute_result"
    }
   ],
   "source": [
    "len(prob_action[0])"
   ]
  },
  {
   "cell_type": "markdown",
   "metadata": {},
   "source": [
    "# l/r : fraction of gates that are left/right saturated"
   ]
  },
  {
   "cell_type": "code",
   "execution_count": 22,
   "metadata": {},
   "outputs": [],
   "source": [
    "in_l = {i:0 for i in range(seq_len)} \n",
    "in_r = {i:0 for i in range(seq_len)}\n",
    "forget_l = {i:0 for i in range(seq_len)}\n",
    "forget_r = {i:0 for i in range(seq_len)}\n",
    "out_l = {i:0 for i in range(seq_len)}\n",
    "out_r = {i:0 for i in range(seq_len)}\n",
    "ngates = 0"
   ]
  },
  {
   "cell_type": "code",
   "execution_count": 23,
   "metadata": {},
   "outputs": [],
   "source": [
    "i = 0\n",
    "with open('feval-analy_d5-sarnn_lstm.txt', 'r') as f:\n",
    "    for line in f:\n",
    "        line_json = json.loads(line)\n",
    "        t = line_json['t']\n",
    "        ngates += 100\n",
    "        for in_gate in line_json['i']:\n",
    "            if in_gate > 0.9:\n",
    "                in_r[t] += 1\n",
    "            elif in_gate < 0.1:\n",
    "                in_l[t] += 1\n",
    "        \n",
    "        for f_gate in line_json['f']:\n",
    "            if f_gate > 0.9:\n",
    "                forget_r[t] += 1\n",
    "            elif f_gate < 0.1:\n",
    "                forget_l[t] += 1\n",
    "        \n",
    "        for o_gate in line_json['o']:\n",
    "            if o_gate > 0.9:\n",
    "                out_r[t] += 1\n",
    "            elif o_gate < 0.1:\n",
    "                out_l[t] += 1"
   ]
  },
  {
   "cell_type": "code",
   "execution_count": 24,
   "metadata": {},
   "outputs": [],
   "source": [
    "ngates = ngates/seq_len"
   ]
  },
  {
   "cell_type": "code",
   "execution_count": 25,
   "metadata": {},
   "outputs": [
    {
     "data": {
      "text/plain": [
       "102971.42857142857"
      ]
     },
     "execution_count": 25,
     "metadata": {},
     "output_type": "execute_result"
    }
   ],
   "source": [
    "ngates"
   ]
  },
  {
   "cell_type": "code",
   "execution_count": 26,
   "metadata": {},
   "outputs": [],
   "source": [
    "step = []\n",
    "for i in range(seq_len):\n",
    "    step.append(np.array(prob_action[i]))"
   ]
  },
  {
   "cell_type": "code",
   "execution_count": 27,
   "metadata": {},
   "outputs": [],
   "source": [
    "mean_dist = []\n",
    "for i in range(seq_len):\n",
    "    mean_dist.append(step[i].sum(0)/step[i].shape[0])"
   ]
  },
  {
   "cell_type": "code",
   "execution_count": 28,
   "metadata": {},
   "outputs": [
    {
     "data": {
      "text/plain": [
       "array([3.29437851e-01, 1.93838683e-01, 2.38410469e-01, 4.50980386e-02,\n",
       "       2.85477031e-02, 4.45311246e-02, 2.32297940e-04, 8.49067195e-02,\n",
       "       7.71143903e-03, 7.01873773e-03, 1.85366245e-03, 1.84132754e-02])"
      ]
     },
     "execution_count": 28,
     "metadata": {},
     "output_type": "execute_result"
    }
   ],
   "source": [
    "mean_dist[0]"
   ]
  },
  {
   "cell_type": "code",
   "execution_count": 29,
   "metadata": {},
   "outputs": [
    {
     "data": {
      "image/png": "[encoded data removed]",
      "text/plain": [
       "<Figure size 432x288 with 1 Axes>"
      ]
     },
     "metadata": {},
     "output_type": "display_data"
    }
   ],
   "source": [
    "for i in range(seq_len):\n",
    "    plt.bar(np.arange(12), mean_dist[i])"
   ]
  },
  {
   "cell_type": "code",
   "execution_count": 30,
   "metadata": {},
   "outputs": [
    {
     "name": "stdout",
     "output_type": "stream",
     "text": [
      "in_l: 0.3975083240843508\n",
      "in_r: 0.23175360710321866\n",
      "forget_l: 0.4593992785793563\n",
      "forget_r: 0.16021920088790234\n",
      "out_l: 0.44359877913429524\n",
      "out_r: 0.1711348501664817\n"
     ]
    },
    {
     "data": {
      "image/png": "[encoded data removed]",
      "text/plain": [
       "<Figure size 432x288 with 1 Axes>"
      ]
     },
     "metadata": {},
     "output_type": "display_data"
    }
   ],
   "source": [
    "plt.bar(np.arange(6), mean_dist[0][:6])\n",
    "plt.bar(np.arange(6, 12), mean_dist[0][6:])\n",
    "yticks = plt.yticks(np.arange(0, 1.1, 0.1))\n",
    "xticks = plt.xticks(np.arange(0, 12, 1))\n",
    "print('in_l:', in_l[0]/ngates)\n",
    "print('in_r:', in_r[0]/ngates)\n",
    "print('forget_l:', forget_l[0]/ngates)\n",
    "print('forget_r:', forget_r[0]/ngates)\n",
    "print('out_l:', out_l[0]/ngates)\n",
    "print('out_r:', out_r[0]/ngates)"
   ]
  },
  {
   "cell_type": "code",
   "execution_count": 31,
   "metadata": {},
   "outputs": [
    {
     "name": "stdout",
     "output_type": "stream",
     "text": [
      "in_l: 0.38876803551609324\n",
      "in_r: 0.5268548834628192\n",
      "forget_l: 0.8677844062153164\n",
      "forget_r: 0.06283296337402886\n",
      "out_l: 0.40952136514983356\n",
      "out_r: 0.4709753052164262\n"
     ]
    },
    {
     "data": {
      "image/png": "[encoded data removed]",
      "text/plain": [
       "<Figure size 432x288 with 1 Axes>"
      ]
     },
     "metadata": {},
     "output_type": "display_data"
    }
   ],
   "source": [
    "plt.bar(np.arange(6), mean_dist[1][:6])\n",
    "plt.bar(np.arange(6, 12), mean_dist[1][6:])\n",
    "yticks = plt.yticks(np.arange(0, 1.1, 0.1))\n",
    "xticks = plt.xticks(np.arange(0, 12, 1))\n",
    "print('in_l:', in_l[1]/ngates)\n",
    "print('in_r:', in_r[1]/ngates)\n",
    "print('forget_l:', forget_l[1]/ngates)\n",
    "print('forget_r:', forget_r[1]/ngates)\n",
    "print('out_l:', out_l[1]/ngates)\n",
    "print('out_r:', out_r[1]/ngates)"
   ]
  },
  {
   "cell_type": "code",
   "execution_count": 32,
   "metadata": {},
   "outputs": [
    {
     "name": "stdout",
     "output_type": "stream",
     "text": [
      "in_l: 0.3887000554938957\n",
      "in_r: 0.30312291897891236\n",
      "forget_l: 0.5944561598224196\n",
      "forget_r: 0.16768729189789125\n",
      "out_l: 0.537916204217536\n",
      "out_r: 0.16675499445061046\n"
     ]
    },
    {
     "data": {
      "image/png": "[encoded data removed]",
      "text/plain": [
       "<Figure size 432x288 with 1 Axes>"
      ]
     },
     "metadata": {},
     "output_type": "display_data"
    }
   ],
   "source": [
    "plt.bar(np.arange(6), mean_dist[2][:6])\n",
    "plt.bar(np.arange(6, 12), mean_dist[2][6:])\n",
    "yticks = plt.yticks(np.arange(0, 1.1, 0.1))\n",
    "xticks = plt.xticks(np.arange(0, 12, 1))\n",
    "print('in_l:', in_l[2]/ngates)\n",
    "print('in_r:', in_r[2]/ngates)\n",
    "print('forget_l:', forget_l[2]/ngates)\n",
    "print('forget_r:', forget_r[2]/ngates)\n",
    "print('out_l:', out_l[2]/ngates)\n",
    "print('out_r:', out_r[2]/ngates)"
   ]
  },
  {
   "cell_type": "code",
   "execution_count": 33,
   "metadata": {},
   "outputs": [
    {
     "name": "stdout",
     "output_type": "stream",
     "text": [
      "in_l: 0.6400416204217536\n",
      "in_r: 0.26606409544950055\n",
      "forget_l: 0.4864747502774695\n",
      "forget_r: 0.3777455604883463\n",
      "out_l: 0.5510557713651498\n",
      "out_r: 0.3249056603773585\n"
     ]
    },
    {
     "data": {
      "image/png": "[encoded data removed]",
      "text/plain": [
       "<Figure size 432x288 with 1 Axes>"
      ]
     },
     "metadata": {},
     "output_type": "display_data"
    }
   ],
   "source": [
    "plt.bar(np.arange(6), mean_dist[3][:6])\n",
    "plt.bar(np.arange(6, 12), mean_dist[3][6:])\n",
    "yticks = plt.yticks(np.arange(0, 1.1, 0.1))\n",
    "xticks = plt.xticks(np.arange(0, 12, 1))\n",
    "print('in_l:', in_l[3]/ngates)\n",
    "print('in_r:', in_r[3]/ngates)\n",
    "print('forget_l:', forget_l[3]/ngates)\n",
    "print('forget_r:', forget_r[3]/ngates)\n",
    "print('out_l:', out_l[3]/ngates)\n",
    "print('out_r:', out_r[3]/ngates)"
   ]
  },
  {
   "cell_type": "code",
   "execution_count": 34,
   "metadata": {},
   "outputs": [
    {
     "name": "stdout",
     "output_type": "stream",
     "text": [
      "in_l: 0.6516953385127636\n",
      "in_r: 0.15743201997780246\n",
      "forget_l: 0.44735710321864597\n",
      "forget_r: 0.3452219755826859\n",
      "out_l: 0.4996337402885683\n",
      "out_r: 0.2646559378468369\n"
     ]
    },
    {
     "data": {
      "image/png": "[encoded data removed]",
      "text/plain": [
       "<Figure size 432x288 with 1 Axes>"
      ]
     },
     "metadata": {},
     "output_type": "display_data"
    }
   ],
   "source": [
    "plt.bar(np.arange(6), mean_dist[4][:6])\n",
    "plt.bar(np.arange(6, 12), mean_dist[4][6:])\n",
    "yticks = plt.yticks(np.arange(0, 1.1, 0.1))\n",
    "xticks = plt.xticks(np.arange(0, 12, 1))\n",
    "print('in_l:', in_l[4]/ngates)\n",
    "print('in_r:', in_r[4]/ngates)\n",
    "print('forget_l:', forget_l[4]/ngates)\n",
    "print('forget_r:', forget_r[4]/ngates)\n",
    "print('out_l:', out_l[4]/ngates)\n",
    "print('out_r:', out_r[4]/ngates)"
   ]
  },
  {
   "cell_type": "code",
   "execution_count": 35,
   "metadata": {},
   "outputs": [
    {
     "name": "stdout",
     "output_type": "stream",
     "text": [
      "in_l: 0.6484031631520533\n",
      "in_r: 0.2538276914539401\n",
      "forget_l: 0.5398293562708102\n",
      "forget_r: 0.331888179800222\n",
      "out_l: 0.551784128745838\n",
      "out_r: 0.3222350166481687\n"
     ]
    },
    {
     "data": {
      "image/png": "[encoded data removed]",
      "text/plain": [
       "<Figure size 432x288 with 1 Axes>"
      ]
     },
     "metadata": {},
     "output_type": "display_data"
    }
   ],
   "source": [
    "plt.bar(np.arange(6), mean_dist[5][:6])\n",
    "plt.bar(np.arange(6, 12), mean_dist[5][6:])\n",
    "yticks = plt.yticks(np.arange(0, 1.1, 0.1))\n",
    "xticks = plt.xticks(np.arange(0, 12, 1))\n",
    "print('in_l:', in_l[5]/ngates)\n",
    "print('in_r:', in_r[5]/ngates)\n",
    "print('forget_l:', forget_l[5]/ngates)\n",
    "print('forget_r:', forget_r[5]/ngates)\n",
    "print('out_l:', out_l[5]/ngates)\n",
    "print('out_r:', out_r[5]/ngates)"
   ]
  },
  {
   "cell_type": "code",
   "execution_count": 36,
   "metadata": {},
   "outputs": [
    {
     "name": "stdout",
     "output_type": "stream",
     "text": [
      "in_l: 0.6464997225305217\n",
      "in_r: 0.15284822419533853\n",
      "forget_l: 0.44214206437291903\n",
      "forget_r: 0.33847253052164267\n",
      "out_l: 0.5047905105438402\n",
      "out_r: 0.25423557158712545\n"
     ]
    },
    {
     "data": {
      "image/png": "[encoded data removed]",
      "text/plain": [
       "<Figure size 432x288 with 1 Axes>"
      ]
     },
     "metadata": {},
     "output_type": "display_data"
    }
   ],
   "source": [
    "t=6\n",
    "plt.bar(np.arange(6), mean_dist[t][:6])\n",
    "plt.bar(np.arange(6, 12), mean_dist[t][6:])\n",
    "yticks = plt.yticks(np.arange(0, 1.1, 0.1))\n",
    "xticks = plt.xticks(np.arange(0, 12, 1))\n",
    "print('in_l:', in_l[t]/ngates)\n",
    "print('in_r:', in_r[t]/ngates)\n",
    "print('forget_l:', forget_l[t]/ngates)\n",
    "print('forget_r:', forget_r[t]/ngates)\n",
    "print('out_l:', out_l[t]/ngates)\n",
    "print('out_r:', out_r[t]/ngates)"
   ]
  },
  {
   "cell_type": "code",
   "execution_count": 38,
   "metadata": {},
   "outputs": [],
   "source": [
    "push = [mean_dist[t][6:].sum() for t in range(seq_len)]"
   ]
  },
  {
   "cell_type": "code",
   "execution_count": 39,
   "metadata": {},
   "outputs": [
    {
     "data": {
      "image/png": "[encoded data removed]",
      "text/plain": [
       "<Figure size 432x288 with 1 Axes>"
      ]
     },
     "metadata": {},
     "output_type": "display_data"
    }
   ],
   "source": [
    "plt.plot(np.arange(seq_len), \n",
    "         np.array([in_l[i] for i in in_l.keys()])/ngates,\n",
    "        label='in_l', marker='|')\n",
    "plt.plot(np.arange(seq_len), \n",
    "         np.array([in_r[i] for i in in_r.keys()])/ngates,\n",
    "        label='in_r')\n",
    "plt.plot(np.arange(seq_len), \n",
    "         np.array([forget_l[i] for i in forget_l.keys()])/ngates,\n",
    "        label='forget_l',marker='x')\n",
    "plt.plot(np.arange(seq_len), \n",
    "         np.array([forget_r[i] for i in forget_r.keys()])/ngates,\n",
    "        label='forget_r')\n",
    "plt.plot(np.arange(seq_len), \n",
    "         push,\n",
    "        label='push',marker='o')\n",
    "\n",
    "plt.legend()\n",
    "plt.xticks(np.arange(0, seq_len, 1), list(seq))\n",
    "plt.yticks(np.arange(0, 1.1, 0.1))\n",
    "plt.show()"
   ]
  },
  {
   "cell_type": "code",
   "execution_count": 42,
   "metadata": {},
   "outputs": [
    {
     "data": {
      "image/png": "[encoded data removed]",
      "text/plain": [
       "<Figure size 432x288 with 1 Axes>"
      ]
     },
     "metadata": {},
     "output_type": "display_data"
    }
   ],
   "source": [
    "plt.plot(np.arange(seq_len), \n",
    "         push,\n",
    "        label='push',marker='o', color='red')\n",
    "plt.bar(np.arange(0.5, seq_len-0.5), np.array(syn_dis)/max(syn_dis))\n",
    "plt.legend()\n",
    "plt.xticks(np.arange(0, seq_len, 1), list(seq))\n",
    "plt.yticks(np.arange(0, 1.1, 0.1))\n",
    "plt.show()"
   ]
  },
  {
   "cell_type": "code",
   "execution_count": null,
   "metadata": {},
   "outputs": [],
   "source": []
  }
 ],
 "metadata": {
  "kernelspec": {
   "display_name": "Python 3",
   "language": "python",
   "name": "python3"
  },
  "language_info": {
   "codemirror_mode": {
    "name": "ipython",
    "version": 3
   },
   "file_extension": ".py",
   "mimetype": "text/x-python",
   "name": "python",
   "nbconvert_exporter": "python",
   "pygments_lexer": "ipython3",
   "version": "3.6.4"
  }
 },
 "nbformat": 4,
 "nbformat_minor": 2
}
