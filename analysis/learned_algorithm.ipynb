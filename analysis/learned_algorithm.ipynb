{
 "cells": [
  {
   "cell_type": "code",
   "execution_count": 222,
   "metadata": {},
   "outputs": [],
   "source": [
    "def eval_ae(nodes):\n",
    "    S = []\n",
    "    l0 = '0'\n",
    "    l0_t = '0'\n",
    "    p0 = None\n",
    "    p1 = None\n",
    "    l1 = '0'\n",
    "    for n in nodes:\n",
    "        Nc = len(S)\n",
    "        if n in {'+', '-'}:\n",
    "            [S.pop() for _ in range(Nc)]\n",
    "            p0 = n\n",
    "        elif n in {'*','/'}:\n",
    "            [S.pop() for _ in range(Nc)]\n",
    "            S.append(l1)\n",
    "            S.append(n)\n",
    "            l0 = l0_t\n",
    "            p1 = n\n",
    "        else:\n",
    "#             print('S:%s, p0:%s, p1:%s, l0:%s, l1:%s, n:%s' % (S, p0, p1, l0, l1, n))\n",
    "            l1 = str(eval(S[0] + p1 + n)) if len(S) != 0 else n\n",
    "            l0_t = l0\n",
    "            l0 = str(eval(l0 + p0 + l1)) if p0 is not None else l1\n",
    "            [S.pop() for _ in range(Nc)]\n",
    "            S.append(l0)\n",
    "    return l0"
   ]
  },
  {
   "cell_type": "code",
   "execution_count": 245,
   "metadata": {},
   "outputs": [],
   "source": [
    "expr = '1+2*3/2+5*2'"
   ]
  },
  {
   "cell_type": "code",
   "execution_count": 246,
   "metadata": {},
   "outputs": [
    {
     "data": {
      "text/plain": [
       "'14.0'"
      ]
     },
     "execution_count": 246,
     "metadata": {},
     "output_type": "execute_result"
    }
   ],
   "source": [
    "eval_ae(expr)"
   ]
  },
  {
   "cell_type": "code",
   "execution_count": 247,
   "metadata": {},
   "outputs": [
    {
     "data": {
      "text/plain": [
       "14.0"
      ]
     },
     "execution_count": 247,
     "metadata": {},
     "output_type": "execute_result"
    }
   ],
   "source": [
    "eval(expr)"
   ]
  },
  {
   "cell_type": "code",
   "execution_count": 248,
   "metadata": {},
   "outputs": [],
   "source": [
    "fpath = '../data/flang/test_d30_ef.tsv'\n",
    "exprs = []\n",
    "with open(fpath, 'r') as f:\n",
    "    for line in f:\n",
    "        expr, ds, h = line.strip().split('\\t')\n",
    "        exprs.append(expr)"
   ]
  },
  {
   "cell_type": "code",
   "execution_count": 249,
   "metadata": {},
   "outputs": [
    {
     "data": {
      "text/plain": [
       "'9 / 8 / 2 + 2 * 6 * 7'"
      ]
     },
     "execution_count": 249,
     "metadata": {},
     "output_type": "execute_result"
    }
   ],
   "source": [
    "exprs[0]"
   ]
  },
  {
   "cell_type": "code",
   "execution_count": 250,
   "metadata": {},
   "outputs": [
    {
     "data": {
      "text/plain": [
       "84.5625"
      ]
     },
     "execution_count": 250,
     "metadata": {},
     "output_type": "execute_result"
    }
   ],
   "source": [
    "eval(exprs[0])"
   ]
  },
  {
   "cell_type": "code",
   "execution_count": 251,
   "metadata": {},
   "outputs": [
    {
     "data": {
      "text/plain": [
       "'84.5625'"
      ]
     },
     "execution_count": 251,
     "metadata": {},
     "output_type": "execute_result"
    }
   ],
   "source": [
    "eval_ae(exprs[0].split())"
   ]
  },
  {
   "cell_type": "code",
   "execution_count": 252,
   "metadata": {},
   "outputs": [],
   "source": [
    "for expr in exprs:\n",
    "    if str(eval(expr)) != eval_ae(expr.split()):\n",
    "        print(expr)"
   ]
  },
  {
   "cell_type": "code",
   "execution_count": 253,
   "metadata": {},
   "outputs": [
    {
     "data": {
      "text/plain": [
       "9"
      ]
     },
     "execution_count": 253,
     "metadata": {},
     "output_type": "execute_result"
    }
   ],
   "source": [
    "eval('1 + 8')"
   ]
  },
  {
   "cell_type": "code",
   "execution_count": 254,
   "metadata": {},
   "outputs": [
    {
     "data": {
      "text/plain": [
       "'9'"
      ]
     },
     "execution_count": 254,
     "metadata": {},
     "output_type": "execute_result"
    }
   ],
   "source": [
    "eval_ae('1 + 8'.split())"
   ]
  },
  {
   "cell_type": "markdown",
   "metadata": {},
   "source": [
    "# revision"
   ]
  },
  {
   "cell_type": "code",
   "execution_count": 7,
   "metadata": {},
   "outputs": [],
   "source": [
    "def eval_ae(nodes):\n",
    "    S = []\n",
    "    l0 = '0'\n",
    "    l0_t = '0'\n",
    "    p0 = None\n",
    "    l1 = '0'\n",
    "    for n in nodes:\n",
    "        Nc = len(S)\n",
    "        if n in {'+', '-'}:\n",
    "            [S.pop() for _ in range(Nc)]\n",
    "            p0 = n\n",
    "        elif n in {'*','/'}:\n",
    "            S.append((l1, n))\n",
    "            l0 = l0_t\n",
    "        else:\n",
    "            l1 = str(eval(S[-1][0] + S[-1][1] + n)) if len(S) != 0 else n\n",
    "            l0_t = l0\n",
    "            l0 = str(eval(l0 + p0 + l1)) if p0 is not None else l1\n",
    "            [S.pop() for _ in range(Nc)]\n",
    "            S.append(l0)\n",
    "        print(S)\n",
    "    return l0"
   ]
  },
  {
   "cell_type": "code",
   "execution_count": 8,
   "metadata": {},
   "outputs": [],
   "source": [
    "expr = '1+2*3/2+5*2'"
   ]
  },
  {
   "cell_type": "code",
   "execution_count": 9,
   "metadata": {
    "scrolled": true
   },
   "outputs": [
    {
     "name": "stdout",
     "output_type": "stream",
     "text": [
      "['1']\n",
      "[]\n",
      "['3']\n",
      "['3', ('2', '*')]\n",
      "['7']\n",
      "['7', ('6', '/')]\n",
      "['4.0']\n",
      "[]\n",
      "['9.0']\n",
      "['9.0', ('5', '*')]\n",
      "['14.0']\n"
     ]
    },
    {
     "data": {
      "text/plain": [
       "'14.0'"
      ]
     },
     "execution_count": 9,
     "metadata": {},
     "output_type": "execute_result"
    }
   ],
   "source": [
    "eval_ae(expr)"
   ]
  },
  {
   "cell_type": "markdown",
   "metadata": {},
   "source": [
    "# modulo"
   ]
  },
  {
   "cell_type": "code",
   "execution_count": 10,
   "metadata": {},
   "outputs": [],
   "source": [
    "def eval_ae(nodes):\n",
    "    def calc(op, v1, v2):\n",
    "        if op == '/':\n",
    "            v = str(int(v1) % int(v2))\n",
    "        else:\n",
    "            v = str(eval(''.join([v1, op, v2])) % 10)\n",
    "        return v\n",
    "    \n",
    "    S = []\n",
    "    l0 = '0'\n",
    "    l0_t = '0'\n",
    "    p0 = None\n",
    "    l1 = '0'\n",
    "    for n in nodes:\n",
    "        Nc = len(S)\n",
    "        if n in {'+', '-'}:\n",
    "            [S.pop() for _ in range(Nc)]\n",
    "            p0 = n\n",
    "        elif n in {'*','/'}:\n",
    "            S.append((l1, n))\n",
    "            l0 = l0_t\n",
    "        else:\n",
    "            l1 = calc(S[-1][1], S[-1][0], n) if len(S) !=0 else n\n",
    "            l0_t = l0\n",
    "            l0 = calc(p0, l0, l1) if len(S)  != 0 else n\n",
    "            [S.pop() for _ in range(Nc)]\n",
    "            S.append(l0)\n",
    "        print(S)\n",
    "    return l0"
   ]
  },
  {
   "cell_type": "code",
   "execution_count": 23,
   "metadata": {},
   "outputs": [],
   "source": [
    "expr = '5+2*3/7+5*3'"
   ]
  },
  {
   "cell_type": "code",
   "execution_count": 24,
   "metadata": {},
   "outputs": [
    {
     "name": "stdout",
     "output_type": "stream",
     "text": [
      "['5']\n",
      "[]\n",
      "['2']\n",
      "['2', ('2', '*')]\n",
      "['1']\n",
      "['1', ('6', '/')]\n",
      "['1']\n",
      "[]\n",
      "['5']\n",
      "['5', ('5', '*')]\n",
      "['6']\n"
     ]
    },
    {
     "data": {
      "text/plain": [
       "'6'"
      ]
     },
     "execution_count": 24,
     "metadata": {},
     "output_type": "execute_result"
    }
   ],
   "source": [
    "eval_ae(expr)"
   ]
  },
  {
   "cell_type": "code",
   "execution_count": null,
   "metadata": {},
   "outputs": [],
   "source": []
  }
 ],
 "metadata": {
  "kernelspec": {
   "display_name": "Python 3",
   "language": "python",
   "name": "python3"
  },
  "language_info": {
   "codemirror_mode": {
    "name": "ipython",
    "version": 3
   },
   "file_extension": ".py",
   "mimetype": "text/x-python",
   "name": "python",
   "nbconvert_exporter": "python",
   "pygments_lexer": "ipython3",
   "version": "3.6.4"
  }
 },
 "nbformat": 4,
 "nbformat_minor": 2
}
