{
 "cells": [
  {
   "cell_type": "code",
   "execution_count": 1,
   "metadata": {},
   "outputs": [],
   "source": [
    "import os\n",
    "import json\n",
    "import numpy as np\n",
    "import matplotlib.pyplot as plt\n",
    "\n",
    "np.set_printoptions(precision=3)"
   ]
  },
  {
   "cell_type": "markdown",
   "metadata": {},
   "source": [
    "samples like: 8 + 6 3 / 2 - 4 7 4 / 5 - 1 / 5 / 4 9 / 9 + 1 + 8 4 - 7 9 9 + 3 / 4 + 7 / 9 - 6 / 6 4 + 3 / 3 1 5 1 2 3 4 6 7 1 2 3 4 5 6 8 9 1 2 3 4 5 6 7 8 10 11 12 13 1 2 14 15 1 2 3 4 16 17 1 2 18 19 1 2 20 21 1 2 3 4 22 23 1 2 23 2"
   ]
  },
  {
   "cell_type": "code",
   "execution_count": 8,
   "metadata": {},
   "outputs": [
    {
     "data": {
      "text/plain": [
       "55"
      ]
     },
     "execution_count": 8,
     "metadata": {},
     "output_type": "execute_result"
    }
   ],
   "source": [
    "seq = '8 + 6 * 3 / 2 - 4 * 7 * 4 / 5 - 1 / 5 / 4 * 9 / 9 + 1 + 8 * 4 - 7 * 9 * 9 + 3 / 4 + 7 / 9 - 6 / 6 * 4 + 3 / 3'.split(' ')\n",
    "seq_len = len(seq)\n",
    "seq_len"
   ]
  },
  {
   "cell_type": "code",
   "execution_count": 9,
   "metadata": {},
   "outputs": [],
   "source": [
    "ds = '1 5 1 2 3 4 6 7 1 2 3 4 5 6 8 9 1 2 3 4 5 6 7 8 10 11 12 13 1 2 14 15 1 2 3 4 16 17 1 2 18 19 1 2 20 21 1 2 3 4 22 23 1 2'.split(' ')\n",
    "syn_dis = [int(d) for d in ds]"
   ]
  },
  {
   "cell_type": "code",
   "execution_count": 10,
   "metadata": {},
   "outputs": [],
   "source": [
    "prob_action = {i:[] for i in range(seq_len)}\n",
    "mem = {i:[] for i in range(seq_len)}"
   ]
  },
  {
   "cell_type": "code",
   "execution_count": 11,
   "metadata": {},
   "outputs": [],
   "source": [
    "i = 0\n",
    "nc = 0\n",
    "nt = 0\n",
    "with open('feval-analy_d23_ne10-sarnn.txt', 'r') as f:\n",
    "    for line in f:\n",
    "        line_json = json.loads(line)\n",
    "        if line_json['type'] != 'actions':\n",
    "            assert line_json['type'] == 'input'\n",
    "            nc += line_json['is_correct']\n",
    "            nt += 1\n",
    "            continue \n",
    "        \n",
    "        prob_action[i].append(line_json['all'])\n",
    "        mem[i].append(line_json['mem'])        \n",
    "        i += 1\n",
    "        i %= seq_len"
   ]
  },
  {
   "cell_type": "code",
   "execution_count": 12,
   "metadata": {},
   "outputs": [
    {
     "name": "stdout",
     "output_type": "stream",
     "text": [
      "correct prediction%: 0.094\n"
     ]
    }
   ],
   "source": [
    "print('correct prediction%:', nc/nt)"
   ]
  },
  {
   "cell_type": "code",
   "execution_count": 13,
   "metadata": {},
   "outputs": [],
   "source": [
    "remain = 4\n",
    "step = []\n",
    "for i in range(seq_len):\n",
    "    step.append(np.array(mem[i]))\n",
    "mean_mem_dist = []\n",
    "for i in range(seq_len):\n",
    "    mean_mem_dist.append((step[i].sum(0)/step[i].shape[0])[:, :remain])"
   ]
  },
  {
   "cell_type": "code",
   "execution_count": null,
   "metadata": {},
   "outputs": [],
   "source": [
    "for i in range(seq_len):\n",
    "    mean_mem_dist[i] = np.hstack([mean_mem_dist[i], np.ones((10, 1))])\n",
    "mem_whole = np.hstack(mean_mem_dist)\n",
    "mem_whole.shape"
   ]
  }
 ],
 "metadata": {
  "kernelspec": {
   "display_name": "Python 3",
   "language": "python",
   "name": "python3"
  },
  "language_info": {
   "codemirror_mode": {
    "name": "ipython",
    "version": 3
   },
   "file_extension": ".py",
   "mimetype": "text/x-python",
   "name": "python",
   "nbconvert_exporter": "python",
   "pygments_lexer": "ipython3",
   "version": "3.6.4"
  }
 },
 "nbformat": 4,
 "nbformat_minor": 2
}
