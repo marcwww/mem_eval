{
 "cells": [
  {
   "cell_type": "code",
   "execution_count": 47,
   "metadata": {},
   "outputs": [],
   "source": [
    "import random\n",
    "import numpy as np"
   ]
  },
  {
   "cell_type": "code",
   "execution_count": 48,
   "metadata": {},
   "outputs": [],
   "source": [
    "def num_extrem_vals(ds):\n",
    "    res = 0\n",
    "    for i, d in enumerate(ds):\n",
    "        if i == 0:\n",
    "            if d > ds[1]:\n",
    "                res += 1\n",
    "        elif i == len(ds)-1:\n",
    "            if d > ds[-2]:\n",
    "                res += 1\n",
    "        elif d > ds[i-1] and d > ds[i+1]:\n",
    "            res += 1\n",
    "    \n",
    "    return res            "
   ]
  },
  {
   "cell_type": "code",
   "execution_count": 49,
   "metadata": {},
   "outputs": [],
   "source": [
    "def to_value_sd(sd_lst, node_lst):\n",
    "    if len(sd_lst) == 0:\n",
    "        node = node_lst[0]\n",
    "        v = node\n",
    "    else:\n",
    "        i = np.argmax(sd_lst)\n",
    "        child_l, v_l = to_value_sd(sd_lst[:i], node_lst[:i+1])\n",
    "        child_r, v_r = to_value_sd(sd_lst[i+1:], node_lst[i+1:])\n",
    "        node = (child_l, child_r)\n",
    "        if isinstance(v_l, tuple) and not isinstance(v_r, tuple):\n",
    "            v1, op = v_l[0], v_l[1]\n",
    "            v2 = v_r\n",
    "            if op == '/':\n",
    "                v = str(int(v1) % int(v2))\n",
    "            else:\n",
    "                v = str(eval(''.join([v1, op, v2])) % 10)\n",
    "        else:\n",
    "            assert not isinstance(v_l, tuple) and not isinstance(v_r, tuple)\n",
    "            v = (v_l, v_r)\n",
    "\n",
    "    return node, v"
   ]
  },
  {
   "cell_type": "code",
   "execution_count": 50,
   "metadata": {},
   "outputs": [
    {
     "name": "stdout",
     "output_type": "stream",
     "text": [
      "2 - 7 / 6 - 5 / 9 / 3 / 7 - 5 * 1 * 8 - 2 / 9 + 7 / 1 * 6 * 7 / 4 - 2 / 7 / 7 * 6 + 4 * 6 - 6 - 8 * 2 / 8 / 6 / 9 / 4 - 4 * 8 [1, 3, 1, 2, 4, 7, 1, 2, 3, 4, 5, 6, 8, 9, 1, 2, 3, 4, 10, 11, 1, 2, 12, 13, 1, 2, 3, 4, 5, 6, 7, 8, 14, 15, 1, 2, 3, 4, 5, 6, 16, 17, 1, 2, 18, 19, 20, 21, 1, 2, 3, 4, 5, 6, 7, 8, 9, 10, 22, 23, 1, 2] 23\n",
      "8 / 8 - 7 / 3 * 5 - 2 * 3 - 3 / 8 - 6 * 4 + 8 * 9 / 4 * 9 / 9 - 1 * 2 + 3 + 6 * 6 + 1 * 8 + 6 * 8 [1, 2, 3, 5, 1, 2, 3, 4, 6, 7, 1, 2, 8, 9, 1, 2, 10, 11, 1, 2, 12, 13, 1, 2, 3, 4, 5, 6, 7, 8, 14, 15, 1, 2, 16, 17, 18, 19, 1, 2, 20, 21, 1, 2, 22, 23, 1, 2] 23\n",
      "2 - 2 * 5 - 2 / 6 + 3 / 5 / 1 / 1 * 1 - 5 * 1 * 6 / 8 * 2 - 3 * 7 / 5 * 2 / 7 + 2 - 7 / 3 * 6 / 5 * 8 - 3 / 4 * 4 + 7 * 7 + 1 * 8 [1, 3, 1, 2, 4, 5, 1, 2, 6, 9, 1, 2, 3, 4, 5, 6, 7, 8, 10, 11, 1, 2, 3, 4, 5, 6, 7, 8, 12, 13, 1, 2, 3, 4, 5, 6, 7, 8, 14, 15, 16, 17, 1, 2, 3, 4, 5, 6, 7, 8, 18, 19, 1, 2, 3, 4, 20, 21, 1, 2, 22, 23, 1, 2] 23\n",
      "2 + 4 / 6 / 2 - 2 * 7 * 1 - 9 / 9 + 2 / 2 + 8 / 8 - 1 - 8 / 2 * 7 / 8 + 7 * 3 / 5 * 4 - 8 * 5 - 8 / 4 * 4 [1, 5, 1, 2, 3, 4, 6, 7, 1, 2, 3, 4, 8, 9, 1, 2, 10, 11, 1, 2, 12, 13, 1, 2, 14, 15, 16, 17, 1, 2, 3, 4, 5, 6, 18, 19, 1, 2, 3, 4, 5, 6, 20, 21, 1, 2, 22, 23, 1, 2, 3, 4] 23\n",
      "6 + 4 / 4 + 9 / 9 - 4 + 3 * 4 - 8 / 7 - 7 * 7 * 3 + 3 * 3 + 1 * 5 / 7 / 2 - 6 + 1 / 1 / 5 * 7 * 1 + 6 / 7 [1, 3, 1, 2, 4, 5, 1, 2, 6, 7, 8, 9, 1, 2, 10, 11, 1, 2, 12, 13, 1, 2, 3, 4, 14, 15, 1, 2, 16, 17, 1, 2, 3, 4, 5, 6, 18, 19, 20, 21, 1, 2, 3, 4, 5, 6, 7, 8, 22, 23, 1, 2] 23\n",
      "8 + 3 / 7 * 5 + 8 / 1 * 7 / 5 - 8 * 7 + 4 * 9 + 4 + 4 * 1 / 9 * 6 + 8 * 7 * 7 - 1 / 6 / 9 + 2 * 2 * 6 - 3 * 4 / 1 / 3 / 5 [1, 5, 1, 2, 3, 4, 6, 7, 1, 2, 3, 4, 5, 6, 8, 9, 1, 2, 10, 11, 1, 2, 12, 13, 14, 15, 1, 2, 3, 4, 5, 6, 16, 17, 1, 2, 3, 4, 18, 19, 1, 2, 3, 4, 20, 21, 1, 2, 3, 4, 22, 23, 1, 2, 3, 4, 5, 6, 7, 8] 23\n",
      "1 + 7 * 2 * 5 + 5 * 3 / 1 / 9 + 9 / 8 / 5 * 8 * 6 - 6 - 2 * 3 - 7 / 5 * 5 - 6 / 9 + 1 / 4 - 9 / 2 / 7 - 5 * 8 [1, 5, 1, 2, 3, 4, 6, 7, 1, 2, 3, 4, 5, 6, 8, 9, 1, 2, 3, 4, 5, 6, 7, 8, 10, 11, 12, 13, 1, 2, 14, 15, 1, 2, 3, 4, 16, 17, 1, 2, 18, 19, 1, 2, 20, 21, 1, 2, 3, 4, 22, 23, 1, 2] 23\n"
     ]
    }
   ],
   "source": [
    "extremes_total = {}\n",
    "with open('test_d30_ef.tsv', 'r') as f:\n",
    "    for line in f:\n",
    "        expr, ds, h = line.strip().split('\\t')\n",
    "        ds = [int(d) for d in ds.split()]\n",
    "        h = int(h)\n",
    "        if h not in extremes_total:\n",
    "            extremes_total[h] = []\n",
    "        extremes_total[h].append(num_extrem_vals(ds))\n",
    "        if num_extrem_vals(ds) == 10 and h == 23: \n",
    "            print(expr, ds, h)"
   ]
  },
  {
   "cell_type": "code",
   "execution_count": 51,
   "metadata": {},
   "outputs": [],
   "source": [
    "expr = '1 + 7 * 2 * 5 + 5 * 3 / 1 / 9 + 9 / 8 / 5 * 8 * 6 - 6 - 2 * 3 - 7 / 5 * 5 - 6 / 9 + 1 / 4 - 9 / 2 / 7 - 5 * 8'.split()"
   ]
  },
  {
   "cell_type": "code",
   "execution_count": 52,
   "metadata": {},
   "outputs": [],
   "source": [
    "def gen_more(expr):\n",
    "    num = [str(i) for i in range(1, 10)]\n",
    "    op0 = ['+', '-']\n",
    "    op1 = ['*', '/']\n",
    "    \n",
    "    res = list(expr)\n",
    "    for i in range(len(expr)):\n",
    "        if i % 2 == 0:\n",
    "            res[i] = random.choice(num)\n",
    "        elif expr[i] in op0:\n",
    "            res[i] = random.choice(op0)\n",
    "        else:\n",
    "            assert expr[i] in op1\n",
    "            res[i] = random.choice(op1)\n",
    "\n",
    "    return res"
   ]
  },
  {
   "cell_type": "code",
   "execution_count": 53,
   "metadata": {},
   "outputs": [],
   "source": [
    "num = 5000\n",
    "exprs = []\n",
    "for i in range(num):\n",
    "    e = gen_more(expr)\n",
    "    exprs.append(e)"
   ]
  },
  {
   "cell_type": "code",
   "execution_count": 54,
   "metadata": {},
   "outputs": [
    {
     "data": {
      "text/plain": [
       "'5+3*8*4+8/2*9/4-2*9/4*9/3-4+8*2+9/7/4+7*9-7*1-3*7*3+6*9'"
      ]
     },
     "execution_count": 54,
     "metadata": {},
     "output_type": "execute_result"
    }
   ],
   "source": [
    "''.join(exprs[0])"
   ]
  },
  {
   "cell_type": "code",
   "execution_count": 55,
   "metadata": {},
   "outputs": [],
   "source": [
    "ds = [1, 5, 1, 2, 3, 4, 6, 7, 1, 2, 3, 4, 5, 6, 8, 9, 1, 2, 3, 4, 5, 6, 7, 8, 10, 11, 12, 13, 1, 2, 14, 15, 1, 2, 3, 4, 16, 17, 1, 2, 18, 19, 1, 2, 20, 21, 1, 2, 3, 4, 22, 23, 1, 2]\n",
    "h = 23"
   ]
  },
  {
   "cell_type": "code",
   "execution_count": 58,
   "metadata": {},
   "outputs": [],
   "source": [
    "with open('analy_d23_ne10.tsv', 'w') as f:\n",
    "    for expr in exprs:\n",
    "        val = to_value_sd(ds, expr)[1]\n",
    "        f.write('\\t'.join((' '.join(expr), ' '.join([str(d) for d in ds]), str(h), str(val)))+'\\n')"
   ]
  },
  {
   "cell_type": "code",
   "execution_count": null,
   "metadata": {},
   "outputs": [],
   "source": []
  }
 ],
 "metadata": {
  "kernelspec": {
   "display_name": "Python 3",
   "language": "python",
   "name": "python3"
  },
  "language_info": {
   "codemirror_mode": {
    "name": "ipython",
    "version": 3
   },
   "file_extension": ".py",
   "mimetype": "text/x-python",
   "name": "python",
   "nbconvert_exporter": "python",
   "pygments_lexer": "ipython3",
   "version": "3.6.4"
  }
 },
 "nbformat": 4,
 "nbformat_minor": 2
}
