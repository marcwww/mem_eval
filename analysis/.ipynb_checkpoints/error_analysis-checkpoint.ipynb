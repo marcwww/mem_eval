{
 "cells": [
  {
   "cell_type": "code",
   "execution_count": 127,
   "metadata": {},
   "outputs": [],
   "source": [
    "from sklearn.cluster import SpectralClustering\n",
    "import numpy as np\n",
    "import matplotlib.pyplot as plt"
   ]
  },
  {
   "cell_type": "code",
   "execution_count": 128,
   "metadata": {},
   "outputs": [],
   "source": [
    "X = np.array([[1, 1], [2, 1], [1, 0],\n",
    "              [4, 7], [3, 5], [3, 6]])"
   ]
  },
  {
   "cell_type": "code",
   "execution_count": 129,
   "metadata": {},
   "outputs": [],
   "source": [
    "affi_mtrx = X.dot(X.transpose())"
   ]
  },
  {
   "cell_type": "code",
   "execution_count": 130,
   "metadata": {},
   "outputs": [
    {
     "data": {
      "text/plain": [
       "array([[ 2,  3,  1, 11,  8,  9],\n",
       "       [ 3,  5,  2, 15, 11, 12],\n",
       "       [ 1,  2,  1,  4,  3,  3],\n",
       "       [11, 15,  4, 65, 47, 54],\n",
       "       [ 8, 11,  3, 47, 34, 39],\n",
       "       [ 9, 12,  3, 54, 39, 45]])"
      ]
     },
     "execution_count": 130,
     "metadata": {},
     "output_type": "execute_result"
    }
   ],
   "source": [
    "affi_mtrx"
   ]
  },
  {
   "cell_type": "code",
   "execution_count": 131,
   "metadata": {},
   "outputs": [],
   "source": [
    "clustering = SpectralClustering(n_clusters=2, \n",
    "                                affinity='precomputed',\n",
    "                                assign_labels='discretize',\n",
    "                                random_state=0).fit(affi_mtrx)"
   ]
  },
  {
   "cell_type": "code",
   "execution_count": 132,
   "metadata": {},
   "outputs": [
    {
     "data": {
      "text/plain": [
       "array([0, 1, 1, 0, 0, 0])"
      ]
     },
     "execution_count": 132,
     "metadata": {},
     "output_type": "execute_result"
    }
   ],
   "source": [
    "clustering.labels_"
   ]
  },
  {
   "cell_type": "code",
   "execution_count": 133,
   "metadata": {},
   "outputs": [
    {
     "data": {
      "text/plain": [
       "array([[1, 1],\n",
       "       [2, 1],\n",
       "       [1, 0],\n",
       "       [4, 7],\n",
       "       [3, 5],\n",
       "       [3, 6]])"
      ]
     },
     "execution_count": 133,
     "metadata": {},
     "output_type": "execute_result"
    }
   ],
   "source": [
    "X"
   ]
  },
  {
   "cell_type": "code",
   "execution_count": 134,
   "metadata": {},
   "outputs": [
    {
     "data": {
      "text/plain": [
       "<matplotlib.collections.PathCollection at 0x1144c9860>"
      ]
     },
     "execution_count": 134,
     "metadata": {},
     "output_type": "execute_result"
    },
    {
     "data": {
      "image/png": "[encoded data removed]",
      "text/plain": [
       "<Figure size 432x288 with 1 Axes>"
      ]
     },
     "metadata": {},
     "output_type": "display_data"
    }
   ],
   "source": [
    "plt.scatter(X[:3, 0], X[:3, 1])\n",
    "plt.scatter(X[3:, 0], X[3:, 1])"
   ]
  },
  {
   "cell_type": "markdown",
   "metadata": {},
   "source": [
    "# example"
   ]
  },
  {
   "cell_type": "code",
   "execution_count": 101,
   "metadata": {},
   "outputs": [],
   "source": [
    "def num_extrem_vals(ds):\n",
    "    res = 0\n",
    "    for i, d in enumerate(ds):\n",
    "        if i == 0:\n",
    "            if d > ds[1]:\n",
    "                res += 1\n",
    "        elif i == len(ds)-1:\n",
    "            if d > ds[-2]:\n",
    "                res += 1\n",
    "        elif d > ds[i-1] and d > ds[i+1]:\n",
    "            res += 1\n",
    "    \n",
    "    return res            "
   ]
  },
  {
   "cell_type": "code",
   "execution_count": 102,
   "metadata": {},
   "outputs": [],
   "source": [
    "fname = 'incor-feval-lstm-1541384805.txt'\n",
    "trees = []\n",
    "extremes = []\n",
    "trees_extremes = {}\n",
    "with open(fname, 'r') as f:\n",
    "    for line in f:\n",
    "#         print(line.strip().split('\\t'))\n",
    "        idx, expr, ds, lbl, h = line.strip().split('\\t')\n",
    "        ds = [int(d) for d in ds.split()]\n",
    "        nextremes = num_extrem_vals(ds)\n",
    "        if nextremes not in trees_extremes:\n",
    "            trees_extremes[nextremes] = []\n",
    "        trees_extremes[nextremes].append(ds)\n",
    "        extremes.append(nextremes)\n",
    "        trees.append(ds) "
   ]
  },
  {
   "cell_type": "code",
   "execution_count": 103,
   "metadata": {},
   "outputs": [
    {
     "data": {
      "text/plain": [
       "'a'"
      ]
     },
     "execution_count": 103,
     "metadata": {},
     "output_type": "execute_result"
    },
    {
     "data": {
      "image/png": "[encoded data removed]",
      "text/plain": [
       "<Figure size 432x288 with 1 Axes>"
      ]
     },
     "metadata": {},
     "output_type": "display_data"
    }
   ],
   "source": [
    "plt.hist(extremes)\n",
    "plt.xticks(np.arange(0, 13, 1))\n",
    "'a'"
   ]
  },
  {
   "cell_type": "code",
   "execution_count": 104,
   "metadata": {},
   "outputs": [
    {
     "data": {
      "text/plain": [
       "'a'"
      ]
     },
     "execution_count": 104,
     "metadata": {},
     "output_type": "execute_result"
    },
    {
     "data": {
      "image/png": "[encoded data removed]",
      "text/plain": [
       "<Figure size 432x288 with 1 Axes>"
      ]
     },
     "metadata": {},
     "output_type": "display_data"
    }
   ],
   "source": [
    "plt.bar(np.arange(len(trees[0])), np.array(trees[0])/max(trees[0]), label='syn-distance')\n",
    "plt.xticks(np.arange(len(trees[0])))\n",
    "'a'"
   ]
  },
  {
   "cell_type": "code",
   "execution_count": 105,
   "metadata": {},
   "outputs": [
    {
     "name": "stdout",
     "output_type": "stream",
     "text": [
      "2\n"
     ]
    }
   ],
   "source": [
    "def ed(s1, s2):\n",
    "    m=len(s1)+1\n",
    "    n=len(s2)+1\n",
    "\n",
    "    tbl = {}\n",
    "    for i in range(m): tbl[i,0]=i\n",
    "    for j in range(n): tbl[0,j]=j\n",
    "    for i in range(1, m):\n",
    "        for j in range(1, n):\n",
    "            cost = 0 if s1[i-1] == s2[j-1] else 1\n",
    "            tbl[i,j] = min(tbl[i, j-1]+1, tbl[i-1, j]+1, tbl[i-1, j-1]+cost)\n",
    "\n",
    "    return tbl[i,j]\n",
    "\n",
    "print(ed(\"Helloworld\", \"HalloWorld\"))"
   ]
  },
  {
   "cell_type": "code",
   "execution_count": 106,
   "metadata": {},
   "outputs": [],
   "source": [
    "N = len(trees)\n",
    "affi_mtrx = np.zeros((N, N))"
   ]
  },
  {
   "cell_type": "code",
   "execution_count": 107,
   "metadata": {},
   "outputs": [],
   "source": [
    "# for i in range(N):\n",
    "#     for j in range(N):\n",
    "#         affi_mtrx[i, j] = ed(trees[i], trees[j])\n",
    "#     print(i)"
   ]
  },
  {
   "cell_type": "code",
   "execution_count": 108,
   "metadata": {},
   "outputs": [
    {
     "data": {
      "text/plain": [
       "<BarContainer object of 46 artists>"
      ]
     },
     "execution_count": 108,
     "metadata": {},
     "output_type": "execute_result"
    },
    {
     "data": {
      "image/png": "[encoded data removed]",
      "text/plain": [
       "<Figure size 432x288 with 1 Axes>"
      ]
     },
     "metadata": {},
     "output_type": "display_data"
    }
   ],
   "source": [
    "tree = trees_extremes[7][0]\n",
    "plt.bar(np.arange(len(tree)), np.array(tree)/max(tree), label='syn-distance')"
   ]
  },
  {
   "cell_type": "code",
   "execution_count": 109,
   "metadata": {},
   "outputs": [],
   "source": [
    "h_bins = list(range(2, 11)) + list(range(11, 30, 2)) + [30]"
   ]
  },
  {
   "cell_type": "code",
   "execution_count": 110,
   "metadata": {},
   "outputs": [],
   "source": [
    "lines = []\n",
    "extremes_total = []\n",
    "hs_total = []\n",
    "with open('../data/flang/test_d30_ef.tsv', 'r') as f:\n",
    "    for line in f:\n",
    "        expr, ds, h = line.strip().split('\\t')\n",
    "        ds = [int(d) for d in ds.split()]\n",
    "        extremes_total.append(num_extrem_vals(ds))\n",
    "        hs_total.append(int(h))\n",
    "#         lines.append(line)"
   ]
  },
  {
   "cell_type": "code",
   "execution_count": 111,
   "metadata": {},
   "outputs": [],
   "source": [
    "hist_ex_total, _ = np.histogram(extremes_total)\n",
    "hist_h_total, _ = np.histogram(hs_total, bins=h_bins)"
   ]
  },
  {
   "cell_type": "code",
   "execution_count": 112,
   "metadata": {},
   "outputs": [],
   "source": [
    "fname = 'incor-feval-lstm-1541384805.txt'\n",
    "trees = []\n",
    "extremes = []\n",
    "hs = []\n",
    "trees_extremes = {}\n",
    "with open(fname, 'r') as f:\n",
    "    for line in f:\n",
    "        idx, expr, ds, lbl, h = line.strip().split('\\t')\n",
    "        ds = [int(d) for d in ds.split()]\n",
    "        nextremes = num_extrem_vals(ds)\n",
    "        if nextremes not in trees_extremes:\n",
    "            trees_extremes[nextremes] = []\n",
    "        trees_extremes[nextremes].append(ds)\n",
    "        extremes.append(nextremes)\n",
    "        hs.append(int(h))\n",
    "        trees.append(ds)"
   ]
  },
  {
   "cell_type": "code",
   "execution_count": 113,
   "metadata": {},
   "outputs": [],
   "source": [
    "hist_ex, _= np.histogram(extremes)\n",
    "hist_h,_ = np.histogram(hs, bins=h_bins)"
   ]
  },
  {
   "cell_type": "code",
   "execution_count": 114,
   "metadata": {},
   "outputs": [],
   "source": [
    "hist/hist_total"
   ]
  },
  {
   "cell_type": "code",
   "execution_count": 115,
   "metadata": {},
   "outputs": [
    {
     "ename": "NameError",
     "evalue": "name 'hist' is not defined",
     "output_type": "error",
     "traceback": [
      "\u001b[0;31m---------------------------------------------------------------------------\u001b[0m",
      "\u001b[0;31mNameError\u001b[0m                                 Traceback (most recent call last)",
      "\u001b[0;32m<ipython-input-115-ac1b1aa08865>\u001b[0m in \u001b[0;36m<module>\u001b[0;34m()\u001b[0m\n\u001b[0;32m----> 1\u001b[0;31m \u001b[0mplt\u001b[0m\u001b[0;34m.\u001b[0m\u001b[0mbar\u001b[0m\u001b[0;34m(\u001b[0m\u001b[0mnp\u001b[0m\u001b[0;34m.\u001b[0m\u001b[0marange\u001b[0m\u001b[0;34m(\u001b[0m\u001b[0mlen\u001b[0m\u001b[0;34m(\u001b[0m\u001b[0mhist\u001b[0m\u001b[0;34m)\u001b[0m\u001b[0;34m)\u001b[0m\u001b[0;34m+\u001b[0m\u001b[0;36m1\u001b[0m\u001b[0;34m,\u001b[0m \u001b[0mhist\u001b[0m\u001b[0;34m/\u001b[0m\u001b[0mhist_total\u001b[0m\u001b[0;34m)\u001b[0m\u001b[0;34m\u001b[0m\u001b[0m\n\u001b[0m\u001b[1;32m      2\u001b[0m \u001b[0mplt\u001b[0m\u001b[0;34m.\u001b[0m\u001b[0mxticks\u001b[0m\u001b[0;34m(\u001b[0m\u001b[0mnp\u001b[0m\u001b[0;34m.\u001b[0m\u001b[0marange\u001b[0m\u001b[0;34m(\u001b[0m\u001b[0mlen\u001b[0m\u001b[0;34m(\u001b[0m\u001b[0mhist\u001b[0m\u001b[0;34m)\u001b[0m\u001b[0;34m)\u001b[0m\u001b[0;34m+\u001b[0m\u001b[0;36m1\u001b[0m\u001b[0;34m)\u001b[0m\u001b[0;34m\u001b[0m\u001b[0m\n\u001b[1;32m      3\u001b[0m \u001b[0mplt\u001b[0m\u001b[0;34m.\u001b[0m\u001b[0mxlabel\u001b[0m\u001b[0;34m(\u001b[0m\u001b[0;34m'#extremes'\u001b[0m\u001b[0;34m)\u001b[0m\u001b[0;34m\u001b[0m\u001b[0m\n\u001b[1;32m      4\u001b[0m \u001b[0mplt\u001b[0m\u001b[0;34m.\u001b[0m\u001b[0mylabel\u001b[0m\u001b[0;34m(\u001b[0m\u001b[0;34m'ratio of wrong predictions'\u001b[0m\u001b[0;34m)\u001b[0m\u001b[0;34m\u001b[0m\u001b[0m\n",
      "\u001b[0;31mNameError\u001b[0m: name 'hist' is not defined"
     ]
    }
   ],
   "source": [
    "plt.bar(np.arange(len(hist))+1, hist/hist_total)\n",
    "plt.xticks(np.arange(len(hist))+1)\n",
    "plt.xlabel('#extremes')\n",
    "plt.ylabel('ratio of wrong predictions')"
   ]
  },
  {
   "cell_type": "code",
   "execution_count": 116,
   "metadata": {},
   "outputs": [
    {
     "data": {
      "text/plain": [
       "array([  0,   1,   3,  34,  16,  81,  30, 102,  63, 142, 179, 196, 219,\n",
       "       239, 272, 284, 329, 309, 355])"
      ]
     },
     "execution_count": 116,
     "metadata": {},
     "output_type": "execute_result"
    }
   ],
   "source": [
    "hist_h"
   ]
  },
  {
   "cell_type": "code",
   "execution_count": 117,
   "metadata": {},
   "outputs": [
    {
     "data": {
      "text/plain": [
       "array([1052, 1052, 1052, 1052, 1052, 1052, 1052, 1052, 1052, 1052, 1052,\n",
       "       1052, 1052, 1052, 1052, 1052, 1052, 1052, 1052])"
      ]
     },
     "execution_count": 117,
     "metadata": {},
     "output_type": "execute_result"
    }
   ],
   "source": [
    "hist_h_total"
   ]
  },
  {
   "cell_type": "code",
   "execution_count": 118,
   "metadata": {},
   "outputs": [
    {
     "data": {
      "text/plain": [
       "Text(0,0.5,'ratio of wrong predictions')"
      ]
     },
     "execution_count": 118,
     "metadata": {},
     "output_type": "execute_result"
    },
    {
     "data": {
      "image/png": "[encoded data removed]",
      "text/plain": [
       "<Figure size 432x288 with 1 Axes>"
      ]
     },
     "metadata": {},
     "output_type": "display_data"
    }
   ],
   "source": [
    "h_keys = np.array([2,  3,  4,  5,  6,  7,  8,  9, 10, 11, 13, 15, 17, 19, 21, 23, 25,\n",
    "        27, 29])\n",
    "plt.bar(h_keys, hist_h/hist_h_total)\n",
    "plt.xticks(h_keys)\n",
    "plt.xlabel('#depth')\n",
    "plt.ylabel('ratio of wrong predictions')"
   ]
  },
  {
   "cell_type": "code",
   "execution_count": 119,
   "metadata": {},
   "outputs": [
    {
     "data": {
      "text/plain": [
       "array([1052, 1052, 1052, 1052, 1052, 1052, 1052, 1052, 1052, 1052, 1052,\n",
       "       1052, 1052, 1052, 1052, 1052, 1052, 1052, 1052])"
      ]
     },
     "execution_count": 119,
     "metadata": {},
     "output_type": "execute_result"
    }
   ],
   "source": [
    "hist_h_total"
   ]
  },
  {
   "cell_type": "code",
   "execution_count": 120,
   "metadata": {},
   "outputs": [
    {
     "data": {
      "text/plain": [
       "array([  0,   1,   3,  34,  16,  81,  30, 102,  63, 142, 179, 196, 219,\n",
       "       239, 272, 284, 329, 309, 355])"
      ]
     },
     "execution_count": 120,
     "metadata": {},
     "output_type": "execute_result"
    }
   ],
   "source": [
    "hist_h"
   ]
  },
  {
   "cell_type": "code",
   "execution_count": 121,
   "metadata": {},
   "outputs": [
    {
     "data": {
      "text/plain": [
       "<matplotlib.collections.PathCollection at 0x115e46518>"
      ]
     },
     "execution_count": 121,
     "metadata": {},
     "output_type": "execute_result"
    },
    {
     "data": {
      "image/png": "[encoded data removed]",
      "text/plain": [
       "<Figure size 432x288 with 1 Axes>"
      ]
     },
     "metadata": {},
     "output_type": "display_data"
    }
   ],
   "source": [
    "plt.scatter(hs, extremes)"
   ]
  },
  {
   "cell_type": "code",
   "execution_count": 122,
   "metadata": {},
   "outputs": [
    {
     "data": {
      "text/plain": [
       "<matplotlib.collections.PathCollection at 0x110485390>"
      ]
     },
     "execution_count": 122,
     "metadata": {},
     "output_type": "execute_result"
    },
    {
     "data": {
      "image/png": "[encoded data removed]",
      "text/plain": [
       "<Figure size 432x288 with 1 Axes>"
      ]
     },
     "metadata": {},
     "output_type": "display_data"
    }
   ],
   "source": [
    "plt.scatter(hs_total, extremes_total)"
   ]
  },
  {
   "cell_type": "code",
   "execution_count": 135,
   "metadata": {},
   "outputs": [],
   "source": [
    "def analy_incorrect(fname):\n",
    "    extremes = []\n",
    "    hs = []\n",
    "    with open(fname, 'r') as f:\n",
    "        for line in f:\n",
    "            idx, expr, ds, lbl, h = line.strip().split('\\t')\n",
    "            ds = [int(d) for d in ds.split()]\n",
    "            nextremes = num_extrem_vals(ds)\n",
    "            extremes.append(nextremes)\n",
    "            hs.append(int(h))\n",
    "    \n",
    "    fig, ax = plt.subplots()\n",
    "    fig.dpi = 200\n",
    "    hist_ex, _= np.histogram(extremes)\n",
    "    hist_h,_ = np.histogram(hs, bins=h_bins)\n",
    "    plt.bar(np.arange(len(hist_ex))+1, hist_ex/hist_ex_total, width=0.5, color='b', alpha=0.5, edgecolor=\"black\")\n",
    "    plt.xticks(np.arange(len(hist_ex))+1)\n",
    "    plt.xlabel('#extremum')\n",
    "    plt.ylabel('error rate')\n",
    "    plt.grid(linewidth=1 ,linestyle='--', axis='y')\n",
    "    plt.show()\n",
    "    \n",
    "    fig, ax = plt.subplots()\n",
    "    fig.dpi = 200\n",
    "    h_keys = np.array([2,  3,  4,  5,  6,  7,  8,  9, 10, 11, 13, 15, 17, 19, 21, 23, 25,\n",
    "        27, 29])\n",
    "    plt.bar(h_keys[:10], (hist_h/hist_h_total)[:10], width=0.5, color='b', alpha=0.5, edgecolor=\"black\")\n",
    "    plt.xticks(h_keys[:10])\n",
    "    plt.xlabel('depth')\n",
    "    plt.ylabel('error rate')\n",
    "    plt.grid(linewidth=1 ,linestyle='--', axis='y')\n",
    "    plt.show()"
   ]
  },
  {
   "cell_type": "code",
   "execution_count": 156,
   "metadata": {},
   "outputs": [],
   "source": [
    "def analy_incorrect(fname):\n",
    "    extremes = []\n",
    "    hs = []\n",
    "    with open(fname, 'r') as f:\n",
    "        for line in f:\n",
    "            idx, expr, ds, lbl, h = line.strip().split('\\t')\n",
    "            ds = [int(d) for d in ds.split()]\n",
    "            nextremes = num_extrem_vals(ds)\n",
    "            extremes.append(nextremes)\n",
    "            hs.append(int(h))\n",
    "    \n",
    "    fig, ax = plt.subplots()\n",
    "    fig.dpi = 200\n",
    "    hist_ex, _= np.histogram(extremes)\n",
    "    hist_h,_ = np.histogram(hs, bins=h_bins)\n",
    "    plt.bar(np.arange(len(hist_ex))+1, hist_ex/hist_ex_total, width=0.5, color='b', alpha=0.5, edgecolor=\"black\", label='#extremum', lw=1)\n",
    "    plt.bar(h_keys[:10]+0.5, (hist_h/hist_h_total)[:10], width=0.5, color='b', alpha=0.5, edgecolor=\"black\", label='depth', lw=1)\n",
    "    plt.xticks(np.arange(len(hist_ex))+1)\n",
    "    plt.legend()\n",
    "    plt.xlabel('#extremum/depth')\n",
    "    plt.ylabel('error rate')\n",
    "    plt.grid(linewidth=1 ,linestyle='--', axis='y')\n",
    "    plt.show()\n",
    "    \n",
    "#     fig, ax = plt.subplots()\n",
    "#     fig.dpi = 200\n",
    "#     h_keys = np.array([2,  3,  4,  5,  6,  7,  8,  9, 10, 11, 13, 15, 17, 19, 21, 23, 25,\n",
    "#         27, 29])\n",
    "#     plt.bar(h_keys[:10], (hist_h/hist_h_total)[:10], width=0.5, color='b', alpha=0.5, edgecolor=\"black\")\n",
    "#     plt.xticks(h_keys[:10])\n",
    "#     plt.xlabel('depth')\n",
    "#     plt.ylabel('error rate')\n",
    "#     plt.grid(linewidth=1 ,linestyle='--', axis='y')\n",
    "#     plt.show()"
   ]
  },
  {
   "cell_type": "code",
   "execution_count": 179,
   "metadata": {},
   "outputs": [],
   "source": [
    "def analy_incorrect(fname):\n",
    "    extremes = []\n",
    "    hs = []\n",
    "    with open(fname, 'r') as f:\n",
    "        for line in f:\n",
    "            idx, expr, ds, lbl, h = line.strip().split('\\t')\n",
    "            ds = [int(d) for d in ds.split()]\n",
    "            nextremes = num_extrem_vals(ds)\n",
    "            extremes.append(nextremes)\n",
    "            hs.append(int(h))\n",
    "    \n",
    "    fig, ax = plt.subplots()\n",
    "    fig.dpi = 200\n",
    "    hist_ex, _= np.histogram(extremes)\n",
    "    hist_h,_ = np.histogram(hs, bins=h_bins)\n",
    "    \n",
    "    plt.plot(np.arange(len(hist_ex))+1, hist_ex/hist_ex_total, \n",
    "             color='b', alpha=0.5, label='#extremum', marker='s', fillstyle='none')\n",
    "    plt.plot(h_keys[:10], (hist_h/hist_h_total)[:10], color='r', \n",
    "             alpha=0.5, label='depth', marker='o', fillstyle='none')\n",
    "    plt.xticks(np.arange(len(hist_ex))+1)\n",
    "    plt.legend()\n",
    "    plt.xlabel('#extremum/depth')\n",
    "    plt.ylabel('error rate')\n",
    "    plt.grid(linewidth=1 ,linestyle='--', axis='y')\n",
    "    plt.show()\n",
    "    \n",
    "#     fig, ax = plt.subplots()\n",
    "#     fig.dpi = 200\n",
    "#     h_keys = np.array([2,  3,  4,  5,  6,  7,  8,  9, 10, 11, 13, 15, 17, 19, 21, 23, 25,\n",
    "#         27, 29])\n",
    "#     plt.bar(h_keys[:10], (hist_h/hist_h_total)[:10], width=0.5, color='b', alpha=0.5, edgecolor=\"black\")\n",
    "#     plt.xticks(h_keys[:10])\n",
    "#     plt.xlabel('depth')\n",
    "#     plt.ylabel('error rate')\n",
    "#     plt.grid(linewidth=1 ,linestyle='--', axis='y')\n",
    "#     plt.show()"
   ]
  },
  {
   "cell_type": "markdown",
   "metadata": {},
   "source": [
    "# feval-lstm"
   ]
  },
  {
   "cell_type": "code",
   "execution_count": 180,
   "metadata": {
    "scrolled": false
   },
   "outputs": [
    {
     "data": {
      "image/png": "[encoded data removed]",
      "text/plain": [
       "<Figure size 1200x800 with 1 Axes>"
      ]
     },
     "metadata": {},
     "output_type": "display_data"
    }
   ],
   "source": [
    "analy_incorrect('incor-feval-lstm-1541384805.txt')"
   ]
  },
  {
   "cell_type": "code",
   "execution_count": 141,
   "metadata": {},
   "outputs": [
    {
     "data": {
      "text/plain": [
       "<matplotlib.legend.Legend at 0x115f997b8>"
      ]
     },
     "execution_count": 141,
     "metadata": {},
     "output_type": "execute_result"
    },
    {
     "data": {
      "image/png": "[encoded data removed]",
      "text/plain": [
       "<Figure size 648x432 with 1 Axes>"
      ]
     },
     "metadata": {},
     "output_type": "display_data"
    }
   ],
   "source": [
    "%matplotlib inline\n",
    "import numpy as np\n",
    "from matplotlib import pyplot as plt\n",
    "\n",
    "plt.figure(figsize=(9,6))\n",
    "n = 8\n",
    "X = np.arange(n)+1 #X是1,2,3,4,5,6,7,8,柱的个数\n",
    "#uniform均匀分布的随机数，normal是正态分布的随机数，0.5-1均匀分布的数，一共有n个\n",
    "Y1 = np.random.uniform(0.5,1.0,n)\n",
    "Y2 = np.random.uniform(0.5,1.0,n)\n",
    "plt.bar(X, Y1, alpha=0.9, width = 0.35, facecolor = 'lightskyblue', edgecolor = 'white', label='one', lw=1)\n",
    "plt.bar(X+0.35, Y2, alpha=0.9, width = 0.35, facecolor = 'yellowgreen', edgecolor = 'white', label='second', lw=1)\n",
    "plt.legend(loc=\"upper left\") # label的位置在左上，没有这句会找不到label去哪了"
   ]
  },
  {
   "cell_type": "markdown",
   "metadata": {},
   "source": [
    "# feval-alstm"
   ]
  },
  {
   "cell_type": "code",
   "execution_count": 170,
   "metadata": {},
   "outputs": [
    {
     "data": {
      "image/png": "[encoded data removed]",
      "text/plain": [
       "<Figure size 432x288 with 1 Axes>"
      ]
     },
     "metadata": {},
     "output_type": "display_data"
    },
    {
     "data": {
      "image/png": "[encoded data removed]",
      "text/plain": [
       "<Figure size 432x288 with 1 Axes>"
      ]
     },
     "metadata": {},
     "output_type": "display_data"
    }
   ],
   "source": [
    "analy_incorrect('incor-feval-alstm-1541386252.txt')"
   ]
  },
  {
   "cell_type": "markdown",
   "metadata": {},
   "source": [
    "# feval-srnn"
   ]
  },
  {
   "cell_type": "code",
   "execution_count": 172,
   "metadata": {},
   "outputs": [
    {
     "data": {
      "image/png": "[encoded data removed]",
      "text/plain": [
       "<Figure size 432x288 with 1 Axes>"
      ]
     },
     "metadata": {},
     "output_type": "display_data"
    },
    {
     "data": {
      "image/png": "[encoded data removed]",
      "text/plain": [
       "<Figure size 432x288 with 1 Axes>"
      ]
     },
     "metadata": {},
     "output_type": "display_data"
    }
   ],
   "source": [
    "analy_incorrect('incor-feval-srnn-1541386417.txt')"
   ]
  },
  {
   "cell_type": "markdown",
   "metadata": {},
   "source": [
    "# feval-ntm"
   ]
  },
  {
   "cell_type": "code",
   "execution_count": 173,
   "metadata": {},
   "outputs": [
    {
     "data": {
      "image/png": "[encoded data removed]",
      "text/plain": [
       "<Figure size 432x288 with 1 Axes>"
      ]
     },
     "metadata": {},
     "output_type": "display_data"
    },
    {
     "data": {
      "image/png": "[encoded data removed]",
      "text/plain": [
       "<Figure size 432x288 with 1 Axes>"
      ]
     },
     "metadata": {},
     "output_type": "display_data"
    }
   ],
   "source": [
    "analy_incorrect('incor-feval-ntm-1541386390.txt')"
   ]
  },
  {
   "cell_type": "markdown",
   "metadata": {},
   "source": [
    "# same h different \\#extremes"
   ]
  },
  {
   "cell_type": "code",
   "execution_count": 178,
   "metadata": {},
   "outputs": [],
   "source": [
    "extremes_total = {}\n",
    "with open('../data/flang/test_d30_ef.tsv', 'r') as f:\n",
    "    for line in f:\n",
    "        expr, ds, h = line.strip().split('\\t')\n",
    "        h = int(h)\n",
    "        if h not in extremes_total:\n",
    "            extremes_total[h] = []\n",
    "        extremes_total[h].append(num_extrem_vals(ds))"
   ]
  },
  {
   "cell_type": "code",
   "execution_count": 198,
   "metadata": {},
   "outputs": [],
   "source": [
    "def diff_h_same_extremes(fname):\n",
    "    extremes = {}\n",
    "    with open(fname, 'r') as f:\n",
    "        for line in f:\n",
    "            idx, expr, ds, lbl, h = line.strip().split('\\t')\n",
    "            ds = [int(d) for d in ds.split()]\n",
    "            h = int(h)\n",
    "            nextremes = num_extrem_vals(ds)\n",
    "            if h not in extremes:\n",
    "                extremes[h] = []\n",
    "            extremes[h].append(nextremes)\n",
    "\n",
    "    return extremes"
   ]
  },
  {
   "cell_type": "code",
   "execution_count": 218,
   "metadata": {},
   "outputs": [],
   "source": [
    "extremes = diff_h_same_extremes('incor-feval-alstm-1541386252.txt')\n",
    "hists_extremes = {}\n",
    "for n in extremes.keys():\n",
    "    hists_extremes[n] = np.histogram(extremes[n], bins=np.arange(1,11,1))[0] /\\\n",
    "        (np.histogram(extremes_total[n], bins=np.arange(1,11,1))[0] + 0.1)"
   ]
  },
  {
   "cell_type": "code",
   "execution_count": 220,
   "metadata": {},
   "outputs": [
    {
     "data": {
      "text/plain": [
       "array([ 0, 72, 14,  0,  0,  0,  0,  0,  0])"
      ]
     },
     "execution_count": 220,
     "metadata": {},
     "output_type": "execute_result"
    }
   ],
   "source": [
    "np.histogram(extremes[5], bins=np.arange(1,11,1))[0]"
   ]
  },
  {
   "cell_type": "code",
   "execution_count": 228,
   "metadata": {},
   "outputs": [
    {
     "data": {
      "text/plain": [
       "[2, 3, 4, 5, 6, 7, 8, 9, 10, 11, 13, 15, 17, 19, 21, 23, 25, 27, 29]"
      ]
     },
     "execution_count": 228,
     "metadata": {},
     "output_type": "execute_result"
    }
   ],
   "source": [
    "sorted(extremes_total.keys())"
   ]
  },
  {
   "cell_type": "code",
   "execution_count": 235,
   "metadata": {},
   "outputs": [],
   "source": [
    "extremes = {}\n",
    "fname = 'incor-feval-alstm-1541386252.txt'\n",
    "with open(fname, 'r') as f:\n",
    "    for line in f:\n",
    "        idx, expr, ds, lbl, h = line.strip().split('\\t')\n",
    "        ds = [int(d) for d in ds.split()]\n",
    "        h = int(h)\n",
    "        nextremes = num_extrem_vals(ds)\n",
    "        if h not in extremes:\n",
    "            extremes[h] = []\n",
    "        extremes[h].append(nextremes)"
   ]
  },
  {
   "cell_type": "code",
   "execution_count": 257,
   "metadata": {},
   "outputs": [
    {
     "data": {
      "text/plain": [
       "'a'"
      ]
     },
     "execution_count": 257,
     "metadata": {},
     "output_type": "execute_result"
    },
    {
     "data": {
      "image/png": "[encoded data removed]",
      "text/plain": [
       "<Figure size 432x288 with 1 Axes>"
      ]
     },
     "metadata": {},
     "output_type": "display_data"
    }
   ],
   "source": [
    "for h in extremes.keys():\n",
    "    x = [h] * len(extremes[h])\n",
    "    plt.scatter(x, extremes[h])\n",
    "plt.yticks(np.arange(0,25, 2))\n",
    "'a'"
   ]
  },
  {
   "cell_type": "code",
   "execution_count": 247,
   "metadata": {},
   "outputs": [],
   "source": [
    "extremes_total = {}\n",
    "with open('test_d30_ef.tsv', 'r') as f:\n",
    "    for line in f:\n",
    "        expr, ds, h = line.strip().split('\\t')\n",
    "        ds = [int(d) for d in ds.split()]\n",
    "        h = int(h)\n",
    "        if h not in extremes_total:\n",
    "            extremes_total[h] = []\n",
    "        extremes_total[h].append(num_extrem_vals(ds))"
   ]
  },
  {
   "cell_type": "code",
   "execution_count": 256,
   "metadata": {
    "scrolled": true
   },
   "outputs": [
    {
     "data": {
      "text/plain": [
       "'a'"
      ]
     },
     "execution_count": 256,
     "metadata": {},
     "output_type": "execute_result"
    },
    {
     "data": {
      "image/png": "[encoded data removed]",
      "text/plain": [
       "<Figure size 432x288 with 1 Axes>"
      ]
     },
     "metadata": {},
     "output_type": "display_data"
    }
   ],
   "source": [
    "for h in extremes_total.keys():\n",
    "    x = [h] * len(extremes_total[h])\n",
    "    plt.scatter(x, extremes_total[h])\n",
    "plt.yticks(np.arange(0,25, 2))\n",
    "'a'"
   ]
  },
  {
   "cell_type": "code",
   "execution_count": 276,
   "metadata": {},
   "outputs": [
    {
     "data": {
      "text/plain": [
       "10"
      ]
     },
     "execution_count": 276,
     "metadata": {},
     "output_type": "execute_result"
    }
   ],
   "source": [
    "hist = np.histogram(extremes[29])[0]\n",
    "len(hist)"
   ]
  },
  {
   "cell_type": "code",
   "execution_count": 277,
   "metadata": {},
   "outputs": [
    {
     "data": {
      "text/plain": [
       "10"
      ]
     },
     "execution_count": 277,
     "metadata": {},
     "output_type": "execute_result"
    }
   ],
   "source": [
    "hist_total = np.histogram(extremes_total[29])[0]\n",
    "len(hist_total)"
   ]
  },
  {
   "cell_type": "code",
   "execution_count": 278,
   "metadata": {},
   "outputs": [
    {
     "data": {
      "text/plain": [
       "array([0.11255411, 0.25      , 0.43225806, 0.51234568, 0.50757576,\n",
       "       0.67857143, 0.66666667, 0.625     , 0.76923077, 1.        ])"
      ]
     },
     "execution_count": 278,
     "metadata": {},
     "output_type": "execute_result"
    }
   ],
   "source": [
    "hist / hist_total"
   ]
  },
  {
   "cell_type": "code",
   "execution_count": 301,
   "metadata": {},
   "outputs": [
    {
     "data": {
      "text/plain": [
       "Text(0,0.5,'incorrect prediction%')"
      ]
     },
     "execution_count": 301,
     "metadata": {},
     "output_type": "execute_result"
    },
    {
     "data": {
      "image/png": "[encoded data removed]",
      "text/plain": [
       "<Figure size 432x288 with 1 Axes>"
      ]
     },
     "metadata": {},
     "output_type": "display_data"
    }
   ],
   "source": [
    "plt.bar(np.arange(1, 11), hist/hist_total)\n",
    "plt.xlabel('#extremes')\n",
    "plt.ylabel('incorrect prediction%')"
   ]
  },
  {
   "cell_type": "code",
   "execution_count": 302,
   "metadata": {},
   "outputs": [],
   "source": [
    "def fixed_h(h):\n",
    "    hist = np.histogram(extremes[h])[0]\n",
    "    hist_total = np.histogram(extremes_total[h])[0]\n",
    "    plt.bar(np.arange(1, 11), hisat/hist_total)\n",
    "    plt.xlabel('#extremes')\n",
    "    plt.ylabel('incorrect prediction%')\n",
    "    return hist, hist_total"
   ]
  },
  {
   "cell_type": "code",
   "execution_count": 304,
   "metadata": {},
   "outputs": [
    {
     "data": {
      "text/plain": [
       "(array([26, 39, 67, 83, 67, 76, 40, 15, 10,  7]),\n",
       " array([231, 156, 155, 162, 132, 112,  60,  24,  13,   7]))"
      ]
     },
     "execution_count": 304,
     "metadata": {},
     "output_type": "execute_result"
    },
    {
     "data": {
      "image/png": "[encoded data removed]",
      "text/plain": [
       "<Figure size 432x288 with 1 Axes>"
      ]
     },
     "metadata": {},
     "output_type": "display_data"
    }
   ],
   "source": [
    "fixed_h(29)"
   ]
  },
  {
   "cell_type": "code",
   "execution_count": 296,
   "metadata": {},
   "outputs": [
    {
     "data": {
      "text/plain": [
       "(array([ 3, 14, 55, 65, 75, 88, 48, 42, 20,  5]),\n",
       " array([ 97, 158, 175, 163, 145, 140,  81,  57,  28,   8]))"
      ]
     },
     "execution_count": 296,
     "metadata": {},
     "output_type": "execute_result"
    },
    {
     "data": {
      "image/png": "[encoded data removed]",
      "text/plain": [
       "<Figure size 432x288 with 1 Axes>"
      ]
     },
     "metadata": {},
     "output_type": "display_data"
    }
   ],
   "source": [
    "fixed_h(27)"
   ]
  },
  {
   "cell_type": "code",
   "execution_count": 297,
   "metadata": {},
   "outputs": [
    {
     "data": {
      "text/plain": [
       "(array([ 4, 31, 52, 74, 83, 74, 50, 24,  5,  3]),\n",
       " array([122, 177, 187, 179, 157, 115,  75,  29,   8,   3]))"
      ]
     },
     "execution_count": 297,
     "metadata": {},
     "output_type": "execute_result"
    },
    {
     "data": {
      "image/png": "[encoded data removed]",
      "text/plain": [
       "<Figure size 432x288 with 1 Axes>"
      ]
     },
     "metadata": {},
     "output_type": "display_data"
    }
   ],
   "source": [
    "fixed_h(25)"
   ]
  },
  {
   "cell_type": "code",
   "execution_count": 298,
   "metadata": {},
   "outputs": [
    {
     "name": "stderr",
     "output_type": "stream",
     "text": [
      "/Users/marc/.pyenv/versions/3.6.4/envs/atec36/lib/python3.6/site-packages/ipykernel_launcher.py:4: RuntimeWarning: invalid value encountered in true_divide\n",
      "  after removing the cwd from sys.path.\n"
     ]
    },
    {
     "data": {
      "text/plain": [
       "(array([ 7, 40, 61, 61,  0, 84, 60, 26, 16,  6]),\n",
       " array([145, 188, 212, 172,   0, 153, 103,  50,  22,   7]))"
      ]
     },
     "execution_count": 298,
     "metadata": {},
     "output_type": "execute_result"
    },
    {
     "data": {
      "image/png": "[encoded data removed]",
      "text/plain": [
       "<Figure size 432x288 with 1 Axes>"
      ]
     },
     "metadata": {},
     "output_type": "display_data"
    }
   ],
   "source": [
    "fixed_h(23)"
   ]
  },
  {
   "cell_type": "code",
   "execution_count": 299,
   "metadata": {},
   "outputs": [
    {
     "name": "stderr",
     "output_type": "stream",
     "text": [
      "/Users/marc/.pyenv/versions/3.6.4/envs/atec36/lib/python3.6/site-packages/ipykernel_launcher.py:4: RuntimeWarning: invalid value encountered in true_divide\n",
      "  after removing the cwd from sys.path.\n"
     ]
    },
    {
     "data": {
      "text/plain": [
       "(array([14, 49, 61, 91, 83, 49, 18,  9,  0,  1]),\n",
       " array([143, 234, 203, 210, 151,  73,  27,  10,   0,   1]))"
      ]
     },
     "execution_count": 299,
     "metadata": {},
     "output_type": "execute_result"
    },
    {
     "data": {
      "image/png": "[encoded data removed]",
      "text/plain": [
       "<Figure size 432x288 with 1 Axes>"
      ]
     },
     "metadata": {},
     "output_type": "display_data"
    }
   ],
   "source": [
    "fixed_h(21)"
   ]
  },
  {
   "cell_type": "markdown",
   "metadata": {},
   "source": [
    "# same \\#extremes different h"
   ]
  },
  {
   "cell_type": "code",
   "execution_count": 353,
   "metadata": {},
   "outputs": [],
   "source": [
    "h_bins = list(range(2, 11)) + list(range(11, 30, 2)) + [30]"
   ]
  },
  {
   "cell_type": "code",
   "execution_count": 319,
   "metadata": {},
   "outputs": [],
   "source": [
    "hs_total = {}\n",
    "with open('test_d30_ef.tsv', 'r') as f:\n",
    "    for line in f:\n",
    "        expr, ds, h = line.strip().split('\\t')\n",
    "        ds = [int(d) for d in ds.split()]\n",
    "        h = int(h)\n",
    "        ne = num_extrem_vals(ds)\n",
    "        if ne not in hs_total:\n",
    "            hs_total[ne] = []\n",
    "        hs_total[ne].append(h)"
   ]
  },
  {
   "cell_type": "code",
   "execution_count": 322,
   "metadata": {},
   "outputs": [],
   "source": [
    "hs = {}\n",
    "fname = 'incor-feval-alstm-1541386252.txt'\n",
    "with open(fname, 'r') as f:\n",
    "    for line in f:\n",
    "        idx, expr, ds, lbl, h = line.strip().split('\\t')\n",
    "        ds = [int(d) for d in ds.split()]\n",
    "        h = int(h)\n",
    "        ne = num_extrem_vals(ds)\n",
    "        if ne not in hs:\n",
    "            hs[ne] = []\n",
    "        hs[ne].append(h)"
   ]
  },
  {
   "cell_type": "code",
   "execution_count": 354,
   "metadata": {},
   "outputs": [],
   "source": [
    "h_ticks = np.array([2, 3, 4, 5, 6, 7, 8, 9, 10, 11, 13, 15, 17, 19, 21, 23, 25, 27, 29])\n",
    "def fixed_ne(ne):\n",
    "    hist = np.histogram(hs[ne], bins=h_bins)[0]\n",
    "    hist_total = np.histogram(hs_total[ne], bins=h_bins)[0]\n",
    "    plt.bar(np.array(range(len(hist/hist_total))), hist/hist_total)\n",
    "    plt.xlabel('h')\n",
    "    plt.ylabel('incorrect prediction%')\n",
    "    return hist, hist_total"
   ]
  },
  {
   "cell_type": "code",
   "execution_count": 355,
   "metadata": {},
   "outputs": [
    {
     "data": {
      "text/plain": [
       "array([ 79, 137,  75,  86,  25,  18,  28,   7,   4,   8])"
      ]
     },
     "execution_count": 355,
     "metadata": {},
     "output_type": "execute_result"
    }
   ],
   "source": [
    "np.histogram(hs[2])[0]"
   ]
  },
  {
   "cell_type": "code",
   "execution_count": 356,
   "metadata": {},
   "outputs": [
    {
     "data": {
      "text/plain": [
       "array([2109, 1333,  832,  655,  261,  195,  305,  145,  122,  197])"
      ]
     },
     "execution_count": 356,
     "metadata": {},
     "output_type": "execute_result"
    }
   ],
   "source": [
    "np.histogram(hs_total[2])[0]"
   ]
  },
  {
   "cell_type": "code",
   "execution_count": 357,
   "metadata": {},
   "outputs": [
    {
     "data": {
      "text/plain": [
       "[1, 2, 3, 4, 5, 6, 7, 8, 9, 10, 11, 12, 13]"
      ]
     },
     "execution_count": 357,
     "metadata": {},
     "output_type": "execute_result"
    }
   ],
   "source": [
    "sorted(hs.keys())"
   ]
  },
  {
   "cell_type": "code",
   "execution_count": 359,
   "metadata": {},
   "outputs": [
    {
     "name": "stderr",
     "output_type": "stream",
     "text": [
      "/Users/marc/.pyenv/versions/3.6.4/envs/atec36/lib/python3.6/site-packages/ipykernel_launcher.py:5: RuntimeWarning: invalid value encountered in true_divide\n",
      "  \"\"\"\n"
     ]
    },
    {
     "data": {
      "text/plain": [
       "(array([ 0,  6,  1, 72, 24, 93, 20, 49, 26, 54, 32, 25, 18, 14, 14,  7,  4,\n",
       "         3,  5]),\n",
       " array([   0, 1052,  164,  893,  324,  689,  320,  497,  335,  375,  280,\n",
       "         261,  195,  162,  143,  145,  122,   97,  100]))"
      ]
     },
     "execution_count": 359,
     "metadata": {},
     "output_type": "execute_result"
    },
    {
     "data": {
      "image/png": "[encoded data removed]",
      "text/plain": [
       "<Figure size 432x288 with 1 Axes>"
      ]
     },
     "metadata": {},
     "output_type": "display_data"
    }
   ],
   "source": [
    "fixed_ne(2)"
   ]
  },
  {
   "cell_type": "code",
   "execution_count": 360,
   "metadata": {},
   "outputs": [
    {
     "name": "stderr",
     "output_type": "stream",
     "text": [
      "/Users/marc/.pyenv/versions/3.6.4/envs/atec36/lib/python3.6/site-packages/ipykernel_launcher.py:5: RuntimeWarning: invalid value encountered in true_divide\n",
      "  \"\"\"\n"
     ]
    },
    {
     "data": {
      "text/plain": [
       "(array([  0,   0,   0,  14,   6,  61,  31,  84,  33, 104,  88,  66,  60,\n",
       "         59,  49,  40,  31,  14,  21]),\n",
       " array([  0,   0,   0, 159,  58, 330, 144, 408, 185, 416, 372, 325, 304,\n",
       "        257, 234, 188, 177, 158, 131]))"
      ]
     },
     "execution_count": 360,
     "metadata": {},
     "output_type": "execute_result"
    },
    {
     "data": {
      "image/png": "[encoded data removed]",
      "text/plain": [
       "<Figure size 432x288 with 1 Axes>"
      ]
     },
     "metadata": {},
     "output_type": "display_data"
    }
   ],
   "source": [
    "fixed_ne(3)"
   ]
  },
  {
   "cell_type": "code",
   "execution_count": 361,
   "metadata": {},
   "outputs": [
    {
     "name": "stderr",
     "output_type": "stream",
     "text": [
      "/Users/marc/.pyenv/versions/3.6.4/envs/atec36/lib/python3.6/site-packages/ipykernel_launcher.py:5: RuntimeWarning: invalid value encountered in true_divide\n",
      "  \"\"\"\n"
     ]
    },
    {
     "data": {
      "text/plain": [
       "(array([ 0,  0,  0,  0,  0,  8,  6, 38, 23, 72, 92, 80, 81, 68, 61, 61, 52,\n",
       "        55, 39]),\n",
       " array([  0,   0,   0,   0,   0,  33,  26, 137,  73, 200, 268, 262, 246,\n",
       "        230, 203, 212, 187, 175, 156]))"
      ]
     },
     "execution_count": 361,
     "metadata": {},
     "output_type": "execute_result"
    },
    {
     "data": {
      "image/png": "[encoded data removed]",
      "text/plain": [
       "<Figure size 432x288 with 1 Axes>"
      ]
     },
     "metadata": {},
     "output_type": "display_data"
    }
   ],
   "source": [
    "fixed_ne(4)"
   ]
  },
  {
   "cell_type": "code",
   "execution_count": 362,
   "metadata": {},
   "outputs": [
    {
     "name": "stderr",
     "output_type": "stream",
     "text": [
      "/Users/marc/.pyenv/versions/3.6.4/envs/atec36/lib/python3.6/site-packages/ipykernel_launcher.py:5: RuntimeWarning: invalid value encountered in true_divide\n",
      "  \"\"\"\n"
     ]
    },
    {
     "data": {
      "text/plain": [
       "(array([ 0,  0,  0,  0,  0,  0,  0,  5,  2, 20, 57, 50, 68, 78, 91, 61, 74,\n",
       "        65, 67]),\n",
       " array([  0,   0,   0,   0,   0,   0,   0,  10,   5,  54, 115, 127, 169,\n",
       "        190, 210, 172, 179, 163, 155]))"
      ]
     },
     "execution_count": 362,
     "metadata": {},
     "output_type": "execute_result"
    },
    {
     "data": {
      "image/png": "[encoded data removed]",
      "text/plain": [
       "<Figure size 432x288 with 1 Axes>"
      ]
     },
     "metadata": {},
     "output_type": "display_data"
    }
   ],
   "source": [
    "fixed_ne(5)"
   ]
  },
  {
   "cell_type": "code",
   "execution_count": 363,
   "metadata": {},
   "outputs": [
    {
     "name": "stderr",
     "output_type": "stream",
     "text": [
      "/Users/marc/.pyenv/versions/3.6.4/envs/atec36/lib/python3.6/site-packages/ipykernel_launcher.py:5: RuntimeWarning: invalid value encountered in true_divide\n",
      "  \"\"\"\n"
     ]
    },
    {
     "data": {
      "text/plain": [
       "(array([ 0,  0,  0,  0,  0,  0,  0,  0,  0,  0,  0,  9, 18, 42, 49, 60, 74,\n",
       "        88, 67]),\n",
       " array([  0,   0,   0,   0,   0,   0,   0,   0,   0,   0,   0,  13,  35,\n",
       "         57,  73, 103, 115, 140, 132]))"
      ]
     },
     "execution_count": 363,
     "metadata": {},
     "output_type": "execute_result"
    },
    {
     "data": {
      "image/png": "[encoded data removed]",
      "text/plain": [
       "<Figure size 432x288 with 1 Axes>"
      ]
     },
     "metadata": {},
     "output_type": "display_data"
    }
   ],
   "source": [
    "fixed_ne(7)"
   ]
  },
  {
   "cell_type": "code",
   "execution_count": 365,
   "metadata": {},
   "outputs": [
    {
     "name": "stderr",
     "output_type": "stream",
     "text": [
      "/Users/marc/.pyenv/versions/3.6.4/envs/atec36/lib/python3.6/site-packages/ipykernel_launcher.py:5: RuntimeWarning: invalid value encountered in true_divide\n",
      "  \"\"\"\n"
     ]
    },
    {
     "data": {
      "text/plain": [
       "(array([ 0,  0,  0,  0,  0,  0,  0,  0,  0,  0,  0,  0,  0,  0,  0,  6,  5,\n",
       "        20, 15]),\n",
       " array([ 0,  0,  0,  0,  0,  0,  0,  0,  0,  0,  0,  0,  0,  0,  0,  7,  8,\n",
       "        28, 24]))"
      ]
     },
     "execution_count": 365,
     "metadata": {},
     "output_type": "execute_result"
    },
    {
     "data": {
      "image/png": "[encoded data removed]",
      "text/plain": [
       "<Figure size 432x288 with 1 Axes>"
      ]
     },
     "metadata": {},
     "output_type": "display_data"
    }
   ],
   "source": [
    "fixed_ne(10)"
   ]
  },
  {
   "cell_type": "code",
   "execution_count": null,
   "metadata": {},
   "outputs": [],
   "source": []
  }
 ],
 "metadata": {
  "kernelspec": {
   "display_name": "Python 3",
   "language": "python",
   "name": "python3"
  },
  "language_info": {
   "codemirror_mode": {
    "name": "ipython",
    "version": 3
   },
   "file_extension": ".py",
   "mimetype": "text/x-python",
   "name": "python",
   "nbconvert_exporter": "python",
   "pygments_lexer": "ipython3",
   "version": "3.6.4"
  }
 },
 "nbformat": 4,
 "nbformat_minor": 2
}
